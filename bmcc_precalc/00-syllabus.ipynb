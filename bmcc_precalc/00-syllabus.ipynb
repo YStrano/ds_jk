{
 "cells": [
  {
   "cell_type": "markdown",
   "metadata": {},
   "source": [
    "# PreCalculus\n",
    "\n",
    "![](images/bmcc_logo.gif)\n",
    "\n",
    "\n",
    "**MAT 206**\n",
    "\n",
    "**Dr. Jacob F. Koehler**\n",
    "\n",
    "**Email:** koehlerj@newschool.edu\n",
    "\n",
    "**Office Hours**: Tuesday and Thursday 2:00 - 3:00 pm \n",
    "\n",
    "**Textbook**: Functions, Data, and Models: An Applied approach to college Algebra by Sheldon P. Gordon\n",
    "\n",
    "**WebAssign Code**: bmcc.cuny 2601 3033"
   ]
  },
  {
   "cell_type": "markdown",
   "metadata": {},
   "source": [
    "<center>\n",
    "  <ul class=\"pagination pagination-lg\">\n",
    "    <li class=\"page-item disabled\">\n",
    "      <a class=\"page-link\" href=\"#\" tabindex=\"-1\">Syllabus</a>\n",
    "    </li>\n",
    " \\\n",
    "    <li class=\"page-item\">\n",
    "      <a class=\"page-link\" href=\"01-ArithmeticSequences.ipynb\">Next: Arithmetic Sequences</a>\n",
    "    </li>\n",
    "  </ul>\n",
    "</center>"
   ]
  },
  {
   "cell_type": "markdown",
   "metadata": {},
   "source": [
    "### Course Outline\n",
    "\n",
    "### Section I: Sequences and Functions.  \n",
    "\n",
    "In the first section students should aim to understand the following:\n",
    "\n",
    "1. What is a function?\n",
    "2. Use tables, graphs, formulas, and symbols to represent and understand properties of functions.\n",
    "3. Use technology to examine functions.\n",
    "4. Identify arithmetic sequences.\n",
    "5. Express Arithmetic Sequences using recursive and closed form formulas\n",
    "6. Apply Arithmetic Sequences to Simple interest and Population Growth\n",
    "7. Identify geometric sequences.\n",
    "8. Express geometric sequences in closed and recursive form.\n",
    "9. Apply geometric sequences to compound interest and population growth.\n",
    "\n",
    "**Notebooks**\n",
    "\n",
    "- [Arithmetic Sequences](01-ArithmeticSequences.ipynb)\n",
    "\n",
    "- [Geometric Sequences](03-GeometricSequences.ipynb)\n",
    "\n",
    "**Assignments**\n",
    "\n",
    "- WebAssign problems on Interpreting Functions\n",
    "- Group Worksheet problems on sequences, section I and section II. \n",
    "\n",
    "**Quizzes**\n",
    "\n",
    "- Tuesday, February 13.  Quiz on arithmetic and geometric sequences."
   ]
  },
  {
   "cell_type": "markdown",
   "metadata": {},
   "source": [
    "### Section II: Linear Functions \n",
    "\n",
    "In the second section, we aim to deepen our understanding of Linear Functions, including using them to model data.  In this section, students should aim to understand:\n",
    "\n",
    "1. The key characteristics of linear functions -- namely slope and intercept\n",
    "2. The ability to model linear situations using words, tables, graphs, and equations\n",
    "3. Recognize situations that are appropriately modeled by Linear Functions\n",
    "\n",
    "\n",
    "**Notebooks**\n",
    "\n",
    "- [Linear Functions](04-Linear-Functions-Intro.ipynb)\n",
    "\n",
    "- [Modeling with Linear Functions]()\n",
    "\n",
    "\n",
    "**Assignments**\n",
    "\n",
    "- WebAssign Problems on Linear Functions\n",
    "- Group Problems on Lines of Fit\n",
    "- Individual Problems on Linest of Fit and Linear Functions\n",
    "\n",
    "**Quizzes**\n",
    "\n",
    "- Tuesday, February 20. Quiz on Linear Functions -- moving between representations."
   ]
  },
  {
   "cell_type": "markdown",
   "metadata": {},
   "source": [
    "### Section III: Exponential Functions\n",
    "\n",
    "- Connect exponential functions with geometric sequences\n",
    "- Determine key characteristics of exponential functions\n",
    "\n",
    "\n"
   ]
  },
  {
   "cell_type": "markdown",
   "metadata": {},
   "source": [
    "### Section IV: Logarithms\n",
    "\n",
    "- Understand definition of Logarithm\n",
    "- Use logarithms to transform exponential functions\n",
    "- Use logarithms to solve exponential equations\n",
    "\n",
    "---\n",
    "<div class=\"alert alert-info\" role=\"alert\">\n",
    "  \n",
    "\n",
    "<li href = \"\">**Tuesday 3.6**: Logarithmic Transforms and Plots on Computer.</li>\n",
    "\n",
    "\n",
    "\n",
    "<li>**Thursday 3.8**: Solving Equations with Logarithms. *Homework*: Sheldon problems.</li>\n",
    "\n",
    "\n",
    "<li>**Tuesday 3.13**: Logarithms and Transformations on the computer.</li>\n",
    "\n",
    "</div>"
   ]
  },
  {
   "cell_type": "markdown",
   "metadata": {},
   "source": [
    "### Section IV: Quadratic Functions\n",
    "\n",
    "- Identify quadratic sequences\n",
    "- Solve Quadratic Equations\n",
    "- Represent quadratic functions using tables, graphs, words, and symbols\n",
    "\n",
    "<div class=\"alert alert-info\" role=\"alert\">\n",
    " <li> **Thursday 3.22**: Quadratic Sequences and Equations</li>\n",
    "</div>"
   ]
  },
  {
   "cell_type": "markdown",
   "metadata": {},
   "source": [
    "### Midterm \n",
    "\n",
    "<div class=\"alert alert-danger\" role=\"alert\">\n",
    "  <li> **Tuesday 3.27**: Review in Class </li>\n",
    "  <li> **Thursday 3.29**: Midterm!!!</li>\n",
    "</div>"
   ]
  },
  {
   "cell_type": "markdown",
   "metadata": {},
   "source": [
    "### Section V: Trigonometry and Harmonic Motion\n",
    "\n",
    "- Identify and use key feature of trigonometric functions\n",
    "- Model with Trigonometry\n",
    "- Transform trigonometric functions\n",
    "\n",
    "<div class=\"alert alert-info\" role=\"alert\">\n",
    "  <li> **Tuesday 4.10**: Plotting the Trig Functions </li>\n",
    "  <li> **Thursday 4.12**: Applications of Harmonic Motion I </li>\n",
    "  <li> **Tuesday 4.17**: Transformations with Trigonometry. **QUIZ** </li>\n",
    "  <li> **Thursday 4.19**: Trigonometry and Sound </li>\n",
    "  <li> **Tuesday 4.24**: Trigonometry and Sound II </li>\n",
    "</div>"
   ]
  },
  {
   "cell_type": "markdown",
   "metadata": {},
   "source": [
    "### Section VI: Systems and Matrices\n",
    "\n",
    " \n",
    "- Define Matrix and use Indicies to locate elements\n",
    "- Add, Subtract, Multiply, and Invert Matrices\n",
    "- Use Matrices to Solve Systems of Equations\n",
    "\n",
    "<div class=\"alert alert-info\" role=\"alert\">\n",
    "<li> **Thursday 4.26**: Matrices and Modeling Systems </li>\n",
    "<li> **Tuesday 5.1**: Matrices and Data </li>\n",
    "<li> **Thursday 5.3**: Matrix Review </li>\n",
    "<li> **Tuesday 5.8**: Matrices and Computer Applications </li>\n",
    "</div>"
   ]
  },
  {
   "cell_type": "markdown",
   "metadata": {},
   "source": [
    "### Final Examination\n",
    "\n",
    "<div class=\"alert alert-danger\" role=\"alert\">\n",
    "<li> **Thursday 5.12**: Review </li>\n",
    "<li> **Tuesday 5.15**: Review </li>\n",
    "<li> **Thursday 5.17**: Final </li>"
   ]
  }
 ],
 "metadata": {
  "kernelspec": {
   "display_name": "Python 3",
   "language": "python",
   "name": "python3"
  },
  "language_info": {
   "codemirror_mode": {
    "name": "ipython",
    "version": 3
   },
   "file_extension": ".py",
   "mimetype": "text/x-python",
   "name": "python",
   "nbconvert_exporter": "python",
   "pygments_lexer": "ipython3",
   "version": "3.6.4"
  }
 },
 "nbformat": 4,
 "nbformat_minor": 2
}
