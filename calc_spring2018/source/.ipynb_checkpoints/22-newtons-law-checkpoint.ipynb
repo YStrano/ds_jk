{
 "cells": [
  {
   "cell_type": "markdown",
   "metadata": {},
   "source": [
    "# Differential Equations"
   ]
  },
  {
   "cell_type": "markdown",
   "metadata": {},
   "source": [
    "Suppose you have a bowl of soup whose temperature is 150 degrees Farenheit.  The temperature in the room is 65 degrees.  \n",
    "\n",
    "1. Sketch a graph of the temperature of the soup over time if you were to leave it for 20 minutes.\n",
    "\n",
    "2. Describe the behavior of the temperature if you were to leave it there for a few hours.\n",
    "\n",
    "3. Which differential equation is the most appropriate model for the temperature $T$, $t$ minutes after being served.\n",
    "\n",
    "  - $\\displaystyle \\frac{dT}{dt} = kT$\n",
    "  - $\\displaystyle \\frac{dT}{dt} = k(T - 70)$\n",
    "  - $\\displaystyle \\frac{dT}{dt} = kT(T - 70)$"
   ]
  },
  {
   "cell_type": "markdown",
   "metadata": {},
   "source": [
    "![](images/axes.png)"
   ]
  },
  {
   "cell_type": "markdown",
   "metadata": {},
   "source": [
    "Suppose you had a bowl of ice cream.  The temperature of the ice cream is 40 degrees Farenheit, and room is 65 degrees.  Sketch a graph of the temperature over time.\n",
    "\n",
    "![](images/axes.png)"
   ]
  },
  {
   "cell_type": "markdown",
   "metadata": {},
   "source": [
    "### Newton's Law\n",
    "\n",
    "Newton'slaw of cooling states that a body cools at a rate directly proportional to the difference between the body's temperature and that of the room.  Symbolically, this means:\n",
    "\n",
    "$$\\displaystyle \\frac{dT}{dt} = k(T - A)$$\n",
    "\n",
    "where $k$ is some constant, $T$ is the temperature of the body and $A$ is the temperature of the room.  \n",
    "\n",
    "Suppose we have a room at 70 degrees farenheit and a constant $k = -0.15$.  Also, suppose that the body we are interested in begins at 260 degrees farenheit.  ($T(0)$ = 260)\n",
    "\n",
    "1. How fast is the potato cooling at time $t = 0$?\n",
    "\n",
    "2. Estimate the temperature of the body after one minute.\n",
    "\n",
    "3. How fast is the body cooling after one minute?\n",
    "\n",
    "4. Estimate the temperature of the body after 2 minutes?\n",
    "\n",
    "5. How fast is the body's temperature changing after 2 minutes?\n",
    "\n",
    "6. Describe a general approach to finding the temperature at any time $t$ based on your work above.\n",
    "\n",
    "7. Use antiderivatives and the initial condition to solve the differential equation exactly.\n",
    "\n",
    "8. Use your solution to check your solutions to problem 2 and 4."
   ]
  },
  {
   "cell_type": "markdown",
   "metadata": {},
   "source": [
    "### Spreading a Rumor\n",
    "\n",
    "A rumor spreads at a rate that is proportional to the product of the number of people in a population who have already\n",
    "heard the rumor (hearers) and the number of people who have not heard the rumor (ignorants). Using a discrete model\n",
    "for the spread of the rumor involves choosing a unit of time, $t$, and estimating how many additional people hear the\n",
    "rumor (converts) in each time period.\n",
    "\n",
    "$$\\text{Population} = 1000$$\n",
    "\n",
    "$$y = \\text{Number of hearers}$$\n",
    "\n",
    "$$1000 - y = \\text{Number of ignorants}$$\n",
    "\n",
    "$$\\frac{\\Delta y}{\\Delta t} = 0.001y(1000 - y)$$\n",
    "\n",
    "If we assume a step size or $\\Delta t$ of 1, we have\n",
    "\n",
    "$$dy = 0.001y(1000-y)$$\n",
    "\n",
    "Fill in the following table, and use these values to generate a plot.\n",
    "\n",
    " | Day | # hearers($y$) | # ignorants (1000 - $y$) | # converts $\\Delta y$ | \n",
    " | ----- | ----- | ------ | ------ | \n",
    " | 0 | 5 | 995 | 4.975(5) |\n",
    " |1 | 9.975(10) | 990.025(990) | 9.875(10) |\n",
    " | 2 |    |     |     |\n",
    " | 3 |    |     |     | \n",
    " | 4 |    |     |     |\n",
    " | 5 |    |     |     | \n",
    " | 6 |    |     |     |\n",
    " | 7 |    |     |     |\n",
    " | 8 |    |     |     |\n",
    " | 9 |    |     |     |\n",
    " | 10 |   |     |     |\n",
    " "
   ]
  }
 ],
 "metadata": {
  "kernelspec": {
   "display_name": "Python 3",
   "language": "python",
   "name": "python3"
  },
  "language_info": {
   "codemirror_mode": {
    "name": "ipython",
    "version": 3
   },
   "file_extension": ".py",
   "mimetype": "text/x-python",
   "name": "python",
   "nbconvert_exporter": "python",
   "pygments_lexer": "ipython3",
   "version": "3.6.4"
  }
 },
 "nbformat": 4,
 "nbformat_minor": 2
}
