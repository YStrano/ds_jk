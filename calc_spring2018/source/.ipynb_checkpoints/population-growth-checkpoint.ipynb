{
 "cells": [
  {
   "cell_type": "markdown",
   "metadata": {},
   "source": [
    "### PROBLEM I\n",
    "\n",
    "Suppose yeast is cultured at noon on Monday. When the culture is examined\n",
    "at 10:00 A.M. on Tuesday, there are 1.2 thousand organisms present. At\n",
    "1:45 P.M. on Friday, there are 3.6 thousand organisms. The culture is assumed\n",
    "to grow exponentially.\n",
    "1. Find a function $P(t)$ for the number of yeast organisms present t hours after\n",
    "noon on Monday (remember to convert hours into decimals).\n",
    "2. How many organisms were present initially (i.e., at noon on Monday)?\n",
    "3. What is the growth constant and what does this number mean?\n",
    "4. How many organisms were there at noon on Wednesday?\n",
    "5. When will there be 5 thousand organisms present?\n",
    "6. How fast will the population be growing at that time? How could you estimate this without using the derivative?\n",
    "7. How long does it take for the population to double in size? How long to\n",
    "quadruple? Is there a pattern here?\n",
    "8. Graph $P(t)$ and use it to visually check if the answers seem accurate.\n",
    "9. If another measurement were taken on Saturday, what kind of count would\n",
    "support using an exponential model? What count would suggest using a\n",
    "logistic model?\n",
    "10. If another measurement were taken on Thursday, what kind of count would\n",
    "support using an exponential model? What count would suggest using a\n",
    "limited growth model?\n",
    "11. What characteristics of an experiment would contribute to an exponential\n",
    "model being a reasonable choice?\n",
    "12. What experimental factors might affect how reliable this model is as a predictor\n",
    "of growth after 1:45 P.M. on Friday?"
   ]
  }
 ],
 "metadata": {
  "kernelspec": {
   "display_name": "Python 3",
   "language": "python",
   "name": "python3"
  },
  "language_info": {
   "codemirror_mode": {
    "name": "ipython",
    "version": 3
   },
   "file_extension": ".py",
   "mimetype": "text/x-python",
   "name": "python",
   "nbconvert_exporter": "python",
   "pygments_lexer": "ipython3",
   "version": "3.6.4"
  }
 },
 "nbformat": 4,
 "nbformat_minor": 2
}
