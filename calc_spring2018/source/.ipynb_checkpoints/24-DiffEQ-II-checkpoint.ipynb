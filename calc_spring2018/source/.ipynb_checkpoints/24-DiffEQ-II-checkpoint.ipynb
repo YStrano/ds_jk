{
 "cells": [
  {
   "cell_type": "markdown",
   "metadata": {},
   "source": [
    "# Differential Equations: Qualitative and Quantitative Solutions"
   ]
  },
  {
   "cell_type": "markdown",
   "metadata": {},
   "source": [
    "**2016 AP Calculus AB**\n",
    "\n",
    "Consider the differential equation:\n",
    "\n",
    "$$\\frac{dy}{dx} = \\frac{y^2}{x - 1}$$\n",
    "\n",
    "1. Sketch small lines representing the tangent lines at each of the points given below.\n",
    "\n",
    "![](images/grid.png)\n",
    "\n",
    "2. Let $y = f(x) $ be the particular solution to the given differential equation with the initial condition $f(2) = 3$.  Write an equation for the line tangent to the graph of $y =f(x)$ at $x = 2$.  Use your equation to approximate $f(2.1).$\n",
    "3. Find the particular solutions $y = f(x) $ to the given differential equation with the inital condition $f(2) = 3$. "
   ]
  },
  {
   "cell_type": "markdown",
   "metadata": {},
   "source": [
    "**PROBLEM**\n",
    "\n",
    "Use the table below to answer the following questions.\n",
    "\n",
    "\n",
    "- Would you say that the percent of predator fish in the totalcatch tended to increase, decrease or remain the same?\n",
    "\n",
    "- What happened to thepercent of prey fish in the totalcatches during the years 1914 to 1918?\n",
    "\n",
    "- As you may have noticed, there was a large increase in the percentage of predators in the total catches from 1914 to 1918. This is roughly the period of World War I (1914 to 1918).\n",
    "\n",
    "At first, D’Ancona explained this by the following argument: There was less fishing because more fishermen were at war, and less fishing by humans meant more prey for the predators to eat. Thus the predators were able to thrive and reproduce more so their population increased.\n",
    "\n",
    "Does this argument explain why the percent of predator fish in total catches increased? Why or why not?\n",
    "\n",
    "\n",
    "\n",
    "| Year | % of predator fish in the total catch | \n",
    "| ----- | ------- |\n",
    "| 1914  | 11.9 |\n",
    "| 1915  | 21.4  |\n",
    "| 1916  | 22.1 |\n",
    "| 1917 | 21.2  |\n",
    "| 1918  | 36.4  | \n",
    "| 1919  | 27.3  |\n",
    "| 1920 |  16.0 |\n",
    "| 1921  | 15.9 |\n",
    "| 1922 | 14.8 |\n",
    "| 1923 | 10.7 |\n",
    "\n",
    "\n",
    "![](images/dancona.png)"
   ]
  },
  {
   "cell_type": "markdown",
   "metadata": {},
   "source": [
    "### Volterra's Model\n",
    "\n",
    "$$\\frac{dS}{dt} = aS$$\n",
    "\n",
    "$$\\frac{dM}{dt} = -cM$$\n",
    "\n",
    "---\n",
    "\n",
    "Adding Interaction between Marlin and Sardines.\n",
    "\n",
    "$$\\frac{dS}{dt} = aS - bSM$$\n",
    "\n",
    "$$\\frac{dM}{dt} = -cM + dSM$$"
   ]
  },
  {
   "cell_type": "code",
   "execution_count": 48,
   "metadata": {},
   "outputs": [],
   "source": [
    "from ipywidgets import interact, interactive, fixed, interact_manual\n",
    "import ipywidgets as widgets"
   ]
  },
  {
   "cell_type": "code",
   "execution_count": 49,
   "metadata": {},
   "outputs": [],
   "source": [
    "def dS(S,M , a, b): return a*S - b*S*M\n",
    "def dM(S, M, c, d): return -c*M + d*S*M"
   ]
  },
  {
   "cell_type": "code",
   "execution_count": 50,
   "metadata": {},
   "outputs": [],
   "source": [
    "S = np.arange(0, 10)\n",
    "M = np.arange(0, 10)\n",
    "a = 0\n",
    "b = 0\n",
    "c = 0\n",
    "d = 0"
   ]
  },
  {
   "cell_type": "code",
   "execution_count": 51,
   "metadata": {},
   "outputs": [],
   "source": [
    "def plot_fish(S = 0, M=0, a=1, b=1, c=1, d=1):\n",
    "    plt.plot(S, dS(S, M, a, b))\n",
    "    plt.plot(S, dM(S, M, c, d))"
   ]
  },
  {
   "cell_type": "code",
   "execution_count": 52,
   "metadata": {},
   "outputs": [
    {
     "data": {
      "image/png": "[encoded data removed]",
      "text/plain": [
       "<matplotlib.figure.Figure at 0x1056303c8>"
      ]
     },
     "metadata": {},
     "output_type": "display_data"
    }
   ],
   "source": [
    "plot_fish(S, M, a, b, c, d)"
   ]
  },
  {
   "cell_type": "code",
   "execution_count": 53,
   "metadata": {},
   "outputs": [
    {
     "data": {
      "application/vnd.jupyter.widget-view+json": {
       "model_id": "0f56cab316ac4301aaa7dd28a2ba85af",
       "version_major": 2,
       "version_minor": 0
      },
      "text/html": [
       "<p>Failed to display Jupyter Widget of type <code>interactive</code>.</p>\n",
       "<p>\n",
       "  If you're reading this message in the Jupyter Notebook or JupyterLab Notebook, it may mean\n",
       "  that the widgets JavaScript is still loading. If this message persists, it\n",
       "  likely means that the widgets JavaScript library is either not installed or\n",
       "  not enabled. See the <a href=\"https://ipywidgets.readthedocs.io/en/stable/user_install.html\">Jupyter\n",
       "  Widgets Documentation</a> for setup instructions.\n",
       "</p>\n",
       "<p>\n",
       "  If you're reading this message in another frontend (for example, a static\n",
       "  rendering on GitHub or <a href=\"https://nbviewer.jupyter.org/\">NBViewer</a>),\n",
       "  it may mean that your frontend doesn't currently support widgets.\n",
       "</p>\n"
      ],
      "text/plain": [
       "interactive(children=(IntSlider(value=10, description='S', max=30, min=-10), IntSlider(value=10, description='M', max=30, min=-10), IntSlider(value=10, description='a', max=30, min=-10), IntSlider(value=10, description='b', max=30, min=-10), IntSlider(value=10, description='c', max=30, min=-10), IntSlider(value=10, description='d', max=30, min=-10), Output()), _dom_classes=('widget-interact',))"
      ]
     },
     "metadata": {},
     "output_type": "display_data"
    }
   ],
   "source": [
    "interact(plot_fish,S= widgets.IntSlider(min=-10,max=30,step=1,value=10),\n",
    "        M=widgets.IntSlider(min=-10,max=30,step=1,value=10),\n",
    "        a=widgets.IntSlider(min=-10,max=30,step=1,value=10),\n",
    "        b =widgets.IntSlider(min=-10,max=30,step=1,value=10),\n",
    "        c=widgets.IntSlider(min=-10,max=30,step=1,value=10),\n",
    "        d=widgets.IntSlider(min=-10,max=30,step=1,value=10));"
   ]
  },
  {
   "cell_type": "markdown",
   "metadata": {},
   "source": [
    "**PROBLEM**\n",
    "\n",
    "$$\\frac{dx}{dt} = 0.2x -0.1xy$$\n",
    "\n",
    "$$\\frac{dy}{dt}= -0.15y + 0.05xy$$\n",
    "\n",
    "---\n",
    "\n",
    "- Equilibrium Solutions?\n",
    "\n",
    "- Values in each quadrant?"
   ]
  },
  {
   "cell_type": "markdown",
   "metadata": {},
   "source": [
    "**PROBLEM**\n",
    "\n",
    "According to the system of equations:\n",
    "\n",
    "$$\\frac{dS}{dt} = 0.5S - 0.4SM$$\n",
    "\n",
    "$$\\frac{dM}{dt} = -0.2M + 0.03SM$$\n",
    "\n",
    "\n",
    "when $S=3$ and $M=1$ , is the value of $S$ increasing, decreasing, or constant?\n",
    "\n",
    "\n",
    "When  $S=1$and$M =3$ , is the value of  $M$ increasing, decreasing, or constant?\n",
    "\n",
    "\n",
    "Find values for $M$ and $S$ for which $\\frac{dS}{dt} = 0$?\n",
    "\n",
    "Find values for $M$ and $S$ for which $\\frac{dM}{dt} = -0.2M + 0.03SM$ is equal to 0.\n",
    "\n",
    "There are two points where both  $\\frac{dS}{dt} = 0$ and $\\frac{dM}{dt} = 0$ . One is $(0, 0)$. What is the other point?"
   ]
  },
  {
   "cell_type": "markdown",
   "metadata": {},
   "source": [
    "**PROBLEM**\n",
    "Define the following *flow*, *fixed points*, *stable*, *unstable*.\n",
    "\n",
    "\n",
    "$$\\dot x = \\sin x$$\n",
    "\n",
    "\n",
    "\n",
    "$$\\dot x = x^2 - 1$$\n",
    "\n",
    "$$\\dot x = x - \\cos x$$\n",
    "\n",
    "$$\\dot N = rN(1 - \\frac{N}{K})$$"
   ]
  },
  {
   "cell_type": "markdown",
   "metadata": {},
   "source": [
    "**PROBLEMS**\n",
    "\n",
    "Analyze the following graphically. In each case, sketch the vector field, find all fixed points, classify their stability, and sketch the graph of $x(t)$ for different initial conditions.  If you can, find an analytical solution. Find four solutions using approximation methods.\n",
    "\n",
    "1. $\\dot x = 4x^2 - 16$\n",
    "2. $\\dot x = 1 - x^{14}$\n",
    "3. $\\dot x = x - x^3$\n",
    "4. $\\dot x = e^{-x} \\sin(x)$\n",
    "5. $\\dot x = 1 + \\frac{1}{2}\\cos(x)$"
   ]
  },
  {
   "cell_type": "markdown",
   "metadata": {},
   "source": [
    "### The Lotka Volterra Model\n",
    "\n",
    "**Product**: A paper describing the socio-historical background of the Lotka Volterra model.  You are to read the chapter from Kingsland, and the few pages from Braun.  From these you should produce at least two pages, balancing a historical/contextualization of the problem situation *and* a mathematical formulation of the general model.  Finally, you should answer the problem below using our qualitative solution methods from class.  This would be an example included as a section.\n",
    "\n",
    "A potential outline could be:\n",
    "\n",
    "- Introduction and History\n",
    "- Mathematical Formulation\n",
    "- Example problem and Solution\n",
    "- Summary and References\n",
    "\n",
    "----\n",
    "\n",
    "\n",
    "\n",
    "From Strogatz, we take the following problem:\n",
    "\n",
    "$$\\dot x = x(3 - x - 2y)$$\n",
    "$$\\dot y = y(2-x-y)$$\n",
    "\n",
    "where \n",
    "\n",
    "$$x(t) = \\text{population of rabbit}$$\n",
    "$$y(t) = \\text{population of sheep}$$\n",
    "\n",
    "Your problem is to determine a qualitative solution to this problem, following the process that we examined in class.\n",
    "\n",
    "1. Find equilibrium points\n",
    "2. Sketching a Phase Plane for the system\n",
    "3. Describing the Phase Plane diagram and what it tells us about the populations of rabbits and sheep interacting"
   ]
  },
  {
   "cell_type": "code",
   "execution_count": null,
   "metadata": {},
   "outputs": [],
   "source": []
  },
  {
   "cell_type": "code",
   "execution_count": null,
   "metadata": {},
   "outputs": [],
   "source": []
  },
  {
   "cell_type": "code",
   "execution_count": null,
   "metadata": {},
   "outputs": [],
   "source": []
  },
  {
   "cell_type": "code",
   "execution_count": null,
   "metadata": {},
   "outputs": [],
   "source": []
  },
  {
   "cell_type": "code",
   "execution_count": null,
   "metadata": {},
   "outputs": [],
   "source": []
  },
  {
   "cell_type": "code",
   "execution_count": null,
   "metadata": {},
   "outputs": [],
   "source": []
  },
  {
   "cell_type": "code",
   "execution_count": null,
   "metadata": {},
   "outputs": [],
   "source": []
  },
  {
   "cell_type": "code",
   "execution_count": null,
   "metadata": {},
   "outputs": [],
   "source": []
  },
  {
   "cell_type": "code",
   "execution_count": null,
   "metadata": {},
   "outputs": [],
   "source": []
  },
  {
   "cell_type": "code",
   "execution_count": null,
   "metadata": {},
   "outputs": [],
   "source": []
  },
  {
   "cell_type": "code",
   "execution_count": null,
   "metadata": {},
   "outputs": [],
   "source": []
  },
  {
   "cell_type": "code",
   "execution_count": null,
   "metadata": {},
   "outputs": [],
   "source": []
  },
  {
   "cell_type": "code",
   "execution_count": null,
   "metadata": {},
   "outputs": [],
   "source": []
  },
  {
   "cell_type": "code",
   "execution_count": 11,
   "metadata": {},
   "outputs": [],
   "source": [
    "year = [i for i in np.arange(1914, 1924, 1)]\n",
    "pred_fish = [11.9, 21.4, 22.1, 21.2, 36.4, 27.3, 16.0, 15.9, 14.8, 10.7]"
   ]
  },
  {
   "cell_type": "code",
   "execution_count": 14,
   "metadata": {},
   "outputs": [
    {
     "data": {
      "image/png": "[encoded data removed]",
      "text/plain": [
       "<matplotlib.figure.Figure at 0x106420278>"
      ]
     },
     "metadata": {},
     "output_type": "display_data"
    }
   ],
   "source": [
    "plt.plot(year, pred_fish, '--o')\n",
    "plt.savefig('images/dancona.png')"
   ]
  },
  {
   "cell_type": "code",
   "execution_count": 1,
   "metadata": {},
   "outputs": [],
   "source": [
    "%matplotlib inline\n",
    "import matplotlib.pyplot as plt\n",
    "import numpy as np"
   ]
  },
  {
   "cell_type": "code",
   "execution_count": 6,
   "metadata": {},
   "outputs": [],
   "source": [
    "x = np.arange(-3,4, 1)\n",
    "y = np.arange(-3,4,1)\n",
    "X,Y = np.meshgrid(x, y)"
   ]
  },
  {
   "cell_type": "code",
   "execution_count": 9,
   "metadata": {},
   "outputs": [
    {
     "data": {
      "image/png": "[encoded data removed]",
      "text/plain": [
       "<matplotlib.figure.Figure at 0x1062aaa20>"
      ]
     },
     "metadata": {},
     "output_type": "display_data"
    }
   ],
   "source": [
    "plt.figure(figsize = (9, 7))\n",
    "plt.plot(X, Y, 'bo');\n",
    "plt.axhline(color ='black')\n",
    "plt.axvline(color ='black')\n",
    "plt.savefig('images/grid.png')"
   ]
  },
  {
   "cell_type": "code",
   "execution_count": null,
   "metadata": {},
   "outputs": [],
   "source": []
  }
 ],
 "metadata": {
  "kernelspec": {
   "display_name": "Python 3",
   "language": "python",
   "name": "python3"
  },
  "language_info": {
   "codemirror_mode": {
    "name": "ipython",
    "version": 3
   },
   "file_extension": ".py",
   "mimetype": "text/x-python",
   "name": "python",
   "nbconvert_exporter": "python",
   "pygments_lexer": "ipython3",
   "version": "3.6.4"
  }
 },
 "nbformat": 4,
 "nbformat_minor": 2
}
