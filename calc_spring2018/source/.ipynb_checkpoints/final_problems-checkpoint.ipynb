{
 "cells": [
  {
   "cell_type": "markdown",
   "metadata": {},
   "source": [
    "### The Definite Integral\n",
    "\n",
    "1. Riemann Sums\n",
    "2. Area and Volume\n",
    "3. Application"
   ]
  },
  {
   "cell_type": "markdown",
   "metadata": {},
   "source": [
    "### The Derivative\n",
    "\n",
    "2. Rate of Change\n",
    "3. Optimization\n",
    "3. Newton's Method"
   ]
  },
  {
   "cell_type": "markdown",
   "metadata": {},
   "source": [
    "### Differential Equations\n",
    "\n",
    "1. Slope Fields\n",
    "2. Euler's Method\n",
    "3. Logistic Equation"
   ]
  }
 ],
 "metadata": {
  "kernelspec": {
   "display_name": "Python 3",
   "language": "python",
   "name": "python3"
  },
  "language_info": {
   "codemirror_mode": {
    "name": "ipython",
    "version": 3
   },
   "file_extension": ".py",
   "mimetype": "text/x-python",
   "name": "python",
   "nbconvert_exporter": "python",
   "pygments_lexer": "ipython3",
   "version": "3.6.4"
  }
 },
 "nbformat": 4,
 "nbformat_minor": 2
}
