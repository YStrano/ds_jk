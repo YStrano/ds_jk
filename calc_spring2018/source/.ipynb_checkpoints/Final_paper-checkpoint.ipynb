{
 "cells": [
  {
   "cell_type": "markdown",
   "metadata": {},
   "source": [
    "### The Lotka Volterra Model\n",
    "\n",
    "**Product**: A paper describing the socio-historical background of the Lotka Volterra model.  You are to read the chapter from [Kingsland](files/kingsland.pdf), and the few pages from [Braun](files/braun_dancona.pdf).  From these you should produce at least two pages, balancing a historical/contextualization of the problem situation *and* a mathematical formulation of the general model.  Finally, you should answer the problem below using our qualitative solution methods from class.  This would be an example included as a section.\n",
    "\n",
    "A potential outline could be:\n",
    "\n",
    "- Introduction and History\n",
    "- Mathematical Formulation\n",
    "- Example problem and Solution\n",
    "- Summary and References\n",
    "\n",
    "----\n",
    "\n",
    "\n",
    "\n",
    "From Strogatz, we take the following problem:\n",
    "\n",
    "$$\\dot x = x(3 - x - 2y)$$\n",
    "$$\\dot y = y(2-x-y)$$\n",
    "\n",
    "where \n",
    "\n",
    "$$x(t) = \\text{population of rabbit}$$\n",
    "$$y(t) = \\text{population of sheep}$$\n",
    "\n",
    "Your problem is to determine a qualitative solution to this problem, following the process that we examined in class.\n",
    "\n",
    "1. Find equilibrium points\n",
    "2. Sketching a Phase Plane for the system\n",
    "3. Describing the Phase Plane diagram and what it tells us about the populations of rabbits and sheep interacting### The Lotka Volterra Model\n",
    "\n"
   ]
  },
  {
   "cell_type": "markdown",
   "metadata": {},
   "source": [
    "### Information Theory and Biology\n",
    "\n",
    "**PROBLEM**: Relate summation problems to the use of *entropy* in examining biological problems.\n",
    "\n",
    "**PRODUCT**: Paper describing historico-political background of information theory, a mathematical description of *entropy*, and a worked solution to a particular problem.  Read the [COMAP article](files/info_theory.pdf) on information theory in Biology.  The purpose of this reading is to understand the basics of information theory and its mathematical motivation.  For a socio-historical investigation we turn to Tiziana Terranova whose chapter on [*Three Propositions on Informational Cultures*](files/terranova_information.pdf) poses interesting questions relating mathematics to culture.\n",
    "\n",
    "Here is a potential outline:\n",
    "\n",
    "- Introduction/History (Who is Claude Shannon?)\n",
    "- Mathematical motivation (Example from biology -- COMAP article first few pages)\n",
    "- Problem (Something like problems 3 - 5 from COMAP article)\n",
    "- Summary and Bibliography\n",
    "\n",
    "**Extra**\n",
    "\n",
    "You can also explore the more in depth examples in the latter part of the COMAP article, they involve a little more dedication."
   ]
  },
  {
   "cell_type": "markdown",
   "metadata": {},
   "source": [
    "### Marginal Utility and Economics\n",
    "\n",
    "**PROBLEM**: Relate Calculus and Marginal Utility.\n",
    "\n",
    "**PRODUCT**: Paper describing historico-political background of marginal utility in economics, a mathematical description of marginal utility, and a worked solution to a particular problem. Read the COMAP article, [*The Strange History*](files/comap_econ_history.pdf). The purpose of this reading is to understand the historical rise of mathematical economics, and feed your background writing.  For an example problem, I would ask that we attempt to identify an Economics text that has an interesting example, and we can go from here.\n",
    "\n",
    "Potential outline:\n",
    "\n",
    "- Introduction/History (COMAP article etc.)\n",
    "- Mathematical motivation (derivatives, marginals, utility)\n",
    "- Problem and Worked Example\n",
    "- Summary and Bibliography\n"
   ]
  },
  {
   "cell_type": "markdown",
   "metadata": {},
   "source": [
    "### Calculus and Design\n",
    "\n",
    "**PROBLEM**: Relate Calculus and Design\n",
    "\n",
    "**PRODUCT**: Paper describing historico-political background of design in the age of NURBS, a mathematical description of Bezier Curves, and a worked solution to a particular problem. \n",
    "\n",
    "Read the Cornell Journal of Architecture article [*Digital Remediation*](http://cornelljournalofarchitecture.cornell.edu/read.html?id=74) for a design perspective to motivate your writing.  Our earlier work around derivatives and interpolation should provide the mathematical element of the examination.  "
   ]
  },
  {
   "cell_type": "markdown",
   "metadata": {},
   "source": [
    "### US and CHINA Trade War\n",
    "\n",
    "**PROBLEM**: Relate Calculus to Economic and Political Analysis\n",
    "\n",
    "**PRODUCT**: Socio-Mathematical analysis of trade data for USA and CHINA.  We will perform a regression analysis to understand the trends, and use this to explain potential consequences for President Trump and his impending tarriffs.  \n",
    "https://www.census.gov/foreign-trade/balance/c5700.html\n",
    "\n",
    "Potential Outline:\n",
    "\n",
    "- Background on US China trade war and Trump's ideas\n",
    "- Mathematical background of Linear Regression and the use of Derivatives in its derivation\n",
    "- Regression Analysis of US China data from census.gov\n",
    "- Summary and Bibliography"
   ]
  },
  {
   "cell_type": "markdown",
   "metadata": {},
   "source": [
    "### Python and Calculus\n",
    "\n",
    "**PROBLEM**: Relate Calculus to a Python Library\n",
    "\n",
    "**PRODUCT**: A `Class` of Python functions that accomplish typical calculus operations.  We will aim to make this a publicly available API and establish it as a github project, open to contributors from around the world.\n",
    "\n",
    "Possible Structure:\n",
    "\n",
    "- Definite integral function that interprets solution as area under curve and produces nice graphical solution to input of a function and limits of integration\n",
    "- Derivative function that outputs a graphical interface including a slider that moves and outputs the derivative at a given value and the equation of the line tangent to the graph at the point $x = a$\n",
    "- Differential Equation function that takes a differential equation and initial value as an input, output is a phase plane and sketch of solution through initial condition"
   ]
  }
 ],
 "metadata": {
  "kernelspec": {
   "display_name": "Python 3",
   "language": "python",
   "name": "python3"
  },
  "language_info": {
   "codemirror_mode": {
    "name": "ipython",
    "version": 3
   },
   "file_extension": ".py",
   "mimetype": "text/x-python",
   "name": "python",
   "nbconvert_exporter": "python",
   "pygments_lexer": "ipython3",
   "version": "3.6.4"
  }
 },
 "nbformat": 4,
 "nbformat_minor": 2
}
