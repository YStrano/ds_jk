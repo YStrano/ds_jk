{
 "cells": [
  {
   "cell_type": "code",
   "execution_count": 26,
   "metadata": {},
   "outputs": [],
   "source": [
    "%matplotlib inline\n",
    "import matplotlib.pyplot as plt\n",
    "import numpy as np\n",
    "import pandas as pd"
   ]
  },
  {
   "cell_type": "markdown",
   "metadata": {},
   "source": [
    "# Wage Equality\n",
    "\n",
    "April 10th of 2018 was deemed **Women's Wage Equality Day**.  This is supposed to be the day that the average American woman catches up with the wages the average american man earned in the course of the previous year.  In other words, what took the man a year to earn would have take a year, four months, and 10 days for a woman to earn.  Our goal is to investigate how wages have changed across time in the United State, particularly within different demographics tracked by the Bureau of Labor Statistics. (bls.gov)\n",
    "\n",
    "The following data was pulled from the BLS website, and contains the yearly median income for:\n",
    "\n",
    "\n",
    "- American Men\n",
    "- American Women\n",
    "- African Americans\n",
    "- African American Males\n",
    "- African American Females\n",
    "- Hispanic Americans\n",
    "- Hispanic American Males\n",
    "- Hispanic American Females\n",
    "- White Males\n",
    "- White Females\n",
    "\n"
   ]
  },
  {
   "cell_type": "code",
   "execution_count": 27,
   "metadata": {},
   "outputs": [],
   "source": [
    "df = pd.read_csv('data/bls_wages.csv')"
   ]
  },
  {
   "cell_type": "code",
   "execution_count": 28,
   "metadata": {},
   "outputs": [
    {
     "data": {
      "text/html": [
       "<div>\n",
       "<style scoped>\n",
       "    .dataframe tbody tr th:only-of-type {\n",
       "        vertical-align: middle;\n",
       "    }\n",
       "\n",
       "    .dataframe tbody tr th {\n",
       "        vertical-align: top;\n",
       "    }\n",
       "\n",
       "    .dataframe thead th {\n",
       "        text-align: right;\n",
       "    }\n",
       "</style>\n",
       "<table border=\"1\" class=\"dataframe\">\n",
       "  <thead>\n",
       "    <tr style=\"text-align: right;\">\n",
       "      <th></th>\n",
       "      <th>Year</th>\n",
       "      <th>Annual_men</th>\n",
       "      <th>Annual_women</th>\n",
       "      <th>Annual_white</th>\n",
       "      <th>Annual_whitemen</th>\n",
       "      <th>Annual_whitewomen</th>\n",
       "      <th>Annual_afamer</th>\n",
       "      <th>Annual_afamer_M</th>\n",
       "      <th>Annual_afamer_W</th>\n",
       "      <th>Annual_hispanic</th>\n",
       "      <th>Annual_hispanic_M</th>\n",
       "      <th>Annual_hispanic_W</th>\n",
       "      <th>Annual_noHS</th>\n",
       "    </tr>\n",
       "  </thead>\n",
       "  <tbody>\n",
       "    <tr>\n",
       "      <th>0</th>\n",
       "      <td>1979</td>\n",
       "      <td>292</td>\n",
       "      <td>182</td>\n",
       "      <td>248</td>\n",
       "      <td>298</td>\n",
       "      <td>184</td>\n",
       "      <td>199</td>\n",
       "      <td>227</td>\n",
       "      <td>169</td>\n",
       "      <td>194</td>\n",
       "      <td>219</td>\n",
       "      <td>157</td>\n",
       "      <td>210</td>\n",
       "    </tr>\n",
       "    <tr>\n",
       "      <th>1</th>\n",
       "      <td>1980</td>\n",
       "      <td>313</td>\n",
       "      <td>201</td>\n",
       "      <td>269</td>\n",
       "      <td>320</td>\n",
       "      <td>203</td>\n",
       "      <td>212</td>\n",
       "      <td>244</td>\n",
       "      <td>185</td>\n",
       "      <td>209</td>\n",
       "      <td>234</td>\n",
       "      <td>172</td>\n",
       "      <td>222</td>\n",
       "    </tr>\n",
       "    <tr>\n",
       "      <th>2</th>\n",
       "      <td>1981</td>\n",
       "      <td>340</td>\n",
       "      <td>219</td>\n",
       "      <td>291</td>\n",
       "      <td>350</td>\n",
       "      <td>221</td>\n",
       "      <td>235</td>\n",
       "      <td>268</td>\n",
       "      <td>206</td>\n",
       "      <td>223</td>\n",
       "      <td>251</td>\n",
       "      <td>190</td>\n",
       "      <td>240</td>\n",
       "    </tr>\n",
       "    <tr>\n",
       "      <th>3</th>\n",
       "      <td>1982</td>\n",
       "      <td>364</td>\n",
       "      <td>239</td>\n",
       "      <td>310</td>\n",
       "      <td>375</td>\n",
       "      <td>242</td>\n",
       "      <td>245</td>\n",
       "      <td>278</td>\n",
       "      <td>217</td>\n",
       "      <td>240</td>\n",
       "      <td>269</td>\n",
       "      <td>203</td>\n",
       "      <td>248</td>\n",
       "    </tr>\n",
       "    <tr>\n",
       "      <th>4</th>\n",
       "      <td>1983</td>\n",
       "      <td>379</td>\n",
       "      <td>252</td>\n",
       "      <td>320</td>\n",
       "      <td>387</td>\n",
       "      <td>254</td>\n",
       "      <td>261</td>\n",
       "      <td>294</td>\n",
       "      <td>232</td>\n",
       "      <td>250</td>\n",
       "      <td>274</td>\n",
       "      <td>215</td>\n",
       "      <td>256</td>\n",
       "    </tr>\n",
       "  </tbody>\n",
       "</table>\n",
       "</div>"
      ],
      "text/plain": [
       "   Year  Annual_men  Annual_women  Annual_white  Annual_whitemen  \\\n",
       "0  1979         292           182           248              298   \n",
       "1  1980         313           201           269              320   \n",
       "2  1981         340           219           291              350   \n",
       "3  1982         364           239           310              375   \n",
       "4  1983         379           252           320              387   \n",
       "\n",
       "   Annual_whitewomen  Annual_afamer  Annual_afamer_M  Annual_afamer_W  \\\n",
       "0                184            199              227              169   \n",
       "1                203            212              244              185   \n",
       "2                221            235              268              206   \n",
       "3                242            245              278              217   \n",
       "4                254            261              294              232   \n",
       "\n",
       "   Annual_hispanic  Annual_hispanic_M  Annual_hispanic_W  Annual_noHS  \n",
       "0              194                219                157          210  \n",
       "1              209                234                172          222  \n",
       "2              223                251                190          240  \n",
       "3              240                269                203          248  \n",
       "4              250                274                215          256  "
      ]
     },
     "execution_count": 28,
     "metadata": {},
     "output_type": "execute_result"
    }
   ],
   "source": [
    "df.head()"
   ]
  },
  {
   "cell_type": "code",
   "execution_count": 33,
   "metadata": {},
   "outputs": [
    {
     "data": {
      "text/plain": [
       "<matplotlib.legend.Legend at 0x112231ef0>"
      ]
     },
     "execution_count": 33,
     "metadata": {},
     "output_type": "execute_result"
    },
    {
     "data": {
      "image/png": "[encoded data removed]",
      "text/plain": [
       "<matplotlib.figure.Figure at 0x111cd7400>"
      ]
     },
     "metadata": {},
     "output_type": "display_data"
    }
   ],
   "source": [
    "plt.figure(figsize = (9, 5))\n",
    "plt.scatter(df.Year, df.Annual_men, label = 'All Men')\n",
    "plt.scatter(df.Year, df.Annual_women, label = 'All Women')\n",
    "plt.title(\"Average Median Wage by Gender \\n1979 - 2017\")\n",
    "plt.legend()"
   ]
  },
  {
   "cell_type": "markdown",
   "metadata": {},
   "source": [
    "### Equations for the Data\n",
    "\n",
    "We will use Linear Regression to fit a line to the dataset.  From here, we want to discuss the rate of change of the wages, and examine how things have changed in the last 40 years."
   ]
  },
  {
   "cell_type": "markdown",
   "metadata": {},
   "source": [
    "To find the line of best fit, we will use the `np.polyfit` method.  Here, we input the $x$ variable, $y$ variable, and degree of the polynomial we want to use to fit the data.  For example, to fit the line for men, we refer to the Year column of the data as `df.Year`, the men column by its title `df.Annual_men`, and a 1 for first degree function, aka linear.\n",
    "\n",
    "```python\n",
    "np.polyfit(df.Year, df.Annual_men, 1)\n",
    "```\n",
    "\n",
    "This gives me the slope and intercept of the equation\n",
    "\n",
    "$$y = mx + b$$\n",
    "\n",
    "Below, I use this to create a function for this model.   After this, we can use the model to make predictions and interpret the slope of the model."
   ]
  },
  {
   "cell_type": "code",
   "execution_count": 35,
   "metadata": {},
   "outputs": [],
   "source": [
    "import numpy as np\n",
    "lmen = np.polyfit(df.Year, df.Annual_men, 1)"
   ]
  },
  {
   "cell_type": "code",
   "execution_count": 36,
   "metadata": {},
   "outputs": [
    {
     "data": {
      "text/plain": [
       "array([ 1.66631579e+01, -3.26803741e+04])"
      ]
     },
     "execution_count": 36,
     "metadata": {},
     "output_type": "execute_result"
    }
   ],
   "source": [
    "lmen"
   ]
  },
  {
   "cell_type": "code",
   "execution_count": 37,
   "metadata": {},
   "outputs": [],
   "source": [
    "lwmen = np.polyfit(df.Year, df.Annual_women, 1)"
   ]
  },
  {
   "cell_type": "code",
   "execution_count": 40,
   "metadata": {},
   "outputs": [
    {
     "data": {
      "text/plain": [
       "array([ 1.54214575e+01, -3.03400977e+04])"
      ]
     },
     "execution_count": 40,
     "metadata": {},
     "output_type": "execute_result"
    }
   ],
   "source": [
    "lwmen"
   ]
  },
  {
   "cell_type": "code",
   "execution_count": 21,
   "metadata": {},
   "outputs": [],
   "source": [
    "def lwmen(x): return 15.42*x - 30340"
   ]
  },
  {
   "cell_type": "code",
   "execution_count": 22,
   "metadata": {},
   "outputs": [
    {
     "data": {
      "text/plain": [
       "808.4000000000015"
      ]
     },
     "execution_count": 22,
     "metadata": {},
     "output_type": "execute_result"
    }
   ],
   "source": [
    "lwmen(2020)"
   ]
  },
  {
   "cell_type": "code",
   "execution_count": 23,
   "metadata": {},
   "outputs": [],
   "source": [
    "def lmen(x): return 16.63*x -32680"
   ]
  },
  {
   "cell_type": "code",
   "execution_count": 24,
   "metadata": {},
   "outputs": [
    {
     "data": {
      "text/plain": [
       "912.5999999999985"
      ]
     },
     "execution_count": 24,
     "metadata": {},
     "output_type": "execute_result"
    }
   ],
   "source": [
    "lmen(2020)"
   ]
  },
  {
   "cell_type": "code",
   "execution_count": 25,
   "metadata": {},
   "outputs": [
    {
     "data": {
      "text/plain": [
       "[<matplotlib.lines.Line2D at 0x1125caf60>]"
      ]
     },
     "execution_count": 25,
     "metadata": {},
     "output_type": "execute_result"
    },
    {
     "data": {
      "image/png": "[encoded data removed]",
      "text/plain": [
       "<matplotlib.figure.Figure at 0x1125caf98>"
      ]
     },
     "metadata": {},
     "output_type": "display_data"
    }
   ],
   "source": [
    "x = np.linspace(1979, 2040, 1000)\n",
    "plt.plot(x, lmen(x), '--k')\n",
    "plt.plot(x, lwmen(x), '--b')"
   ]
  },
  {
   "cell_type": "markdown",
   "metadata": {},
   "source": [
    "### Problem\n",
    "\n",
    "Develop lines of fit for the other demographics represented.  \n",
    "- How much money does your model anticipate each group making in the year 2040?  \n",
    "\n",
    "- Will anybody overtake White Men by the end of the century based on your model?\n",
    "\n",
    "- According to your model, when will hispanic womens wage equality day be in 2040?\n",
    "\n",
    "- Interpret the results of your findings using complete sentences and literature from a news source who published a story about wage equality in the USA recently.\n"
   ]
  },
  {
   "cell_type": "code",
   "execution_count": null,
   "metadata": {},
   "outputs": [],
   "source": []
  },
  {
   "cell_type": "code",
   "execution_count": null,
   "metadata": {},
   "outputs": [],
   "source": []
  },
  {
   "cell_type": "code",
   "execution_count": null,
   "metadata": {},
   "outputs": [],
   "source": []
  },
  {
   "cell_type": "code",
   "execution_count": null,
   "metadata": {},
   "outputs": [],
   "source": []
  },
  {
   "cell_type": "code",
   "execution_count": null,
   "metadata": {},
   "outputs": [],
   "source": []
  },
  {
   "cell_type": "code",
   "execution_count": null,
   "metadata": {},
   "outputs": [],
   "source": []
  },
  {
   "cell_type": "code",
   "execution_count": null,
   "metadata": {},
   "outputs": [],
   "source": []
  },
  {
   "cell_type": "code",
   "execution_count": null,
   "metadata": {},
   "outputs": [],
   "source": []
  },
  {
   "cell_type": "code",
   "execution_count": null,
   "metadata": {},
   "outputs": [],
   "source": []
  }
 ],
 "metadata": {
  "kernelspec": {
   "display_name": "Python 3",
   "language": "python",
   "name": "python3"
  },
  "language_info": {
   "codemirror_mode": {
    "name": "ipython",
    "version": 3
   },
   "file_extension": ".py",
   "mimetype": "text/x-python",
   "name": "python",
   "nbconvert_exporter": "python",
   "pygments_lexer": "ipython3",
   "version": "3.6.4"
  }
 },
 "nbformat": 4,
 "nbformat_minor": 2
}
