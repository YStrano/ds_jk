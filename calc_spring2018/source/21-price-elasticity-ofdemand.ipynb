{
 "cells": [
  {
   "cell_type": "markdown",
   "metadata": {},
   "source": [
    "# Price Elasticity of Demand\n",
    "\n"
   ]
  },
  {
   "cell_type": "code",
   "execution_count": 3,
   "metadata": {},
   "outputs": [],
   "source": [
    "%matplotlib inline\n",
    "import matplotlib.pyplot as plt\n",
    "import numpy as np\n",
    "import sympy as sy"
   ]
  },
  {
   "cell_type": "markdown",
   "metadata": {},
   "source": [
    "We begin with the idea of a relative or percent change.  Consider two numbers $x_1 = 5$ and $x_2 = 8$ what is the relative change if we move from 5 to 8?\n",
    "\n",
    "\n",
    "\n",
    "$$\\Delta\\%x = \\frac{x_2 - x_1}{x_1}$$\n",
    "\n",
    "\n",
    "Similarly for a function $f$ we can find the percent change as:\n",
    "\n",
    "$$\\Delta\\%y = \\frac{f(x_2) - f(x_1)}{f(x_1)}$$\n",
    "\n",
    "We can put these together to get the definition for the **arc elasticity** $\\eta$, and understand this as the percent change between two points.\n",
    "\n",
    "$$\\eta = \\frac{\\Delta\\%y}{\\Delta\\%x}$$\n",
    "\n",
    "If we move these points together, we get the **elasticity** of a function.  We use our Calculus knowledge to simplify the expression in terms of derivatives, and get\n",
    "\n",
    "$$\\eta_f(x) = \\frac{x}{f(x)}~ f'(x)$$"
   ]
  },
  {
   "cell_type": "markdown",
   "metadata": {},
   "source": [
    "##### PROBLEM\n",
    "\n",
    "What is the elasticity of $f(x) = \\frac{1}{x^2}$ at $x = 2$?"
   ]
  },
  {
   "cell_type": "code",
   "execution_count": null,
   "metadata": {},
   "outputs": [],
   "source": []
  },
  {
   "cell_type": "code",
   "execution_count": null,
   "metadata": {},
   "outputs": [],
   "source": []
  },
  {
   "cell_type": "code",
   "execution_count": null,
   "metadata": {},
   "outputs": [],
   "source": []
  },
  {
   "cell_type": "markdown",
   "metadata": {},
   "source": [
    "### Demand Functions\n",
    "\n",
    "If we are dealing with a function that represents our familiar demand function, recall that we relate this to revenue as\n",
    "\n",
    "$$\\text{revenue}= R(x) = x f(x)$$\n",
    "\n",
    "Depending on whether the rate of change of revenue is positive or negative, we will say:\n",
    "\n",
    "- $R'(x) < 0$: Demand is elastic\n",
    "- $R'(x) > 0 $: Demand is inelastic\n",
    "\n"
   ]
  },
  {
   "cell_type": "markdown",
   "metadata": {},
   "source": [
    "##### PROBLEM\n",
    "\n",
    "Wales(1968) described the demand for distilled spirits with the function:\n",
    "\n",
    "$$f(p) = -0.00375p + 7.87$$\n",
    "\n",
    "1. Draw a plot of the Revenue function.\n",
    "2. Draw a plot of the demand function.\n",
    "3. What is $R'(58.20)$?  What does this mean in terms of the context?\n",
    "4. Plot the elasticity function.  What is $\\eta_f(58.20)$?"
   ]
  },
  {
   "cell_type": "markdown",
   "metadata": {},
   "source": [
    "---\n",
    "\n",
    "\n",
    "Silverman and Spruill related the retail price of heroin to the crime rate in Detroit by an equation of the type\n",
    "\n",
    "$$c = 3351p^{0.2870}$$\n",
    "\n",
    "with $c$ representing the number of property crimes reported monthly in Detroit, and $p$ denoting the price of heroin in that city, in dollars per gram.\n",
    "\n",
    "1. Determine the elasticity of $c$ with respect to $p$. \n",
    "2. What percentage does the rate of property crimes $c$ rise if the price of heroin $p$ rises by, say 5%."
   ]
  },
  {
   "cell_type": "markdown",
   "metadata": {},
   "source": []
  },
  {
   "cell_type": "code",
   "execution_count": null,
   "metadata": {},
   "outputs": [],
   "source": []
  },
  {
   "cell_type": "code",
   "execution_count": null,
   "metadata": {},
   "outputs": [],
   "source": []
  },
  {
   "cell_type": "code",
   "execution_count": null,
   "metadata": {},
   "outputs": [],
   "source": []
  },
  {
   "cell_type": "code",
   "execution_count": null,
   "metadata": {},
   "outputs": [],
   "source": []
  },
  {
   "cell_type": "code",
   "execution_count": null,
   "metadata": {},
   "outputs": [],
   "source": []
  },
  {
   "cell_type": "code",
   "execution_count": null,
   "metadata": {},
   "outputs": [],
   "source": []
  },
  {
   "cell_type": "code",
   "execution_count": null,
   "metadata": {},
   "outputs": [],
   "source": []
  },
  {
   "cell_type": "code",
   "execution_count": null,
   "metadata": {},
   "outputs": [],
   "source": []
  },
  {
   "cell_type": "markdown",
   "metadata": {},
   "source": [
    "### Regression and Least Squares\n",
    "\n",
    "Let's consider the following example where the data represents cigarette consumption and death rates for countries given.\n",
    "\n",
    "| Country | Cigarette Consumption | Deaths per Million | \n",
    "| ------ | ------ | ------ | \n",
    "| Norway | 250 | 95 |\n",
    "| Sweden | 300 | 120 |\n",
    "| Denmark | 350 | 165 |\n",
    "| Australia | 470 | 170 |"
   ]
  },
  {
   "cell_type": "code",
   "execution_count": 2,
   "metadata": {},
   "outputs": [],
   "source": [
    "cigs = [250, 300, 350, 470]\n",
    "death = [95, 120, 165, 170]"
   ]
  },
  {
   "cell_type": "code",
   "execution_count": 4,
   "metadata": {},
   "outputs": [
    {
     "data": {
      "text/plain": [
       "<matplotlib.collections.PathCollection at 0x10bc3eac8>"
      ]
     },
     "execution_count": 4,
     "metadata": {},
     "output_type": "execute_result"
    },
    {
     "data": {
      "image/png": "[encoded data removed]",
      "text/plain": [
       "<matplotlib.figure.Figure at 0x1094e9470>"
      ]
     },
     "metadata": {},
     "output_type": "display_data"
    }
   ],
   "source": [
    "plt.scatter(cigs, death)"
   ]
  },
  {
   "cell_type": "code",
   "execution_count": 5,
   "metadata": {},
   "outputs": [],
   "source": [
    "a, b = np.polyfit(cigs, death, 1)\n",
    "def l(x): return a*x + b"
   ]
  },
  {
   "cell_type": "code",
   "execution_count": 6,
   "metadata": {},
   "outputs": [
    {
     "data": {
      "text/plain": [
       "[<matplotlib.lines.Line2D at 0x10be1dba8>]"
      ]
     },
     "execution_count": 6,
     "metadata": {},
     "output_type": "execute_result"
    },
    {
     "data": {
      "image/png": "[encoded data removed]",
      "text/plain": [
       "<matplotlib.figure.Figure at 0x10bcfad30>"
      ]
     },
     "metadata": {},
     "output_type": "display_data"
    }
   ],
   "source": [
    "x = np.linspace(min(cigs), max(cigs), 100)\n",
    "plt.scatter(cigs, death)\n",
    "plt.plot(x, l(x), '--b')"
   ]
  },
  {
   "cell_type": "markdown",
   "metadata": {},
   "source": [
    "### Problem \n",
    "\n",
    "Suppose we were deciding between the lines\n",
    "\n",
    "$$y_1 = .3x + 34.75 \\quad y_2 = .4x + .5$$\n",
    "\n",
    "We want to compare the average difference between the actual and predicted values.  We can find the residuals by creating a list of differences in terms of actual and predicted values."
   ]
  },
  {
   "cell_type": "code",
   "execution_count": null,
   "metadata": {},
   "outputs": [],
   "source": []
  },
  {
   "cell_type": "code",
   "execution_count": null,
   "metadata": {},
   "outputs": [],
   "source": []
  },
  {
   "cell_type": "code",
   "execution_count": null,
   "metadata": {},
   "outputs": [],
   "source": []
  },
  {
   "cell_type": "code",
   "execution_count": null,
   "metadata": {},
   "outputs": [],
   "source": []
  },
  {
   "cell_type": "code",
   "execution_count": null,
   "metadata": {},
   "outputs": [],
   "source": []
  },
  {
   "cell_type": "code",
   "execution_count": null,
   "metadata": {},
   "outputs": [],
   "source": []
  },
  {
   "cell_type": "code",
   "execution_count": null,
   "metadata": {},
   "outputs": [],
   "source": []
  },
  {
   "cell_type": "code",
   "execution_count": null,
   "metadata": {},
   "outputs": [],
   "source": []
  },
  {
   "cell_type": "code",
   "execution_count": null,
   "metadata": {},
   "outputs": [],
   "source": []
  },
  {
   "cell_type": "markdown",
   "metadata": {},
   "source": [
    "## Deriving the Equation of the Line\n",
    "\n",
    "In general, we have some line of best fit $y$ given by:\n",
    "\n",
    "$$y = a + bx$$\n",
    "\n",
    "If we have some set of points $(x_1, y_1), (x_2, y_2), (x_3, y_3)...(x_n, y_n)$.  We need to minimize the sum of squares of residuals here, so we would have a number of values determined by:\n",
    "\n",
    "$$[y_1 - (a + bx_1)]^2 + [y_2 - (a + bx_2)]^2 + [y_3 - (a + bx_3)]^2 + ... $$\n",
    "\n",
    "which we can rewrite in summation notation as \n",
    "\n",
    "$$\\sum_{i=1}^n[y_i - (a + bx_i)]^2$$\n",
    "\n",
    "We can consider this as a function in terms of the variable $a$ that we are seeking to minimize.\n",
    "\n",
    "$$g(a) = \\sum_{i=1}^n[y_i - (a + bx_i)]^2$$\n",
    "\n",
    "From here, we can apply our familiar strategy of differentiating the function and locating the critical values.  We are looking for the derivative of a sum, which turns out to be equivalent to the sum of the derivatives, hence we have\n",
    "\n",
    "$$g'(a) = \\sum_{i=1}^n \\frac{d}{da}[y_i - (a + bx_i)]^2$$\n",
    "\n",
    "$$g'(a) = \\sum_{i=1}^n 2[y_i -a - bx_i](-1)$$\n",
    "\n",
    "$$g'(a) = -2 [\\sum_{i = 1}^n y_i - a - b\\sum_{i=1}^n x_i]$$\n",
    "\n",
    "Setting this equal to zero and solving for $a$ we get\n",
    "\n",
    "$$a = \\frac{1}{n} \\sum_{i=1}^n y_i - b\\frac{1}{n} \\sum_{i=1}^n x_i$$\n",
    "\n",
    "The terms should be familiar as averages, and we can rewrite our equation as\n",
    "\n",
    "$$a = \\bar{y} - b \\bar{x}$$\n",
    "\n",
    "We now use this to investigate a similar function in terms of $b$ to complete our solution.\n",
    "\n",
    "$$f(b) = \\sum_{i=1}^n[y_i - (\\bar{y} + b(x_i - \\bar{x}))]^2$$"
   ]
  },
  {
   "cell_type": "code",
   "execution_count": null,
   "metadata": {},
   "outputs": [],
   "source": []
  },
  {
   "cell_type": "code",
   "execution_count": null,
   "metadata": {},
   "outputs": [],
   "source": []
  },
  {
   "cell_type": "code",
   "execution_count": null,
   "metadata": {},
   "outputs": [],
   "source": []
  },
  {
   "cell_type": "code",
   "execution_count": null,
   "metadata": {},
   "outputs": [],
   "source": []
  },
  {
   "cell_type": "markdown",
   "metadata": {},
   "source": [
    "### Extra\n",
    "\n",
    "Below, we have data from the Gapminder project.  You can determine regression lines for different years relationships between GDP and Life Expectancy.  Propose a hypothesis about what the changes in equations through time mean in the context of the data."
   ]
  },
  {
   "cell_type": "code",
   "execution_count": 15,
   "metadata": {},
   "outputs": [],
   "source": [
    "import pandas as pd"
   ]
  },
  {
   "cell_type": "code",
   "execution_count": 16,
   "metadata": {},
   "outputs": [],
   "source": [
    "df = pd.read_csv('data/gapminder_all.csv')"
   ]
  },
  {
   "cell_type": "code",
   "execution_count": 18,
   "metadata": {},
   "outputs": [
    {
     "data": {
      "text/html": [
       "<div>\n",
       "<style scoped>\n",
       "    .dataframe tbody tr th:only-of-type {\n",
       "        vertical-align: middle;\n",
       "    }\n",
       "\n",
       "    .dataframe tbody tr th {\n",
       "        vertical-align: top;\n",
       "    }\n",
       "\n",
       "    .dataframe thead th {\n",
       "        text-align: right;\n",
       "    }\n",
       "</style>\n",
       "<table border=\"1\" class=\"dataframe\">\n",
       "  <thead>\n",
       "    <tr style=\"text-align: right;\">\n",
       "      <th></th>\n",
       "      <th>continent</th>\n",
       "      <th>country</th>\n",
       "      <th>gdpPercap_1952</th>\n",
       "      <th>gdpPercap_1957</th>\n",
       "      <th>gdpPercap_1962</th>\n",
       "      <th>gdpPercap_1967</th>\n",
       "      <th>gdpPercap_1972</th>\n",
       "      <th>gdpPercap_1977</th>\n",
       "      <th>gdpPercap_1982</th>\n",
       "      <th>gdpPercap_1987</th>\n",
       "      <th>...</th>\n",
       "      <th>pop_1962</th>\n",
       "      <th>pop_1967</th>\n",
       "      <th>pop_1972</th>\n",
       "      <th>pop_1977</th>\n",
       "      <th>pop_1982</th>\n",
       "      <th>pop_1987</th>\n",
       "      <th>pop_1992</th>\n",
       "      <th>pop_1997</th>\n",
       "      <th>pop_2002</th>\n",
       "      <th>pop_2007</th>\n",
       "    </tr>\n",
       "  </thead>\n",
       "  <tbody>\n",
       "    <tr>\n",
       "      <th>0</th>\n",
       "      <td>Africa</td>\n",
       "      <td>Algeria</td>\n",
       "      <td>2449.008185</td>\n",
       "      <td>3013.976023</td>\n",
       "      <td>2550.816880</td>\n",
       "      <td>3246.991771</td>\n",
       "      <td>4182.663766</td>\n",
       "      <td>4910.416756</td>\n",
       "      <td>5745.160213</td>\n",
       "      <td>5681.358539</td>\n",
       "      <td>...</td>\n",
       "      <td>11000948.0</td>\n",
       "      <td>12760499.0</td>\n",
       "      <td>14760787.0</td>\n",
       "      <td>17152804.0</td>\n",
       "      <td>20033753.0</td>\n",
       "      <td>23254956.0</td>\n",
       "      <td>26298373.0</td>\n",
       "      <td>29072015.0</td>\n",
       "      <td>31287142</td>\n",
       "      <td>33333216</td>\n",
       "    </tr>\n",
       "    <tr>\n",
       "      <th>1</th>\n",
       "      <td>Africa</td>\n",
       "      <td>Angola</td>\n",
       "      <td>3520.610273</td>\n",
       "      <td>3827.940465</td>\n",
       "      <td>4269.276742</td>\n",
       "      <td>5522.776375</td>\n",
       "      <td>5473.288005</td>\n",
       "      <td>3008.647355</td>\n",
       "      <td>2756.953672</td>\n",
       "      <td>2430.208311</td>\n",
       "      <td>...</td>\n",
       "      <td>4826015.0</td>\n",
       "      <td>5247469.0</td>\n",
       "      <td>5894858.0</td>\n",
       "      <td>6162675.0</td>\n",
       "      <td>7016384.0</td>\n",
       "      <td>7874230.0</td>\n",
       "      <td>8735988.0</td>\n",
       "      <td>9875024.0</td>\n",
       "      <td>10866106</td>\n",
       "      <td>12420476</td>\n",
       "    </tr>\n",
       "    <tr>\n",
       "      <th>2</th>\n",
       "      <td>Africa</td>\n",
       "      <td>Benin</td>\n",
       "      <td>1062.752200</td>\n",
       "      <td>959.601080</td>\n",
       "      <td>949.499064</td>\n",
       "      <td>1035.831411</td>\n",
       "      <td>1085.796879</td>\n",
       "      <td>1029.161251</td>\n",
       "      <td>1277.897616</td>\n",
       "      <td>1225.856010</td>\n",
       "      <td>...</td>\n",
       "      <td>2151895.0</td>\n",
       "      <td>2427334.0</td>\n",
       "      <td>2761407.0</td>\n",
       "      <td>3168267.0</td>\n",
       "      <td>3641603.0</td>\n",
       "      <td>4243788.0</td>\n",
       "      <td>4981671.0</td>\n",
       "      <td>6066080.0</td>\n",
       "      <td>7026113</td>\n",
       "      <td>8078314</td>\n",
       "    </tr>\n",
       "    <tr>\n",
       "      <th>3</th>\n",
       "      <td>Africa</td>\n",
       "      <td>Botswana</td>\n",
       "      <td>851.241141</td>\n",
       "      <td>918.232535</td>\n",
       "      <td>983.653976</td>\n",
       "      <td>1214.709294</td>\n",
       "      <td>2263.611114</td>\n",
       "      <td>3214.857818</td>\n",
       "      <td>4551.142150</td>\n",
       "      <td>6205.883850</td>\n",
       "      <td>...</td>\n",
       "      <td>512764.0</td>\n",
       "      <td>553541.0</td>\n",
       "      <td>619351.0</td>\n",
       "      <td>781472.0</td>\n",
       "      <td>970347.0</td>\n",
       "      <td>1151184.0</td>\n",
       "      <td>1342614.0</td>\n",
       "      <td>1536536.0</td>\n",
       "      <td>1630347</td>\n",
       "      <td>1639131</td>\n",
       "    </tr>\n",
       "    <tr>\n",
       "      <th>4</th>\n",
       "      <td>Africa</td>\n",
       "      <td>Burkina Faso</td>\n",
       "      <td>543.255241</td>\n",
       "      <td>617.183465</td>\n",
       "      <td>722.512021</td>\n",
       "      <td>794.826560</td>\n",
       "      <td>854.735976</td>\n",
       "      <td>743.387037</td>\n",
       "      <td>807.198586</td>\n",
       "      <td>912.063142</td>\n",
       "      <td>...</td>\n",
       "      <td>4919632.0</td>\n",
       "      <td>5127935.0</td>\n",
       "      <td>5433886.0</td>\n",
       "      <td>5889574.0</td>\n",
       "      <td>6634596.0</td>\n",
       "      <td>7586551.0</td>\n",
       "      <td>8878303.0</td>\n",
       "      <td>10352843.0</td>\n",
       "      <td>12251209</td>\n",
       "      <td>14326203</td>\n",
       "    </tr>\n",
       "  </tbody>\n",
       "</table>\n",
       "<p>5 rows × 38 columns</p>\n",
       "</div>"
      ],
      "text/plain": [
       "  continent       country  gdpPercap_1952  gdpPercap_1957  gdpPercap_1962  \\\n",
       "0    Africa       Algeria     2449.008185     3013.976023     2550.816880   \n",
       "1    Africa        Angola     3520.610273     3827.940465     4269.276742   \n",
       "2    Africa         Benin     1062.752200      959.601080      949.499064   \n",
       "3    Africa      Botswana      851.241141      918.232535      983.653976   \n",
       "4    Africa  Burkina Faso      543.255241      617.183465      722.512021   \n",
       "\n",
       "   gdpPercap_1967  gdpPercap_1972  gdpPercap_1977  gdpPercap_1982  \\\n",
       "0     3246.991771     4182.663766     4910.416756     5745.160213   \n",
       "1     5522.776375     5473.288005     3008.647355     2756.953672   \n",
       "2     1035.831411     1085.796879     1029.161251     1277.897616   \n",
       "3     1214.709294     2263.611114     3214.857818     4551.142150   \n",
       "4      794.826560      854.735976      743.387037      807.198586   \n",
       "\n",
       "   gdpPercap_1987    ...       pop_1962    pop_1967    pop_1972    pop_1977  \\\n",
       "0     5681.358539    ...     11000948.0  12760499.0  14760787.0  17152804.0   \n",
       "1     2430.208311    ...      4826015.0   5247469.0   5894858.0   6162675.0   \n",
       "2     1225.856010    ...      2151895.0   2427334.0   2761407.0   3168267.0   \n",
       "3     6205.883850    ...       512764.0    553541.0    619351.0    781472.0   \n",
       "4      912.063142    ...      4919632.0   5127935.0   5433886.0   5889574.0   \n",
       "\n",
       "     pop_1982    pop_1987    pop_1992    pop_1997  pop_2002  pop_2007  \n",
       "0  20033753.0  23254956.0  26298373.0  29072015.0  31287142  33333216  \n",
       "1   7016384.0   7874230.0   8735988.0   9875024.0  10866106  12420476  \n",
       "2   3641603.0   4243788.0   4981671.0   6066080.0   7026113   8078314  \n",
       "3    970347.0   1151184.0   1342614.0   1536536.0   1630347   1639131  \n",
       "4   6634596.0   7586551.0   8878303.0  10352843.0  12251209  14326203  \n",
       "\n",
       "[5 rows x 38 columns]"
      ]
     },
     "execution_count": 18,
     "metadata": {},
     "output_type": "execute_result"
    }
   ],
   "source": [
    "df.head()"
   ]
  },
  {
   "cell_type": "code",
   "execution_count": 19,
   "metadata": {},
   "outputs": [
    {
     "name": "stdout",
     "output_type": "stream",
     "text": [
      "<class 'pandas.core.frame.DataFrame'>\n",
      "RangeIndex: 142 entries, 0 to 141\n",
      "Data columns (total 38 columns):\n",
      "continent         142 non-null object\n",
      "country           142 non-null object\n",
      "gdpPercap_1952    142 non-null float64\n",
      "gdpPercap_1957    142 non-null float64\n",
      "gdpPercap_1962    142 non-null float64\n",
      "gdpPercap_1967    142 non-null float64\n",
      "gdpPercap_1972    142 non-null float64\n",
      "gdpPercap_1977    142 non-null float64\n",
      "gdpPercap_1982    142 non-null float64\n",
      "gdpPercap_1987    142 non-null float64\n",
      "gdpPercap_1992    142 non-null float64\n",
      "gdpPercap_1997    142 non-null float64\n",
      "gdpPercap_2002    142 non-null float64\n",
      "gdpPercap_2007    142 non-null float64\n",
      "lifeExp_1952      142 non-null float64\n",
      "lifeExp_1957      142 non-null float64\n",
      "lifeExp_1962      142 non-null float64\n",
      "lifeExp_1967      142 non-null float64\n",
      "lifeExp_1972      142 non-null float64\n",
      "lifeExp_1977      142 non-null float64\n",
      "lifeExp_1982      142 non-null float64\n",
      "lifeExp_1987      142 non-null float64\n",
      "lifeExp_1992      142 non-null float64\n",
      "lifeExp_1997      142 non-null float64\n",
      "lifeExp_2002      142 non-null float64\n",
      "lifeExp_2007      142 non-null float64\n",
      "pop_1952          142 non-null float64\n",
      "pop_1957          142 non-null float64\n",
      "pop_1962          142 non-null float64\n",
      "pop_1967          142 non-null float64\n",
      "pop_1972          142 non-null float64\n",
      "pop_1977          142 non-null float64\n",
      "pop_1982          142 non-null float64\n",
      "pop_1987          142 non-null float64\n",
      "pop_1992          142 non-null float64\n",
      "pop_1997          142 non-null float64\n",
      "pop_2002          142 non-null int64\n",
      "pop_2007          142 non-null int64\n",
      "dtypes: float64(34), int64(2), object(2)\n",
      "memory usage: 42.2+ KB\n"
     ]
    }
   ],
   "source": [
    "df.info()"
   ]
  },
  {
   "cell_type": "code",
   "execution_count": 20,
   "metadata": {},
   "outputs": [
    {
     "data": {
      "text/plain": [
       "Index(['continent', 'country', 'gdpPercap_1952', 'gdpPercap_1957',\n",
       "       'gdpPercap_1962', 'gdpPercap_1967', 'gdpPercap_1972', 'gdpPercap_1977',\n",
       "       'gdpPercap_1982', 'gdpPercap_1987', 'gdpPercap_1992', 'gdpPercap_1997',\n",
       "       'gdpPercap_2002', 'gdpPercap_2007', 'lifeExp_1952', 'lifeExp_1957',\n",
       "       'lifeExp_1962', 'lifeExp_1967', 'lifeExp_1972', 'lifeExp_1977',\n",
       "       'lifeExp_1982', 'lifeExp_1987', 'lifeExp_1992', 'lifeExp_1997',\n",
       "       'lifeExp_2002', 'lifeExp_2007', 'pop_1952', 'pop_1957', 'pop_1962',\n",
       "       'pop_1967', 'pop_1972', 'pop_1977', 'pop_1982', 'pop_1987', 'pop_1992',\n",
       "       'pop_1997', 'pop_2002', 'pop_2007'],\n",
       "      dtype='object')"
      ]
     },
     "execution_count": 20,
     "metadata": {},
     "output_type": "execute_result"
    }
   ],
   "source": [
    "df.columns"
   ]
  },
  {
   "cell_type": "code",
   "execution_count": 21,
   "metadata": {},
   "outputs": [
    {
     "data": {
      "text/html": [
       "<div>\n",
       "<style scoped>\n",
       "    .dataframe tbody tr th:only-of-type {\n",
       "        vertical-align: middle;\n",
       "    }\n",
       "\n",
       "    .dataframe tbody tr th {\n",
       "        vertical-align: top;\n",
       "    }\n",
       "\n",
       "    .dataframe thead th {\n",
       "        text-align: right;\n",
       "    }\n",
       "</style>\n",
       "<table border=\"1\" class=\"dataframe\">\n",
       "  <thead>\n",
       "    <tr style=\"text-align: right;\">\n",
       "      <th></th>\n",
       "      <th>gdpPercap_1952</th>\n",
       "      <th>gdpPercap_1957</th>\n",
       "      <th>gdpPercap_1962</th>\n",
       "      <th>gdpPercap_1967</th>\n",
       "      <th>gdpPercap_1972</th>\n",
       "      <th>gdpPercap_1977</th>\n",
       "      <th>gdpPercap_1982</th>\n",
       "      <th>gdpPercap_1987</th>\n",
       "      <th>gdpPercap_1992</th>\n",
       "      <th>gdpPercap_1997</th>\n",
       "      <th>...</th>\n",
       "      <th>pop_1962</th>\n",
       "      <th>pop_1967</th>\n",
       "      <th>pop_1972</th>\n",
       "      <th>pop_1977</th>\n",
       "      <th>pop_1982</th>\n",
       "      <th>pop_1987</th>\n",
       "      <th>pop_1992</th>\n",
       "      <th>pop_1997</th>\n",
       "      <th>pop_2002</th>\n",
       "      <th>pop_2007</th>\n",
       "    </tr>\n",
       "  </thead>\n",
       "  <tbody>\n",
       "    <tr>\n",
       "      <th>count</th>\n",
       "      <td>142.000000</td>\n",
       "      <td>142.000000</td>\n",
       "      <td>142.000000</td>\n",
       "      <td>142.000000</td>\n",
       "      <td>142.000000</td>\n",
       "      <td>142.000000</td>\n",
       "      <td>142.000000</td>\n",
       "      <td>142.000000</td>\n",
       "      <td>142.000000</td>\n",
       "      <td>142.000000</td>\n",
       "      <td>...</td>\n",
       "      <td>1.420000e+02</td>\n",
       "      <td>1.420000e+02</td>\n",
       "      <td>1.420000e+02</td>\n",
       "      <td>1.420000e+02</td>\n",
       "      <td>1.420000e+02</td>\n",
       "      <td>1.420000e+02</td>\n",
       "      <td>1.420000e+02</td>\n",
       "      <td>1.420000e+02</td>\n",
       "      <td>1.420000e+02</td>\n",
       "      <td>1.420000e+02</td>\n",
       "    </tr>\n",
       "    <tr>\n",
       "      <th>mean</th>\n",
       "      <td>3725.276046</td>\n",
       "      <td>4299.408345</td>\n",
       "      <td>4725.812342</td>\n",
       "      <td>5483.653047</td>\n",
       "      <td>6770.082815</td>\n",
       "      <td>7313.166421</td>\n",
       "      <td>7518.901673</td>\n",
       "      <td>7900.920218</td>\n",
       "      <td>8158.608521</td>\n",
       "      <td>9090.175363</td>\n",
       "      <td>...</td>\n",
       "      <td>2.042101e+07</td>\n",
       "      <td>2.265830e+07</td>\n",
       "      <td>2.518998e+07</td>\n",
       "      <td>2.767638e+07</td>\n",
       "      <td>3.020730e+07</td>\n",
       "      <td>3.303857e+07</td>\n",
       "      <td>3.599092e+07</td>\n",
       "      <td>3.883947e+07</td>\n",
       "      <td>4.145759e+07</td>\n",
       "      <td>4.402122e+07</td>\n",
       "    </tr>\n",
       "    <tr>\n",
       "      <th>std</th>\n",
       "      <td>9321.064786</td>\n",
       "      <td>9869.662202</td>\n",
       "      <td>8667.362525</td>\n",
       "      <td>8095.315431</td>\n",
       "      <td>10614.383403</td>\n",
       "      <td>8362.489150</td>\n",
       "      <td>7733.845006</td>\n",
       "      <td>8288.281304</td>\n",
       "      <td>9031.846080</td>\n",
       "      <td>10171.493263</td>\n",
       "      <td>...</td>\n",
       "      <td>6.978865e+07</td>\n",
       "      <td>7.837548e+07</td>\n",
       "      <td>8.864682e+07</td>\n",
       "      <td>9.748109e+07</td>\n",
       "      <td>1.050986e+08</td>\n",
       "      <td>1.147562e+08</td>\n",
       "      <td>1.245026e+08</td>\n",
       "      <td>1.334174e+08</td>\n",
       "      <td>1.408483e+08</td>\n",
       "      <td>1.476214e+08</td>\n",
       "    </tr>\n",
       "    <tr>\n",
       "      <th>min</th>\n",
       "      <td>298.846212</td>\n",
       "      <td>335.997115</td>\n",
       "      <td>355.203227</td>\n",
       "      <td>349.000000</td>\n",
       "      <td>357.000000</td>\n",
       "      <td>371.000000</td>\n",
       "      <td>424.000000</td>\n",
       "      <td>385.000000</td>\n",
       "      <td>347.000000</td>\n",
       "      <td>312.188423</td>\n",
       "      <td>...</td>\n",
       "      <td>6.534500e+04</td>\n",
       "      <td>7.078700e+04</td>\n",
       "      <td>7.659500e+04</td>\n",
       "      <td>8.679600e+04</td>\n",
       "      <td>9.859300e+04</td>\n",
       "      <td>1.108120e+05</td>\n",
       "      <td>1.259110e+05</td>\n",
       "      <td>1.456080e+05</td>\n",
       "      <td>1.703720e+05</td>\n",
       "      <td>1.995790e+05</td>\n",
       "    </tr>\n",
       "    <tr>\n",
       "      <th>25%</th>\n",
       "      <td>864.752389</td>\n",
       "      <td>930.540819</td>\n",
       "      <td>1059.149171</td>\n",
       "      <td>1151.245103</td>\n",
       "      <td>1257.193853</td>\n",
       "      <td>1357.257252</td>\n",
       "      <td>1363.338985</td>\n",
       "      <td>1327.469823</td>\n",
       "      <td>1270.660958</td>\n",
       "      <td>1366.837958</td>\n",
       "      <td>...</td>\n",
       "      <td>1.784362e+06</td>\n",
       "      <td>2.034768e+06</td>\n",
       "      <td>2.351192e+06</td>\n",
       "      <td>2.759717e+06</td>\n",
       "      <td>3.006286e+06</td>\n",
       "      <td>3.194990e+06</td>\n",
       "      <td>3.605992e+06</td>\n",
       "      <td>3.770150e+06</td>\n",
       "      <td>4.173506e+06</td>\n",
       "      <td>4.508034e+06</td>\n",
       "    </tr>\n",
       "    <tr>\n",
       "      <th>50%</th>\n",
       "      <td>1968.528344</td>\n",
       "      <td>2173.220291</td>\n",
       "      <td>2335.439533</td>\n",
       "      <td>2678.334741</td>\n",
       "      <td>3339.129407</td>\n",
       "      <td>3798.609244</td>\n",
       "      <td>4216.228428</td>\n",
       "      <td>4280.300366</td>\n",
       "      <td>4386.085502</td>\n",
       "      <td>4781.825478</td>\n",
       "      <td>...</td>\n",
       "      <td>4.686040e+06</td>\n",
       "      <td>5.170176e+06</td>\n",
       "      <td>5.877996e+06</td>\n",
       "      <td>6.404036e+06</td>\n",
       "      <td>7.007320e+06</td>\n",
       "      <td>7.774862e+06</td>\n",
       "      <td>8.688686e+06</td>\n",
       "      <td>9.735064e+06</td>\n",
       "      <td>1.037292e+07</td>\n",
       "      <td>1.051753e+07</td>\n",
       "    </tr>\n",
       "    <tr>\n",
       "      <th>75%</th>\n",
       "      <td>3913.492777</td>\n",
       "      <td>4876.356362</td>\n",
       "      <td>5709.381428</td>\n",
       "      <td>7075.932943</td>\n",
       "      <td>9508.839303</td>\n",
       "      <td>11204.102423</td>\n",
       "      <td>12347.953723</td>\n",
       "      <td>11994.052795</td>\n",
       "      <td>10684.351870</td>\n",
       "      <td>12022.867188</td>\n",
       "      <td>...</td>\n",
       "      <td>1.098008e+07</td>\n",
       "      <td>1.261458e+07</td>\n",
       "      <td>1.467920e+07</td>\n",
       "      <td>1.667023e+07</td>\n",
       "      <td>1.840732e+07</td>\n",
       "      <td>2.094754e+07</td>\n",
       "      <td>2.270538e+07</td>\n",
       "      <td>2.431137e+07</td>\n",
       "      <td>2.654556e+07</td>\n",
       "      <td>3.121004e+07</td>\n",
       "    </tr>\n",
       "    <tr>\n",
       "      <th>max</th>\n",
       "      <td>108382.352900</td>\n",
       "      <td>113523.132900</td>\n",
       "      <td>95458.111760</td>\n",
       "      <td>80894.883260</td>\n",
       "      <td>109347.867000</td>\n",
       "      <td>59265.477140</td>\n",
       "      <td>33693.175250</td>\n",
       "      <td>31540.974800</td>\n",
       "      <td>34932.919590</td>\n",
       "      <td>41283.164330</td>\n",
       "      <td>...</td>\n",
       "      <td>6.657700e+08</td>\n",
       "      <td>7.545500e+08</td>\n",
       "      <td>8.620300e+08</td>\n",
       "      <td>9.434550e+08</td>\n",
       "      <td>1.000281e+09</td>\n",
       "      <td>1.084035e+09</td>\n",
       "      <td>1.164970e+09</td>\n",
       "      <td>1.230075e+09</td>\n",
       "      <td>1.280400e+09</td>\n",
       "      <td>1.318683e+09</td>\n",
       "    </tr>\n",
       "  </tbody>\n",
       "</table>\n",
       "<p>8 rows × 36 columns</p>\n",
       "</div>"
      ],
      "text/plain": [
       "       gdpPercap_1952  gdpPercap_1957  gdpPercap_1962  gdpPercap_1967  \\\n",
       "count      142.000000      142.000000      142.000000      142.000000   \n",
       "mean      3725.276046     4299.408345     4725.812342     5483.653047   \n",
       "std       9321.064786     9869.662202     8667.362525     8095.315431   \n",
       "min        298.846212      335.997115      355.203227      349.000000   \n",
       "25%        864.752389      930.540819     1059.149171     1151.245103   \n",
       "50%       1968.528344     2173.220291     2335.439533     2678.334741   \n",
       "75%       3913.492777     4876.356362     5709.381428     7075.932943   \n",
       "max     108382.352900   113523.132900    95458.111760    80894.883260   \n",
       "\n",
       "       gdpPercap_1972  gdpPercap_1977  gdpPercap_1982  gdpPercap_1987  \\\n",
       "count      142.000000      142.000000      142.000000      142.000000   \n",
       "mean      6770.082815     7313.166421     7518.901673     7900.920218   \n",
       "std      10614.383403     8362.489150     7733.845006     8288.281304   \n",
       "min        357.000000      371.000000      424.000000      385.000000   \n",
       "25%       1257.193853     1357.257252     1363.338985     1327.469823   \n",
       "50%       3339.129407     3798.609244     4216.228428     4280.300366   \n",
       "75%       9508.839303    11204.102423    12347.953723    11994.052795   \n",
       "max     109347.867000    59265.477140    33693.175250    31540.974800   \n",
       "\n",
       "       gdpPercap_1992  gdpPercap_1997      ...           pop_1962  \\\n",
       "count      142.000000      142.000000      ...       1.420000e+02   \n",
       "mean      8158.608521     9090.175363      ...       2.042101e+07   \n",
       "std       9031.846080    10171.493263      ...       6.978865e+07   \n",
       "min        347.000000      312.188423      ...       6.534500e+04   \n",
       "25%       1270.660958     1366.837958      ...       1.784362e+06   \n",
       "50%       4386.085502     4781.825478      ...       4.686040e+06   \n",
       "75%      10684.351870    12022.867188      ...       1.098008e+07   \n",
       "max      34932.919590    41283.164330      ...       6.657700e+08   \n",
       "\n",
       "           pop_1967      pop_1972      pop_1977      pop_1982      pop_1987  \\\n",
       "count  1.420000e+02  1.420000e+02  1.420000e+02  1.420000e+02  1.420000e+02   \n",
       "mean   2.265830e+07  2.518998e+07  2.767638e+07  3.020730e+07  3.303857e+07   \n",
       "std    7.837548e+07  8.864682e+07  9.748109e+07  1.050986e+08  1.147562e+08   \n",
       "min    7.078700e+04  7.659500e+04  8.679600e+04  9.859300e+04  1.108120e+05   \n",
       "25%    2.034768e+06  2.351192e+06  2.759717e+06  3.006286e+06  3.194990e+06   \n",
       "50%    5.170176e+06  5.877996e+06  6.404036e+06  7.007320e+06  7.774862e+06   \n",
       "75%    1.261458e+07  1.467920e+07  1.667023e+07  1.840732e+07  2.094754e+07   \n",
       "max    7.545500e+08  8.620300e+08  9.434550e+08  1.000281e+09  1.084035e+09   \n",
       "\n",
       "           pop_1992      pop_1997      pop_2002      pop_2007  \n",
       "count  1.420000e+02  1.420000e+02  1.420000e+02  1.420000e+02  \n",
       "mean   3.599092e+07  3.883947e+07  4.145759e+07  4.402122e+07  \n",
       "std    1.245026e+08  1.334174e+08  1.408483e+08  1.476214e+08  \n",
       "min    1.259110e+05  1.456080e+05  1.703720e+05  1.995790e+05  \n",
       "25%    3.605992e+06  3.770150e+06  4.173506e+06  4.508034e+06  \n",
       "50%    8.688686e+06  9.735064e+06  1.037292e+07  1.051753e+07  \n",
       "75%    2.270538e+07  2.431137e+07  2.654556e+07  3.121004e+07  \n",
       "max    1.164970e+09  1.230075e+09  1.280400e+09  1.318683e+09  \n",
       "\n",
       "[8 rows x 36 columns]"
      ]
     },
     "execution_count": 21,
     "metadata": {},
     "output_type": "execute_result"
    }
   ],
   "source": [
    "df.describe()"
   ]
  },
  {
   "cell_type": "code",
   "execution_count": 23,
   "metadata": {},
   "outputs": [
    {
     "data": {
      "text/plain": [
       "<matplotlib.collections.PathCollection at 0x112d0b710>"
      ]
     },
     "execution_count": 23,
     "metadata": {},
     "output_type": "execute_result"
    },
    {
     "data": {
      "image/png": "[encoded data removed]",
      "text/plain": [
       "<matplotlib.figure.Figure at 0x112a81f60>"
      ]
     },
     "metadata": {},
     "output_type": "display_data"
    }
   ],
   "source": [
    "plt.scatter(df['gdpPercap_1952'], df['lifeExp_1952'])"
   ]
  },
  {
   "cell_type": "code",
   "execution_count": 25,
   "metadata": {},
   "outputs": [
    {
     "data": {
      "text/plain": [
       "<matplotlib.collections.PathCollection at 0x1131c9470>"
      ]
     },
     "execution_count": 25,
     "metadata": {},
     "output_type": "execute_result"
    },
    {
     "data": {
      "image/png": "[encoded data removed]",
      "text/plain": [
       "<matplotlib.figure.Figure at 0x112b2f278>"
      ]
     },
     "metadata": {},
     "output_type": "display_data"
    }
   ],
   "source": [
    "plt.scatter(np.log(df['gdpPercap_1952']), df['lifeExp_1952'])"
   ]
  },
  {
   "cell_type": "code",
   "execution_count": null,
   "metadata": {},
   "outputs": [],
   "source": []
  }
 ],
 "metadata": {
  "kernelspec": {
   "display_name": "Python 3",
   "language": "python",
   "name": "python3"
  },
  "language_info": {
   "codemirror_mode": {
    "name": "ipython",
    "version": 3
   },
   "file_extension": ".py",
   "mimetype": "text/x-python",
   "name": "python",
   "nbconvert_exporter": "python",
   "pygments_lexer": "ipython3",
   "version": "3.6.4"
  }
 },
 "nbformat": 4,
 "nbformat_minor": 2
}
