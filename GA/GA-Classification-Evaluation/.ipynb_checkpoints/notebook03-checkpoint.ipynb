{
 "cells": [
  {
   "cell_type": "markdown",
   "metadata": {},
   "source": [
    "### Classification Tasks\n",
    "\n",
    "Below are three example data sets for use in classification tasks.  Your goal is as follows:\n",
    "\n",
    "1. State a clear question that could be answered using classification with the specific data set.\n",
    "2. Determine whether you care more about precision or recall in this task, and why.\n",
    "3. Investigate the performance of `LogisticRegression`, `KNearestNeighbors`, `SGDClassifier`, and a `DummyClassifier` based on the majority class.\n",
    "\n",
    "---\n",
    "\n",
    "- https://archive.ics.uci.edu/ml/datasets/bank+marketing\n",
    "- https://www.kaggle.com/c/dato-native\n",
    "- https://data.cityofnewyork.us/Health/restaurants/ukrt-mvy9/data\n",
    "\n",
    "---"
   ]
  },
  {
   "cell_type": "code",
   "execution_count": 7,
   "metadata": {},
   "outputs": [],
   "source": [
    "%matplotlib inline\n",
    "import matplotlib.pyplot as plt\n",
    "import numpy as np\n",
    "import pandas as pd\n",
    "import seaborn as sns"
   ]
  }
 ],
 "metadata": {
  "kernelspec": {
   "display_name": "Python 3",
   "language": "python",
   "name": "python3"
  },
  "language_info": {
   "codemirror_mode": {
    "name": "ipython",
    "version": 3
   },
   "file_extension": ".py",
   "mimetype": "text/x-python",
   "name": "python",
   "nbconvert_exporter": "python",
   "pygments_lexer": "ipython3",
   "version": "3.6.4"
  }
 },
 "nbformat": 4,
 "nbformat_minor": 2
}
