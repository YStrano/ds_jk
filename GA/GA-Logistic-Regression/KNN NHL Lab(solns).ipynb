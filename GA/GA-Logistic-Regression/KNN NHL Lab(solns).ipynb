{
 "cells": [
  {
   "cell_type": "markdown",
   "metadata": {},
   "source": [
    "# NHL Rankings and KNN"
   ]
  },
  {
   "cell_type": "code",
   "execution_count": 47,
   "metadata": {},
   "outputs": [],
   "source": [
    "%matplotlib inline\n",
    "import matplotlib.pyplot as plt\n",
    "import numpy as np\n",
    "import pandas as pd\n",
    "import seaborn as sns"
   ]
  },
  {
   "cell_type": "markdown",
   "metadata": {},
   "source": [
    "**Load the Data**\n",
    "\n",
    "\n",
    "Located in data folder, named as follows:\n",
    "```\n",
    "data/NHL_Data_GA.csv\n",
    "```"
   ]
  },
  {
   "cell_type": "code",
   "execution_count": 48,
   "metadata": {},
   "outputs": [],
   "source": [
    "nhl = pd.read_csv('data/NHL_Data_GA.csv')"
   ]
  },
  {
   "cell_type": "markdown",
   "metadata": {},
   "source": [
    "**Missing Data and EDA**"
   ]
  },
  {
   "cell_type": "code",
   "execution_count": 49,
   "metadata": {},
   "outputs": [
    {
     "data": {
      "text/plain": [
       "Team    0\n",
       "PTS     0\n",
       "Rank    0\n",
       "TOI     0\n",
       "GF      0\n",
       "GA      0\n",
       "GF60    0\n",
       "GA60    0\n",
       "GF%     0\n",
       "SF      0\n",
       "SA      0\n",
       "SF60    0\n",
       "SA60    0\n",
       "SF%     0\n",
       "FF      0\n",
       "FA      0\n",
       "FF60    0\n",
       "FA60    0\n",
       "FF%     0\n",
       "CF      0\n",
       "CA      0\n",
       "CF60    0\n",
       "CA60    0\n",
       "CF%     0\n",
       "Sh%     0\n",
       "Sv%     0\n",
       "PDO     0\n",
       "PIM     0\n",
       "dtype: int64"
      ]
     },
     "execution_count": 49,
     "metadata": {},
     "output_type": "execute_result"
    }
   ],
   "source": [
    "nhl.isnull().sum()"
   ]
  },
  {
   "cell_type": "code",
   "execution_count": 50,
   "metadata": {},
   "outputs": [
    {
     "data": {
      "text/html": [
       "<div>\n",
       "<style scoped>\n",
       "    .dataframe tbody tr th:only-of-type {\n",
       "        vertical-align: middle;\n",
       "    }\n",
       "\n",
       "    .dataframe tbody tr th {\n",
       "        vertical-align: top;\n",
       "    }\n",
       "\n",
       "    .dataframe thead th {\n",
       "        text-align: right;\n",
       "    }\n",
       "</style>\n",
       "<table border=\"1\" class=\"dataframe\">\n",
       "  <thead>\n",
       "    <tr style=\"text-align: right;\">\n",
       "      <th></th>\n",
       "      <th>PTS</th>\n",
       "      <th>Rank</th>\n",
       "      <th>GF</th>\n",
       "      <th>GA</th>\n",
       "      <th>GF60</th>\n",
       "      <th>GA60</th>\n",
       "      <th>GF%</th>\n",
       "      <th>SF</th>\n",
       "      <th>SA</th>\n",
       "      <th>SF60</th>\n",
       "      <th>...</th>\n",
       "      <th>FF%</th>\n",
       "      <th>CF</th>\n",
       "      <th>CA</th>\n",
       "      <th>CF60</th>\n",
       "      <th>CA60</th>\n",
       "      <th>CF%</th>\n",
       "      <th>Sh%</th>\n",
       "      <th>Sv%</th>\n",
       "      <th>PDO</th>\n",
       "      <th>PIM</th>\n",
       "    </tr>\n",
       "  </thead>\n",
       "  <tbody>\n",
       "    <tr>\n",
       "      <th>count</th>\n",
       "      <td>90.000000</td>\n",
       "      <td>90.000000</td>\n",
       "      <td>90.000000</td>\n",
       "      <td>90.000000</td>\n",
       "      <td>90.000000</td>\n",
       "      <td>90.000000</td>\n",
       "      <td>90.000000</td>\n",
       "      <td>90.000000</td>\n",
       "      <td>90.000000</td>\n",
       "      <td>90.000000</td>\n",
       "      <td>...</td>\n",
       "      <td>90.000000</td>\n",
       "      <td>90.000000</td>\n",
       "      <td>90.000000</td>\n",
       "      <td>90.000000</td>\n",
       "      <td>90.000000</td>\n",
       "      <td>90.000000</td>\n",
       "      <td>90.000000</td>\n",
       "      <td>90.000000</td>\n",
       "      <td>90.000000</td>\n",
       "      <td>90.000000</td>\n",
       "    </tr>\n",
       "    <tr>\n",
       "      <th>mean</th>\n",
       "      <td>91.977778</td>\n",
       "      <td>2.022222</td>\n",
       "      <td>83.288889</td>\n",
       "      <td>83.288889</td>\n",
       "      <td>2.442222</td>\n",
       "      <td>2.444000</td>\n",
       "      <td>49.981111</td>\n",
       "      <td>1068.333333</td>\n",
       "      <td>1068.333333</td>\n",
       "      <td>31.252222</td>\n",
       "      <td>...</td>\n",
       "      <td>49.966667</td>\n",
       "      <td>1973.466667</td>\n",
       "      <td>1973.466667</td>\n",
       "      <td>57.735556</td>\n",
       "      <td>57.798889</td>\n",
       "      <td>49.972222</td>\n",
       "      <td>7.814556</td>\n",
       "      <td>92.182556</td>\n",
       "      <td>999.988889</td>\n",
       "      <td>990.966667</td>\n",
       "    </tr>\n",
       "    <tr>\n",
       "      <th>std</th>\n",
       "      <td>12.524114</td>\n",
       "      <td>0.820767</td>\n",
       "      <td>10.376339</td>\n",
       "      <td>9.694484</td>\n",
       "      <td>0.325331</td>\n",
       "      <td>0.313522</td>\n",
       "      <td>4.644554</td>\n",
       "      <td>95.929047</td>\n",
       "      <td>75.514118</td>\n",
       "      <td>2.237637</td>\n",
       "      <td>...</td>\n",
       "      <td>2.797913</td>\n",
       "      <td>176.468299</td>\n",
       "      <td>154.148928</td>\n",
       "      <td>4.124476</td>\n",
       "      <td>4.291106</td>\n",
       "      <td>2.844313</td>\n",
       "      <td>0.866942</td>\n",
       "      <td>0.928621</td>\n",
       "      <td>12.292772</td>\n",
       "      <td>178.049321</td>\n",
       "    </tr>\n",
       "    <tr>\n",
       "      <th>min</th>\n",
       "      <td>62.000000</td>\n",
       "      <td>1.000000</td>\n",
       "      <td>57.000000</td>\n",
       "      <td>64.000000</td>\n",
       "      <td>1.700000</td>\n",
       "      <td>1.730000</td>\n",
       "      <td>38.000000</td>\n",
       "      <td>815.000000</td>\n",
       "      <td>868.000000</td>\n",
       "      <td>25.800000</td>\n",
       "      <td>...</td>\n",
       "      <td>43.100000</td>\n",
       "      <td>1565.000000</td>\n",
       "      <td>1572.000000</td>\n",
       "      <td>49.500000</td>\n",
       "      <td>46.700000</td>\n",
       "      <td>43.700000</td>\n",
       "      <td>5.900000</td>\n",
       "      <td>89.830000</td>\n",
       "      <td>978.000000</td>\n",
       "      <td>689.000000</td>\n",
       "    </tr>\n",
       "    <tr>\n",
       "      <th>25%</th>\n",
       "      <td>82.250000</td>\n",
       "      <td>1.000000</td>\n",
       "      <td>76.000000</td>\n",
       "      <td>75.500000</td>\n",
       "      <td>2.232500</td>\n",
       "      <td>2.202500</td>\n",
       "      <td>46.825000</td>\n",
       "      <td>1011.500000</td>\n",
       "      <td>1022.250000</td>\n",
       "      <td>29.550000</td>\n",
       "      <td>...</td>\n",
       "      <td>47.775000</td>\n",
       "      <td>1855.250000</td>\n",
       "      <td>1877.000000</td>\n",
       "      <td>54.275000</td>\n",
       "      <td>54.600000</td>\n",
       "      <td>47.925000</td>\n",
       "      <td>7.235000</td>\n",
       "      <td>91.555000</td>\n",
       "      <td>992.000000</td>\n",
       "      <td>881.250000</td>\n",
       "    </tr>\n",
       "    <tr>\n",
       "      <th>50%</th>\n",
       "      <td>92.500000</td>\n",
       "      <td>2.000000</td>\n",
       "      <td>84.000000</td>\n",
       "      <td>84.000000</td>\n",
       "      <td>2.400000</td>\n",
       "      <td>2.495000</td>\n",
       "      <td>49.700000</td>\n",
       "      <td>1072.000000</td>\n",
       "      <td>1072.000000</td>\n",
       "      <td>31.400000</td>\n",
       "      <td>...</td>\n",
       "      <td>50.050000</td>\n",
       "      <td>1981.500000</td>\n",
       "      <td>1961.000000</td>\n",
       "      <td>58.050000</td>\n",
       "      <td>58.350000</td>\n",
       "      <td>50.400000</td>\n",
       "      <td>7.730000</td>\n",
       "      <td>92.250000</td>\n",
       "      <td>1000.500000</td>\n",
       "      <td>960.000000</td>\n",
       "    </tr>\n",
       "    <tr>\n",
       "      <th>75%</th>\n",
       "      <td>102.000000</td>\n",
       "      <td>3.000000</td>\n",
       "      <td>90.000000</td>\n",
       "      <td>89.000000</td>\n",
       "      <td>2.600000</td>\n",
       "      <td>2.670000</td>\n",
       "      <td>53.625000</td>\n",
       "      <td>1143.000000</td>\n",
       "      <td>1125.750000</td>\n",
       "      <td>32.775000</td>\n",
       "      <td>...</td>\n",
       "      <td>51.775000</td>\n",
       "      <td>2112.750000</td>\n",
       "      <td>2077.250000</td>\n",
       "      <td>60.850000</td>\n",
       "      <td>60.400000</td>\n",
       "      <td>52.000000</td>\n",
       "      <td>8.270000</td>\n",
       "      <td>92.870000</td>\n",
       "      <td>1007.750000</td>\n",
       "      <td>1101.500000</td>\n",
       "    </tr>\n",
       "    <tr>\n",
       "      <th>max</th>\n",
       "      <td>121.000000</td>\n",
       "      <td>3.000000</td>\n",
       "      <td>115.000000</td>\n",
       "      <td>107.000000</td>\n",
       "      <td>3.450000</td>\n",
       "      <td>3.240000</td>\n",
       "      <td>61.200000</td>\n",
       "      <td>1311.000000</td>\n",
       "      <td>1245.000000</td>\n",
       "      <td>35.600000</td>\n",
       "      <td>...</td>\n",
       "      <td>58.100000</td>\n",
       "      <td>2341.000000</td>\n",
       "      <td>2332.000000</td>\n",
       "      <td>64.900000</td>\n",
       "      <td>67.500000</td>\n",
       "      <td>57.100000</td>\n",
       "      <td>10.340000</td>\n",
       "      <td>93.940000</td>\n",
       "      <td>1034.000000</td>\n",
       "      <td>1515.000000</td>\n",
       "    </tr>\n",
       "  </tbody>\n",
       "</table>\n",
       "<p>8 rows × 26 columns</p>\n",
       "</div>"
      ],
      "text/plain": [
       "              PTS       Rank          GF          GA       GF60       GA60  \\\n",
       "count   90.000000  90.000000   90.000000   90.000000  90.000000  90.000000   \n",
       "mean    91.977778   2.022222   83.288889   83.288889   2.442222   2.444000   \n",
       "std     12.524114   0.820767   10.376339    9.694484   0.325331   0.313522   \n",
       "min     62.000000   1.000000   57.000000   64.000000   1.700000   1.730000   \n",
       "25%     82.250000   1.000000   76.000000   75.500000   2.232500   2.202500   \n",
       "50%     92.500000   2.000000   84.000000   84.000000   2.400000   2.495000   \n",
       "75%    102.000000   3.000000   90.000000   89.000000   2.600000   2.670000   \n",
       "max    121.000000   3.000000  115.000000  107.000000   3.450000   3.240000   \n",
       "\n",
       "             GF%           SF           SA       SF60     ...             FF%  \\\n",
       "count  90.000000    90.000000    90.000000  90.000000     ...       90.000000   \n",
       "mean   49.981111  1068.333333  1068.333333  31.252222     ...       49.966667   \n",
       "std     4.644554    95.929047    75.514118   2.237637     ...        2.797913   \n",
       "min    38.000000   815.000000   868.000000  25.800000     ...       43.100000   \n",
       "25%    46.825000  1011.500000  1022.250000  29.550000     ...       47.775000   \n",
       "50%    49.700000  1072.000000  1072.000000  31.400000     ...       50.050000   \n",
       "75%    53.625000  1143.000000  1125.750000  32.775000     ...       51.775000   \n",
       "max    61.200000  1311.000000  1245.000000  35.600000     ...       58.100000   \n",
       "\n",
       "                CF           CA       CF60       CA60        CF%        Sh%  \\\n",
       "count    90.000000    90.000000  90.000000  90.000000  90.000000  90.000000   \n",
       "mean   1973.466667  1973.466667  57.735556  57.798889  49.972222   7.814556   \n",
       "std     176.468299   154.148928   4.124476   4.291106   2.844313   0.866942   \n",
       "min    1565.000000  1572.000000  49.500000  46.700000  43.700000   5.900000   \n",
       "25%    1855.250000  1877.000000  54.275000  54.600000  47.925000   7.235000   \n",
       "50%    1981.500000  1961.000000  58.050000  58.350000  50.400000   7.730000   \n",
       "75%    2112.750000  2077.250000  60.850000  60.400000  52.000000   8.270000   \n",
       "max    2341.000000  2332.000000  64.900000  67.500000  57.100000  10.340000   \n",
       "\n",
       "             Sv%          PDO          PIM  \n",
       "count  90.000000    90.000000    90.000000  \n",
       "mean   92.182556   999.988889   990.966667  \n",
       "std     0.928621    12.292772   178.049321  \n",
       "min    89.830000   978.000000   689.000000  \n",
       "25%    91.555000   992.000000   881.250000  \n",
       "50%    92.250000  1000.500000   960.000000  \n",
       "75%    92.870000  1007.750000  1101.500000  \n",
       "max    93.940000  1034.000000  1515.000000  \n",
       "\n",
       "[8 rows x 26 columns]"
      ]
     },
     "execution_count": 50,
     "metadata": {},
     "output_type": "execute_result"
    }
   ],
   "source": [
    "nhl.describe()"
   ]
  },
  {
   "cell_type": "code",
   "execution_count": 51,
   "metadata": {},
   "outputs": [
    {
     "data": {
      "text/plain": [
       "<matplotlib.axes._subplots.AxesSubplot at 0x1114f2128>"
      ]
     },
     "execution_count": 51,
     "metadata": {},
     "output_type": "execute_result"
    },
    {
     "data": {
      "image/png": "[encoded data removed]",
      "text/plain": [
       "<matplotlib.figure.Figure at 0x11110b668>"
      ]
     },
     "metadata": {},
     "output_type": "display_data"
    }
   ],
   "source": [
    "corr_matrix = nhl.corr()\n",
    "sns.heatmap(corr_matrix)"
   ]
  },
  {
   "cell_type": "code",
   "execution_count": 52,
   "metadata": {},
   "outputs": [
    {
     "data": {
      "text/plain": [
       "Rank    1.000000\n",
       "CA60    0.537879\n",
       "GA60    0.536279\n",
       "GA      0.535782\n",
       "FA60    0.477409\n",
       "SA60    0.443970\n",
       "CA      0.423351\n",
       "FA      0.364666\n",
       "SA      0.324561\n",
       "PIM    -0.166454\n",
       "Sh%    -0.168314\n",
       "Sv%    -0.324691\n",
       "PDO    -0.365246\n",
       "CF     -0.383993\n",
       "CF60   -0.403508\n",
       "GF60   -0.409616\n",
       "FF     -0.425059\n",
       "SF     -0.446335\n",
       "FF60   -0.466239\n",
       "GF     -0.475713\n",
       "SF60   -0.484563\n",
       "SF%    -0.577347\n",
       "FF%    -0.585340\n",
       "CF%    -0.598466\n",
       "GF%    -0.653633\n",
       "PTS    -0.905004\n",
       "Name: Rank, dtype: float64"
      ]
     },
     "execution_count": 52,
     "metadata": {},
     "output_type": "execute_result"
    }
   ],
   "source": [
    "corr_matrix.Rank.sort_values(ascending = False)"
   ]
  },
  {
   "cell_type": "markdown",
   "metadata": {},
   "source": [
    "**Rank**\n",
    "\n",
    "Our goal is to use the data given to predict the `Rank` variable.  If we determine the baseline accuracy as the actual proportion in each class, determine these values for each unique Rank in the column."
   ]
  },
  {
   "cell_type": "code",
   "execution_count": 53,
   "metadata": {},
   "outputs": [
    {
     "data": {
      "text/plain": [
       "3    0.344444\n",
       "2    0.333333\n",
       "1    0.322222\n",
       "Name: Rank, dtype: float64"
      ]
     },
     "execution_count": 53,
     "metadata": {},
     "output_type": "execute_result"
    }
   ],
   "source": [
    "nhl.Rank.value_counts(normalize = True)"
   ]
  },
  {
   "cell_type": "markdown",
   "metadata": {},
   "source": [
    "**Predictor Variables**\n",
    "\n",
    "Choose four features to use as predictors, identify this set as your `X` matrix, and the `Rank` column as your `y` variable."
   ]
  },
  {
   "cell_type": "code",
   "execution_count": 54,
   "metadata": {},
   "outputs": [],
   "source": [
    "X = nhl[['GA60', 'GF60', 'CF60', 'CA60']]\n",
    "y = nhl.Rank"
   ]
  },
  {
   "cell_type": "markdown",
   "metadata": {},
   "source": [
    "**Fit**\n",
    "\n",
    "Fit a `KNeighborsClassifier` with 1 neighbor."
   ]
  },
  {
   "cell_type": "code",
   "execution_count": 55,
   "metadata": {},
   "outputs": [],
   "source": [
    "from sklearn.neighbors import KNeighborsClassifier"
   ]
  },
  {
   "cell_type": "code",
   "execution_count": 56,
   "metadata": {},
   "outputs": [],
   "source": [
    "knn = KNeighborsClassifier(n_neighbors=1)"
   ]
  },
  {
   "cell_type": "code",
   "execution_count": 57,
   "metadata": {},
   "outputs": [
    {
     "data": {
      "text/plain": [
       "KNeighborsClassifier(algorithm='auto', leaf_size=30, metric='minkowski',\n",
       "           metric_params=None, n_jobs=1, n_neighbors=1, p=2,\n",
       "           weights='uniform')"
      ]
     },
     "execution_count": 57,
     "metadata": {},
     "output_type": "execute_result"
    }
   ],
   "source": [
    "knn.fit(X, y)"
   ]
  },
  {
   "cell_type": "code",
   "execution_count": 58,
   "metadata": {},
   "outputs": [],
   "source": [
    "predictions = knn.predict(X)"
   ]
  },
  {
   "cell_type": "code",
   "execution_count": 59,
   "metadata": {},
   "outputs": [
    {
     "data": {
      "text/plain": [
       "array([1, 1, 1, 1, 1, 1, 1, 1, 1, 1, 1, 1, 1, 1, 1, 1, 1, 1, 1, 1, 1, 1,\n",
       "       1, 1, 1, 1, 1, 1, 1, 2, 2, 2, 2, 2, 2, 2, 2, 2, 2, 2, 2, 2, 2, 2,\n",
       "       2, 2, 2, 2, 2, 2, 2, 2, 2, 2, 2, 2, 2, 2, 2, 3, 3, 3, 3, 3, 3, 3,\n",
       "       3, 3, 3, 3, 3, 3, 3, 3, 3, 3, 3, 3, 3, 3, 3, 3, 3, 3, 3, 3, 3, 3,\n",
       "       3, 3])"
      ]
     },
     "execution_count": 59,
     "metadata": {},
     "output_type": "execute_result"
    }
   ],
   "source": [
    "predictions"
   ]
  },
  {
   "cell_type": "code",
   "execution_count": 60,
   "metadata": {},
   "outputs": [],
   "source": [
    "predicprob = knn.predict_proba(X)"
   ]
  },
  {
   "cell_type": "code",
   "execution_count": 63,
   "metadata": {},
   "outputs": [
    {
     "data": {
      "text/plain": [
       "array([[1., 0., 0.],\n",
       "       [1., 0., 0.],\n",
       "       [1., 0., 0.],\n",
       "       [1., 0., 0.],\n",
       "       [1., 0., 0.],\n",
       "       [1., 0., 0.],\n",
       "       [0., 1., 0.],\n",
       "       [0., 1., 0.],\n",
       "       [0., 1., 0.],\n",
       "       [0., 1., 0.],\n",
       "       [0., 1., 0.],\n",
       "       [0., 1., 0.],\n",
       "       [0., 0., 1.],\n",
       "       [0., 0., 1.],\n",
       "       [0., 0., 1.],\n",
       "       [0., 0., 1.],\n",
       "       [0., 0., 1.],\n",
       "       [0., 0., 1.]])"
      ]
     },
     "execution_count": 63,
     "metadata": {},
     "output_type": "execute_result"
    }
   ],
   "source": [
    "predicprob[::5]"
   ]
  },
  {
   "cell_type": "markdown",
   "metadata": {},
   "source": [
    "**Accuracy**\n",
    "\n",
    "  |  | $C_0$ | $C_1$ |\n",
    "  | ----- | ----- | ----- |\n",
    "  | $C_0$|  | |\n",
    "  | $C_1$|  |  |\n",
    "  \n",
    "  **Precision**: Proportion of values from thos predicted to be in $C_1$ correctly.\n",
    "  \n",
    "  $$\\frac{TP}{TP + FP}$$\n",
    "  \n",
    "  **Recall**: Proportion of values that are actually in $C_1$ predicted correctly.\n",
    "  \n",
    "  $$\\frac{TP}{TP + FN}$$\n",
    "  \n",
    "  Ideally, we'd like this to be as high as possible in each regard.  We can understand the relationship between Precision and Recall through their harmonic mean -- the F1 score.\n",
    "  \n",
    "  **F1**: Harmonic mean of Precision and Recall\n",
    "  \n",
    "  $$\\frac{2PR}{P + R}$$\n",
    "\n",
    "Use the `predict` and `accuracy_score()` methods to determine the accuracy of your model."
   ]
  },
  {
   "cell_type": "code",
   "execution_count": 64,
   "metadata": {},
   "outputs": [],
   "source": [
    "from sklearn.metrics import accuracy_score"
   ]
  },
  {
   "cell_type": "code",
   "execution_count": 65,
   "metadata": {},
   "outputs": [
    {
     "data": {
      "text/plain": [
       "1.0"
      ]
     },
     "execution_count": 65,
     "metadata": {},
     "output_type": "execute_result"
    }
   ],
   "source": [
    "accuracy_score(y, predictions)"
   ]
  },
  {
   "cell_type": "markdown",
   "metadata": {},
   "source": [
    "**Train Test Split**\n",
    "\n",
    "Now split the data into two equal sized groups. Fit the model on your training set and determine its accuracy (again using $k = 1$).  Repeat with $k = \\#$ rows in training set."
   ]
  },
  {
   "cell_type": "code",
   "execution_count": 66,
   "metadata": {},
   "outputs": [],
   "source": [
    "from sklearn.model_selection import train_test_split"
   ]
  },
  {
   "cell_type": "code",
   "execution_count": 67,
   "metadata": {},
   "outputs": [],
   "source": [
    "X_train, X_test, y_train, y_test= train_test_split(X, y)"
   ]
  },
  {
   "cell_type": "code",
   "execution_count": 71,
   "metadata": {},
   "outputs": [
    {
     "data": {
      "text/plain": [
       "0.5217391304347826"
      ]
     },
     "execution_count": 71,
     "metadata": {},
     "output_type": "execute_result"
    }
   ],
   "source": [
    "knn = KNeighborsClassifier(n_neighbors = 1)\n",
    "knn.fit(X_train, y_train)\n",
    "pred = knn.predict(X_test)\n",
    "accuracy_score(pred, y_test)"
   ]
  },
  {
   "cell_type": "code",
   "execution_count": 72,
   "metadata": {},
   "outputs": [
    {
     "data": {
      "text/plain": [
       "0.2608695652173913"
      ]
     },
     "execution_count": 72,
     "metadata": {},
     "output_type": "execute_result"
    }
   ],
   "source": [
    "X_train, X_test, y_train, y_test= train_test_split(X, y)\n",
    "knn = KNeighborsClassifier(n_neighbors = len(X_train))\n",
    "knn.fit(X_train, y_train)\n",
    "pred = knn.predict(X_test)\n",
    "accuracy_score(pred, y_test)"
   ]
  },
  {
   "cell_type": "markdown",
   "metadata": {},
   "source": [
    "### Cross Validation"
   ]
  },
  {
   "cell_type": "code",
   "execution_count": 73,
   "metadata": {},
   "outputs": [],
   "source": [
    "from sklearn.model_selection import cross_val_score"
   ]
  },
  {
   "cell_type": "code",
   "execution_count": 75,
   "metadata": {},
   "outputs": [
    {
     "data": {
      "text/plain": [
       "array([0.5       , 0.5       , 0.28571429, 0.42857143, 0.57142857,\n",
       "       0.28571429, 0.66666667, 0.5       , 0.66666667, 0.        ])"
      ]
     },
     "execution_count": 75,
     "metadata": {},
     "output_type": "execute_result"
    }
   ],
   "source": [
    "X_train, X_test, y_train, y_test= train_test_split(X, y)\n",
    "knn = KNeighborsClassifier(n_neighbors = int(len(X_train)/10))\n",
    "knn.fit(X_train, y_train)\n",
    "cross_val_score(knn, X_train, y_train, cv = 10)"
   ]
  },
  {
   "cell_type": "markdown",
   "metadata": {},
   "source": [
    "**Grid Search**\n",
    "\n",
    "Use a grid search to investigate the use of $k$ from 2 through the number of rows in the training data.  Plot your results with your $x$ variables as $k$, and $y$ as the accuracy for $k$."
   ]
  },
  {
   "cell_type": "code",
   "execution_count": 108,
   "metadata": {},
   "outputs": [],
   "source": [
    "from sklearn.model_selection import GridSearchCV"
   ]
  },
  {
   "cell_type": "code",
   "execution_count": 109,
   "metadata": {},
   "outputs": [],
   "source": [
    "params = [{'n_neighbors': \n",
    "           [i for i in np.arange(2, int(0.8*len(X_train)))]\n",
    "}\n",
    "         ]\n",
    "          \n",
    "grid = GridSearchCV(knn, param_grid= params, cv = 5)"
   ]
  },
  {
   "cell_type": "code",
   "execution_count": 110,
   "metadata": {},
   "outputs": [
    {
     "data": {
      "text/plain": [
       "GridSearchCV(cv=5, error_score='raise',\n",
       "       estimator=KNeighborsClassifier(algorithm='auto', leaf_size=30, metric='minkowski',\n",
       "           metric_params=None, n_jobs=1, n_neighbors=6, p=2,\n",
       "           weights='uniform'),\n",
       "       fit_params=None, iid=True, n_jobs=1,\n",
       "       param_grid=[{'n_neighbors': [2, 3, 4, 5, 6, 7, 8, 9, 10, 11, 12, 13, 14, 15, 16, 17, 18, 19, 20, 21, 22, 23, 24, 25, 26, 27, 28, 29, 30, 31, 32, 33, 34, 35, 36, 37, 38, 39, 40, 41, 42, 43, 44, 45, 46, 47, 48, 49, 50, 51, 52]}],\n",
       "       pre_dispatch='2*n_jobs', refit=True, return_train_score='warn',\n",
       "       scoring=None, verbose=0)"
      ]
     },
     "execution_count": 110,
     "metadata": {},
     "output_type": "execute_result"
    }
   ],
   "source": [
    "grid.fit(X_train,y_train)"
   ]
  },
  {
   "cell_type": "code",
   "execution_count": 111,
   "metadata": {},
   "outputs": [
    {
     "data": {
      "text/plain": [
       "KNeighborsClassifier(algorithm='auto', leaf_size=30, metric='minkowski',\n",
       "           metric_params=None, n_jobs=1, n_neighbors=30, p=2,\n",
       "           weights='uniform')"
      ]
     },
     "execution_count": 111,
     "metadata": {},
     "output_type": "execute_result"
    }
   ],
   "source": [
    "grid.best_estimator_"
   ]
  },
  {
   "cell_type": "code",
   "execution_count": 112,
   "metadata": {
    "scrolled": false
   },
   "outputs": [
    {
     "name": "stderr",
     "output_type": "stream",
     "text": [
      "/anaconda3/lib/python3.6/site-packages/sklearn/utils/deprecation.py:122: FutureWarning: You are accessing a training score ('mean_train_score'), which will not be available by default any more in 0.21. If you need training scores, please set return_train_score=True\n",
      "  warnings.warn(*warn_args, **warn_kwargs)\n",
      "/anaconda3/lib/python3.6/site-packages/sklearn/utils/deprecation.py:122: FutureWarning: You are accessing a training score ('split0_train_score'), which will not be available by default any more in 0.21. If you need training scores, please set return_train_score=True\n",
      "  warnings.warn(*warn_args, **warn_kwargs)\n",
      "/anaconda3/lib/python3.6/site-packages/sklearn/utils/deprecation.py:122: FutureWarning: You are accessing a training score ('split1_train_score'), which will not be available by default any more in 0.21. If you need training scores, please set return_train_score=True\n",
      "  warnings.warn(*warn_args, **warn_kwargs)\n",
      "/anaconda3/lib/python3.6/site-packages/sklearn/utils/deprecation.py:122: FutureWarning: You are accessing a training score ('split2_train_score'), which will not be available by default any more in 0.21. If you need training scores, please set return_train_score=True\n",
      "  warnings.warn(*warn_args, **warn_kwargs)\n",
      "/anaconda3/lib/python3.6/site-packages/sklearn/utils/deprecation.py:122: FutureWarning: You are accessing a training score ('split3_train_score'), which will not be available by default any more in 0.21. If you need training scores, please set return_train_score=True\n",
      "  warnings.warn(*warn_args, **warn_kwargs)\n",
      "/anaconda3/lib/python3.6/site-packages/sklearn/utils/deprecation.py:122: FutureWarning: You are accessing a training score ('split4_train_score'), which will not be available by default any more in 0.21. If you need training scores, please set return_train_score=True\n",
      "  warnings.warn(*warn_args, **warn_kwargs)\n",
      "/anaconda3/lib/python3.6/site-packages/sklearn/utils/deprecation.py:122: FutureWarning: You are accessing a training score ('std_train_score'), which will not be available by default any more in 0.21. If you need training scores, please set return_train_score=True\n",
      "  warnings.warn(*warn_args, **warn_kwargs)\n"
     ]
    },
    {
     "data": {
      "text/plain": [
       "{'mean_fit_time': array([0.00090961, 0.00077691, 0.00077548, 0.00069304, 0.00071659,\n",
       "        0.0006772 , 0.00066915, 0.00067515, 0.0006834 , 0.0006784 ,\n",
       "        0.00067201, 0.00098519, 0.00074277, 0.00067286, 0.00068183,\n",
       "        0.00068879, 0.00069499, 0.00071788, 0.00067282, 0.00068049,\n",
       "        0.00066915, 0.00068026, 0.00096927, 0.00068717, 0.00065184,\n",
       "        0.0006309 , 0.0006587 , 0.00065727, 0.00063   , 0.00062509,\n",
       "        0.00061851, 0.00062661, 0.00062819, 0.0006197 , 0.00063543,\n",
       "        0.0006372 , 0.00062866, 0.00062528, 0.00061541, 0.00085659,\n",
       "        0.00065632, 0.00065722, 0.00064459, 0.0006259 , 0.00061197,\n",
       "        0.00061178, 0.00062017, 0.00061383, 0.0006196 , 0.00061398,\n",
       "        0.0006114 ]),\n",
       " 'mean_score_time': array([0.0007452 , 0.00058804, 0.00059032, 0.00056138, 0.00056248,\n",
       "        0.000562  , 0.00057144, 0.00059786, 0.00057192, 0.00057392,\n",
       "        0.00057421, 0.00080781, 0.00058661, 0.00058379, 0.00058217,\n",
       "        0.00061421, 0.00062509, 0.0005868 , 0.00058479, 0.00058579,\n",
       "        0.00061884, 0.00058661, 0.00075932, 0.00059657, 0.00059862,\n",
       "        0.00051661, 0.00051517, 0.00053468, 0.00052161, 0.00052061,\n",
       "        0.00052485, 0.00053039, 0.00059638, 0.00052686, 0.00053406,\n",
       "        0.00055475, 0.00053029, 0.00054374, 0.00053172, 0.00070858,\n",
       "        0.0005477 , 0.0005455 , 0.0005342 , 0.00054746, 0.00054049,\n",
       "        0.00053644, 0.00054131, 0.00057044, 0.00054064, 0.00053868,\n",
       "        0.00053763]),\n",
       " 'mean_test_score': array([0.43283582, 0.49253731, 0.52238806, 0.50746269, 0.53731343,\n",
       "        0.49253731, 0.46268657, 0.46268657, 0.50746269, 0.50746269,\n",
       "        0.50746269, 0.49253731, 0.52238806, 0.47761194, 0.47761194,\n",
       "        0.55223881, 0.55223881, 0.53731343, 0.53731343, 0.55223881,\n",
       "        0.56716418, 0.59701493, 0.58208955, 0.58208955, 0.56716418,\n",
       "        0.59701493, 0.6119403 , 0.6119403 , 0.62686567, 0.59701493,\n",
       "        0.59701493, 0.59701493, 0.58208955, 0.55223881, 0.52238806,\n",
       "        0.50746269, 0.50746269, 0.50746269, 0.44776119, 0.46268657,\n",
       "        0.43283582, 0.41791045, 0.40298507, 0.3880597 , 0.3880597 ,\n",
       "        0.37313433, 0.3880597 , 0.3880597 , 0.3880597 , 0.3880597 ,\n",
       "        0.3880597 ]),\n",
       " 'mean_train_score': array([0.7498944 , 0.74654547, 0.6533756 , 0.66825507, 0.63106781,\n",
       "        0.63828112, 0.60416057, 0.60779171, 0.57067179, 0.59681005,\n",
       "        0.56696031, 0.57815176, 0.59290701, 0.58234493, 0.55975761,\n",
       "        0.55935357, 0.55998026, 0.6004491 , 0.59310888, 0.58954255,\n",
       "        0.589685  , 0.59716229, 0.59673748, 0.60072608, 0.59282398,\n",
       "        0.58185278, 0.60379264, 0.59645512, 0.59310111, 0.6000864 ,\n",
       "        0.58554857, 0.57066133, 0.55948034, 0.54808956, 0.53320232,\n",
       "        0.54801967, 0.53704324, 0.49601252, 0.48125982, 0.47706411,\n",
       "        0.47343298, 0.47707203, 0.42122649, 0.42486031, 0.42500007,\n",
       "        0.3989293 , 0.40263301, 0.39179126, 0.38808755, 0.38808755,\n",
       "        0.38808755]),\n",
       " 'param_n_neighbors': masked_array(data=[2, 3, 4, 5, 6, 7, 8, 9, 10, 11, 12, 13, 14, 15, 16, 17,\n",
       "                    18, 19, 20, 21, 22, 23, 24, 25, 26, 27, 28, 29, 30, 31,\n",
       "                    32, 33, 34, 35, 36, 37, 38, 39, 40, 41, 42, 43, 44, 45,\n",
       "                    46, 47, 48, 49, 50, 51, 52],\n",
       "              mask=[False, False, False, False, False, False, False, False,\n",
       "                    False, False, False, False, False, False, False, False,\n",
       "                    False, False, False, False, False, False, False, False,\n",
       "                    False, False, False, False, False, False, False, False,\n",
       "                    False, False, False, False, False, False, False, False,\n",
       "                    False, False, False, False, False, False, False, False,\n",
       "                    False, False, False],\n",
       "        fill_value='?',\n",
       "             dtype=object),\n",
       " 'params': [{'n_neighbors': 2},\n",
       "  {'n_neighbors': 3},\n",
       "  {'n_neighbors': 4},\n",
       "  {'n_neighbors': 5},\n",
       "  {'n_neighbors': 6},\n",
       "  {'n_neighbors': 7},\n",
       "  {'n_neighbors': 8},\n",
       "  {'n_neighbors': 9},\n",
       "  {'n_neighbors': 10},\n",
       "  {'n_neighbors': 11},\n",
       "  {'n_neighbors': 12},\n",
       "  {'n_neighbors': 13},\n",
       "  {'n_neighbors': 14},\n",
       "  {'n_neighbors': 15},\n",
       "  {'n_neighbors': 16},\n",
       "  {'n_neighbors': 17},\n",
       "  {'n_neighbors': 18},\n",
       "  {'n_neighbors': 19},\n",
       "  {'n_neighbors': 20},\n",
       "  {'n_neighbors': 21},\n",
       "  {'n_neighbors': 22},\n",
       "  {'n_neighbors': 23},\n",
       "  {'n_neighbors': 24},\n",
       "  {'n_neighbors': 25},\n",
       "  {'n_neighbors': 26},\n",
       "  {'n_neighbors': 27},\n",
       "  {'n_neighbors': 28},\n",
       "  {'n_neighbors': 29},\n",
       "  {'n_neighbors': 30},\n",
       "  {'n_neighbors': 31},\n",
       "  {'n_neighbors': 32},\n",
       "  {'n_neighbors': 33},\n",
       "  {'n_neighbors': 34},\n",
       "  {'n_neighbors': 35},\n",
       "  {'n_neighbors': 36},\n",
       "  {'n_neighbors': 37},\n",
       "  {'n_neighbors': 38},\n",
       "  {'n_neighbors': 39},\n",
       "  {'n_neighbors': 40},\n",
       "  {'n_neighbors': 41},\n",
       "  {'n_neighbors': 42},\n",
       "  {'n_neighbors': 43},\n",
       "  {'n_neighbors': 44},\n",
       "  {'n_neighbors': 45},\n",
       "  {'n_neighbors': 46},\n",
       "  {'n_neighbors': 47},\n",
       "  {'n_neighbors': 48},\n",
       "  {'n_neighbors': 49},\n",
       "  {'n_neighbors': 50},\n",
       "  {'n_neighbors': 51},\n",
       "  {'n_neighbors': 52}],\n",
       " 'rank_test_score': array([40, 31, 21, 24, 18, 31, 36, 36, 24, 24, 24, 31, 21, 34, 34, 14, 14,\n",
       "        18, 18, 14, 12,  4,  9,  9, 12,  4,  2,  2,  1,  4,  4,  4,  9, 14,\n",
       "        21, 24, 24, 24, 39, 36, 40, 42, 43, 44, 44, 51, 44, 44, 44, 44, 44],\n",
       "       dtype=int32),\n",
       " 'split0_test_score': array([0.4       , 0.53333333, 0.6       , 0.53333333, 0.6       ,\n",
       "        0.46666667, 0.4       , 0.53333333, 0.53333333, 0.6       ,\n",
       "        0.53333333, 0.53333333, 0.6       , 0.46666667, 0.46666667,\n",
       "        0.66666667, 0.6       , 0.53333333, 0.6       , 0.73333333,\n",
       "        0.73333333, 0.86666667, 0.8       , 0.73333333, 0.66666667,\n",
       "        0.73333333, 0.8       , 0.8       , 0.8       , 0.8       ,\n",
       "        0.86666667, 0.8       , 0.8       , 0.73333333, 0.6       ,\n",
       "        0.66666667, 0.6       , 0.66666667, 0.6       , 0.53333333,\n",
       "        0.46666667, 0.46666667, 0.4       , 0.4       , 0.4       ,\n",
       "        0.4       , 0.4       , 0.4       , 0.4       , 0.4       ,\n",
       "        0.4       ]),\n",
       " 'split0_train_score': array([0.73076923, 0.76923077, 0.71153846, 0.69230769, 0.65384615,\n",
       "        0.69230769, 0.59615385, 0.57692308, 0.53846154, 0.55769231,\n",
       "        0.51923077, 0.55769231, 0.57692308, 0.59615385, 0.53846154,\n",
       "        0.53846154, 0.57692308, 0.57692308, 0.55769231, 0.57692308,\n",
       "        0.59615385, 0.59615385, 0.53846154, 0.57692308, 0.51923077,\n",
       "        0.53846154, 0.5       , 0.5       , 0.53846154, 0.5       ,\n",
       "        0.5       , 0.5       , 0.5       , 0.48076923, 0.48076923,\n",
       "        0.48076923, 0.48076923, 0.44230769, 0.42307692, 0.38461538,\n",
       "        0.40384615, 0.42307692, 0.38461538, 0.38461538, 0.38461538,\n",
       "        0.38461538, 0.38461538, 0.38461538, 0.38461538, 0.38461538,\n",
       "        0.38461538]),\n",
       " 'split1_test_score': array([0.35714286, 0.35714286, 0.35714286, 0.35714286, 0.35714286,\n",
       "        0.35714286, 0.35714286, 0.42857143, 0.5       , 0.42857143,\n",
       "        0.35714286, 0.35714286, 0.35714286, 0.35714286, 0.35714286,\n",
       "        0.35714286, 0.35714286, 0.35714286, 0.28571429, 0.28571429,\n",
       "        0.28571429, 0.28571429, 0.28571429, 0.35714286, 0.35714286,\n",
       "        0.35714286, 0.35714286, 0.35714286, 0.35714286, 0.28571429,\n",
       "        0.28571429, 0.28571429, 0.28571429, 0.28571429, 0.35714286,\n",
       "        0.35714286, 0.35714286, 0.35714286, 0.28571429, 0.35714286,\n",
       "        0.35714286, 0.35714286, 0.35714286, 0.35714286, 0.35714286,\n",
       "        0.35714286, 0.35714286, 0.35714286, 0.35714286, 0.35714286,\n",
       "        0.35714286]),\n",
       " 'split1_train_score': array([0.77358491, 0.79245283, 0.67924528, 0.71698113, 0.71698113,\n",
       "        0.66037736, 0.60377358, 0.62264151, 0.62264151, 0.64150943,\n",
       "        0.62264151, 0.60377358, 0.60377358, 0.62264151, 0.58490566,\n",
       "        0.58490566, 0.62264151, 0.60377358, 0.66037736, 0.62264151,\n",
       "        0.62264151, 0.64150943, 0.66037736, 0.66037736, 0.66037736,\n",
       "        0.64150943, 0.66037736, 0.67924528, 0.66037736, 0.64150943,\n",
       "        0.69811321, 0.66037736, 0.64150943, 0.62264151, 0.58490566,\n",
       "        0.60377358, 0.60377358, 0.56603774, 0.58490566, 0.54716981,\n",
       "        0.52830189, 0.49056604, 0.45283019, 0.43396226, 0.47169811,\n",
       "        0.39622642, 0.39622642, 0.39622642, 0.39622642, 0.39622642,\n",
       "        0.39622642]),\n",
       " 'split2_test_score': array([0.46153846, 0.53846154, 0.61538462, 0.53846154, 0.61538462,\n",
       "        0.53846154, 0.61538462, 0.61538462, 0.61538462, 0.61538462,\n",
       "        0.61538462, 0.61538462, 0.61538462, 0.61538462, 0.61538462,\n",
       "        0.61538462, 0.61538462, 0.61538462, 0.61538462, 0.61538462,\n",
       "        0.61538462, 0.61538462, 0.61538462, 0.61538462, 0.61538462,\n",
       "        0.69230769, 0.69230769, 0.69230769, 0.69230769, 0.69230769,\n",
       "        0.61538462, 0.61538462, 0.61538462, 0.61538462, 0.61538462,\n",
       "        0.46153846, 0.53846154, 0.46153846, 0.46153846, 0.46153846,\n",
       "        0.38461538, 0.46153846, 0.46153846, 0.46153846, 0.46153846,\n",
       "        0.38461538, 0.38461538, 0.38461538, 0.38461538, 0.38461538,\n",
       "        0.38461538]),\n",
       " 'split2_train_score': array([0.74074074, 0.74074074, 0.64814815, 0.66666667, 0.64814815,\n",
       "        0.61111111, 0.57407407, 0.59259259, 0.53703704, 0.57407407,\n",
       "        0.57407407, 0.57407407, 0.55555556, 0.57407407, 0.59259259,\n",
       "        0.5       , 0.51851852, 0.59259259, 0.55555556, 0.55555556,\n",
       "        0.57407407, 0.55555556, 0.59259259, 0.57407407, 0.57407407,\n",
       "        0.55555556, 0.61111111, 0.55555556, 0.57407407, 0.61111111,\n",
       "        0.57407407, 0.55555556, 0.57407407, 0.51851852, 0.51851852,\n",
       "        0.55555556, 0.53703704, 0.53703704, 0.48148148, 0.5       ,\n",
       "        0.46296296, 0.48148148, 0.38888889, 0.40740741, 0.38888889,\n",
       "        0.37037037, 0.38888889, 0.40740741, 0.38888889, 0.38888889,\n",
       "        0.38888889]),\n",
       " 'split3_test_score': array([0.61538462, 0.61538462, 0.69230769, 0.69230769, 0.76923077,\n",
       "        0.69230769, 0.61538462, 0.46153846, 0.53846154, 0.53846154,\n",
       "        0.69230769, 0.61538462, 0.69230769, 0.69230769, 0.61538462,\n",
       "        0.76923077, 0.84615385, 0.76923077, 0.69230769, 0.69230769,\n",
       "        0.69230769, 0.69230769, 0.69230769, 0.69230769, 0.69230769,\n",
       "        0.61538462, 0.61538462, 0.61538462, 0.61538462, 0.61538462,\n",
       "        0.69230769, 0.69230769, 0.69230769, 0.61538462, 0.61538462,\n",
       "        0.61538462, 0.53846154, 0.53846154, 0.46153846, 0.46153846,\n",
       "        0.46153846, 0.46153846, 0.46153846, 0.38461538, 0.38461538,\n",
       "        0.38461538, 0.38461538, 0.38461538, 0.38461538, 0.38461538,\n",
       "        0.38461538]),\n",
       " 'split3_train_score': array([0.74074074, 0.66666667, 0.53703704, 0.59259259, 0.5       ,\n",
       "        0.51851852, 0.57407407, 0.57407407, 0.53703704, 0.59259259,\n",
       "        0.53703704, 0.53703704, 0.55555556, 0.53703704, 0.55555556,\n",
       "        0.53703704, 0.5       , 0.59259259, 0.55555556, 0.59259259,\n",
       "        0.55555556, 0.59259259, 0.57407407, 0.57407407, 0.57407407,\n",
       "        0.55555556, 0.61111111, 0.61111111, 0.59259259, 0.62962963,\n",
       "        0.55555556, 0.55555556, 0.5       , 0.51851852, 0.5       ,\n",
       "        0.5       , 0.5       , 0.40740741, 0.42592593, 0.44444444,\n",
       "        0.46296296, 0.46296296, 0.38888889, 0.40740741, 0.38888889,\n",
       "        0.38888889, 0.38888889, 0.38888889, 0.38888889, 0.38888889,\n",
       "        0.38888889]),\n",
       " 'split4_test_score': array([0.33333333, 0.41666667, 0.33333333, 0.41666667, 0.33333333,\n",
       "        0.41666667, 0.33333333, 0.25      , 0.33333333, 0.33333333,\n",
       "        0.33333333, 0.33333333, 0.33333333, 0.25      , 0.33333333,\n",
       "        0.33333333, 0.33333333, 0.41666667, 0.5       , 0.41666667,\n",
       "        0.5       , 0.5       , 0.5       , 0.5       , 0.5       ,\n",
       "        0.58333333, 0.58333333, 0.58333333, 0.66666667, 0.58333333,\n",
       "        0.5       , 0.58333333, 0.5       , 0.5       , 0.41666667,\n",
       "        0.41666667, 0.5       , 0.5       , 0.41666667, 0.5       ,\n",
       "        0.5       , 0.33333333, 0.33333333, 0.33333333, 0.33333333,\n",
       "        0.33333333, 0.41666667, 0.41666667, 0.41666667, 0.41666667,\n",
       "        0.41666667]),\n",
       " 'split4_train_score': array([0.76363636, 0.76363636, 0.69090909, 0.67272727, 0.63636364,\n",
       "        0.70909091, 0.67272727, 0.67272727, 0.61818182, 0.61818182,\n",
       "        0.58181818, 0.61818182, 0.67272727, 0.58181818, 0.52727273,\n",
       "        0.63636364, 0.58181818, 0.63636364, 0.63636364, 0.6       ,\n",
       "        0.6       , 0.6       , 0.61818182, 0.61818182, 0.63636364,\n",
       "        0.61818182, 0.63636364, 0.63636364, 0.6       , 0.61818182,\n",
       "        0.6       , 0.58181818, 0.58181818, 0.6       , 0.58181818,\n",
       "        0.6       , 0.56363636, 0.52727273, 0.49090909, 0.50909091,\n",
       "        0.50909091, 0.52727273, 0.49090909, 0.49090909, 0.49090909,\n",
       "        0.45454545, 0.45454545, 0.38181818, 0.38181818, 0.38181818,\n",
       "        0.38181818]),\n",
       " 'std_fit_time': array([2.38738484e-04, 2.53866419e-05, 7.98178401e-05, 2.66924054e-05,\n",
       "        4.45633855e-05, 8.60502825e-06, 2.35829602e-06, 1.13797365e-05,\n",
       "        2.20304960e-05, 8.00262891e-06, 4.36143115e-06, 2.77654805e-04,\n",
       "        6.43047395e-05, 3.77695968e-06, 1.86268244e-05, 3.08362889e-05,\n",
       "        3.74172875e-05, 5.46104508e-05, 2.88476629e-06, 7.53855268e-06,\n",
       "        2.27986013e-06, 1.85840515e-05, 2.41851534e-04, 2.82323841e-05,\n",
       "        3.69070112e-05, 2.67587656e-05, 5.02110660e-05, 5.15229997e-05,\n",
       "        6.56166741e-06, 8.42316340e-06, 2.52498670e-06, 2.17028492e-05,\n",
       "        2.06913264e-05, 1.35206670e-06, 2.45529005e-05, 3.89294832e-05,\n",
       "        1.72272231e-05, 1.32879382e-05, 3.45961707e-06, 2.03723195e-04,\n",
       "        5.23308741e-05, 4.90608666e-05, 5.78300667e-05, 2.25486002e-05,\n",
       "        2.00271606e-06, 2.32626170e-06, 1.74892013e-05, 8.65771366e-06,\n",
       "        1.86524410e-05, 6.30147115e-06, 3.28844827e-06]),\n",
       " 'std_score_time': array([1.49096053e-04, 1.31217754e-05, 3.18550777e-05, 9.70641830e-06,\n",
       "        4.00770214e-06, 2.04762559e-06, 1.05879326e-05, 7.56746129e-05,\n",
       "        4.54723675e-06, 1.94512158e-06, 2.82342364e-06, 3.00042044e-04,\n",
       "        1.59620126e-05, 6.36287330e-06, 3.06217086e-06, 6.38953607e-05,\n",
       "        7.46085450e-05, 9.83418116e-06, 1.48815980e-06, 3.64710296e-06,\n",
       "        7.11514863e-05, 5.69136660e-06, 1.83549816e-04, 1.52777018e-05,\n",
       "        8.30606532e-05, 4.51209917e-06, 3.73458180e-06, 2.34178025e-05,\n",
       "        1.93926806e-06, 6.37358462e-06, 4.95910645e-06, 1.71718323e-05,\n",
       "        8.37347773e-05, 4.42046306e-06, 1.01846881e-05, 5.46219827e-05,\n",
       "        3.84260933e-06, 1.73738941e-05, 5.28493919e-06, 1.26561780e-04,\n",
       "        1.79625260e-05, 2.53200082e-05, 4.61966375e-06, 1.96115187e-05,\n",
       "        1.06057417e-05, 4.35203713e-06, 1.36733419e-05, 6.75802246e-05,\n",
       "        6.40206051e-06, 6.24929616e-06, 6.40277078e-06]),\n",
       " 'std_test_score': array([0.09918447, 0.09258241, 0.14399998, 0.11473415, 0.16350401,\n",
       "        0.11473415, 0.12350104, 0.11826604, 0.08965742, 0.10533091,\n",
       "        0.13853331, 0.12082656, 0.14399998, 0.15800269, 0.11896858,\n",
       "        0.17139738, 0.18596184, 0.14495575, 0.14212774, 0.17337163,\n",
       "        0.16441353, 0.20010344, 0.18100923, 0.13954802, 0.12542396,\n",
       "        0.13432881, 0.15128019, 0.15128019, 0.15183139, 0.17701672,\n",
       "        0.20010344, 0.17701672, 0.18100923, 0.15563264, 0.11141019,\n",
       "        0.12058877, 0.08379475, 0.10488879, 0.10451139, 0.06078576,\n",
       "        0.05359464, 0.05765094, 0.0513856 , 0.0426375 , 0.0426375 ,\n",
       "        0.02344993, 0.0195659 , 0.0195659 , 0.0195659 , 0.0195659 ,\n",
       "        0.0195659 ]),\n",
       " 'std_train_score': array([0.01602144, 0.04319381, 0.06168129, 0.04171353, 0.07127202,\n",
       "        0.06856009, 0.03626581, 0.03676386, 0.04064025, 0.03006558,\n",
       "        0.03618085, 0.02961257, 0.04366945, 0.02805705, 0.02544409,\n",
       "        0.04699109, 0.04473722, 0.01988884, 0.04576212, 0.02248808,\n",
       "        0.02299085, 0.02730473, 0.04107746, 0.0342059 , 0.05015623,\n",
       "        0.04035989, 0.05503223, 0.06267067, 0.03980316, 0.05109784,\n",
       "        0.06516049, 0.05219738, 0.05388237, 0.05391402, 0.04267077,\n",
       "        0.05038999, 0.04404339, 0.06049598, 0.05879236, 0.05670518,\n",
       "        0.04322882, 0.03416483, 0.04309588, 0.03653532, 0.04639755,\n",
       "        0.02905778, 0.02622359, 0.00919689, 0.00487619, 0.00487619,\n",
       "        0.00487619])}"
      ]
     },
     "execution_count": 112,
     "metadata": {},
     "output_type": "execute_result"
    }
   ],
   "source": [
    "grid.cv_results_"
   ]
  },
  {
   "cell_type": "code",
   "execution_count": 113,
   "metadata": {},
   "outputs": [
    {
     "name": "stderr",
     "output_type": "stream",
     "text": [
      "/anaconda3/lib/python3.6/site-packages/sklearn/utils/deprecation.py:122: FutureWarning: You are accessing a training score ('std_train_score'), which will not be available by default any more in 0.21. If you need training scores, please set return_train_score=True\n",
      "  warnings.warn(*warn_args, **warn_kwargs)\n"
     ]
    },
    {
     "data": {
      "text/plain": [
       "array([0.01602144, 0.04319381, 0.06168129, 0.04171353, 0.07127202,\n",
       "       0.06856009, 0.03626581, 0.03676386, 0.04064025, 0.03006558,\n",
       "       0.03618085, 0.02961257, 0.04366945, 0.02805705, 0.02544409,\n",
       "       0.04699109, 0.04473722, 0.01988884, 0.04576212, 0.02248808,\n",
       "       0.02299085, 0.02730473, 0.04107746, 0.0342059 , 0.05015623,\n",
       "       0.04035989, 0.05503223, 0.06267067, 0.03980316, 0.05109784,\n",
       "       0.06516049, 0.05219738, 0.05388237, 0.05391402, 0.04267077,\n",
       "       0.05038999, 0.04404339, 0.06049598, 0.05879236, 0.05670518,\n",
       "       0.04322882, 0.03416483, 0.04309588, 0.03653532, 0.04639755,\n",
       "       0.02905778, 0.02622359, 0.00919689, 0.00487619, 0.00487619,\n",
       "       0.00487619])"
      ]
     },
     "execution_count": 113,
     "metadata": {},
     "output_type": "execute_result"
    }
   ],
   "source": [
    "grid.cv_results_['std_train_score']"
   ]
  },
  {
   "cell_type": "code",
   "execution_count": 114,
   "metadata": {},
   "outputs": [
    {
     "data": {
      "text/plain": [
       "array([2, 3, 4, 5, 6, 7, 8, 9, 10, 11, 12, 13, 14, 15, 16, 17, 18, 19, 20,\n",
       "       21, 22, 23, 24, 25, 26, 27, 28, 29, 30, 31, 32, 33, 34, 35, 36, 37,\n",
       "       38, 39, 40, 41, 42, 43, 44, 45, 46, 47, 48, 49, 50, 51, 52],\n",
       "      dtype=object)"
      ]
     },
     "execution_count": 114,
     "metadata": {},
     "output_type": "execute_result"
    }
   ],
   "source": [
    "k = grid.cv_results_['param_n_neighbors'].data\n",
    "test_scores = grid.cv_results_['mean_test_score'].data\n",
    "k"
   ]
  },
  {
   "cell_type": "code",
   "execution_count": 115,
   "metadata": {},
   "outputs": [
    {
     "data": {
      "text/plain": [
       "[<matplotlib.lines.Line2D at 0x113b31828>]"
      ]
     },
     "execution_count": 115,
     "metadata": {},
     "output_type": "execute_result"
    },
    {
     "data": {
      "image/png": "[encoded data removed]",
      "text/plain": [
       "<matplotlib.figure.Figure at 0x113ad7470>"
      ]
     },
     "metadata": {},
     "output_type": "display_data"
    }
   ],
   "source": [
    "plt.plot(k, test_scores, '--k')"
   ]
  },
  {
   "cell_type": "markdown",
   "metadata": {},
   "source": [
    "**Standardized Data**\n",
    "\n",
    "Repeat the above problem using the `StandardScaler()` to transform your data and plot the results together with those of non-standardized data.  Interpret the results."
   ]
  },
  {
   "cell_type": "code",
   "execution_count": 116,
   "metadata": {},
   "outputs": [],
   "source": [
    "from sklearn.preprocessing import StandardScaler"
   ]
  },
  {
   "cell_type": "code",
   "execution_count": 117,
   "metadata": {},
   "outputs": [],
   "source": [
    "ss = StandardScaler()\n",
    "X2 = ss.fit_transform(X_train)"
   ]
  },
  {
   "cell_type": "code",
   "execution_count": 118,
   "metadata": {},
   "outputs": [
    {
     "data": {
      "text/plain": [
       "GridSearchCV(cv=5, error_score='raise',\n",
       "       estimator=KNeighborsClassifier(algorithm='auto', leaf_size=30, metric='minkowski',\n",
       "           metric_params=None, n_jobs=1, n_neighbors=6, p=2,\n",
       "           weights='uniform'),\n",
       "       fit_params=None, iid=True, n_jobs=1,\n",
       "       param_grid=[{'n_neighbors': [2, 3, 4, 5, 6, 7, 8, 9, 10, 11, 12, 13, 14, 15, 16, 17, 18, 19, 20, 21, 22, 23, 24, 25, 26, 27, 28, 29, 30, 31, 32, 33, 34, 35, 36, 37, 38, 39, 40, 41, 42, 43, 44, 45, 46, 47, 48, 49, 50, 51, 52]}],\n",
       "       pre_dispatch='2*n_jobs', refit=True, return_train_score='warn',\n",
       "       scoring=None, verbose=0)"
      ]
     },
     "execution_count": 118,
     "metadata": {},
     "output_type": "execute_result"
    }
   ],
   "source": [
    "grid.fit(X2,y_train)"
   ]
  },
  {
   "cell_type": "code",
   "execution_count": 119,
   "metadata": {},
   "outputs": [],
   "source": [
    "numero_uno = grid.best_estimator_"
   ]
  },
  {
   "cell_type": "code",
   "execution_count": 120,
   "metadata": {},
   "outputs": [
    {
     "data": {
      "text/plain": [
       "0.746268656716418"
      ]
     },
     "execution_count": 120,
     "metadata": {},
     "output_type": "execute_result"
    }
   ],
   "source": [
    "y_pred_class = numero_uno.predict(X2)\n",
    "accuracy_score(y_train, y_pred_class)"
   ]
  },
  {
   "cell_type": "code",
   "execution_count": 121,
   "metadata": {},
   "outputs": [],
   "source": [
    "k2 = grid.cv_results_['param_n_neighbors'].data\n",
    "test_scores2 = grid.cv_results_['mean_test_score'].data"
   ]
  },
  {
   "cell_type": "code",
   "execution_count": 124,
   "metadata": {},
   "outputs": [
    {
     "data": {
      "text/plain": [
       "Text(0,0.5,'Mean Test Score')"
      ]
     },
     "execution_count": 124,
     "metadata": {},
     "output_type": "execute_result"
    },
    {
     "data": {
      "image/png": "[encoded data removed]",
      "text/plain": [
       "<matplotlib.figure.Figure at 0x111df66a0>"
      ]
     },
     "metadata": {},
     "output_type": "display_data"
    }
   ],
   "source": [
    "plt.figure(figsize = (9, 5))\n",
    "plt.plot(k2, test_scores2, '--b', label= 'Standardized')\n",
    "plt.plot(k, test_scores, '--r', label = 'Original')\n",
    "plt.legend()\n",
    "plt.xlabel('Neighbors')\n",
    "plt.ylabel('Mean Test Score')"
   ]
  }
 ],
 "metadata": {
  "kernelspec": {
   "display_name": "Python 3",
   "language": "python",
   "name": "python3"
  },
  "language_info": {
   "codemirror_mode": {
    "name": "ipython",
    "version": 3
   },
   "file_extension": ".py",
   "mimetype": "text/x-python",
   "name": "python",
   "nbconvert_exporter": "python",
   "pygments_lexer": "ipython3",
   "version": "3.6.4"
  }
 },
 "nbformat": 4,
 "nbformat_minor": 2
}
