{
 "cells": [
  {
   "cell_type": "markdown",
   "metadata": {},
   "source": [
    "# Logistic Regression\n",
    "\n",
    "\n",
    "We are trying to decide between whether an object belongs to one of two categories:  $C_0$ and $C_1$.  In terms of probability, we frame this as the likelihood that something belongs to $C_1$ as:\n",
    "\n",
    "$$ y = P(C_1 | x)$$\n",
    "\n",
    "which is the conditional probability of $C_1$ given some $x$.  Because we are talking about a binary situation, we know:\n",
    "\n",
    "$$ P(C_1 | x) + P(C_0 | X) = 1$$\n",
    "\n",
    "$$ y + P(C_0 | X) = 1$$\n",
    "\n",
    "$$ 1 - y = P(C_0 | X)$$\n",
    "\n",
    "**Probability and Odds**\n",
    "\n",
    "If we consider the odds of a binary event, we are really talking about \n",
    "\n",
    "$$\\frac{p}{1 - p}$$\n",
    "\n",
    "Recognizing this expression as having the same structure as the transformation that linearizes a set of data having an s-shaped curve, (i.e. $\\frac{y}{1-y}$) we connect the idea of odds and that the logistic function is in fact giving us the **log odds** for some value $x$.  Hence, we have:\n",
    "\n",
    "$$\\ln(\\frac{y}{1-y}) = \\text{logit}(y)$$\n",
    "\n",
    "and if we solve for $y$ we have:\n",
    "\n",
    "$$y = \\frac{1}{1 + e^{-(ax + b)}}$$"
   ]
  },
  {
   "cell_type": "code",
   "execution_count": 1,
   "metadata": {},
   "outputs": [],
   "source": [
    "%matplotlib inline\n",
    "import matplotlib.pyplot as plt\n",
    "import numpy as np\n",
    "import pandas as pd\n",
    "import seaborn as sns"
   ]
  },
  {
   "cell_type": "markdown",
   "metadata": {},
   "source": [
    "### Example\n",
    "\n",
    "Heights of Boys against Girls."
   ]
  },
  {
   "cell_type": "code",
   "execution_count": 2,
   "metadata": {},
   "outputs": [],
   "source": [
    "b = np.random.normal(149.05, 3.75, 800)\n",
    "g = np.random.normal(151.19, 3.75, 700)"
   ]
  },
  {
   "cell_type": "code",
   "execution_count": 4,
   "metadata": {},
   "outputs": [
    {
     "data": {
      "text/plain": [
       "(array([  8.,  25.,  72., 114., 132., 130., 114.,  65.,  22.,  18.]),\n",
       " array([141.69296106, 143.58655203, 145.480143  , 147.37373397,\n",
       "        149.26732494, 151.16091591, 153.05450688, 154.94809785,\n",
       "        156.84168881, 158.73527978, 160.62887075]),\n",
       " <a list of 10 Patch objects>)"
      ]
     },
     "execution_count": 4,
     "metadata": {},
     "output_type": "execute_result"
    },
    {
     "data": {
      "image/png": "[encoded data removed]",
      "text/plain": [
       "<matplotlib.figure.Figure at 0x10cb702b0>"
      ]
     },
     "metadata": {},
     "output_type": "display_data"
    }
   ],
   "source": [
    "plt.hist(b, alpha = 0.3)\n",
    "plt.hist(g, alpha = 0.3)"
   ]
  },
  {
   "cell_type": "code",
   "execution_count": 5,
   "metadata": {},
   "outputs": [],
   "source": [
    "b = [[x, 0] for x in b]\n",
    "g = [[x, 1] for x in g]"
   ]
  },
  {
   "cell_type": "code",
   "execution_count": 6,
   "metadata": {},
   "outputs": [],
   "source": [
    "bg = np.array(b + g)"
   ]
  },
  {
   "cell_type": "code",
   "execution_count": 7,
   "metadata": {},
   "outputs": [
    {
     "data": {
      "text/plain": [
       "array([[152.09879153,   0.        ],\n",
       "       [142.5419709 ,   0.        ],\n",
       "       [151.19126897,   0.        ],\n",
       "       ...,\n",
       "       [148.83109869,   1.        ],\n",
       "       [149.47792677,   1.        ],\n",
       "       [150.48355051,   1.        ]])"
      ]
     },
     "execution_count": 7,
     "metadata": {},
     "output_type": "execute_result"
    }
   ],
   "source": [
    "bg"
   ]
  },
  {
   "cell_type": "code",
   "execution_count": 9,
   "metadata": {},
   "outputs": [
    {
     "data": {
      "text/plain": [
       "array([152.09879153, 142.5419709 , 151.19126897, ..., 148.83109869,\n",
       "       149.47792677, 150.48355051])"
      ]
     },
     "execution_count": 9,
     "metadata": {},
     "output_type": "execute_result"
    }
   ],
   "source": [
    "bg[:, 0]"
   ]
  },
  {
   "cell_type": "code",
   "execution_count": 10,
   "metadata": {},
   "outputs": [
    {
     "data": {
      "text/plain": [
       "array([0., 0., 0., ..., 1., 1., 1.])"
      ]
     },
     "execution_count": 10,
     "metadata": {},
     "output_type": "execute_result"
    }
   ],
   "source": [
    "bg[:, 1]"
   ]
  },
  {
   "cell_type": "code",
   "execution_count": 12,
   "metadata": {},
   "outputs": [
    {
     "data": {
      "text/plain": [
       "[<matplotlib.lines.Line2D at 0x10cdb0940>]"
      ]
     },
     "execution_count": 12,
     "metadata": {},
     "output_type": "execute_result"
    },
    {
     "data": {
      "image/png": "[encoded data removed]",
      "text/plain": [
       "<matplotlib.figure.Figure at 0x10cd44320>"
      ]
     },
     "metadata": {},
     "output_type": "display_data"
    }
   ],
   "source": [
    "x = bg[:, 0]\n",
    "y = bg[:, 1]\n",
    "plt.plot(x, y, 'o', alpha = 0.1)"
   ]
  },
  {
   "cell_type": "code",
   "execution_count": 24,
   "metadata": {},
   "outputs": [],
   "source": [
    "boy_girl = pd.DataFrame(bg, columns= ['heights', 'gender'])"
   ]
  },
  {
   "cell_type": "code",
   "execution_count": 25,
   "metadata": {},
   "outputs": [
    {
     "data": {
      "text/html": [
       "<div>\n",
       "<style scoped>\n",
       "    .dataframe tbody tr th:only-of-type {\n",
       "        vertical-align: middle;\n",
       "    }\n",
       "\n",
       "    .dataframe tbody tr th {\n",
       "        vertical-align: top;\n",
       "    }\n",
       "\n",
       "    .dataframe thead th {\n",
       "        text-align: right;\n",
       "    }\n",
       "</style>\n",
       "<table border=\"1\" class=\"dataframe\">\n",
       "  <thead>\n",
       "    <tr style=\"text-align: right;\">\n",
       "      <th></th>\n",
       "      <th>heights</th>\n",
       "      <th>gender</th>\n",
       "    </tr>\n",
       "  </thead>\n",
       "  <tbody>\n",
       "    <tr>\n",
       "      <th>0</th>\n",
       "      <td>152.098792</td>\n",
       "      <td>0.0</td>\n",
       "    </tr>\n",
       "    <tr>\n",
       "      <th>1</th>\n",
       "      <td>142.541971</td>\n",
       "      <td>0.0</td>\n",
       "    </tr>\n",
       "    <tr>\n",
       "      <th>2</th>\n",
       "      <td>151.191269</td>\n",
       "      <td>0.0</td>\n",
       "    </tr>\n",
       "    <tr>\n",
       "      <th>3</th>\n",
       "      <td>151.288552</td>\n",
       "      <td>0.0</td>\n",
       "    </tr>\n",
       "    <tr>\n",
       "      <th>4</th>\n",
       "      <td>146.779621</td>\n",
       "      <td>0.0</td>\n",
       "    </tr>\n",
       "  </tbody>\n",
       "</table>\n",
       "</div>"
      ],
      "text/plain": [
       "      heights  gender\n",
       "0  152.098792     0.0\n",
       "1  142.541971     0.0\n",
       "2  151.191269     0.0\n",
       "3  151.288552     0.0\n",
       "4  146.779621     0.0"
      ]
     },
     "execution_count": 25,
     "metadata": {},
     "output_type": "execute_result"
    }
   ],
   "source": [
    "boy_girl.head()"
   ]
  },
  {
   "cell_type": "code",
   "execution_count": 40,
   "metadata": {},
   "outputs": [],
   "source": [
    "girls = boy_girl[boy_girl['gender'] == 1]"
   ]
  },
  {
   "cell_type": "code",
   "execution_count": 63,
   "metadata": {},
   "outputs": [
    {
     "data": {
      "text/plain": [
       "(array([  8.,  33., 105., 219., 351., 481., 595., 660., 682., 700.]),\n",
       " array([141.69296106, 143.58655203, 145.480143  , 147.37373397,\n",
       "        149.26732494, 151.16091591, 153.05450688, 154.94809785,\n",
       "        156.84168881, 158.73527978, 160.62887075]),\n",
       " <a list of 10 Patch objects>)"
      ]
     },
     "execution_count": 63,
     "metadata": {},
     "output_type": "execute_result"
    },
    {
     "data": {
      "image/png": "[encoded data removed]",
      "text/plain": [
       "<matplotlib.figure.Figure at 0x116003f60>"
      ]
     },
     "metadata": {},
     "output_type": "display_data"
    }
   ],
   "source": [
    "plt.hist(girls['heights'], cumulative = True)"
   ]
  },
  {
   "cell_type": "code",
   "execution_count": 42,
   "metadata": {},
   "outputs": [],
   "source": [
    "from sklearn.linear_model import LogisticRegression"
   ]
  },
  {
   "cell_type": "code",
   "execution_count": 44,
   "metadata": {},
   "outputs": [
    {
     "data": {
      "text/plain": [
       "LogisticRegression(C=1.0, class_weight=None, dual=False, fit_intercept=True,\n",
       "          intercept_scaling=1, max_iter=100, multi_class='ovr', n_jobs=1,\n",
       "          penalty='l2', random_state=None, solver='liblinear', tol=0.0001,\n",
       "          verbose=0, warm_start=False)"
      ]
     },
     "execution_count": 44,
     "metadata": {},
     "output_type": "execute_result"
    }
   ],
   "source": [
    "X = boy_girl['heights'].values.reshape(-1,1)\n",
    "y = boy_girl['gender']\n",
    "lr = LogisticRegression()\n",
    "lr.fit(X, y)"
   ]
  },
  {
   "cell_type": "code",
   "execution_count": 47,
   "metadata": {},
   "outputs": [
    {
     "data": {
      "text/plain": [
       "0.5906666666666667"
      ]
     },
     "execution_count": 47,
     "metadata": {},
     "output_type": "execute_result"
    }
   ],
   "source": [
    "lr.score(X, y)"
   ]
  },
  {
   "cell_type": "code",
   "execution_count": 48,
   "metadata": {},
   "outputs": [
    {
     "data": {
      "text/plain": [
       "0.027950071932944687"
      ]
     },
     "execution_count": 48,
     "metadata": {},
     "output_type": "execute_result"
    }
   ],
   "source": [
    "lr.coef_[0][0]"
   ]
  },
  {
   "cell_type": "code",
   "execution_count": 49,
   "metadata": {},
   "outputs": [
    {
     "data": {
      "text/plain": [
       "-4.315269419516591"
      ]
     },
     "execution_count": 49,
     "metadata": {},
     "output_type": "execute_result"
    }
   ],
   "source": [
    "lr.intercept_[0]"
   ]
  },
  {
   "cell_type": "code",
   "execution_count": 101,
   "metadata": {},
   "outputs": [],
   "source": [
    "from sklearn.metrics import classification_report, confusion_matrix"
   ]
  },
  {
   "cell_type": "code",
   "execution_count": 102,
   "metadata": {},
   "outputs": [
    {
     "name": "stdout",
     "output_type": "stream",
     "text": [
      "             precision    recall  f1-score   support\n",
      "\n",
      "          0       0.67      1.00      0.80       100\n",
      "          1       0.00      0.00      0.00        50\n",
      "\n",
      "avg / total       0.44      0.67      0.53       150\n",
      "\n"
     ]
    },
    {
     "name": "stderr",
     "output_type": "stream",
     "text": [
      "/anaconda3/lib/python3.6/site-packages/sklearn/metrics/classification.py:1135: UndefinedMetricWarning: Precision and F-score are ill-defined and being set to 0.0 in labels with no predicted samples.\n",
      "  'precision', 'predicted', average, warn_for)\n"
     ]
    }
   ],
   "source": [
    "predictions = lr.predict(X)\n",
    "print(classification_report(y, predictions))"
   ]
  },
  {
   "cell_type": "code",
   "execution_count": 103,
   "metadata": {},
   "outputs": [
    {
     "data": {
      "text/plain": [
       "array([[100,   0],\n",
       "       [ 50,   0]])"
      ]
     },
     "execution_count": 103,
     "metadata": {},
     "output_type": "execute_result"
    }
   ],
   "source": [
    "confusion_matrix(y, predictions)"
   ]
  },
  {
   "cell_type": "markdown",
   "metadata": {},
   "source": [
    "  |  | $C_0$ | $C_1$ |\n",
    "  | ----- | ----- | ----- |\n",
    "  | $C_0$|  | |\n",
    "  | $C_1$|  |  |\n",
    "  \n",
    "  **Precision**: Proportion of values from thos predicted to be in $C_1$ correctly.\n",
    "  \n",
    "  $$\\frac{TP}{TP + FP}$$\n",
    "  \n",
    "  **Recall**: Proportion of values that are actually in $C_1$ predicted correctly.\n",
    "  \n",
    "  $$\\frac{TP}{TP + FN}$$\n",
    "  \n",
    "  Ideally, we'd like this to be as high as possible in each regard.  We can understand the relationship between Precision and Recall through their harmonic mean -- the F1 score.\n",
    "  \n",
    "  **F1**: Harmonic mean of Precision and Recall\n",
    "  \n",
    "  $$\\frac{2PR}{P + R}$$"
   ]
  },
  {
   "cell_type": "code",
   "execution_count": 104,
   "metadata": {},
   "outputs": [],
   "source": [
    "from sklearn import datasets"
   ]
  },
  {
   "cell_type": "code",
   "execution_count": 105,
   "metadata": {},
   "outputs": [],
   "source": [
    "iris = datasets.load_iris()"
   ]
  },
  {
   "cell_type": "code",
   "execution_count": 106,
   "metadata": {},
   "outputs": [],
   "source": [
    "X = iris['data'][:, 3:]#petalwidth\n",
    "y = (iris['target'] == 2).astype(np.int)"
   ]
  },
  {
   "cell_type": "code",
   "execution_count": 107,
   "metadata": {},
   "outputs": [],
   "source": [
    "lgr = LogisticRegression()\n",
    "lgr.fit(X,y)\n",
    "predictions= lgr.predict(X)"
   ]
  },
  {
   "cell_type": "code",
   "execution_count": 108,
   "metadata": {},
   "outputs": [
    {
     "data": {
      "text/plain": [
       "array([0, 0, 0, 0, 0, 0, 0, 0, 0, 0, 0, 0, 0, 0, 0, 0, 0, 0, 0, 0, 0, 0,\n",
       "       0, 0, 0, 0, 0, 0, 0, 0, 0, 0, 0, 0, 0, 0, 0, 0, 0, 0, 0, 0, 0, 0,\n",
       "       0, 0, 0, 0, 0, 0, 0, 0, 0, 0, 0, 0, 0, 0, 0, 0, 0, 0, 0, 0, 0, 0,\n",
       "       0, 0, 0, 0, 1, 0, 0, 0, 0, 0, 0, 1, 0, 0, 0, 0, 0, 0, 0, 0, 0, 0,\n",
       "       0, 0, 0, 0, 0, 0, 0, 0, 0, 0, 0, 0, 1, 1, 1, 1, 1, 1, 1, 1, 1, 1,\n",
       "       1, 1, 1, 1, 1, 1, 1, 1, 1, 0, 1, 1, 1, 1, 1, 1, 1, 1, 1, 0, 1, 1,\n",
       "       1, 0, 0, 1, 1, 1, 1, 1, 1, 1, 1, 1, 1, 1, 1, 1, 1, 1])"
      ]
     },
     "execution_count": 108,
     "metadata": {},
     "output_type": "execute_result"
    }
   ],
   "source": [
    "predictions"
   ]
  },
  {
   "cell_type": "code",
   "execution_count": 109,
   "metadata": {},
   "outputs": [
    {
     "data": {
      "text/plain": [
       "array([[0.97581359, 0.02418641],\n",
       "       [0.97581359, 0.02418641],\n",
       "       [0.97581359, 0.02418641],\n",
       "       [0.97581359, 0.02418641],\n",
       "       [0.97581359, 0.02418641],\n",
       "       [0.95984502, 0.04015498],\n",
       "       [0.96880341, 0.03119659],\n",
       "       [0.97581359, 0.02418641],\n",
       "       [0.97581359, 0.02418641],\n",
       "       [0.98127896, 0.01872104],\n",
       "       [0.97581359, 0.02418641],\n",
       "       [0.97581359, 0.02418641],\n",
       "       [0.98127896, 0.01872104],\n",
       "       [0.98127896, 0.01872104],\n",
       "       [0.97581359, 0.02418641],\n",
       "       [0.95984502, 0.04015498],\n",
       "       [0.95984502, 0.04015498],\n",
       "       [0.96880341, 0.03119659],\n",
       "       [0.96880341, 0.03119659],\n",
       "       [0.96880341, 0.03119659],\n",
       "       [0.97581359, 0.02418641],\n",
       "       [0.95984502, 0.04015498],\n",
       "       [0.97581359, 0.02418641],\n",
       "       [0.94845101, 0.05154899],\n",
       "       [0.97581359, 0.02418641],\n",
       "       [0.97581359, 0.02418641],\n",
       "       [0.95984502, 0.04015498],\n",
       "       [0.97581359, 0.02418641],\n",
       "       [0.97581359, 0.02418641],\n",
       "       [0.97581359, 0.02418641],\n",
       "       [0.97581359, 0.02418641],\n",
       "       [0.95984502, 0.04015498],\n",
       "       [0.98127896, 0.01872104],\n",
       "       [0.97581359, 0.02418641],\n",
       "       [0.98127896, 0.01872104],\n",
       "       [0.97581359, 0.02418641],\n",
       "       [0.97581359, 0.02418641],\n",
       "       [0.98127896, 0.01872104],\n",
       "       [0.97581359, 0.02418641],\n",
       "       [0.97581359, 0.02418641],\n",
       "       [0.96880341, 0.03119659],\n",
       "       [0.96880341, 0.03119659],\n",
       "       [0.97581359, 0.02418641],\n",
       "       [0.9340461 , 0.0659539 ],\n",
       "       [0.95984502, 0.04015498],\n",
       "       [0.96880341, 0.03119659],\n",
       "       [0.97581359, 0.02418641],\n",
       "       [0.97581359, 0.02418641],\n",
       "       [0.97581359, 0.02418641],\n",
       "       [0.97581359, 0.02418641],\n",
       "       [0.63569965, 0.36430035],\n",
       "       [0.5732246 , 0.4267754 ],\n",
       "       [0.5732246 , 0.4267754 ],\n",
       "       [0.69391259, 0.30608741],\n",
       "       [0.5732246 , 0.4267754 ],\n",
       "       [0.69391259, 0.30608741],\n",
       "       [0.50832222, 0.49167778],\n",
       "       [0.83252911, 0.16747089],\n",
       "       [0.69391259, 0.30608741],\n",
       "       [0.63569965, 0.36430035],\n",
       "       [0.83252911, 0.16747089],\n",
       "       [0.5732246 , 0.4267754 ],\n",
       "       [0.83252911, 0.16747089],\n",
       "       [0.63569965, 0.36430035],\n",
       "       [0.69391259, 0.30608741],\n",
       "       [0.63569965, 0.36430035],\n",
       "       [0.5732246 , 0.4267754 ],\n",
       "       [0.83252911, 0.16747089],\n",
       "       [0.5732246 , 0.4267754 ],\n",
       "       [0.79280729, 0.20719271],\n",
       "       [0.37985503, 0.62014497],\n",
       "       [0.69391259, 0.30608741],\n",
       "       [0.5732246 , 0.4267754 ],\n",
       "       [0.74653241, 0.25346759],\n",
       "       [0.69391259, 0.30608741],\n",
       "       [0.63569965, 0.36430035],\n",
       "       [0.63569965, 0.36430035],\n",
       "       [0.4431381 , 0.5568619 ],\n",
       "       [0.5732246 , 0.4267754 ],\n",
       "       [0.83252911, 0.16747089],\n",
       "       [0.79280729, 0.20719271],\n",
       "       [0.83252911, 0.16747089],\n",
       "       [0.74653241, 0.25346759],\n",
       "       [0.50832222, 0.49167778],\n",
       "       [0.5732246 , 0.4267754 ],\n",
       "       [0.50832222, 0.49167778],\n",
       "       [0.5732246 , 0.4267754 ],\n",
       "       [0.69391259, 0.30608741],\n",
       "       [0.69391259, 0.30608741],\n",
       "       [0.69391259, 0.30608741],\n",
       "       [0.74653241, 0.25346759],\n",
       "       [0.63569965, 0.36430035],\n",
       "       [0.74653241, 0.25346759],\n",
       "       [0.83252911, 0.16747089],\n",
       "       [0.69391259, 0.30608741],\n",
       "       [0.74653241, 0.25346759],\n",
       "       [0.69391259, 0.30608741],\n",
       "       [0.69391259, 0.30608741],\n",
       "       [0.79280729, 0.20719271],\n",
       "       [0.69391259, 0.30608741],\n",
       "       [0.08929626, 0.91070374],\n",
       "       [0.32040932, 0.67959068],\n",
       "       [0.21834332, 0.78165668],\n",
       "       [0.37985503, 0.62014497],\n",
       "       [0.17696093, 0.82303907],\n",
       "       [0.21834332, 0.78165668],\n",
       "       [0.4431381 , 0.5568619 ],\n",
       "       [0.37985503, 0.62014497],\n",
       "       [0.37985503, 0.62014497],\n",
       "       [0.08929626, 0.91070374],\n",
       "       [0.26627218, 0.73372782],\n",
       "       [0.32040932, 0.67959068],\n",
       "       [0.21834332, 0.78165668],\n",
       "       [0.26627218, 0.73372782],\n",
       "       [0.11299268, 0.88700732],\n",
       "       [0.1419969 , 0.8580031 ],\n",
       "       [0.37985503, 0.62014497],\n",
       "       [0.17696093, 0.82303907],\n",
       "       [0.1419969 , 0.8580031 ],\n",
       "       [0.5732246 , 0.4267754 ],\n",
       "       [0.1419969 , 0.8580031 ],\n",
       "       [0.26627218, 0.73372782],\n",
       "       [0.26627218, 0.73372782],\n",
       "       [0.37985503, 0.62014497],\n",
       "       [0.21834332, 0.78165668],\n",
       "       [0.37985503, 0.62014497],\n",
       "       [0.37985503, 0.62014497],\n",
       "       [0.37985503, 0.62014497],\n",
       "       [0.21834332, 0.78165668],\n",
       "       [0.50832222, 0.49167778],\n",
       "       [0.32040932, 0.67959068],\n",
       "       [0.26627218, 0.73372782],\n",
       "       [0.17696093, 0.82303907],\n",
       "       [0.5732246 , 0.4267754 ],\n",
       "       [0.63569965, 0.36430035],\n",
       "       [0.1419969 , 0.8580031 ],\n",
       "       [0.11299268, 0.88700732],\n",
       "       [0.37985503, 0.62014497],\n",
       "       [0.37985503, 0.62014497],\n",
       "       [0.21834332, 0.78165668],\n",
       "       [0.11299268, 0.88700732],\n",
       "       [0.1419969 , 0.8580031 ],\n",
       "       [0.32040932, 0.67959068],\n",
       "       [0.1419969 , 0.8580031 ],\n",
       "       [0.08929626, 0.91070374],\n",
       "       [0.1419969 , 0.8580031 ],\n",
       "       [0.32040932, 0.67959068],\n",
       "       [0.26627218, 0.73372782],\n",
       "       [0.1419969 , 0.8580031 ],\n",
       "       [0.37985503, 0.62014497]])"
      ]
     },
     "execution_count": 109,
     "metadata": {},
     "output_type": "execute_result"
    }
   ],
   "source": [
    "prb_predict= lgr.predict_proba(X)\n",
    "prb_predict"
   ]
  },
  {
   "cell_type": "code",
   "execution_count": 110,
   "metadata": {},
   "outputs": [],
   "source": [
    "probs = pd.DataFrame(prb_predict, columns=['0', '1'])"
   ]
  },
  {
   "cell_type": "code",
   "execution_count": 111,
   "metadata": {},
   "outputs": [
    {
     "data": {
      "text/html": [
       "<div>\n",
       "<style scoped>\n",
       "    .dataframe tbody tr th:only-of-type {\n",
       "        vertical-align: middle;\n",
       "    }\n",
       "\n",
       "    .dataframe tbody tr th {\n",
       "        vertical-align: top;\n",
       "    }\n",
       "\n",
       "    .dataframe thead th {\n",
       "        text-align: right;\n",
       "    }\n",
       "</style>\n",
       "<table border=\"1\" class=\"dataframe\">\n",
       "  <thead>\n",
       "    <tr style=\"text-align: right;\">\n",
       "      <th></th>\n",
       "      <th>0</th>\n",
       "      <th>1</th>\n",
       "    </tr>\n",
       "  </thead>\n",
       "  <tbody>\n",
       "    <tr>\n",
       "      <th>0</th>\n",
       "      <td>0.975814</td>\n",
       "      <td>0.024186</td>\n",
       "    </tr>\n",
       "    <tr>\n",
       "      <th>1</th>\n",
       "      <td>0.975814</td>\n",
       "      <td>0.024186</td>\n",
       "    </tr>\n",
       "    <tr>\n",
       "      <th>2</th>\n",
       "      <td>0.975814</td>\n",
       "      <td>0.024186</td>\n",
       "    </tr>\n",
       "    <tr>\n",
       "      <th>3</th>\n",
       "      <td>0.975814</td>\n",
       "      <td>0.024186</td>\n",
       "    </tr>\n",
       "    <tr>\n",
       "      <th>4</th>\n",
       "      <td>0.975814</td>\n",
       "      <td>0.024186</td>\n",
       "    </tr>\n",
       "  </tbody>\n",
       "</table>\n",
       "</div>"
      ],
      "text/plain": [
       "          0         1\n",
       "0  0.975814  0.024186\n",
       "1  0.975814  0.024186\n",
       "2  0.975814  0.024186\n",
       "3  0.975814  0.024186\n",
       "4  0.975814  0.024186"
      ]
     },
     "execution_count": 111,
     "metadata": {},
     "output_type": "execute_result"
    }
   ],
   "source": [
    "probs.head()"
   ]
  },
  {
   "cell_type": "code",
   "execution_count": 112,
   "metadata": {},
   "outputs": [
    {
     "data": {
      "text/plain": [
       "<matplotlib.lines.Line2D at 0x11682ea90>"
      ]
     },
     "execution_count": 112,
     "metadata": {},
     "output_type": "execute_result"
    },
    {
     "data": {
      "image/png": "[encoded data removed]",
      "text/plain": [
       "<matplotlib.figure.Figure at 0x116bc1dd8>"
      ]
     },
     "metadata": {},
     "output_type": "display_data"
    }
   ],
   "source": [
    "plt.figure(figsize = (9, 5))\n",
    "x = np.linspace(0, 3, 150).reshape(-1,1)\n",
    "y_probs= lgr.predict_proba(x)\n",
    "plt.plot(x, y_probs[:, 0], label= 'Iris-Virginica')\n",
    "plt.plot(x,y_probs[:,1], label= 'Not Virginica')\n",
    "plt.legend()\n",
    "plt.axvline(x = 1.62, color= 'black',linestyle = '--')"
   ]
  },
  {
   "cell_type": "code",
   "execution_count": 117,
   "metadata": {},
   "outputs": [],
   "source": [
    "from sklearn.metrics import precision_recall_curve\n",
    "from sklearn.cross_validation import cross_val_predict, cross_val_score"
   ]
  },
  {
   "cell_type": "code",
   "execution_count": 134,
   "metadata": {},
   "outputs": [],
   "source": [
    "from sklearn.metrics import precision_score, recall_score, f1_score"
   ]
  },
  {
   "cell_type": "code",
   "execution_count": 135,
   "metadata": {},
   "outputs": [
    {
     "data": {
      "text/plain": [
       "0.9583333333333334"
      ]
     },
     "execution_count": 135,
     "metadata": {},
     "output_type": "execute_result"
    }
   ],
   "source": [
    "precision_score(y, predictions)"
   ]
  },
  {
   "cell_type": "code",
   "execution_count": 136,
   "metadata": {},
   "outputs": [
    {
     "data": {
      "text/plain": [
       "0.92"
      ]
     },
     "execution_count": 136,
     "metadata": {},
     "output_type": "execute_result"
    }
   ],
   "source": [
    "recall_score(y, predictions)"
   ]
  },
  {
   "cell_type": "code",
   "execution_count": 137,
   "metadata": {},
   "outputs": [
    {
     "data": {
      "text/plain": [
       "0.9387755102040817"
      ]
     },
     "execution_count": 137,
     "metadata": {},
     "output_type": "execute_result"
    }
   ],
   "source": [
    "f1_score(y, predictions)"
   ]
  },
  {
   "cell_type": "markdown",
   "metadata": {},
   "source": [
    "- Classifying Videos for Kids?\n",
    "- Detecting Cancer?\n",
    "- Detecting Shoplifters?"
   ]
  }
 ],
 "metadata": {
  "kernelspec": {
   "display_name": "Python 3",
   "language": "python",
   "name": "python3"
  },
  "language_info": {
   "codemirror_mode": {
    "name": "ipython",
    "version": 3
   },
   "file_extension": ".py",
   "mimetype": "text/x-python",
   "name": "python",
   "nbconvert_exporter": "python",
   "pygments_lexer": "ipython3",
   "version": "3.6.4"
  }
 },
 "nbformat": 4,
 "nbformat_minor": 2
}
