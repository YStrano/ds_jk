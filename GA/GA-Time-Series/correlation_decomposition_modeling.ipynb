{
 "cells": [
  {
   "cell_type": "markdown",
   "metadata": {
    "slideshow": {
     "slide_type": "slide"
    }
   },
   "source": [
    "# Time Series: ARIMA Models \n",
    "Time series is a complex topic, we are only touching the surface of what can be done! Here we are covering univariate time series models. "
   ]
  },
  {
   "cell_type": "markdown",
   "metadata": {
    "slideshow": {
     "slide_type": "slide"
    }
   },
   "source": [
    "**Recap:** \n",
    "\n",
    "- What is a time series? X is time, y is anything dependent on time. \n",
    "- What does it look like? \n",
    "- What are we trying to predict? \n",
    "- What are characteristics to look for in your time series?\n",
    "    - trend, seasonality, noise"
   ]
  },
  {
   "cell_type": "markdown",
   "metadata": {
    "slideshow": {
     "slide_type": "slide"
    }
   },
   "source": [
    "## Time Series Workflow\n",
    "\n",
    "  1. Load the data\n",
    "  2. Clean the data - make a time series\n",
    "  3. Test train split!\n",
    "  4. Visualize your time series\n",
    "  5. Plot ACF and PACF\n",
    "  6. Check for stationarity!\n",
    "  8. Choose p, q terms and type of model to use \n",
    "  9. Build your model\n",
    "  10. Evaluate your model"
   ]
  },
  {
   "cell_type": "markdown",
   "metadata": {
    "slideshow": {
     "slide_type": "slide"
    }
   },
   "source": [
    "## 1. Load the data!\n",
    "\n",
    "We're going to work with unemployment data. "
   ]
  },
  {
   "cell_type": "code",
   "execution_count": 110,
   "metadata": {
    "collapsed": true,
    "slideshow": {
     "slide_type": "slide"
    }
   },
   "outputs": [],
   "source": [
    "#import libraries\n",
    "import pandas as pd\n",
    "import numpy as np\n",
    "import pandas as pd\n",
    "import matplotlib.pyplot as plt\n",
    "import seaborn as sns\n",
    "from datetime import datetime, timedelta\n",
    "%matplotlib inline"
   ]
  },
  {
   "cell_type": "code",
   "execution_count": 111,
   "metadata": {},
   "outputs": [
    {
     "data": {
      "text/html": [
       "<div>\n",
       "<style>\n",
       "    .dataframe thead tr:only-child th {\n",
       "        text-align: right;\n",
       "    }\n",
       "\n",
       "    .dataframe thead th {\n",
       "        text-align: left;\n",
       "    }\n",
       "\n",
       "    .dataframe tbody tr th {\n",
       "        vertical-align: top;\n",
       "    }\n",
       "</style>\n",
       "<table border=\"1\" class=\"dataframe\">\n",
       "  <thead>\n",
       "    <tr style=\"text-align: right;\">\n",
       "      <th></th>\n",
       "      <th>Quarter</th>\n",
       "      <th>Seasonally adjusted quarterly U.S. unemployment rates from 1948 to 1993</th>\n",
       "    </tr>\n",
       "  </thead>\n",
       "  <tbody>\n",
       "    <tr>\n",
       "      <th>0</th>\n",
       "      <td>1948Q1</td>\n",
       "      <td>3.733%</td>\n",
       "    </tr>\n",
       "    <tr>\n",
       "      <th>1</th>\n",
       "      <td>1948Q2</td>\n",
       "      <td>3.667%</td>\n",
       "    </tr>\n",
       "    <tr>\n",
       "      <th>2</th>\n",
       "      <td>1948Q3</td>\n",
       "      <td>3.767%</td>\n",
       "    </tr>\n",
       "    <tr>\n",
       "      <th>3</th>\n",
       "      <td>1948Q4</td>\n",
       "      <td>3.833%</td>\n",
       "    </tr>\n",
       "    <tr>\n",
       "      <th>4</th>\n",
       "      <td>1949Q1</td>\n",
       "      <td>4.667%</td>\n",
       "    </tr>\n",
       "  </tbody>\n",
       "</table>\n",
       "</div>"
      ],
      "text/plain": [
       "  Quarter  \\\n",
       "0  1948Q1   \n",
       "1  1948Q2   \n",
       "2  1948Q3   \n",
       "3  1948Q4   \n",
       "4  1949Q1   \n",
       "\n",
       "  Seasonally adjusted quarterly U.S. unemployment rates from 1948 to 1993  \n",
       "0                                             3.733%                       \n",
       "1                                             3.667%                       \n",
       "2                                             3.767%                       \n",
       "3                                             3.833%                       \n",
       "4                                             4.667%                       "
      ]
     },
     "execution_count": 111,
     "metadata": {},
     "output_type": "execute_result"
    }
   ],
   "source": [
    "#load the data\n",
    "data = pd.read_csv('data/unemployment.csv')\n",
    "data.head()"
   ]
  },
  {
   "cell_type": "code",
   "execution_count": 112,
   "metadata": {},
   "outputs": [
    {
     "name": "stdout",
     "output_type": "stream",
     "text": [
      "<class 'pandas.core.frame.DataFrame'>\n",
      "RangeIndex: 175 entries, 0 to 174\n",
      "Data columns (total 2 columns):\n",
      "Quarter                                                                    175 non-null object\n",
      "Seasonally adjusted quarterly U.S. unemployment rates from 1948 to 1993    174 non-null object\n",
      "dtypes: object(2)\n",
      "memory usage: 2.8+ KB\n"
     ]
    }
   ],
   "source": [
    "#let's check the object types\n",
    "data.info()\n",
    "\n",
    "#we see that both columns have objects as the type. \n",
    "#we'll need to give it a date index and a float to begin our analysis"
   ]
  },
  {
   "cell_type": "markdown",
   "metadata": {
    "slideshow": {
     "slide_type": "slide"
    }
   },
   "source": [
    "## 2. Clean the data\n",
    "- Make into date time object and float\n",
    "- Any nulls?\n",
    "- Do we want to resample?"
   ]
  },
  {
   "cell_type": "code",
   "execution_count": 113,
   "metadata": {},
   "outputs": [
    {
     "data": {
      "text/html": [
       "<div>\n",
       "<style>\n",
       "    .dataframe thead tr:only-child th {\n",
       "        text-align: right;\n",
       "    }\n",
       "\n",
       "    .dataframe thead th {\n",
       "        text-align: left;\n",
       "    }\n",
       "\n",
       "    .dataframe tbody tr th {\n",
       "        vertical-align: top;\n",
       "    }\n",
       "</style>\n",
       "<table border=\"1\" class=\"dataframe\">\n",
       "  <thead>\n",
       "    <tr style=\"text-align: right;\">\n",
       "      <th></th>\n",
       "      <th>year_quarter</th>\n",
       "      <th>unemployment_rate</th>\n",
       "    </tr>\n",
       "  </thead>\n",
       "  <tbody>\n",
       "    <tr>\n",
       "      <th>0</th>\n",
       "      <td>1948Q1</td>\n",
       "      <td>3.733</td>\n",
       "    </tr>\n",
       "    <tr>\n",
       "      <th>1</th>\n",
       "      <td>1948Q2</td>\n",
       "      <td>3.667</td>\n",
       "    </tr>\n",
       "    <tr>\n",
       "      <th>2</th>\n",
       "      <td>1948Q3</td>\n",
       "      <td>3.767</td>\n",
       "    </tr>\n",
       "    <tr>\n",
       "      <th>3</th>\n",
       "      <td>1948Q4</td>\n",
       "      <td>3.833</td>\n",
       "    </tr>\n",
       "    <tr>\n",
       "      <th>4</th>\n",
       "      <td>1949Q1</td>\n",
       "      <td>4.667</td>\n",
       "    </tr>\n",
       "  </tbody>\n",
       "</table>\n",
       "</div>"
      ],
      "text/plain": [
       "  year_quarter  unemployment_rate\n",
       "0       1948Q1              3.733\n",
       "1       1948Q2              3.667\n",
       "2       1948Q3              3.767\n",
       "3       1948Q4              3.833\n",
       "4       1949Q1              4.667"
      ]
     },
     "execution_count": 113,
     "metadata": {},
     "output_type": "execute_result"
    }
   ],
   "source": [
    "#rename columns\n",
    "data.columns = ['year_quarter', 'unemployment_rate']\n",
    "\n",
    "#make unemployment_rate into float and remove % sign\n",
    "data['unemployment_rate'] = data['unemployment_rate'].map(lambda x: float(str(x).replace('%','')))\n",
    "\n",
    "#drop any nulls\n",
    "data.dropna(inplace=True)\n",
    "\n",
    "data.head()"
   ]
  },
  {
   "cell_type": "code",
   "execution_count": 114,
   "metadata": {},
   "outputs": [
    {
     "data": {
      "text/plain": [
       "year_quarter          object\n",
       "unemployment_rate    float64\n",
       "dtype: object"
      ]
     },
     "execution_count": 114,
     "metadata": {},
     "output_type": "execute_result"
    }
   ],
   "source": [
    "#check your object type now\n",
    "data.dtypes"
   ]
  },
  {
   "cell_type": "code",
   "execution_count": 115,
   "metadata": {},
   "outputs": [
    {
     "data": {
      "text/html": [
       "<div>\n",
       "<style>\n",
       "    .dataframe thead tr:only-child th {\n",
       "        text-align: right;\n",
       "    }\n",
       "\n",
       "    .dataframe thead th {\n",
       "        text-align: left;\n",
       "    }\n",
       "\n",
       "    .dataframe tbody tr th {\n",
       "        vertical-align: top;\n",
       "    }\n",
       "</style>\n",
       "<table border=\"1\" class=\"dataframe\">\n",
       "  <thead>\n",
       "    <tr style=\"text-align: right;\">\n",
       "      <th></th>\n",
       "      <th>year_quarter</th>\n",
       "      <th>unemployment_rate</th>\n",
       "    </tr>\n",
       "    <tr>\n",
       "      <th>date</th>\n",
       "      <th></th>\n",
       "      <th></th>\n",
       "    </tr>\n",
       "  </thead>\n",
       "  <tbody>\n",
       "    <tr>\n",
       "      <th>1948Q1</th>\n",
       "      <td>1948Q1</td>\n",
       "      <td>3.733</td>\n",
       "    </tr>\n",
       "    <tr>\n",
       "      <th>1948Q2</th>\n",
       "      <td>1948Q2</td>\n",
       "      <td>3.667</td>\n",
       "    </tr>\n",
       "    <tr>\n",
       "      <th>1948Q3</th>\n",
       "      <td>1948Q3</td>\n",
       "      <td>3.767</td>\n",
       "    </tr>\n",
       "    <tr>\n",
       "      <th>1948Q4</th>\n",
       "      <td>1948Q4</td>\n",
       "      <td>3.833</td>\n",
       "    </tr>\n",
       "    <tr>\n",
       "      <th>1949Q1</th>\n",
       "      <td>1949Q1</td>\n",
       "      <td>4.667</td>\n",
       "    </tr>\n",
       "  </tbody>\n",
       "</table>\n",
       "</div>"
      ],
      "text/plain": [
       "       year_quarter  unemployment_rate\n",
       "date                                  \n",
       "1948Q1       1948Q1              3.733\n",
       "1948Q2       1948Q2              3.667\n",
       "1948Q3       1948Q3              3.767\n",
       "1948Q4       1948Q4              3.833\n",
       "1949Q1       1949Q1              4.667"
      ]
     },
     "execution_count": 115,
     "metadata": {},
     "output_type": "execute_result"
    }
   ],
   "source": [
    "#let's give it a date index so we can plot\n",
    "\n",
    "#create a new column called date and create an index \n",
    "data['date'] = pd.to_datetime(data.year_quarter).dt.to_period('Q')\n",
    "data.set_index('date', inplace=True)\n",
    "data.head()"
   ]
  },
  {
   "cell_type": "code",
   "execution_count": 116,
   "metadata": {},
   "outputs": [
    {
     "name": "stdout",
     "output_type": "stream",
     "text": [
      "<class 'pandas.core.frame.DataFrame'>\n",
      "PeriodIndex: 174 entries, 1948Q1 to 1991Q2\n",
      "Freq: Q-DEC\n",
      "Data columns (total 2 columns):\n",
      "year_quarter         174 non-null object\n",
      "unemployment_rate    174 non-null float64\n",
      "dtypes: float64(1), object(1)\n",
      "memory usage: 4.1+ KB\n"
     ]
    }
   ],
   "source": [
    "#now let's check the dtypes\n",
    "data.info()"
   ]
  },
  {
   "cell_type": "markdown",
   "metadata": {
    "collapsed": true
   },
   "source": [
    "## 3. Visualize the time series \n",
    "\n",
    "What are factors that might influence your data\n",
    "- deflation?\n",
    "- is there a trend?\n",
    "- is the trend additive or multiplicative?\n",
    "- is there seasonality?"
   ]
  },
  {
   "cell_type": "code",
   "execution_count": 117,
   "metadata": {},
   "outputs": [
    {
     "data": {
      "text/plain": [
       "<matplotlib.axes._subplots.AxesSubplot at 0x114d934e0>"
      ]
     },
     "execution_count": 117,
     "metadata": {},
     "output_type": "execute_result"
    },
    {
     "data": {
      "image/png": "[encoded data removed]",
      "text/plain": [
       "<matplotlib.figure.Figure at 0x114f38e48>"
      ]
     },
     "metadata": {},
     "output_type": "display_data"
    }
   ],
   "source": [
    "#plot the time series\n",
    "data['unemployment_rate'].plot(lw=2.5, figsize=(12,5))"
   ]
  },
  {
   "cell_type": "code",
   "execution_count": 118,
   "metadata": {},
   "outputs": [
    {
     "data": {
      "text/plain": [
       "<matplotlib.figure.Figure at 0x1145c3908>"
      ]
     },
     "metadata": {},
     "output_type": "display_data"
    },
    {
     "data": {
      "image/png": "[encoded data removed]",
      "text/plain": [
       "<matplotlib.figure.Figure at 0x114987438>"
      ]
     },
     "metadata": {},
     "output_type": "display_data"
    }
   ],
   "source": [
    "#use seasonal decompose to look at trend, seasonality and residuals (noise) in the data\n",
    "\n",
    "#import the library\n",
    "from statsmodels.tsa.seasonal import seasonal_decompose\n",
    "\n",
    "#create a dataframe with unemployment rate as the data, columns called rate, and timestamped index\n",
    "data_ts = pd.DataFrame(data[['unemployment_rate']].values, columns=['rate'], index=data.index.to_timestamp())\n",
    "\n",
    "#decompose your time series\n",
    "result = seasonal_decompose(data_ts.rate)\n",
    "\n",
    "#plot the seasonal decomposition\n",
    "fig = plt.figure()  \n",
    "fig = result.plot()  \n",
    "fig.set_size_inches(12, 6)"
   ]
  },
  {
   "cell_type": "markdown",
   "metadata": {},
   "source": [
    "**What do we see?**\n",
    "- a slight trend, not super strong seasonality"
   ]
  },
  {
   "cell_type": "markdown",
   "metadata": {},
   "source": [
    "## 4. Train test split!\n",
    "\n",
    "At this point you should do a test train split but because your data is time dependent, you can't just take a random sampling - you have to split the data in sequential order. "
   ]
  },
  {
   "cell_type": "code",
   "execution_count": 128,
   "metadata": {},
   "outputs": [],
   "source": [
    "#split 75% train, 25% test\n",
    "train_index = round(data.shape[0]*.75)"
   ]
  },
  {
   "cell_type": "code",
   "execution_count": 129,
   "metadata": {},
   "outputs": [],
   "source": [
    "#create train and test set\n",
    "train = data[:train_index]\n",
    "test = data[train_index:]"
   ]
  },
  {
   "cell_type": "code",
   "execution_count": 167,
   "metadata": {},
   "outputs": [
    {
     "data": {
      "text/html": [
       "<div>\n",
       "<style>\n",
       "    .dataframe thead tr:only-child th {\n",
       "        text-align: right;\n",
       "    }\n",
       "\n",
       "    .dataframe thead th {\n",
       "        text-align: left;\n",
       "    }\n",
       "\n",
       "    .dataframe tbody tr th {\n",
       "        vertical-align: top;\n",
       "    }\n",
       "</style>\n",
       "<table border=\"1\" class=\"dataframe\">\n",
       "  <thead>\n",
       "    <tr style=\"text-align: right;\">\n",
       "      <th></th>\n",
       "      <th>year_quarter</th>\n",
       "      <th>unemployment_rate</th>\n",
       "      <th>unemp_diff</th>\n",
       "    </tr>\n",
       "    <tr>\n",
       "      <th>date</th>\n",
       "      <th></th>\n",
       "      <th></th>\n",
       "      <th></th>\n",
       "    </tr>\n",
       "  </thead>\n",
       "  <tbody>\n",
       "    <tr>\n",
       "      <th>1948Q1</th>\n",
       "      <td>1948Q1</td>\n",
       "      <td>3.733</td>\n",
       "      <td>NaN</td>\n",
       "    </tr>\n",
       "    <tr>\n",
       "      <th>1948Q2</th>\n",
       "      <td>1948Q2</td>\n",
       "      <td>3.667</td>\n",
       "      <td>-0.066</td>\n",
       "    </tr>\n",
       "    <tr>\n",
       "      <th>1948Q3</th>\n",
       "      <td>1948Q3</td>\n",
       "      <td>3.767</td>\n",
       "      <td>0.100</td>\n",
       "    </tr>\n",
       "    <tr>\n",
       "      <th>1948Q4</th>\n",
       "      <td>1948Q4</td>\n",
       "      <td>3.833</td>\n",
       "      <td>0.066</td>\n",
       "    </tr>\n",
       "    <tr>\n",
       "      <th>1949Q1</th>\n",
       "      <td>1949Q1</td>\n",
       "      <td>4.667</td>\n",
       "      <td>0.834</td>\n",
       "    </tr>\n",
       "    <tr>\n",
       "      <th>1949Q2</th>\n",
       "      <td>1949Q2</td>\n",
       "      <td>5.867</td>\n",
       "      <td>1.200</td>\n",
       "    </tr>\n",
       "    <tr>\n",
       "      <th>1949Q3</th>\n",
       "      <td>1949Q3</td>\n",
       "      <td>6.700</td>\n",
       "      <td>0.833</td>\n",
       "    </tr>\n",
       "    <tr>\n",
       "      <th>1949Q4</th>\n",
       "      <td>1949Q4</td>\n",
       "      <td>6.967</td>\n",
       "      <td>0.267</td>\n",
       "    </tr>\n",
       "    <tr>\n",
       "      <th>1950Q1</th>\n",
       "      <td>1950Q1</td>\n",
       "      <td>6.400</td>\n",
       "      <td>-0.567</td>\n",
       "    </tr>\n",
       "    <tr>\n",
       "      <th>1950Q2</th>\n",
       "      <td>1950Q2</td>\n",
       "      <td>5.567</td>\n",
       "      <td>-0.833</td>\n",
       "    </tr>\n",
       "    <tr>\n",
       "      <th>1950Q3</th>\n",
       "      <td>1950Q3</td>\n",
       "      <td>4.633</td>\n",
       "      <td>-0.934</td>\n",
       "    </tr>\n",
       "    <tr>\n",
       "      <th>1950Q4</th>\n",
       "      <td>1950Q4</td>\n",
       "      <td>4.233</td>\n",
       "      <td>-0.400</td>\n",
       "    </tr>\n",
       "    <tr>\n",
       "      <th>1951Q1</th>\n",
       "      <td>1951Q1</td>\n",
       "      <td>3.500</td>\n",
       "      <td>-0.733</td>\n",
       "    </tr>\n",
       "    <tr>\n",
       "      <th>1951Q2</th>\n",
       "      <td>1951Q2</td>\n",
       "      <td>3.100</td>\n",
       "      <td>-0.400</td>\n",
       "    </tr>\n",
       "    <tr>\n",
       "      <th>1951Q3</th>\n",
       "      <td>1951Q3</td>\n",
       "      <td>3.167</td>\n",
       "      <td>0.067</td>\n",
       "    </tr>\n",
       "    <tr>\n",
       "      <th>1951Q4</th>\n",
       "      <td>1951Q4</td>\n",
       "      <td>3.367</td>\n",
       "      <td>0.200</td>\n",
       "    </tr>\n",
       "    <tr>\n",
       "      <th>1952Q1</th>\n",
       "      <td>1952Q1</td>\n",
       "      <td>3.067</td>\n",
       "      <td>-0.300</td>\n",
       "    </tr>\n",
       "    <tr>\n",
       "      <th>1952Q2</th>\n",
       "      <td>1952Q2</td>\n",
       "      <td>2.967</td>\n",
       "      <td>-0.100</td>\n",
       "    </tr>\n",
       "    <tr>\n",
       "      <th>1952Q3</th>\n",
       "      <td>1952Q3</td>\n",
       "      <td>3.233</td>\n",
       "      <td>0.266</td>\n",
       "    </tr>\n",
       "    <tr>\n",
       "      <th>1952Q4</th>\n",
       "      <td>1952Q4</td>\n",
       "      <td>2.833</td>\n",
       "      <td>-0.400</td>\n",
       "    </tr>\n",
       "    <tr>\n",
       "      <th>1953Q1</th>\n",
       "      <td>1953Q1</td>\n",
       "      <td>2.700</td>\n",
       "      <td>-0.133</td>\n",
       "    </tr>\n",
       "    <tr>\n",
       "      <th>1953Q2</th>\n",
       "      <td>1953Q2</td>\n",
       "      <td>2.567</td>\n",
       "      <td>-0.133</td>\n",
       "    </tr>\n",
       "    <tr>\n",
       "      <th>1953Q3</th>\n",
       "      <td>1953Q3</td>\n",
       "      <td>2.733</td>\n",
       "      <td>0.166</td>\n",
       "    </tr>\n",
       "    <tr>\n",
       "      <th>1953Q4</th>\n",
       "      <td>1953Q4</td>\n",
       "      <td>3.700</td>\n",
       "      <td>0.967</td>\n",
       "    </tr>\n",
       "    <tr>\n",
       "      <th>1954Q1</th>\n",
       "      <td>1954Q1</td>\n",
       "      <td>5.267</td>\n",
       "      <td>1.567</td>\n",
       "    </tr>\n",
       "    <tr>\n",
       "      <th>1954Q2</th>\n",
       "      <td>1954Q2</td>\n",
       "      <td>5.800</td>\n",
       "      <td>0.533</td>\n",
       "    </tr>\n",
       "    <tr>\n",
       "      <th>1954Q3</th>\n",
       "      <td>1954Q3</td>\n",
       "      <td>5.967</td>\n",
       "      <td>0.167</td>\n",
       "    </tr>\n",
       "    <tr>\n",
       "      <th>1954Q4</th>\n",
       "      <td>1954Q4</td>\n",
       "      <td>5.333</td>\n",
       "      <td>-0.634</td>\n",
       "    </tr>\n",
       "    <tr>\n",
       "      <th>1955Q1</th>\n",
       "      <td>1955Q1</td>\n",
       "      <td>4.733</td>\n",
       "      <td>-0.600</td>\n",
       "    </tr>\n",
       "    <tr>\n",
       "      <th>1955Q2</th>\n",
       "      <td>1955Q2</td>\n",
       "      <td>4.400</td>\n",
       "      <td>-0.333</td>\n",
       "    </tr>\n",
       "    <tr>\n",
       "      <th>...</th>\n",
       "      <td>...</td>\n",
       "      <td>...</td>\n",
       "      <td>...</td>\n",
       "    </tr>\n",
       "    <tr>\n",
       "      <th>1973Q1</th>\n",
       "      <td>1973Q1</td>\n",
       "      <td>4.933</td>\n",
       "      <td>-0.434</td>\n",
       "    </tr>\n",
       "    <tr>\n",
       "      <th>1973Q2</th>\n",
       "      <td>1973Q2</td>\n",
       "      <td>4.933</td>\n",
       "      <td>0.000</td>\n",
       "    </tr>\n",
       "    <tr>\n",
       "      <th>1973Q3</th>\n",
       "      <td>1973Q3</td>\n",
       "      <td>4.800</td>\n",
       "      <td>-0.133</td>\n",
       "    </tr>\n",
       "    <tr>\n",
       "      <th>1973Q4</th>\n",
       "      <td>1973Q4</td>\n",
       "      <td>4.767</td>\n",
       "      <td>-0.033</td>\n",
       "    </tr>\n",
       "    <tr>\n",
       "      <th>1974Q1</th>\n",
       "      <td>1974Q1</td>\n",
       "      <td>5.133</td>\n",
       "      <td>0.366</td>\n",
       "    </tr>\n",
       "    <tr>\n",
       "      <th>1974Q2</th>\n",
       "      <td>1974Q2</td>\n",
       "      <td>5.200</td>\n",
       "      <td>0.067</td>\n",
       "    </tr>\n",
       "    <tr>\n",
       "      <th>1974Q3</th>\n",
       "      <td>1974Q3</td>\n",
       "      <td>5.633</td>\n",
       "      <td>0.433</td>\n",
       "    </tr>\n",
       "    <tr>\n",
       "      <th>1974Q4</th>\n",
       "      <td>1974Q4</td>\n",
       "      <td>6.600</td>\n",
       "      <td>0.967</td>\n",
       "    </tr>\n",
       "    <tr>\n",
       "      <th>1975Q1</th>\n",
       "      <td>1975Q1</td>\n",
       "      <td>8.267</td>\n",
       "      <td>1.667</td>\n",
       "    </tr>\n",
       "    <tr>\n",
       "      <th>1975Q2</th>\n",
       "      <td>1975Q2</td>\n",
       "      <td>8.867</td>\n",
       "      <td>0.600</td>\n",
       "    </tr>\n",
       "    <tr>\n",
       "      <th>1975Q3</th>\n",
       "      <td>1975Q3</td>\n",
       "      <td>8.467</td>\n",
       "      <td>-0.400</td>\n",
       "    </tr>\n",
       "    <tr>\n",
       "      <th>1975Q4</th>\n",
       "      <td>1975Q4</td>\n",
       "      <td>8.300</td>\n",
       "      <td>-0.167</td>\n",
       "    </tr>\n",
       "    <tr>\n",
       "      <th>1976Q1</th>\n",
       "      <td>1976Q1</td>\n",
       "      <td>7.733</td>\n",
       "      <td>-0.567</td>\n",
       "    </tr>\n",
       "    <tr>\n",
       "      <th>1976Q2</th>\n",
       "      <td>1976Q2</td>\n",
       "      <td>7.567</td>\n",
       "      <td>-0.166</td>\n",
       "    </tr>\n",
       "    <tr>\n",
       "      <th>1976Q3</th>\n",
       "      <td>1976Q3</td>\n",
       "      <td>7.733</td>\n",
       "      <td>0.166</td>\n",
       "    </tr>\n",
       "    <tr>\n",
       "      <th>1976Q4</th>\n",
       "      <td>1976Q4</td>\n",
       "      <td>7.767</td>\n",
       "      <td>0.034</td>\n",
       "    </tr>\n",
       "    <tr>\n",
       "      <th>1977Q1</th>\n",
       "      <td>1977Q1</td>\n",
       "      <td>7.500</td>\n",
       "      <td>-0.267</td>\n",
       "    </tr>\n",
       "    <tr>\n",
       "      <th>1977Q2</th>\n",
       "      <td>1977Q2</td>\n",
       "      <td>7.133</td>\n",
       "      <td>-0.367</td>\n",
       "    </tr>\n",
       "    <tr>\n",
       "      <th>1977Q3</th>\n",
       "      <td>1977Q3</td>\n",
       "      <td>6.900</td>\n",
       "      <td>-0.233</td>\n",
       "    </tr>\n",
       "    <tr>\n",
       "      <th>1977Q4</th>\n",
       "      <td>1977Q4</td>\n",
       "      <td>6.667</td>\n",
       "      <td>-0.233</td>\n",
       "    </tr>\n",
       "    <tr>\n",
       "      <th>1978Q1</th>\n",
       "      <td>1978Q1</td>\n",
       "      <td>6.333</td>\n",
       "      <td>-0.334</td>\n",
       "    </tr>\n",
       "    <tr>\n",
       "      <th>1978Q2</th>\n",
       "      <td>1978Q2</td>\n",
       "      <td>6.000</td>\n",
       "      <td>-0.333</td>\n",
       "    </tr>\n",
       "    <tr>\n",
       "      <th>1978Q3</th>\n",
       "      <td>1978Q3</td>\n",
       "      <td>6.033</td>\n",
       "      <td>0.033</td>\n",
       "    </tr>\n",
       "    <tr>\n",
       "      <th>1978Q4</th>\n",
       "      <td>1978Q4</td>\n",
       "      <td>5.900</td>\n",
       "      <td>-0.133</td>\n",
       "    </tr>\n",
       "    <tr>\n",
       "      <th>1979Q1</th>\n",
       "      <td>1979Q1</td>\n",
       "      <td>5.867</td>\n",
       "      <td>-0.033</td>\n",
       "    </tr>\n",
       "    <tr>\n",
       "      <th>1979Q2</th>\n",
       "      <td>1979Q2</td>\n",
       "      <td>5.700</td>\n",
       "      <td>-0.167</td>\n",
       "    </tr>\n",
       "    <tr>\n",
       "      <th>1979Q3</th>\n",
       "      <td>1979Q3</td>\n",
       "      <td>5.867</td>\n",
       "      <td>0.167</td>\n",
       "    </tr>\n",
       "    <tr>\n",
       "      <th>1979Q4</th>\n",
       "      <td>1979Q4</td>\n",
       "      <td>5.967</td>\n",
       "      <td>0.100</td>\n",
       "    </tr>\n",
       "    <tr>\n",
       "      <th>1980Q1</th>\n",
       "      <td>1980Q1</td>\n",
       "      <td>6.300</td>\n",
       "      <td>0.333</td>\n",
       "    </tr>\n",
       "    <tr>\n",
       "      <th>1980Q2</th>\n",
       "      <td>1980Q2</td>\n",
       "      <td>7.333</td>\n",
       "      <td>1.033</td>\n",
       "    </tr>\n",
       "  </tbody>\n",
       "</table>\n",
       "<p>130 rows × 3 columns</p>\n",
       "</div>"
      ],
      "text/plain": [
       "       year_quarter  unemployment_rate  unemp_diff\n",
       "date                                              \n",
       "1948Q1       1948Q1              3.733         NaN\n",
       "1948Q2       1948Q2              3.667      -0.066\n",
       "1948Q3       1948Q3              3.767       0.100\n",
       "1948Q4       1948Q4              3.833       0.066\n",
       "1949Q1       1949Q1              4.667       0.834\n",
       "1949Q2       1949Q2              5.867       1.200\n",
       "1949Q3       1949Q3              6.700       0.833\n",
       "1949Q4       1949Q4              6.967       0.267\n",
       "1950Q1       1950Q1              6.400      -0.567\n",
       "1950Q2       1950Q2              5.567      -0.833\n",
       "1950Q3       1950Q3              4.633      -0.934\n",
       "1950Q4       1950Q4              4.233      -0.400\n",
       "1951Q1       1951Q1              3.500      -0.733\n",
       "1951Q2       1951Q2              3.100      -0.400\n",
       "1951Q3       1951Q3              3.167       0.067\n",
       "1951Q4       1951Q4              3.367       0.200\n",
       "1952Q1       1952Q1              3.067      -0.300\n",
       "1952Q2       1952Q2              2.967      -0.100\n",
       "1952Q3       1952Q3              3.233       0.266\n",
       "1952Q4       1952Q4              2.833      -0.400\n",
       "1953Q1       1953Q1              2.700      -0.133\n",
       "1953Q2       1953Q2              2.567      -0.133\n",
       "1953Q3       1953Q3              2.733       0.166\n",
       "1953Q4       1953Q4              3.700       0.967\n",
       "1954Q1       1954Q1              5.267       1.567\n",
       "1954Q2       1954Q2              5.800       0.533\n",
       "1954Q3       1954Q3              5.967       0.167\n",
       "1954Q4       1954Q4              5.333      -0.634\n",
       "1955Q1       1955Q1              4.733      -0.600\n",
       "1955Q2       1955Q2              4.400      -0.333\n",
       "...             ...                ...         ...\n",
       "1973Q1       1973Q1              4.933      -0.434\n",
       "1973Q2       1973Q2              4.933       0.000\n",
       "1973Q3       1973Q3              4.800      -0.133\n",
       "1973Q4       1973Q4              4.767      -0.033\n",
       "1974Q1       1974Q1              5.133       0.366\n",
       "1974Q2       1974Q2              5.200       0.067\n",
       "1974Q3       1974Q3              5.633       0.433\n",
       "1974Q4       1974Q4              6.600       0.967\n",
       "1975Q1       1975Q1              8.267       1.667\n",
       "1975Q2       1975Q2              8.867       0.600\n",
       "1975Q3       1975Q3              8.467      -0.400\n",
       "1975Q4       1975Q4              8.300      -0.167\n",
       "1976Q1       1976Q1              7.733      -0.567\n",
       "1976Q2       1976Q2              7.567      -0.166\n",
       "1976Q3       1976Q3              7.733       0.166\n",
       "1976Q4       1976Q4              7.767       0.034\n",
       "1977Q1       1977Q1              7.500      -0.267\n",
       "1977Q2       1977Q2              7.133      -0.367\n",
       "1977Q3       1977Q3              6.900      -0.233\n",
       "1977Q4       1977Q4              6.667      -0.233\n",
       "1978Q1       1978Q1              6.333      -0.334\n",
       "1978Q2       1978Q2              6.000      -0.333\n",
       "1978Q3       1978Q3              6.033       0.033\n",
       "1978Q4       1978Q4              5.900      -0.133\n",
       "1979Q1       1979Q1              5.867      -0.033\n",
       "1979Q2       1979Q2              5.700      -0.167\n",
       "1979Q3       1979Q3              5.867       0.167\n",
       "1979Q4       1979Q4              5.967       0.100\n",
       "1980Q1       1980Q1              6.300       0.333\n",
       "1980Q2       1980Q2              7.333       1.033\n",
       "\n",
       "[130 rows x 3 columns]"
      ]
     },
     "execution_count": 167,
     "metadata": {},
     "output_type": "execute_result"
    }
   ],
   "source": [
    "train"
   ]
  },
  {
   "cell_type": "markdown",
   "metadata": {},
   "source": [
    "## 5. Check for Stationarity!\n",
    "\n",
    "If a time series is stationary, the mean, variance, and autocorrelation (covered in the next section) are constant over time. Forcasting methods typically assume that the timeseries you are forcasting on are stationary, or at least approximately stationary so you must get your time series to be stationary! \n",
    "\n",
    "**Check for understanding**\n",
    "- Would most real world data be stationary or not stationary?\n"
   ]
  },
  {
   "cell_type": "markdown",
   "metadata": {},
   "source": [
    "### How would I know if my time series is stationary?\n",
    "\n",
    "- Easy! You can just look at it!\n",
    "\n",
    "![.](https://www.otexts.org/sites/default/files/resize/fpp/images/stationary-570x533.png)\n",
    "\n",
    "*source: https://www.otexts.org/fpp/8/1*\n",
    "\n",
    "\n",
    "Or if you want the more exacting way you can use the [Dickey-fuller test](https://en.wikipedia.org/wiki/Dickey%E2%80%93Fuller_test)"
   ]
  },
  {
   "cell_type": "markdown",
   "metadata": {},
   "source": [
    "## So my time series is not stationary, what do I do?"
   ]
  },
  {
   "cell_type": "markdown",
   "metadata": {},
   "source": [
    "The most common way to make a timeseries stationary is to perform **\"differencing\"**. This procedure converts a timeseries into the difference between values:\n",
    "\n",
    "<a id=\"-delta-yt--yt---yt--\"></a>\n",
    "### $$ \\Delta y_t = y_t - y_{t-1} $$\n",
    "\n",
    "This removes trends in the timeseries and ensures that the mean across time is zero. In most cases there will only be a need for a single differencing, although sometimes a second difference (or even more) will be taken to remove trends.\n"
   ]
  },
  {
   "cell_type": "code",
   "execution_count": 123,
   "metadata": {},
   "outputs": [
    {
     "data": {
      "text/html": [
       "<div>\n",
       "<style>\n",
       "    .dataframe thead tr:only-child th {\n",
       "        text-align: right;\n",
       "    }\n",
       "\n",
       "    .dataframe thead th {\n",
       "        text-align: left;\n",
       "    }\n",
       "\n",
       "    .dataframe tbody tr th {\n",
       "        vertical-align: top;\n",
       "    }\n",
       "</style>\n",
       "<table border=\"1\" class=\"dataframe\">\n",
       "  <thead>\n",
       "    <tr style=\"text-align: right;\">\n",
       "      <th></th>\n",
       "      <th>year_quarter</th>\n",
       "      <th>unemployment_rate</th>\n",
       "      <th>unemp_diff</th>\n",
       "    </tr>\n",
       "    <tr>\n",
       "      <th>date</th>\n",
       "      <th></th>\n",
       "      <th></th>\n",
       "      <th></th>\n",
       "    </tr>\n",
       "  </thead>\n",
       "  <tbody>\n",
       "    <tr>\n",
       "      <th>1948Q1</th>\n",
       "      <td>1948Q1</td>\n",
       "      <td>3.733</td>\n",
       "      <td>NaN</td>\n",
       "    </tr>\n",
       "    <tr>\n",
       "      <th>1948Q2</th>\n",
       "      <td>1948Q2</td>\n",
       "      <td>3.667</td>\n",
       "      <td>-0.066</td>\n",
       "    </tr>\n",
       "    <tr>\n",
       "      <th>1948Q3</th>\n",
       "      <td>1948Q3</td>\n",
       "      <td>3.767</td>\n",
       "      <td>0.100</td>\n",
       "    </tr>\n",
       "    <tr>\n",
       "      <th>1948Q4</th>\n",
       "      <td>1948Q4</td>\n",
       "      <td>3.833</td>\n",
       "      <td>0.066</td>\n",
       "    </tr>\n",
       "    <tr>\n",
       "      <th>1949Q1</th>\n",
       "      <td>1949Q1</td>\n",
       "      <td>4.667</td>\n",
       "      <td>0.834</td>\n",
       "    </tr>\n",
       "  </tbody>\n",
       "</table>\n",
       "</div>"
      ],
      "text/plain": [
       "       year_quarter  unemployment_rate  unemp_diff\n",
       "date                                              \n",
       "1948Q1       1948Q1              3.733         NaN\n",
       "1948Q2       1948Q2              3.667      -0.066\n",
       "1948Q3       1948Q3              3.767       0.100\n",
       "1948Q4       1948Q4              3.833       0.066\n",
       "1949Q1       1949Q1              4.667       0.834"
      ]
     },
     "execution_count": 123,
     "metadata": {},
     "output_type": "execute_result"
    }
   ],
   "source": [
    "#Difference the unemployment rate\n",
    "data['unemp_diff'] = data.unemployment_rate.diff()\n",
    "data.head()"
   ]
  },
  {
   "cell_type": "code",
   "execution_count": 133,
   "metadata": {},
   "outputs": [
    {
     "data": {
      "text/plain": [
       "<matplotlib.axes._subplots.AxesSubplot at 0x114950358>"
      ]
     },
     "execution_count": 133,
     "metadata": {},
     "output_type": "execute_result"
    },
    {
     "data": {
      "image/png": "[encoded data removed]",
      "text/plain": [
       "<matplotlib.figure.Figure at 0x1155a0320>"
      ]
     },
     "metadata": {},
     "output_type": "display_data"
    }
   ],
   "source": [
    "#let's plot it to make sure it worked\n",
    "data.unemp_diff.plot()\n",
    "\n",
    "#time series looks now centered on 0"
   ]
  },
  {
   "cell_type": "markdown",
   "metadata": {},
   "source": [
    "## 6. Plot the autocorrelation (ACF) and partial autocorrelation (PACF)"
   ]
  },
  {
   "cell_type": "markdown",
   "metadata": {},
   "source": [
    "Autocorrelation is a measure of *how correlated a variable is with itself*.\n",
    "\n",
    "- In *non-time-series* analyses we often **must** assume observations $Y_i$ are **independent**\n",
    "- In *time-series* analysis we often **must** assume observations are **dependent**\n",
    "\n",
    "*Autocorrelation* allows us to check for this type of *sequential dependence*\n",
    "\n",
    "\n",
    "The *correlation* between time series is\n",
    "\n",
    "$$ Corr(Y_t, Z_t) = \\frac{Cov(Y_t,Z_t)}{\\sqrt{Var(Y_t)Var(Z_t)}} $$\n",
    "\n",
    "\n",
    "The *autocorrelation of a series* is the correlation between a time series and a **lagged version** of itself.\n",
    "\n",
    "$$ Corr(Y_t, Y_{t+k}) = \\frac{Cov(Y_t,Y_{t+k})}{\\sqrt{Var(Y_t)Var(Y_{t+k})}} $$\n",
    "\n",
    "**Partial Autocorrelation**\n",
    "\n",
    "Another important chart for diagnosing your time series is the partial autocorrelation chart (PACF). This is similar to autocorrelation, but, instead of being just the correlation at increasing lags, it is the correlation at a given lag, *controlling for the effect of previous lags*.\n",
    "\n",
    "Another way to put it: *\"A partial autocorrelation is a summary of the relationship between an observation in a time series with observations at prior time steps with the relationships of intervening observations removed.\"*\n",
    "\n",
    "source: https://machinelearningmastery.com/gentle-introduction-autocorrelation-partial-autocorrelation/"
   ]
  },
  {
   "cell_type": "code",
   "execution_count": 140,
   "metadata": {
    "collapsed": true
   },
   "outputs": [],
   "source": [
    "#import the libraries\n",
    "from statsmodels.tsa.stattools import acf\n",
    "from statsmodels.graphics.tsaplots import plot_acf\n",
    "from statsmodels.tsa.stattools import pacf\n",
    "from statsmodels.graphics.tsaplots import plot_pacf"
   ]
  },
  {
   "cell_type": "code",
   "execution_count": 155,
   "metadata": {},
   "outputs": [
    {
     "data": {
      "image/png": "[encoded data removed]",
      "text/plain": [
       "<matplotlib.figure.Figure at 0x115f5aef0>"
      ]
     },
     "metadata": {},
     "output_type": "display_data"
    },
    {
     "data": {
      "image/png": "[encoded data removed]",
      "text/plain": [
       "<matplotlib.figure.Figure at 0x115f5ab38>"
      ]
     },
     "metadata": {},
     "output_type": "display_data"
    }
   ],
   "source": [
    "#let's plot the non stationary data\n",
    "\n",
    "plot_acf(data.unemployment_rate, lags = 50);\n",
    "plot_pacf(data.unemployment_rate, lags = 50);"
   ]
  },
  {
   "cell_type": "markdown",
   "metadata": {},
   "source": [
    "**Check:** \n",
    "\n",
    "1. What does autocorrelation tell you?\n",
    "    - Autocorrelation allows you to see seasonality in terms of what time period ago is most correlated with the present time series\n",
    "    - Points outside shaded blue region tells you which lag has the most significant correlation"
   ]
  },
  {
   "cell_type": "code",
   "execution_count": 153,
   "metadata": {},
   "outputs": [
    {
     "data": {
      "image/png": "[encoded data removed]",
      "text/plain": [
       "<matplotlib.figure.Figure at 0x114bcb160>"
      ]
     },
     "metadata": {},
     "output_type": "display_data"
    },
    {
     "data": {
      "image/png": "[encoded data removed]",
      "text/plain": [
       "<matplotlib.figure.Figure at 0x114ed1eb8>"
      ]
     },
     "metadata": {},
     "output_type": "display_data"
    }
   ],
   "source": [
    "#let's plot the differenced data\n",
    "\n",
    "udiff = data.unemp_diff\n",
    "udiff.dropna(inplace =True)\n",
    "\n",
    "plot_acf(data.unemp_diff, lags = 50);\n",
    "plot_pacf(data.unemp_diff, lags = 50);"
   ]
  },
  {
   "cell_type": "markdown",
   "metadata": {},
   "source": [
    "### Independent Practice: Try steps 1-6 of the time series workflow with the bus dataset\n",
    "\n",
    "1. Load the data\n",
    "2. Clean the data - make a time series\n",
    "3. Test train split!\n",
    "4. Visualize your time series\n",
    "5. Plot ACF and PACF\n",
    "6. Check for stationarity!\n",
    "\n",
    "The data is already loaded for you"
   ]
  },
  {
   "cell_type": "code",
   "execution_count": 159,
   "metadata": {},
   "outputs": [],
   "source": [
    "#load your data\n",
    "bus = pd.read_csv('data/bus.csv')"
   ]
  },
  {
   "cell_type": "code",
   "execution_count": null,
   "metadata": {
    "collapsed": true
   },
   "outputs": [],
   "source": [
    "#clean your data - make it a datetime object"
   ]
  },
  {
   "cell_type": "code",
   "execution_count": null,
   "metadata": {
    "collapsed": true
   },
   "outputs": [],
   "source": [
    "#test train split!"
   ]
  },
  {
   "cell_type": "code",
   "execution_count": null,
   "metadata": {
    "collapsed": true
   },
   "outputs": [],
   "source": [
    "# visualize your time series"
   ]
  },
  {
   "cell_type": "code",
   "execution_count": null,
   "metadata": {
    "collapsed": true
   },
   "outputs": [],
   "source": [
    "#plot acf/pacf"
   ]
  },
  {
   "cell_type": "code",
   "execution_count": 160,
   "metadata": {
    "collapsed": true
   },
   "outputs": [],
   "source": [
    "#check fo stationarity"
   ]
  },
  {
   "cell_type": "markdown",
   "metadata": {
    "collapsed": true
   },
   "source": [
    "## Time Series Forecasting\n",
    "\n",
    "There are many ways you can do a time series forecast, we are just covering two of them. If you want to learn more, look at the bonus lesson in this folder and check out this site https://people.duke.edu/~rnau/411home.htm"
   ]
  },
  {
   "cell_type": "markdown",
   "metadata": {},
   "source": [
    "### Autoregressive (AR) models\n",
    "\n",
    "---\n",
    "\n",
    "Autoregressive (AR) models use data from previous time-points to predict the next time-point. These are essentially regression models where the predictors are previous timepoints of the outcome.\n",
    "\n",
    "Typically, AR models are denoted `AR(p)`, where _p_ indicates the number of previous time points to incorporate. `AR(1)` is the most common.\n",
    "\n",
    "In an autoregressive model we learn regression coefficients on the features that are the previous _p_ values.\n",
    "\n",
    "### $$y_i = \\beta_0 + \\beta_1  y_{i-1} + \\beta_2  y_{i-2}\\ +\\ ...\\ +\\ \\beta_p  y_{i-p}\\ +\\ \\epsilon \\\\\n",
    "y_i =\\sum_{j=1}^p \\beta_j y_{i-j} + \\epsilon$$\n",
    "\n",
    "We can build autoregressive models using the `ARMA` class from statsmodels. \n",
    "\n",
    "> Alternatively, there is a newer python package called pyflux that also looks promising for time series modeling.  We won't cover pyflux in class."
   ]
  },
  {
   "cell_type": "markdown",
   "metadata": {
    "collapsed": true
   },
   "source": [
    "### Moving Average (MA) models"
   ]
  },
  {
   "cell_type": "markdown",
   "metadata": {
    "collapsed": true
   },
   "source": [
    "**Moving average models** take previous _error terms_ as inputs. They predict the next value based on deviations from previous predictions. This can be useful for modeling a sudden occurrence - like something going out of stock affecting sales or a sudden rise in popularity.\n",
    "\n",
    "As in autoregressive models, we have an order term, _q_, and we refer to our model as `MA(q)`.  This moving average model is dependent on the last _q_ errors. If we have a time series of sales per week, $y_i$, we can regress each $y_i$ on the last _q_ error terms.\n",
    "\n",
    "### $$y_t = \\epsilon_t + \\beta_{1} \\epsilon_{t-1} + ... \\beta_{n} \\epsilon_{t-n} \\\\\n",
    "y_t = \\sum_{i=1}^n \\beta_i \\epsilon_{t-i} + \\epsilon_t$$\n",
    "\n",
    "Sometimes the mean of the timeseries is included in the equation:\n",
    "\n",
    "### $$ y_t = \\mu + \\sum_{i=1}^n \\beta_i \\epsilon_{t-i} + \\epsilon_t $$\n",
    "\n",
    "Moving average models are not as trivial to fit as autoregressive models because the error terms are unobserved. [There are a variety of different ways you can estimate the parameters, some of which are covered in this paper.](https://www.it.uu.se/research/publications/reports/2006-022/2006-022-nc.pdf)\n",
    "\n",
    "In the simpler fitting procedures, a model is iteratively fit, errors are computed, then refit, over and over again until the parameters on the errors converge.\n",
    "\n",
    "MA includes the mean of the time series. The behavior of the model is therefore characterized by random jumps around the mean value.\n",
    "\n"
   ]
  },
  {
   "cell_type": "markdown",
   "metadata": {},
   "source": [
    "### How do I know whether to use an AR or MA model and how to choose the right `p` & `q` parameters?\n",
    "---\n",
    "\n",
    "In general it is never a bad idea to choose your parameters based on hold-out testing. That is to say, checking the performance of your model on future timepoints based on different choices of `p` and `q` for an ARIMA model.\n",
    "\n",
    "However, you can get a sense for what parameters will work best based on the autocorrelation and partial autocorrelation charts.\n",
    "\n",
    "In general though, below are some basic guidelines. Remember that these rules apply to the ACF and PACF plots of differenced timeseries rather than the original timeseries (the exception being if your timeseries is stationary and does not require differencing):\n",
    "\n",
    "1. If the PACF has a sharp cutoff and the lag-1 ACF value is positive then choose an AR(x) term where x is the lag in the PACF after the cutoff.\n",
    "2. If the ACF has a sharp cutoff and the lag-1 ACF value is negative, choose an MA(x) term where x is the lag in the ACF after the cutoff.\n",
    "3. If both the ACF and PACF show a gradual decay, and ARMA model is likely appropriate as opposed to the AR or MA alone.\n",
    "\n",
    "Context 1 above corresponds to timeseries that are \"underdifferenced\" as indicated by a positive autocorrelation at lat 1. Likewise, context 2 is \"overdifferenced\" as indicated by the negative autocorrelation.\n",
    "\n",
    "In general, you should try to choose an AR or MA model alone as opposed to an ARMA model. The AR and MA terms can work against each other in the model and create an overly-complex representation."
   ]
  },
  {
   "cell_type": "code",
   "execution_count": 175,
   "metadata": {
    "collapsed": true
   },
   "outputs": [],
   "source": [
    "#ARMA models combines AR and MA models into one class\n",
    "\n",
    "from statsmodels.tsa.arima_model import ARMA\n",
    "\n",
    "train_diff = train.unemp_diff.dropna()\n",
    "test_diff = test.unemp_diff.dropna()\n",
    "\n",
    "#let's try out a few models and compare their AIC score"
   ]
  },
  {
   "cell_type": "markdown",
   "metadata": {},
   "source": [
    "**Pro-tip**: AIC in the results above refer to the [Akaike Information Criterion](https://en.wikipedia.org/wiki/Akaike_information_criterion).  AIC measures the \"quality\" of your model: lower values of AIC suggest better models!\n",
    "\n",
    "See also: the #1 answer [here](https://stats.stackexchange.com/questions/187373/interpretation-of-aic-value):\n",
    "\n",
    "> ... Lower value of AIC suggests \"better\" model, but it is a relative measure of model fit. It is used for model selection, i.e. it lets you to compare different models estimated on the same dataset.\n"
   ]
  },
  {
   "cell_type": "code",
   "execution_count": 177,
   "metadata": {},
   "outputs": [
    {
     "data": {
      "text/html": [
       "<table class=\"simpletable\">\n",
       "<caption>ARMA Model Results</caption>\n",
       "<tr>\n",
       "  <th>Dep. Variable:</th>         <td>y</td>        <th>  No. Observations:  </th>   <td>129</td>  \n",
       "</tr>\n",
       "<tr>\n",
       "  <th>Model:</th>            <td>ARMA(1, 0)</td>    <th>  Log Likelihood     </th> <td>-50.500</td>\n",
       "</tr>\n",
       "<tr>\n",
       "  <th>Method:</th>             <td>css-mle</td>     <th>  S.D. of innovations</th>  <td>0.357</td> \n",
       "</tr>\n",
       "<tr>\n",
       "  <th>Date:</th>          <td>Mon, 07 May 2018</td> <th>  AIC                </th> <td>107.000</td>\n",
       "</tr>\n",
       "<tr>\n",
       "  <th>Time:</th>              <td>23:28:51</td>     <th>  BIC                </th> <td>115.579</td>\n",
       "</tr>\n",
       "<tr>\n",
       "  <th>Sample:</th>                <td>0</td>        <th>  HQIC               </th> <td>110.486</td>\n",
       "</tr>\n",
       "<tr>\n",
       "  <th></th>                       <td> </td>        <th>                     </th>    <td> </td>   \n",
       "</tr>\n",
       "</table>\n",
       "<table class=\"simpletable\">\n",
       "<tr>\n",
       "     <td></td>        <th>coef</th>     <th>std err</th>      <th>z</th>      <th>P>|z|</th>  <th>[0.025</th>    <th>0.975]</th>  \n",
       "</tr>\n",
       "<tr>\n",
       "  <th>const</th>   <td>    0.0399</td> <td>    0.085</td> <td>    0.468</td> <td> 0.640</td> <td>   -0.127</td> <td>    0.207</td>\n",
       "</tr>\n",
       "<tr>\n",
       "  <th>ar.L1.y</th> <td>    0.6353</td> <td>    0.069</td> <td>    9.186</td> <td> 0.000</td> <td>    0.500</td> <td>    0.771</td>\n",
       "</tr>\n",
       "</table>\n",
       "<table class=\"simpletable\">\n",
       "<caption>Roots</caption>\n",
       "<tr>\n",
       "    <td></td>   <th>           Real</th> <th>         Imaginary</th> <th>         Modulus</th> <th>        Frequency</th>\n",
       "</tr>\n",
       "<tr>\n",
       "  <th>AR.1</th>               1.5740                    +0.0000j                    1.5740                    0.0000     \n",
       "</tr>\n",
       "</table>"
      ],
      "text/plain": [
       "<class 'statsmodels.iolib.summary.Summary'>\n",
       "\"\"\"\n",
       "                              ARMA Model Results                              \n",
       "==============================================================================\n",
       "Dep. Variable:                      y   No. Observations:                  129\n",
       "Model:                     ARMA(1, 0)   Log Likelihood                 -50.500\n",
       "Method:                       css-mle   S.D. of innovations              0.357\n",
       "Date:                Mon, 07 May 2018   AIC                            107.000\n",
       "Time:                        23:28:51   BIC                            115.579\n",
       "Sample:                             0   HQIC                           110.486\n",
       "                                                                              \n",
       "==============================================================================\n",
       "                 coef    std err          z      P>|z|      [0.025      0.975]\n",
       "------------------------------------------------------------------------------\n",
       "const          0.0399      0.085      0.468      0.640      -0.127       0.207\n",
       "ar.L1.y        0.6353      0.069      9.186      0.000       0.500       0.771\n",
       "                                    Roots                                    \n",
       "=============================================================================\n",
       "                 Real           Imaginary           Modulus         Frequency\n",
       "-----------------------------------------------------------------------------\n",
       "AR.1            1.5740           +0.0000j            1.5740            0.0000\n",
       "-----------------------------------------------------------------------------\n",
       "\"\"\""
      ]
     },
     "execution_count": 177,
     "metadata": {},
     "output_type": "execute_result"
    }
   ],
   "source": [
    "ar1 = ARMA(train_diff.values, (1,0)).fit()\n",
    "ar1.summary()"
   ]
  },
  {
   "cell_type": "code",
   "execution_count": 178,
   "metadata": {},
   "outputs": [
    {
     "data": {
      "text/html": [
       "<table class=\"simpletable\">\n",
       "<caption>ARMA Model Results</caption>\n",
       "<tr>\n",
       "  <th>Dep. Variable:</th>         <td>y</td>        <th>  No. Observations:  </th>   <td>129</td>  \n",
       "</tr>\n",
       "<tr>\n",
       "  <th>Model:</th>            <td>ARMA(0, 1)</td>    <th>  Log Likelihood     </th> <td>-51.932</td>\n",
       "</tr>\n",
       "<tr>\n",
       "  <th>Method:</th>             <td>css-mle</td>     <th>  S.D. of innovations</th>  <td>0.361</td> \n",
       "</tr>\n",
       "<tr>\n",
       "  <th>Date:</th>          <td>Mon, 07 May 2018</td> <th>  AIC                </th> <td>109.864</td>\n",
       "</tr>\n",
       "<tr>\n",
       "  <th>Time:</th>              <td>23:29:02</td>     <th>  BIC                </th> <td>118.443</td>\n",
       "</tr>\n",
       "<tr>\n",
       "  <th>Sample:</th>                <td>0</td>        <th>  HQIC               </th> <td>113.350</td>\n",
       "</tr>\n",
       "<tr>\n",
       "  <th></th>                       <td> </td>        <th>                     </th>    <td> </td>   \n",
       "</tr>\n",
       "</table>\n",
       "<table class=\"simpletable\">\n",
       "<tr>\n",
       "     <td></td>        <th>coef</th>     <th>std err</th>      <th>z</th>      <th>P>|z|</th>  <th>[0.025</th>    <th>0.975]</th>  \n",
       "</tr>\n",
       "<tr>\n",
       "  <th>const</th>   <td>    0.0307</td> <td>    0.053</td> <td>    0.583</td> <td> 0.561</td> <td>   -0.072</td> <td>    0.134</td>\n",
       "</tr>\n",
       "<tr>\n",
       "  <th>ma.L1.y</th> <td>    0.6611</td> <td>    0.070</td> <td>    9.431</td> <td> 0.000</td> <td>    0.524</td> <td>    0.798</td>\n",
       "</tr>\n",
       "</table>\n",
       "<table class=\"simpletable\">\n",
       "<caption>Roots</caption>\n",
       "<tr>\n",
       "    <td></td>   <th>           Real</th> <th>         Imaginary</th> <th>         Modulus</th> <th>        Frequency</th>\n",
       "</tr>\n",
       "<tr>\n",
       "  <th>MA.1</th>              -1.5127                    +0.0000j                    1.5127                    0.5000     \n",
       "</tr>\n",
       "</table>"
      ],
      "text/plain": [
       "<class 'statsmodels.iolib.summary.Summary'>\n",
       "\"\"\"\n",
       "                              ARMA Model Results                              \n",
       "==============================================================================\n",
       "Dep. Variable:                      y   No. Observations:                  129\n",
       "Model:                     ARMA(0, 1)   Log Likelihood                 -51.932\n",
       "Method:                       css-mle   S.D. of innovations              0.361\n",
       "Date:                Mon, 07 May 2018   AIC                            109.864\n",
       "Time:                        23:29:02   BIC                            118.443\n",
       "Sample:                             0   HQIC                           113.350\n",
       "                                                                              \n",
       "==============================================================================\n",
       "                 coef    std err          z      P>|z|      [0.025      0.975]\n",
       "------------------------------------------------------------------------------\n",
       "const          0.0307      0.053      0.583      0.561      -0.072       0.134\n",
       "ma.L1.y        0.6611      0.070      9.431      0.000       0.524       0.798\n",
       "                                    Roots                                    \n",
       "=============================================================================\n",
       "                 Real           Imaginary           Modulus         Frequency\n",
       "-----------------------------------------------------------------------------\n",
       "MA.1           -1.5127           +0.0000j            1.5127            0.5000\n",
       "-----------------------------------------------------------------------------\n",
       "\"\"\""
      ]
     },
     "execution_count": 178,
     "metadata": {},
     "output_type": "execute_result"
    }
   ],
   "source": [
    "#let's try moving average\n",
    "ma1 = ARMA(train_diff.values, (0,1)).fit()\n",
    "ma1.summary()"
   ]
  },
  {
   "cell_type": "code",
   "execution_count": 179,
   "metadata": {},
   "outputs": [
    {
     "data": {
      "text/html": [
       "<table class=\"simpletable\">\n",
       "<caption>ARMA Model Results</caption>\n",
       "<tr>\n",
       "  <th>Dep. Variable:</th>         <td>y</td>        <th>  No. Observations:  </th>   <td>129</td>  \n",
       "</tr>\n",
       "<tr>\n",
       "  <th>Model:</th>            <td>ARMA(1, 1)</td>    <th>  Log Likelihood     </th> <td>-46.400</td>\n",
       "</tr>\n",
       "<tr>\n",
       "  <th>Method:</th>             <td>css-mle</td>     <th>  S.D. of innovations</th>  <td>0.346</td> \n",
       "</tr>\n",
       "<tr>\n",
       "  <th>Date:</th>          <td>Mon, 07 May 2018</td> <th>  AIC                </th> <td>100.800</td>\n",
       "</tr>\n",
       "<tr>\n",
       "  <th>Time:</th>              <td>23:29:07</td>     <th>  BIC                </th> <td>112.239</td>\n",
       "</tr>\n",
       "<tr>\n",
       "  <th>Sample:</th>                <td>0</td>        <th>  HQIC               </th> <td>105.448</td>\n",
       "</tr>\n",
       "<tr>\n",
       "  <th></th>                       <td> </td>        <th>                     </th>    <td> </td>   \n",
       "</tr>\n",
       "</table>\n",
       "<table class=\"simpletable\">\n",
       "<tr>\n",
       "     <td></td>        <th>coef</th>     <th>std err</th>      <th>z</th>      <th>P>|z|</th>  <th>[0.025</th>    <th>0.975]</th>  \n",
       "</tr>\n",
       "<tr>\n",
       "  <th>const</th>   <td>    0.0365</td> <td>    0.074</td> <td>    0.491</td> <td> 0.624</td> <td>   -0.109</td> <td>    0.182</td>\n",
       "</tr>\n",
       "<tr>\n",
       "  <th>ar.L1.y</th> <td>    0.4590</td> <td>    0.112</td> <td>    4.116</td> <td> 0.000</td> <td>    0.240</td> <td>    0.678</td>\n",
       "</tr>\n",
       "<tr>\n",
       "  <th>ma.L1.y</th> <td>    0.3305</td> <td>    0.113</td> <td>    2.920</td> <td> 0.004</td> <td>    0.109</td> <td>    0.552</td>\n",
       "</tr>\n",
       "</table>\n",
       "<table class=\"simpletable\">\n",
       "<caption>Roots</caption>\n",
       "<tr>\n",
       "    <td></td>   <th>           Real</th> <th>         Imaginary</th> <th>         Modulus</th> <th>        Frequency</th>\n",
       "</tr>\n",
       "<tr>\n",
       "  <th>AR.1</th>               2.1785                    +0.0000j                    2.1785                    0.0000     \n",
       "</tr>\n",
       "<tr>\n",
       "  <th>MA.1</th>              -3.0260                    +0.0000j                    3.0260                    0.5000     \n",
       "</tr>\n",
       "</table>"
      ],
      "text/plain": [
       "<class 'statsmodels.iolib.summary.Summary'>\n",
       "\"\"\"\n",
       "                              ARMA Model Results                              \n",
       "==============================================================================\n",
       "Dep. Variable:                      y   No. Observations:                  129\n",
       "Model:                     ARMA(1, 1)   Log Likelihood                 -46.400\n",
       "Method:                       css-mle   S.D. of innovations              0.346\n",
       "Date:                Mon, 07 May 2018   AIC                            100.800\n",
       "Time:                        23:29:07   BIC                            112.239\n",
       "Sample:                             0   HQIC                           105.448\n",
       "                                                                              \n",
       "==============================================================================\n",
       "                 coef    std err          z      P>|z|      [0.025      0.975]\n",
       "------------------------------------------------------------------------------\n",
       "const          0.0365      0.074      0.491      0.624      -0.109       0.182\n",
       "ar.L1.y        0.4590      0.112      4.116      0.000       0.240       0.678\n",
       "ma.L1.y        0.3305      0.113      2.920      0.004       0.109       0.552\n",
       "                                    Roots                                    \n",
       "=============================================================================\n",
       "                 Real           Imaginary           Modulus         Frequency\n",
       "-----------------------------------------------------------------------------\n",
       "AR.1            2.1785           +0.0000j            2.1785            0.0000\n",
       "MA.1           -3.0260           +0.0000j            3.0260            0.5000\n",
       "-----------------------------------------------------------------------------\n",
       "\"\"\""
      ]
     },
     "execution_count": 179,
     "metadata": {},
     "output_type": "execute_result"
    }
   ],
   "source": [
    "#let's try a combo\n",
    "ar1ma1 = ARMA(train_diff.values, (1,1)).fit()\n",
    "ar1ma1.summary()"
   ]
  },
  {
   "cell_type": "markdown",
   "metadata": {},
   "source": [
    "Looks like the combo has the lowest AIC score"
   ]
  },
  {
   "cell_type": "code",
   "execution_count": 186,
   "metadata": {},
   "outputs": [
    {
     "name": "stdout",
     "output_type": "stream",
     "text": [
      "0.432367031155\n"
     ]
    }
   ],
   "source": [
    "#get r2 score!\n",
    "from sklearn.metrics import r2_score\n",
    "r2 = r2_score(train_diff, ar1ma1.fittedvalues)\n",
    "print(r2)"
   ]
  },
  {
   "cell_type": "code",
   "execution_count": 206,
   "metadata": {
    "collapsed": true
   },
   "outputs": [],
   "source": [
    "#let's look at how this model does on the test set\n",
    "\n",
    "#make predictions\n",
    "predictions = ar1ma1.predict(start=train_index, end = train_index+test.shape[0]-2)"
   ]
  },
  {
   "cell_type": "code",
   "execution_count": 207,
   "metadata": {},
   "outputs": [
    {
     "data": {
      "text/plain": [
       "(44, 3)"
      ]
     },
     "execution_count": 207,
     "metadata": {},
     "output_type": "execute_result"
    }
   ],
   "source": [
    "predictions.shape\n",
    "test.shape"
   ]
  },
  {
   "cell_type": "code",
   "execution_count": 208,
   "metadata": {},
   "outputs": [
    {
     "data": {
      "image/png": "[encoded data removed]",
      "text/plain": [
       "<matplotlib.figure.Figure at 0x1167a9e48>"
      ]
     },
     "metadata": {},
     "output_type": "display_data"
    }
   ],
   "source": [
    "#reconstruct the full prediction!\n",
    "\n",
    "date_ticks = data.index.to_timestamp()\n",
    "\n",
    "full_pred_train = train.unemployment_rate.values[0]+np.cumsum(ar1ma1.fittedvalues)\n",
    "full_pred_test = test.unemployment_rate.values[0]+np.cumsum(predictions)\n",
    "\n",
    "fig, ax = plt.subplots(figsize=(12,5))\n",
    "ax.plot(date_ticks[1:train_index], full_pred_train, lw=2, color='grey', ls='dashed')\n",
    "ax.plot(date_ticks[train_index:], full_pred_test, lw=2, color='blue', ls='dashed')\n",
    "\n",
    "ax.plot(date_ticks[1:], data.unemployment_rate[1:], lw=2, color='darkred')\n",
    "ax.plot(date_ticks[1:], data.unemployment_rate[1:], lw=2, color='darkred')\n",
    "\n",
    "plt.show()"
   ]
  },
  {
   "cell_type": "code",
   "execution_count": 223,
   "metadata": {},
   "outputs": [
    {
     "name": "stdout",
     "output_type": "stream",
     "text": [
      "0.749079602281\n"
     ]
    }
   ],
   "source": [
    "from sklearn.metrics import mean_squared_error\n",
    "\n",
    "rmse = np.sqrt(mean_squared_error(full_pred_train, train.unemployment_rate[1:]))\n",
    "print(rmse)"
   ]
  },
  {
   "cell_type": "code",
   "execution_count": 228,
   "metadata": {},
   "outputs": [
    {
     "data": {
      "text/html": [
       "<div>\n",
       "<style>\n",
       "    .dataframe thead tr:only-child th {\n",
       "        text-align: right;\n",
       "    }\n",
       "\n",
       "    .dataframe thead th {\n",
       "        text-align: left;\n",
       "    }\n",
       "\n",
       "    .dataframe tbody tr th {\n",
       "        vertical-align: top;\n",
       "    }\n",
       "</style>\n",
       "<table border=\"1\" class=\"dataframe\">\n",
       "  <thead>\n",
       "    <tr style=\"text-align: right;\">\n",
       "      <th></th>\n",
       "      <th>unemployment_rate</th>\n",
       "      <th>unemp_diff</th>\n",
       "    </tr>\n",
       "  </thead>\n",
       "  <tbody>\n",
       "    <tr>\n",
       "      <th>count</th>\n",
       "      <td>130.000000</td>\n",
       "      <td>129.000000</td>\n",
       "    </tr>\n",
       "    <tr>\n",
       "      <th>mean</th>\n",
       "      <td>5.178208</td>\n",
       "      <td>0.027907</td>\n",
       "    </tr>\n",
       "    <tr>\n",
       "      <th>std</th>\n",
       "      <td>1.391434</td>\n",
       "      <td>0.460938</td>\n",
       "    </tr>\n",
       "    <tr>\n",
       "      <th>min</th>\n",
       "      <td>2.567000</td>\n",
       "      <td>-0.966000</td>\n",
       "    </tr>\n",
       "    <tr>\n",
       "      <th>25%</th>\n",
       "      <td>3.958000</td>\n",
       "      <td>-0.233000</td>\n",
       "    </tr>\n",
       "    <tr>\n",
       "      <th>50%</th>\n",
       "      <td>5.216500</td>\n",
       "      <td>-0.034000</td>\n",
       "    </tr>\n",
       "    <tr>\n",
       "      <th>75%</th>\n",
       "      <td>5.958500</td>\n",
       "      <td>0.167000</td>\n",
       "    </tr>\n",
       "    <tr>\n",
       "      <th>max</th>\n",
       "      <td>8.867000</td>\n",
       "      <td>1.667000</td>\n",
       "    </tr>\n",
       "  </tbody>\n",
       "</table>\n",
       "</div>"
      ],
      "text/plain": [
       "       unemployment_rate  unemp_diff\n",
       "count         130.000000  129.000000\n",
       "mean            5.178208    0.027907\n",
       "std             1.391434    0.460938\n",
       "min             2.567000   -0.966000\n",
       "25%             3.958000   -0.233000\n",
       "50%             5.216500   -0.034000\n",
       "75%             5.958500    0.167000\n",
       "max             8.867000    1.667000"
      ]
     },
     "execution_count": 228,
     "metadata": {},
     "output_type": "execute_result"
    }
   ],
   "source": [
    "train.describe()"
   ]
  },
  {
   "cell_type": "code",
   "execution_count": 232,
   "metadata": {},
   "outputs": [
    {
     "name": "stdout",
     "output_type": "stream",
     "text": [
      "14.506769825918761\n"
     ]
    }
   ],
   "source": [
    "error_percentage = .75/5.17 \n",
    "print(error_percentage*100)"
   ]
  }
 ],
 "metadata": {
  "kernelspec": {
   "display_name": "Python 3",
   "language": "python",
   "name": "python3"
  },
  "language_info": {
   "codemirror_mode": {
    "name": "ipython",
    "version": 3
   },
   "file_extension": ".py",
   "mimetype": "text/x-python",
   "name": "python",
   "nbconvert_exporter": "python",
   "pygments_lexer": "ipython3",
   "version": "3.6.4"
  }
 },
 "nbformat": 4,
 "nbformat_minor": 2
}
