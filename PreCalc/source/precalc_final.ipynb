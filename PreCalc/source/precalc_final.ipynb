{
 "cells": [
  {
   "cell_type": "markdown",
   "metadata": {},
   "source": [
    "# PreCalculus Final\n",
    "\n",
    "For each of the problems below, please fill in the remaining representations of the functions.  A complete solution will contain:\n",
    "\n",
    "- A Table representation\n",
    "- A recursive relation\n",
    "- A closed form functional equation\n",
    "- A graph \n",
    "- Words that explain what kind of function this is and how you know, and identify the key features for each function.\n",
    "\n",
    "   - Linear Functions: Slope and Intercept\n",
    "   - Exponential Functions: Starting Value and Growth Rate\n",
    "   - Quadratic Functions: Linear Rate of Change\n",
    "   - Trigonometric Functions: Amplitude, Vertical Shift, Period, Phase - Shift\n"
   ]
  },
  {
   "cell_type": "markdown",
   "metadata": {},
   "source": [
    "### Problem I\n",
    "|n| $a_n$ |\n",
    "| --- | --- |\n",
    "| 0 | 7.0 |\n",
    "|1 | 4.6 |\n",
    "|2 | 2.2 |\n",
    "|3 | -0.2 |\n",
    "|4 | -2.6 |\n",
    "|5 | -5.0 |"
   ]
  },
  {
   "cell_type": "markdown",
   "metadata": {},
   "source": [
    "### Problem II\n",
    "\n",
    "| $n$ | $b_n$ |\n",
    "| --- | ---- |\n",
    "| 0 | | -5 |\n",
    "| 1 | | -4 |\n",
    "| 2 | | -1 |\n",
    "| 3 | | 4 |\n",
    "| 4 | | 11 |\n",
    "| 5 | | 20 |"
   ]
  },
  {
   "cell_type": "markdown",
   "metadata": {},
   "source": [
    "### Problem III\n",
    "\n",
    "| $n$ | $c_n$ |\n",
    "| --- | --- |\n",
    "| 0 | | 600.0 |\n",
    "| 1 | | 620.4 |\n",
    "| 2 | | 641.49 |\n",
    "| 3 | | 663.30 |\n",
    "| 4 | | 685.86 |\n",
    "| 5 | | 709.18 |"
   ]
  },
  {
   "cell_type": "markdown",
   "metadata": {},
   "source": [
    "### Problem IV\n",
    "\n",
    "| $n$ | $d_n$ |\n",
    "| --- | --- |\n",
    "| 0 | | 4.4 |\n",
    "| 2 | | 5.5 |\n",
    "| 4 | | 7.0 |\n",
    "| 6 | | 8.5 |\n",
    "| 8 | | 9.6 |\n",
    "| 10 | | 10.0 |\n",
    "| 12 | | 9.6 |\n",
    "| 14 | | 8.5 |\n",
    "| 16 | | 7.0 |\n",
    "| 18 | | 5.5 |\n",
    "| 20 | | 4.4 |\n",
    "| 22 | | 4.0 |\n",
    "| 24 | | 4.4 |"
   ]
  },
  {
   "cell_type": "markdown",
   "metadata": {},
   "source": [
    "### Problem V\n",
    "\n",
    "Find the equation for the line passing through each pair of points:\n",
    "\n",
    "a. $(1, -2), (2, 6)$\n",
    "\n",
    "\n",
    "b. $(1, 2), (3, 2)$\n"
   ]
  },
  {
   "cell_type": "markdown",
   "metadata": {},
   "source": [
    "### Problem VI\n",
    "\n",
    "The following set of data fall into a roughly exponential pattern of the form $y = 20b^x$, with $b$ between 1.00 and 1.10.  Using trial-and-error, determine the value of $b$, correct to two decimal places, that produces the best exponential function to fit this data.\n",
    "\n",
    "| $x$ | 0 | 1 | 2 | 3 | 4 | 5 | 6 | 7 | \n",
    "| --- | --- | --- | --- | --- | --- | --- | --- | --- |\n",
    "| $y$ | 20 | 21.46 | 22.99 | 24.64 | 26.43 | 28.33 | 30.35 | 32.56 |"
   ]
  },
  {
   "cell_type": "markdown",
   "metadata": {},
   "source": [
    "### Problem VII\n",
    "\n",
    "The historical average daytime high temperature in Fiarbanks ranges from a low of -20 to a high of 64.  The coldest day of the year is the 41st day.\n",
    "\n",
    "a. Create a sinusoidal function that can be used to model the average daytime high temperature in Fairbanks as a function of the day of the year.\n",
    "\n",
    "b. Predict the daytime high temperature in Fiarbanks on February 2.\n",
    "\n",
    "c. Predict the daytime high temperature in Fairbanks on April 21."
   ]
  }
 ],
 "metadata": {
  "kernelspec": {
   "display_name": "Python 3",
   "language": "python",
   "name": "python3"
  },
  "language_info": {
   "codemirror_mode": {
    "name": "ipython",
    "version": 3
   },
   "file_extension": ".py",
   "mimetype": "text/x-python",
   "name": "python",
   "nbconvert_exporter": "python",
   "pygments_lexer": "ipython3",
   "version": "3.6.4"
  }
 },
 "nbformat": 4,
 "nbformat_minor": 2
}
