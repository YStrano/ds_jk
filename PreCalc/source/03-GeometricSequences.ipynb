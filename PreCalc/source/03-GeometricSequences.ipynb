{
 "cells": [
  {
   "cell_type": "markdown",
   "metadata": {},
   "source": [
    "# Geometric Sequences\n",
    "\n",
    "A **geometric sequence** is a sequence formed by repeated multiplication of previous terms.  When compared to an **arithmetic sequence** we recognize the **geometric sequence** due to its constant ratio between terms."
   ]
  },
  {
   "cell_type": "markdown",
   "metadata": {},
   "source": [
    "![](images/seqcontrast.png)"
   ]
  },
  {
   "cell_type": "markdown",
   "metadata": {},
   "source": [
    "### Compound Interest: Recursive Definition\n",
    "\n",
    "**Definition**: Compound Interest is interest applied to the balance in the bank account.  \n",
    "\n",
    "**Example**: Suppose we invest 500 dollars in a bank account that earns 3.25% monthly interest.  \n",
    "\n",
    "$$b_{n+1} = b_n \\times 1.0325$$\n",
    "\n",
    "This is because 3.25% of 500 is found by multiplying\n",
    "\n",
    "$$0.0325 \\times 500$$\n",
    "\n",
    "Then, we add this to the amount in the account -- 500.\n",
    "\n",
    "$$ 500 + 500(0.0325)$$\n",
    "\n",
    "This is the same as multiplying by 1.0325.\n",
    "\n",
    "$$500(1 + 0.0325) = 500(1.0325)$$"
   ]
  },
  {
   "cell_type": "code",
   "execution_count": 6,
   "metadata": {},
   "outputs": [],
   "source": [
    "b = [500]\n",
    "for i in range(11):\n",
    "    next = b[i]*1.0325\n",
    "    b.append(next)"
   ]
  },
  {
   "cell_type": "code",
   "execution_count": 7,
   "metadata": {},
   "outputs": [
    {
     "data": {
      "text/plain": [
       "[500,\n",
       " 516.25,\n",
       " 533.0281249999999,\n",
       " 550.3515390624999,\n",
       " 568.2379640820311,\n",
       " 586.7056979146971,\n",
       " 605.7736330969248,\n",
       " 625.4612761725748,\n",
       " 645.7887676481835,\n",
       " 666.7769025967494,\n",
       " 688.4471519311438,\n",
       " 710.821684368906]"
      ]
     },
     "execution_count": 7,
     "metadata": {},
     "output_type": "execute_result"
    }
   ],
   "source": [
    "b"
   ]
  },
  {
   "cell_type": "code",
   "execution_count": 8,
   "metadata": {},
   "outputs": [],
   "source": [
    "%matplotlib inline\n",
    "import matplotlib.pyplot as plt"
   ]
  },
  {
   "cell_type": "code",
   "execution_count": 9,
   "metadata": {},
   "outputs": [
    {
     "data": {
      "text/plain": [
       "[<matplotlib.lines.Line2D at 0x11b940a20>]"
      ]
     },
     "execution_count": 9,
     "metadata": {},
     "output_type": "execute_result"
    },
    {
     "data": {
      "image/png": "[encoded data removed]",
      "text/plain": [
       "<matplotlib.figure.Figure at 0x11b7fc780>"
      ]
     },
     "metadata": {},
     "output_type": "display_data"
    }
   ],
   "source": [
    "plt.plot(b, '--o')"
   ]
  },
  {
   "cell_type": "markdown",
   "metadata": {},
   "source": [
    "### Compound Interest: Functional Form\n",
    "\n",
    "Using the pattern above, we can represent a given **geometric sequence** using functional notation.  First, we recognize that the repeated multiplication of terms gives way to exponents.  \n",
    "\n",
    "**EXAMPLE**: $$b_{n+1} = b_n \\times 3; b_0 = 2$$\n",
    "\n",
    "$$b_1 = 2 \\times 3$$\n",
    "$$b_2 = 2 \\times 3 \\times 3$$\n",
    "$$b_3 = 2 \\times 3 \\times 3 \\times 3$$\n",
    "\n",
    "Thus, in general we would have:\n",
    "\n",
    "\n",
    "$$b_n = 2 \\times 3^n$$\n",
    "\n",
    "In the example of **compound interest**, we have the first term as the starting principal, we have the multiplier as the rate + 1, and the exponent is the number of compoundings.\n",
    "\n",
    "$$B(n) = P\\times (1 + r)^n$$"
   ]
  },
  {
   "cell_type": "code",
   "execution_count": 10,
   "metadata": {},
   "outputs": [],
   "source": [
    "def compound_interest(principal, rate, compoundings):\n",
    "    return principal*(1 + rate)**(compoundings)"
   ]
  },
  {
   "cell_type": "code",
   "execution_count": 12,
   "metadata": {},
   "outputs": [
    {
     "data": {
      "text/plain": [
       "69852.2557185072"
      ]
     },
     "execution_count": 12,
     "metadata": {},
     "output_type": "execute_result"
    }
   ],
   "source": [
    "compound_interest(400, 0.24, 24)"
   ]
  },
  {
   "cell_type": "code",
   "execution_count": 13,
   "metadata": {},
   "outputs": [],
   "source": [
    "def b(n):\n",
    "    return 400*(1.0325)**n"
   ]
  },
  {
   "cell_type": "code",
   "execution_count": 18,
   "metadata": {},
   "outputs": [],
   "source": [
    "n = [i for i in range(36)]\n",
    "principal = [b(i) for i in n]"
   ]
  },
  {
   "cell_type": "code",
   "execution_count": 29,
   "metadata": {},
   "outputs": [
    {
     "data": {
      "text/plain": [
       "([<matplotlib.axis.XTick at 0x1104fd588>,\n",
       "  <matplotlib.axis.XTick at 0x11c25d588>,\n",
       "  <matplotlib.axis.XTick at 0x110509828>,\n",
       "  <matplotlib.axis.XTick at 0x11c9cb630>,\n",
       "  <matplotlib.axis.XTick at 0x11c9cbc88>,\n",
       "  <matplotlib.axis.XTick at 0x11c9d0358>,\n",
       "  <matplotlib.axis.XTick at 0x11c9d09e8>],\n",
       " <a list of 7 Text xticklabel objects>)"
      ]
     },
     "execution_count": 29,
     "metadata": {},
     "output_type": "execute_result"
    },
    {
     "data": {
      "image/png": "[encoded data removed]",
      "text/plain": [
       "<matplotlib.figure.Figure at 0x11c46bcf8>"
      ]
     },
     "metadata": {},
     "output_type": "display_data"
    }
   ],
   "source": [
    "plt.figure(figsize = (10, 6))\n",
    "plt.plot(principal, '--o', markersize = 2)\n",
    "plt.title(\"Compound Interest Example\", loc = 'right', size = 12)\n",
    "plt.xlabel('Months')\n",
    "plt.xticks([0, 6, 12, 18, 24, 30, 36])"
   ]
  }
 ],
 "metadata": {
  "kernelspec": {
   "display_name": "Python 3",
   "language": "python",
   "name": "python3"
  },
  "language_info": {
   "codemirror_mode": {
    "name": "ipython",
    "version": 3
   },
   "file_extension": ".py",
   "mimetype": "text/x-python",
   "name": "python",
   "nbconvert_exporter": "python",
   "pygments_lexer": "ipython3",
   "version": "3.6.3"
  }
 },
 "nbformat": 4,
 "nbformat_minor": 2
}
