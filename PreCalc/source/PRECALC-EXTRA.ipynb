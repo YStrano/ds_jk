{
 "cells": [
  {
   "cell_type": "code",
   "execution_count": 1,
   "metadata": {},
   "outputs": [],
   "source": [
    "%matplotlib inline\n",
    "import matplotlib.pyplot as plt\n",
    "import numpy as np\n",
    "import pandas as pd"
   ]
  },
  {
   "cell_type": "markdown",
   "metadata": {},
   "source": [
    "### Linear Function\n",
    "\n",
    "- Constant Rate of Change\n",
    "- Arithmetic Sequence is Synonymous\n",
    "- Slope and Intercept are key features\n",
    "\n",
    "To make a linear function, pick a number, pick a difference, start with the number and continually add your difference.\n",
    "\n",
    "**EX**: Start at 6 and Difference of 2.2\n",
    "\n",
    "$$6, 8.2, 10.4, 12.6, 14.8, ...$$"
   ]
  },
  {
   "cell_type": "code",
   "execution_count": 12,
   "metadata": {},
   "outputs": [],
   "source": [
    "a = [6]\n",
    "for i in range(10):\n",
    "    next = a[i] + 2.2\n",
    "    a.append(next)"
   ]
  },
  {
   "cell_type": "code",
   "execution_count": 16,
   "metadata": {},
   "outputs": [
    {
     "data": {
      "text/plain": [
       "Text(0.5,1,'A Linear Function')"
      ]
     },
     "execution_count": 16,
     "metadata": {},
     "output_type": "execute_result"
    },
    {
     "data": {
      "image/png": "[encoded data removed]",
      "text/plain": [
       "<matplotlib.figure.Figure at 0x107b36240>"
      ]
     },
     "metadata": {},
     "output_type": "display_data"
    }
   ],
   "source": [
    "plt.plot(a, '--o')\n",
    "plt.title(\"A Linear Function\")"
   ]
  },
  {
   "cell_type": "markdown",
   "metadata": {},
   "source": [
    "The equation for this relationship in functional form would be \n",
    "\n",
    "$$y = 2.2x + 6$$\n",
    "\n",
    "Note the relationship to the sequence definition:\n",
    "\n",
    "$$a_{n+1} = a_n + 2.2 \\quad a_0 = 6$$"
   ]
  },
  {
   "cell_type": "markdown",
   "metadata": {},
   "source": [
    "### Quadratic\n",
    "\n",
    "Now, we look to a rate of change that is itself a linear function.  We start with some value, and add terms that are themselves an arithmetic sequence.  \n",
    "\n",
    "$$ a_0 = 4 $$\n",
    "$$ a_1 = 4 + 1 $$\n",
    "$$ a_2 = 4 + 1 + 3 $$\n",
    "$$ a_3 = 4 + 1 + 3 + 5 $$\n",
    "$$ a_4 = 4 + 1 + 3 + 5 + 7 $$\n",
    "\n",
    "Thus, we have a starting value, and an expression for a rate of change.  This time, the rate of change is not constant.\n",
    "\n",
    "$$ a_{n+1} = a_n + (2n - 1) \\quad a_0 = 4$$\n",
    "\n",
    "Note that we are relating our difference term to the value of $n$.\n",
    "\n",
    "Also, if we look at the values for the terms of the sequence:\n",
    "\n",
    "$$4, 5, 8, 13, 20, 29, 40, 53, 68, 85, 104$$\n",
    "\n",
    "we should recognize a relationship involving a square.\n",
    "\n",
    "$$f(x) = x^2 + 4$$"
   ]
  },
  {
   "cell_type": "code",
   "execution_count": 19,
   "metadata": {},
   "outputs": [],
   "source": [
    "a = [4]\n",
    "for i in range(10):\n",
    "    next = a[i] + (2*i + 1)\n",
    "    a.append(next)"
   ]
  },
  {
   "cell_type": "code",
   "execution_count": 20,
   "metadata": {},
   "outputs": [
    {
     "data": {
      "text/plain": [
       "[4, 5, 8, 13, 20, 29, 40, 53, 68, 85, 104]"
      ]
     },
     "execution_count": 20,
     "metadata": {},
     "output_type": "execute_result"
    }
   ],
   "source": [
    "a"
   ]
  },
  {
   "cell_type": "code",
   "execution_count": 22,
   "metadata": {},
   "outputs": [
    {
     "data": {
      "text/plain": [
       "Text(0.5,1,'A Quadratic Function')"
      ]
     },
     "execution_count": 22,
     "metadata": {},
     "output_type": "execute_result"
    },
    {
     "data": {
      "image/png": "[encoded data removed]",
      "text/plain": [
       "<matplotlib.figure.Figure at 0x107a40128>"
      ]
     },
     "metadata": {},
     "output_type": "display_data"
    }
   ],
   "source": [
    "plt.plot(a, '-o')\n",
    "plt.title(\"A Quadratic Function\")"
   ]
  },
  {
   "cell_type": "markdown",
   "metadata": {},
   "source": [
    "### Exponential Functions and Geometric Sequences\n",
    "\n",
    "Here, we have an initial term and a *common ratio* that is multiplied by every term.  For example, suppose we start with $b_0 = 3$ and have $r = 1.2$.  \n",
    "\n",
    "$$ b_0 = 3 $$\n",
    "$$b_1 = 3*1.2$$\n",
    "$$b_2 = 3*1.2*1.2$$\n",
    "$$b_3 = 3*1.2*1.2*1.2$$\n",
    "\n",
    "In functional form, we would have:\n",
    "\n",
    "$$g(x) = 3*(1.2)^x $$"
   ]
  },
  {
   "cell_type": "code",
   "execution_count": 26,
   "metadata": {},
   "outputs": [],
   "source": [
    "b = [3]\n",
    "for i in range(10):\n",
    "    next = b[i]*1.2\n",
    "    b.append(next)"
   ]
  },
  {
   "cell_type": "code",
   "execution_count": 27,
   "metadata": {},
   "outputs": [
    {
     "data": {
      "text/plain": [
       "[3,\n",
       " 3.5999999999999996,\n",
       " 4.319999999999999,\n",
       " 5.183999999999999,\n",
       " 6.220799999999999,\n",
       " 7.464959999999998,\n",
       " 8.957951999999997,\n",
       " 10.749542399999996,\n",
       " 12.899450879999995,\n",
       " 15.479341055999992,\n",
       " 18.57520926719999]"
      ]
     },
     "execution_count": 27,
     "metadata": {},
     "output_type": "execute_result"
    }
   ],
   "source": [
    "b"
   ]
  },
  {
   "cell_type": "code",
   "execution_count": 29,
   "metadata": {},
   "outputs": [
    {
     "data": {
      "text/plain": [
       "Text(0.5,1,'An Exponential Function')"
      ]
     },
     "execution_count": 29,
     "metadata": {},
     "output_type": "execute_result"
    },
    {
     "data": {
      "image/png": "[encoded data removed]",
      "text/plain": [
       "<matplotlib.figure.Figure at 0x107f47e80>"
      ]
     },
     "metadata": {},
     "output_type": "display_data"
    }
   ],
   "source": [
    "plt.plot(b, '--o')\n",
    "plt.title(\"An Exponential Function\")"
   ]
  },
  {
   "cell_type": "markdown",
   "metadata": {},
   "source": [
    "### Trigonometric Functions\n",
    "\n",
    "Finally, we have a situation where things alternate.  We may have a sequence that does something like:\n",
    "\n",
    "$$0, .5, 1, .5, 0, -.5, -1, -.5, 0$$\n",
    "\n",
    "This alternating pattern is connected to a trigonometric function.  We've highlighted the sin function, where in general we have \n",
    "\n",
    "$$y = A + B\\sin(C(x - D))$$\n",
    "\n",
    "Here, \n",
    "\n",
    "- $A$ is vertical shift from zero and the middle line of our plot.\n",
    "- $B$ is the height from the vertical line\n",
    "- $C$ is the period of our function\n",
    "- $D$ is the phase shift or horizontal shift\n",
    "\n",
    "For a different example, let's imagine the problem of rising and falling temperatures.  Imagine that over the last twenty four hours, the following hourly temperatures have held\n",
    "\n",
    "| Time | Temperature |\n",
    "| ---- | ----------- |\n",
    "| 12:00 am | 50 |\n",
    "| 3:00 am | 48 |\n",
    "| 6:00 am | 46 |\n",
    "| 9:00 am | 48 |\n",
    "| 12:00 pm | 50 |\n",
    "| 3:00 pm | 52 |\n",
    "| 6:00 pm | 50 |\n",
    "\n",
    "Here, we seem to have a midline of 49 (halfway between low and high).  Also, it seems to have an amplitude of 3, as our high and low are 3 degrees from the middle.  It will take 24 hours to complete a cycle, so our period is going to be $\\frac{2\\pi}{24}$.  Finally, because we don't start at the midline, and would be at 49 degrees only one hour and a half after 12:00 am, we have a horizontal shift of 1.5.  Putting this together, we get:\n",
    "\n",
    "$$f(x) = 49 + 3\\sin(\\frac{2\\pi}{24}(x - 1.5))$$"
   ]
  },
  {
   "cell_type": "code",
   "execution_count": 34,
   "metadata": {},
   "outputs": [],
   "source": [
    "def f(x):\n",
    "    return 49 + 3*np.sin((2*np.pi)/24*(x - 1.5))"
   ]
  },
  {
   "cell_type": "code",
   "execution_count": 35,
   "metadata": {},
   "outputs": [],
   "source": [
    "x = np.linspace(0, 24, 1000)"
   ]
  },
  {
   "cell_type": "code",
   "execution_count": 38,
   "metadata": {},
   "outputs": [
    {
     "data": {
      "text/plain": [
       "<matplotlib.lines.Line2D at 0x1083dfac8>"
      ]
     },
     "execution_count": 38,
     "metadata": {},
     "output_type": "execute_result"
    },
    {
     "data": {
      "image/png": "[encoded data removed]",
      "text/plain": [
       "<matplotlib.figure.Figure at 0x1083dfc50>"
      ]
     },
     "metadata": {},
     "output_type": "display_data"
    }
   ],
   "source": [
    "plt.plot(x, f(x))\n",
    "plt.axhline(49, color = 'black')"
   ]
  },
  {
   "cell_type": "markdown",
   "metadata": {},
   "source": [
    "### CONTINUING\n",
    "\n",
    "Follow these examples above to generate more examples of linear, quadratic, exponential, and trigonometric functions.\n",
    "\n",
    "For linear functions, choose a starting value and common difference.\n",
    "\n",
    "For exponential functions, choose a starting value and ratio.\n",
    "\n",
    "For quadratic functions, choose a starting value, and a linear rate of change.\n",
    "\n",
    "For trigonometric functions, choose a starting value, and make sure you alternate up and down over some period of time."
   ]
  }
 ],
 "metadata": {
  "kernelspec": {
   "display_name": "Python 3",
   "language": "python",
   "name": "python3"
  },
  "language_info": {
   "codemirror_mode": {
    "name": "ipython",
    "version": 3
   },
   "file_extension": ".py",
   "mimetype": "text/x-python",
   "name": "python",
   "nbconvert_exporter": "python",
   "pygments_lexer": "ipython3",
   "version": "3.6.4"
  }
 },
 "nbformat": 4,
 "nbformat_minor": 2
}
