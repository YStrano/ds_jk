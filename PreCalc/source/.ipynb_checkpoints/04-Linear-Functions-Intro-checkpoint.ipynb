{
 "cells": [
  {
   "cell_type": "markdown",
   "metadata": {},
   "source": [
    "# Introduction to Linear Functions\n",
    "\n",
    "According to [Wikipedia](https://en.wikipedia.org/wiki/Linear_function):\n",
    "\n",
    "<div class=\"alert alert-info\" role=\"alert\">\n",
    "a <strong>linear function</strong> is a polynomial of degree one or less...when the function is of only one variable, is it of the form\n",
    "\n",
    "$$f(x) = ax + b$$\n",
    "</div>"
   ]
  },
  {
   "cell_type": "markdown",
   "metadata": {},
   "source": [
    "### Graphical Representations\n",
    "\n",
    "![](images/linear.png)"
   ]
  },
  {
   "cell_type": "markdown",
   "metadata": {},
   "source": [
    "### Tables of Linear Formulas\n",
    "\n"
   ]
  },
  {
   "cell_type": "markdown",
   "metadata": {},
   "source": [
    "<table border=\"1\" class=\"dataframe\">\n",
    " <thead>\n",
    " <tr style=\"text-align: right;\">\n",
    " <th></th>\n",
    " <th>First Difference</th>\n",
    " <th>f(x)</th>\n",
    " </tr>\n",
    " </thead>\n",
    " <tbody>\n",
    " <tr>\n",
    " <th>0</th>\n",
    " <td>2</td>\n",
    " <td>4</td>\n",
    " </tr>\n",
    " <tr>\n",
    " <th>1</th>\n",
    " <td>2</td>\n",
    " <td>6</td>\n",
    " </tr>\n",
    " <tr>\n",
    " <th>2</th>\n",
    " <td>2</td>\n",
    " <td>8</td>\n",
    " </tr>\n",
    " <tr>\n",
    " <th>3</th>\n",
    " <td>2</td>\n",
    " <td>10</td>\n",
    " </tr>\n",
    " <tr>\n",
    " <th>4</th>\n",
    " <td>2</td>\n",
    " <td>12</td>\n",
    " </tr>\n",
    " <tr>\n",
    " <th>5</th>\n",
    " <td>2</td>\n",
    " <td>14</td>\n",
    " </tr>\n",
    " <tr>\n",
    " <th>6</th>\n",
    " <td>2</td>\n",
    " <td>16</td>\n",
    " </tr>\n",
    " <tr>\n",
    " <th>7</th>\n",
    " <td>2</td>\n",
    " <td>18</td>\n",
    " </tr>\n",
    " <tr>\n",
    " <th>8</th>\n",
    " <td>2</td>\n",
    " <td>20</td>\n",
    " </tr>\n",
    " <tr>\n",
    " <th>9</th>\n",
    " <td>2</td>\n",
    " <td>22</td>\n",
    " </tr>\n",
    " </tbody>\n",
    " </table>"
   ]
  },
  {
   "cell_type": "markdown",
   "metadata": {},
   "source": [
    "### Key Characteristic: Slope\n",
    "\n",
    "The **slope** of a linear function is the rate of change from one term to another.  In the case of our arithmetic sequences, we would consider this the difference between terms.  We would find this the same way, by looking at the rate of change between terms.  Above, we have functional values of \n",
    "\n",
    "$$4, 6, 8, 10, 12, ...$$\n",
    "\n",
    "These are increasing by 2 every term.  This is synonymous with the **slope** of the line.  In general, we have\n",
    "\n",
    "$$\\text{slope} = \\frac{x_2 - x_1}{y_2 - y_1}$$\n",
    "\n",
    "Where we have any two points from our function $(x_1, y_1)$ and $(x_2, y_2)$."
   ]
  },
  {
   "cell_type": "markdown",
   "metadata": {},
   "source": [
    "### Problem Types\n",
    "\n",
    "We want to be able to do the following things with Linear Functions:\n",
    "\n",
    "- Move between representations (often this will be from words to symbols and graphs)\n",
    "- Given slope and intercept, generate different representations\n",
    "- Given a point on the line and a slope, generate different representations\n",
    "- Given two points generate different representations"
   ]
  },
  {
   "cell_type": "markdown",
   "metadata": {},
   "source": [
    "### Examples\n",
    "\n",
    "1. Solve the following for $x$:\n",
    "    1. $3x - 4 = 5 + 2x$\n",
    "    2. $ 3(x- 5) + 3 = 9x + 6(2 - x)$\n",
    "    3. $2(x - 3) = 3(x-2)$\n",
    "    \n",
    "2. For each equation, identify the form(point-slope, slope intercept, or standard form), and describe how to create a quick graph:\n",
    "    1. $y = 3x - 4$\n",
    "    2. $y = x+2$\n",
    "    3. $x/2 + y/4 = 1$\n",
    "    4. $y - 2 = 0.5(x-3)$\n",
    "    5. $y -5 = 2x$\n",
    "    \n",
    "3. For each pair of points, determine an equation of the line and a quick graph:\n",
    "    1. $(2, 0), (0, 4)$\n",
    "    2. $(1, 3), (3, 8)$\n",
    "    3. $(-3, 5), (4, -3)$\n",
    "    \n",
    "    \n",
    " "
   ]
  },
  {
   "cell_type": "code",
   "execution_count": 2,
   "metadata": {},
   "outputs": [
    {
     "data": {
      "image/png": "[encoded data removed]",
      "text/plain": [
       "<matplotlib.figure.Figure at 0x1148e9dd8>"
      ]
     },
     "metadata": {},
     "output_type": "display_data"
    }
   ],
   "source": [
    "%matplotlib inline\n",
    "import matplotlib.pyplot as plt\n",
    "import numpy as np\n",
    "\n",
    "def f(x):\n",
    "    return -x + 5\n",
    "\n",
    "def g(x):\n",
    "    return 0.5*x + 2\n",
    "\n",
    "x = np.linspace(-10, 10, 100)\n",
    "plt.plot(x, f(x), label = '$f(x) = -x+5$')\n",
    "plt.plot(x, g(x), label = '$g(x) = 1/2x + 2$')\n",
    "plt.legend(loc = 'best', frameon = False)\n",
    "plt.axhline(color = 'black')\n",
    "plt.axvline(color = 'black')\n",
    "plt.title(\"Graphs of Linear Functions\", size = 12, loc = 'left')\n",
    "plt.savefig('images/linear.png')"
   ]
  }
 ],
 "metadata": {
  "kernelspec": {
   "display_name": "Python 3",
   "language": "python",
   "name": "python3"
  },
  "language_info": {
   "codemirror_mode": {
    "name": "ipython",
    "version": 3
   },
   "file_extension": ".py",
   "mimetype": "text/x-python",
   "name": "python",
   "nbconvert_exporter": "python",
   "pygments_lexer": "ipython3",
   "version": "3.6.4"
  }
 },
 "nbformat": 4,
 "nbformat_minor": 2
}
