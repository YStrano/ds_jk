{
 "cells": [
  {
   "cell_type": "code",
   "execution_count": 1,
   "metadata": {},
   "outputs": [],
   "source": [
    "import billboard"
   ]
  },
  {
   "cell_type": "code",
   "execution_count": 2,
   "metadata": {},
   "outputs": [],
   "source": [
    "chart = billboard.ChartData('hot-100')"
   ]
  },
  {
   "cell_type": "code",
   "execution_count": 3,
   "metadata": {},
   "outputs": [
    {
     "name": "stdout",
     "output_type": "stream",
     "text": [
      "hot-100 chart from 2018-05-19\n",
      "-----------------------------\n",
      "1. 'This Is America' by Childish Gambino\n",
      "2. 'Nice For What' by Drake\n",
      "3. 'God's Plan' by Drake\n",
      "4. 'Psycho' by Post Malone Featuring Ty Dolla $ign\n",
      "5. 'Meant To Be' by Bebe Rexha & Florida Georgia Line\n",
      "6. 'The Middle' by Zedd, Maren Morris & Grey\n",
      "7. 'Look Alive' by BlocBoy JB Featuring Drake\n",
      "8. 'Never Be The Same' by Camila Cabello\n",
      "9. 'Perfect' by Ed Sheeran\n",
      "10. 'No Tears Left To Cry' by Ariana Grande\n",
      "11. 'Freaky Friday' by Lil Dicky Featuring Chris Brown\n",
      "12. 'Whatever It Takes' by Imagine Dragons\n",
      "13. 'Rockstar' by Post Malone Featuring 21 Savage\n",
      "14. 'Walk It Talk It' by Migos Featuring Drake\n",
      "15. 'Mine' by Bazzi\n",
      "16. 'Watch' by Travis Scott Featuring Lil Uzi Vert & Kanye West\n",
      "17. 'Boo'd Up' by Ella Mai\n",
      "18. 'I Like It' by Cardi B, Bad Bunny & J Balvin\n",
      "19. 'Chun-Li' by Nicki Minaj\n",
      "20. 'Heaven' by Kane Brown\n",
      "21. 'Friends' by Marshmello & Anne-Marie\n",
      "22. 'Pray For Me' by The Weeknd & Kendrick Lamar\n",
      "23. 'Better Now' by Post Malone\n",
      "24. 'Havana' by Camila Cabello Featuring Young Thug\n",
      "25. 'Be Careful' by Cardi B\n",
      "26. 'Plug Walk' by Rich The Kid\n",
      "27. 'In My Blood' by Shawn Mendes\n",
      "28. 'Powerglide' by Rae Sremmurd & Juicy J\n",
      "29. 'Call Out My Name' by The Weeknd\n",
      "30. 'Wait' by Maroon 5\n",
      "31. 'Finesse' by Bruno Mars & Cardi B\n",
      "32. 'New Rules' by Dua Lipa\n",
      "33. 'You Make It Easy' by Jason Aldean\n",
      "34. 'Sad!' by XXXTENTACION\n",
      "35. 'All The Stars' by Kendrick Lamar & SZA\n",
      "36. 'Dame Tu Cosita' by El Chombo\n",
      "37. 'Ric Flair Drip' by Offset & Metro Boomin\n",
      "38. 'Paranoid' by Post Malone\n",
      "39. 'Rich & Sad' by Post Malone\n",
      "40. 'Ball For Me' by Post Malone Featuring Nicki Minaj\n",
      "41. 'Te Bote' by Casper Magico, Nio Garcia, Darell, Nicky Jam, Ozuna & Bad Bunny\n",
      "42. 'X' by Nicky Jam x J Balvin\n",
      "43. 'Dura' by Daddy Yankee\n",
      "44. 'One Number Away' by Luke Combs\n",
      "45. 'Stay' by Post Malone\n",
      "46. 'Delicate' by Taylor Swift\n",
      "47. 'Overdose' by YoungBoy Never Broke Again\n",
      "48. 'Japan' by Famous Dex\n",
      "49. 'One Kiss' by Calvin Harris & Dua Lipa\n",
      "50. 'Stir Fry' by Migos\n",
      "51. 'Spoil My Night' by Post Malone Featuring Swae Lee\n",
      "52. 'KOD' by J. Cole\n",
      "53. 'Esskeetit' by Lil Pump\n",
      "54. 'Love Lies' by Khalid & Normani\n",
      "55. 'Tequila' by Dan + Shay\n",
      "56. 'ATM' by J. Cole\n",
      "57. 'Kevin's Heart' by J. Cole\n",
      "58. 'Beautiful Crazy' by Luke Combs\n",
      "59. 'No Excuses' by Meghan Trainor\n",
      "60. 'King's Dead' by Jay Rock, Kendrick Lamar, Future & James Blake\n",
      "61. 'IDGAF' by Dua Lipa\n",
      "62. 'Drip' by Cardi B Featuring Migos\n",
      "63. 'Zack And Codeine' by Post Malone\n",
      "64. 'Over Now' by Post Malone\n",
      "65. 'Youth' by Shawn Mendes Featuring Khalid\n",
      "66. 'Same Bitches' by Post Malone Featuring G-Eazy & YG\n",
      "67. 'Takin' Shots' by Post Malone\n",
      "68. 'New Freezer' by Rich The Kid Featuring Kendrick Lamar\n",
      "69. '92 Explorer' by Post Malone\n",
      "70. 'Get Along' by Kenny Chesney\n",
      "71. 'Up Down' by Morgan Wallen Featuring Florida Georgia Line\n",
      "72. 'I Like Me Better' by Lauv\n",
      "73. 'Most People Are Good' by Luke Bryan\n",
      "74. 'Done For Me' by Charlie Puth Featuring Kehlani\n",
      "75. 'Everyday' by Logic & Marshmello\n",
      "76. 'For The First Time' by Darius Rucker\n",
      "77. 'Singles You Up' by Jordan Davis\n",
      "78. 'Outside Today' by YoungBoy Never Broke Again\n",
      "79. 'Zombie' by Bad Wolves\n",
      "80. 'Gucci Flip Flops' by Bhad Bhabie Featuring Lil Yachty\n",
      "81. 'Bartier Cardi' by Cardi B Featuring 21 Savage\n",
      "82. 'OTW' by Khalid, Ty Dolla $ign & 6LACK\n",
      "83. 'Sit Next To Me' by Foster The People\n",
      "84. 'Barbie Tingz' by Nicki Minaj\n",
      "85. 'I Lived It' by Blake Shelton\n",
      "86. 'Woman, Amen' by Dierks Bentley\n",
      "87. 'Everything's Gonna Be Alright' by David Lee Murphy & Kenny Chesney\n",
      "88. 'Say Something' by Justin Timberlake Featuring Chris Stapleton\n",
      "89. 'Otherside' by Post Malone\n",
      "90. 'Alone' by Halsey Featuring Big Sean & Stefflon Don\n",
      "91. 'Sativa' by Jhene Aiko Featuring Swae Lee Or Rae Sremmurd\n",
      "92. 'El Farsante' by Ozuna & Romeo Santos\n",
      "93. 'Blame It On Me' by Post Malone\n",
      "94. 'Diamond Teeth Samurai' by YoungBoy Never Broke Again\n",
      "95. 'Famous' by Mason Ramsey\n",
      "96. 'I Do' by Cardi B Featuring SZA\n",
      "97. 'Mercy' by Brett Young\n",
      "98. 'Preach' by YoungBoy Never Broke Again\n",
      "99. 'Red Roses' by Lil Skies Featuring Landon Cube\n",
      "100. 'When We' by Tank\n"
     ]
    }
   ],
   "source": [
    "print(chart)"
   ]
  },
  {
   "cell_type": "code",
   "execution_count": 4,
   "metadata": {},
   "outputs": [
    {
     "data": {
      "text/plain": [
       "'This Is America' by Childish Gambino"
      ]
     },
     "execution_count": 4,
     "metadata": {},
     "output_type": "execute_result"
    }
   ],
   "source": [
    "chart[0]"
   ]
  },
  {
   "cell_type": "code",
   "execution_count": 5,
   "metadata": {},
   "outputs": [
    {
     "data": {
      "text/plain": [
       "1"
      ]
     },
     "execution_count": 5,
     "metadata": {},
     "output_type": "execute_result"
    }
   ],
   "source": [
    "chart[0].weeks"
   ]
  },
  {
   "cell_type": "code",
   "execution_count": 6,
   "metadata": {},
   "outputs": [],
   "source": [
    "title = []\n",
    "for i in chart:\n",
    "    title.append(i.title)\n",
    "    "
   ]
  },
  {
   "cell_type": "code",
   "execution_count": 8,
   "metadata": {},
   "outputs": [
    {
     "data": {
      "text/plain": [
       "['This Is America', 'Nice For What', \"God's Plan\", 'Psycho', 'Meant To Be']"
      ]
     },
     "execution_count": 8,
     "metadata": {},
     "output_type": "execute_result"
    }
   ],
   "source": [
    "title[:5]"
   ]
  },
  {
   "cell_type": "code",
   "execution_count": 9,
   "metadata": {},
   "outputs": [],
   "source": [
    "artist = []\n",
    "peakPos = []\n",
    "lastPos = []\n",
    "weeks = []\n",
    "rank = []\n",
    "isNew = []"
   ]
  },
  {
   "cell_type": "code",
   "execution_count": 11,
   "metadata": {},
   "outputs": [],
   "source": [
    "for i in chart:\n",
    "    artist.append(i.artist)\n",
    "    peakPos.append(i.peakPos)\n",
    "    lastPos.append(i.lastPos)\n",
    "    weeks.append(i.weeks)\n",
    "    rank.append(i.rank)\n",
    "    isNew.append(i.isNew)"
   ]
  },
  {
   "cell_type": "code",
   "execution_count": 12,
   "metadata": {},
   "outputs": [],
   "source": [
    "import pandas as pd"
   ]
  },
  {
   "cell_type": "code",
   "execution_count": 18,
   "metadata": {},
   "outputs": [],
   "source": [
    "hot_100 = pd.DataFrame([title, artist, peakPos, lastPos, weeks, rank, isNew]).T\n",
    "hot_100.columns = ['Title', 'Artist', 'PeakPosition', 'LastPosition', 'Weeks', 'Rank', 'isNew']"
   ]
  },
  {
   "cell_type": "code",
   "execution_count": 19,
   "metadata": {},
   "outputs": [
    {
     "data": {
      "text/html": [
       "<div>\n",
       "<style scoped>\n",
       "    .dataframe tbody tr th:only-of-type {\n",
       "        vertical-align: middle;\n",
       "    }\n",
       "\n",
       "    .dataframe tbody tr th {\n",
       "        vertical-align: top;\n",
       "    }\n",
       "\n",
       "    .dataframe thead th {\n",
       "        text-align: right;\n",
       "    }\n",
       "</style>\n",
       "<table border=\"1\" class=\"dataframe\">\n",
       "  <thead>\n",
       "    <tr style=\"text-align: right;\">\n",
       "      <th></th>\n",
       "      <th>Title</th>\n",
       "      <th>Artist</th>\n",
       "      <th>PeakPosition</th>\n",
       "      <th>LastPosition</th>\n",
       "      <th>Weeks</th>\n",
       "      <th>Rank</th>\n",
       "      <th>isNew</th>\n",
       "    </tr>\n",
       "  </thead>\n",
       "  <tbody>\n",
       "    <tr>\n",
       "      <th>0</th>\n",
       "      <td>This Is America</td>\n",
       "      <td>Childish Gambino</td>\n",
       "      <td>1</td>\n",
       "      <td>0</td>\n",
       "      <td>1</td>\n",
       "      <td>1</td>\n",
       "      <td>True</td>\n",
       "    </tr>\n",
       "    <tr>\n",
       "      <th>1</th>\n",
       "      <td>Nice For What</td>\n",
       "      <td>Drake</td>\n",
       "      <td>1</td>\n",
       "      <td>1</td>\n",
       "      <td>5</td>\n",
       "      <td>2</td>\n",
       "      <td>False</td>\n",
       "    </tr>\n",
       "    <tr>\n",
       "      <th>2</th>\n",
       "      <td>God's Plan</td>\n",
       "      <td>Drake</td>\n",
       "      <td>1</td>\n",
       "      <td>3</td>\n",
       "      <td>16</td>\n",
       "      <td>3</td>\n",
       "      <td>False</td>\n",
       "    </tr>\n",
       "    <tr>\n",
       "      <th>3</th>\n",
       "      <td>Psycho</td>\n",
       "      <td>Post Malone Featuring Ty Dolla $ign</td>\n",
       "      <td>2</td>\n",
       "      <td>2</td>\n",
       "      <td>11</td>\n",
       "      <td>4</td>\n",
       "      <td>False</td>\n",
       "    </tr>\n",
       "    <tr>\n",
       "      <th>4</th>\n",
       "      <td>Meant To Be</td>\n",
       "      <td>Bebe Rexha &amp; Florida Georgia Line</td>\n",
       "      <td>2</td>\n",
       "      <td>4</td>\n",
       "      <td>29</td>\n",
       "      <td>5</td>\n",
       "      <td>False</td>\n",
       "    </tr>\n",
       "  </tbody>\n",
       "</table>\n",
       "</div>"
      ],
      "text/plain": [
       "             Title                               Artist PeakPosition  \\\n",
       "0  This Is America                     Childish Gambino            1   \n",
       "1    Nice For What                                Drake            1   \n",
       "2       God's Plan                                Drake            1   \n",
       "3           Psycho  Post Malone Featuring Ty Dolla $ign            2   \n",
       "4      Meant To Be    Bebe Rexha & Florida Georgia Line            2   \n",
       "\n",
       "  LastPosition Weeks Rank  isNew  \n",
       "0            0     1    1   True  \n",
       "1            1     5    2  False  \n",
       "2            3    16    3  False  \n",
       "3            2    11    4  False  \n",
       "4            4    29    5  False  "
      ]
     },
     "execution_count": 19,
     "metadata": {},
     "output_type": "execute_result"
    }
   ],
   "source": [
    "hot_100.head()"
   ]
  },
  {
   "cell_type": "code",
   "execution_count": 30,
   "metadata": {},
   "outputs": [],
   "source": [
    "%matplotlib inline\n",
    "import matplotlib.pyplot as plt"
   ]
  },
  {
   "cell_type": "code",
   "execution_count": 41,
   "metadata": {},
   "outputs": [],
   "source": [
    "hot_100['Weeks'] = hot_100['Weeks'].astype('int')"
   ]
  },
  {
   "cell_type": "code",
   "execution_count": 57,
   "metadata": {},
   "outputs": [
    {
     "data": {
      "text/plain": [
       "<matplotlib.axes._subplots.AxesSubplot at 0x113504518>"
      ]
     },
     "execution_count": 57,
     "metadata": {},
     "output_type": "execute_result"
    },
    {
     "data": {
      "image/png": "[encoded data removed]",
      "text/plain": [
       "<matplotlib.figure.Figure at 0x1135e1208>"
      ]
     },
     "metadata": {},
     "output_type": "display_data"
    }
   ],
   "source": [
    "hot_100.nlargest(10, 'Weeks').plot('Artist', 'Weeks', kind = 'bar', color = 'firebrick', alpha = 0.3, figsize = (10, 5))"
   ]
  }
 ],
 "metadata": {
  "kernelspec": {
   "display_name": "Python 3",
   "language": "python",
   "name": "python3"
  },
  "language_info": {
   "codemirror_mode": {
    "name": "ipython",
    "version": 3
   },
   "file_extension": ".py",
   "mimetype": "text/x-python",
   "name": "python",
   "nbconvert_exporter": "python",
   "pygments_lexer": "ipython3",
   "version": "3.6.4"
  }
 },
 "nbformat": 4,
 "nbformat_minor": 2
}
