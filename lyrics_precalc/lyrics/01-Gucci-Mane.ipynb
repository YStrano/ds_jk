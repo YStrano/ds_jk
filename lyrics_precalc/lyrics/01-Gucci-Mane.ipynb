{
 "cells": [
  {
   "cell_type": "markdown",
   "metadata": {},
   "source": [
    "# The Mathematics of Lyrics\n",
    "\n",
    "This notebook introduces some basic strategies for conducting an analysis of information mined from the internet.  Specifically, we introduce ideas from the field of **Natural Language Processing(NLP)**.  In order to engage with this idea, I hope to show you how to access information independent of the classroom.  Here is a starting place for projects of your own design.  To work on this will involve using the Python programming language and:\n",
    "\n",
    "- Scraping websites using the `Scrapy` library\n",
    "- Counting words with the `NLTK` library\n",
    "- Determining sentiment with `textblob`\n",
    "\n"
   ]
  },
  {
   "cell_type": "markdown",
   "metadata": {},
   "source": [
    "### Basic Strings with Python\n",
    "\n",
    "![](images/40oz_to_freedom.jpg)"
   ]
  },
  {
   "cell_type": "code",
   "execution_count": 7,
   "metadata": {},
   "outputs": [],
   "source": [
    "sublime_krsone = '''In school they never taught bout hamburgers or steak\n",
    "Elijah Muhammed or the welfare state\n",
    "But I know\n",
    "And I know because of KRS-one\n",
    "Yeah and I know, and I know because of KRS-one\n",
    "'''"
   ]
  },
  {
   "cell_type": "code",
   "execution_count": 8,
   "metadata": {},
   "outputs": [
    {
     "data": {
      "text/plain": [
       "'In school they never taught bout hamburgers or steak\\nElijah Muhammed or the welfare state\\nBut I know\\nAnd I know because of KRS-one\\nYeah and I know, and I know because of KRS-one\\n'"
      ]
     },
     "execution_count": 8,
     "metadata": {},
     "output_type": "execute_result"
    }
   ],
   "source": [
    "sublime_krsone"
   ]
  },
  {
   "cell_type": "code",
   "execution_count": 9,
   "metadata": {},
   "outputs": [
    {
     "data": {
      "text/plain": [
       "178"
      ]
     },
     "execution_count": 9,
     "metadata": {},
     "output_type": "execute_result"
    }
   ],
   "source": [
    "len(sublime_krsone)"
   ]
  },
  {
   "cell_type": "code",
   "execution_count": 10,
   "metadata": {},
   "outputs": [
    {
     "data": {
      "text/plain": [
       "['In',\n",
       " 'school',\n",
       " 'they',\n",
       " 'never',\n",
       " 'taught',\n",
       " 'bout',\n",
       " 'hamburgers',\n",
       " 'or',\n",
       " 'steak',\n",
       " 'Elijah',\n",
       " 'Muhammed',\n",
       " 'or',\n",
       " 'the',\n",
       " 'welfare',\n",
       " 'state',\n",
       " 'But',\n",
       " 'I',\n",
       " 'know',\n",
       " 'And',\n",
       " 'I',\n",
       " 'know',\n",
       " 'because',\n",
       " 'of',\n",
       " 'KRS-one',\n",
       " 'Yeah',\n",
       " 'and',\n",
       " 'I',\n",
       " 'know,',\n",
       " 'and',\n",
       " 'I',\n",
       " 'know',\n",
       " 'because',\n",
       " 'of',\n",
       " 'KRS-one']"
      ]
     },
     "execution_count": 10,
     "metadata": {},
     "output_type": "execute_result"
    }
   ],
   "source": [
    "sublime_krsone.split()"
   ]
  },
  {
   "cell_type": "code",
   "execution_count": 11,
   "metadata": {},
   "outputs": [
    {
     "data": {
      "text/plain": [
       "['in',\n",
       " 'school',\n",
       " 'they',\n",
       " 'never',\n",
       " 'taught',\n",
       " 'bout',\n",
       " 'hamburgers',\n",
       " 'or',\n",
       " 'steak',\n",
       " 'elijah',\n",
       " 'muhammed',\n",
       " 'or',\n",
       " 'the',\n",
       " 'welfare',\n",
       " 'state',\n",
       " 'but',\n",
       " 'i',\n",
       " 'know',\n",
       " 'and',\n",
       " 'i',\n",
       " 'know',\n",
       " 'because',\n",
       " 'of',\n",
       " 'krs-one',\n",
       " 'yeah',\n",
       " 'and',\n",
       " 'i',\n",
       " 'know,',\n",
       " 'and',\n",
       " 'i',\n",
       " 'know',\n",
       " 'because',\n",
       " 'of',\n",
       " 'krs-one']"
      ]
     },
     "execution_count": 11,
     "metadata": {},
     "output_type": "execute_result"
    }
   ],
   "source": [
    "[i.lower() for i in sublime_krsone.split()]"
   ]
  },
  {
   "cell_type": "markdown",
   "metadata": {},
   "source": [
    "### Example"
   ]
  },
  {
   "cell_type": "markdown",
   "metadata": {},
   "source": [
    "![](https://t2.genius.com/unsafe/440x0/https%3A%2F%2Fimages.genius.com%2F2a0cad4d569a2f1ab11be0a3740201b7.400x397x1.jpg)"
   ]
  },
  {
   "cell_type": "code",
   "execution_count": 12,
   "metadata": {},
   "outputs": [],
   "source": [
    "krs = '''\n",
    "Mama said don't do crack and smoke you know\n",
    "Cause it will make your nose grow like Pinocchio\n",
    "Since I was only 15 I had to listen\n",
    "To what was said for my parent was a christian\n",
    "I went to school and saw all my friends do it\n",
    "But I said no cause I don't want my nose to grow\n",
    "They started tripping on me, busting and flipping on me\n",
    "So I had to front and say yo, true, stick it on me\n",
    "I started smoking to prove I'm an adult\n",
    "Now it's a habit but is it all my fault\n",
    "I wished my mother would have told me the truth\n",
    "Cause now I'm all based out, ma dukes\n",
    "'''"
   ]
  },
  {
   "cell_type": "markdown",
   "metadata": {},
   "source": [
    "![](images/krs-wiki.png)"
   ]
  },
  {
   "cell_type": "code",
   "execution_count": 26,
   "metadata": {},
   "outputs": [],
   "source": [
    "info = '''\n",
    "KRS-One began his recording career as one third of the hip hop group Boogie Down Productions, or BDP, alongside DJ Scott La Rock and Derrick \"D-Nice\" Jones. After being rejected by radio DJs Mr. Magic and Marley Marl, KRS-One would go on to diss the two and those associated with them, sparking what would later be known as The Bridge Wars. Additionally, KRS-One had taken offense to \"The Bridge\", a song by Marley Marl's protege, MC Shan (later on, KRS-One produced an album with Marley Marl in 2007) The song could be interpreted as a claim that Queensbridge was the monument of hip-hop, though MC Shan has repeatedly denied this claim. Still, KRS-One \"dissed\" the song with the BDP record \"South Bronx.\" Next, a second round of volleys would ensue with Shan's \"Kill That Noise\" and BDP's \"The Bridge Is Over.\" KRS-One, demonstrating his nickname \"The Blastmaster\", gave a live performance against MC Shan, and many conceded he had won the battle. Many[who?] believe this live performance to be the first MC battle where rappers attack each other, instead of a battle between who can get the crowd more hyped.[3]\n",
    "\n",
    "Parker and Sterling decided to form a rap group together, initially calling themselves \"Scott La Rock and the Celebrity Three\". That was short-lived, however, as the two peripheral members quit, leaving Parker (now calling himself KRS-One) and Sterling. They then decided to call themselves \"Boogie Down Productions\". \"Success is the Word\", a 12-inch single produced by David Kenneth Eng and Kenny Beck, was released on indie Fresh/Sleeping Bag Records (under the group name \"12:41\") but did not enjoy commercial success. Boogie Down Productions released their debut album Criminal Minded in 1987. The album, whose cover pictured BDP draped in ammunition and brandishing guns, is often credited with setting the template for the burgeoning genres of hardcore and gangsta rap. Scott La Rock was killed in a shooting later that year, after attempting to mediate a dispute between teenager and BDP member Derrick \"D-Nice\" Jones and local hoodlums.\n",
    "\n",
    "During this time KRS-One also gained acclaim as one of the first MCs to incorporate Jamaican style into hip-hop, using the Zung gu zung melody, originally made famous by Yellowman in Jamaican dance halls earlier in the decade.[4] While KRS-One used Zunguzung styles in a more powerful and controversial manner, especially in his song titled \"Remix for P is Free\", he can still be credited as one of the more influential figures to bridge the gap between Jamaican music and American Hip-Hop.\n",
    "\n",
    "Following the fatal shooting of Scott La Rock in 1987, KRS was determined to continue Boogie Down Productions through the tragedy, releasing the album By All Means Necessary in 1988. He was joined by beatboxer D-Nice, rapper Ramona \"Ms. Melodie\" Parker (whose marriage to Kris would last from 1988 to 1992), and Kris's younger brother DJ Kenny Parker, among others. However, Boogie Down Productions would remain Kris's show, and their content would become increasingly political through its subsequent releases Ghetto Music: The Blueprint of Hip Hop, Edutainment, Live Hardcore Worldwide and Sex and Violence.\n",
    "\n",
    "KRS-One was the primary initiator behind the H.E.A.L. compilation and the Stop the Violence Movement; for the latter he would attract many prominent emcees to appear on the 12-inch single \"Self Destruction\". As Parker adopted this \"humanist\", less defensive approach, he turned away from his \"Blastmaster\" persona and towards that of \"The Teacha\", although he has constantly used \"Blastmaster\" throughout his career.\n",
    "'''"
   ]
  },
  {
   "cell_type": "code",
   "execution_count": 27,
   "metadata": {},
   "outputs": [
    {
     "data": {
      "text/plain": [
       "str"
      ]
     },
     "execution_count": 27,
     "metadata": {},
     "output_type": "execute_result"
    }
   ],
   "source": [
    "type(info)"
   ]
  },
  {
   "cell_type": "code",
   "execution_count": 35,
   "metadata": {},
   "outputs": [
    {
     "data": {
      "text/plain": [
       "575"
      ]
     },
     "execution_count": 35,
     "metadata": {},
     "output_type": "execute_result"
    }
   ],
   "source": [
    "len(info.split())"
   ]
  },
  {
   "cell_type": "code",
   "execution_count": 41,
   "metadata": {},
   "outputs": [
    {
     "data": {
      "text/plain": [
       "['by',\n",
       " 'radio',\n",
       " 'DJs',\n",
       " 'Mr.',\n",
       " 'Magic',\n",
       " 'and',\n",
       " 'Marley',\n",
       " 'Marl,',\n",
       " 'KRS-One',\n",
       " 'would']"
      ]
     },
     "execution_count": 41,
     "metadata": {},
     "output_type": "execute_result"
    }
   ],
   "source": [
    "info.split()[30:40]"
   ]
  },
  {
   "cell_type": "code",
   "execution_count": 54,
   "metadata": {},
   "outputs": [],
   "source": [
    "rap = 0\n",
    "not_rap = 0\n",
    "for word in info.split():\n",
    "    if word == 'rap':\n",
    "        rap += 1\n",
    "    else:\n",
    "        not_rap += 1"
   ]
  },
  {
   "cell_type": "code",
   "execution_count": 55,
   "metadata": {},
   "outputs": [
    {
     "data": {
      "text/plain": [
       "1"
      ]
     },
     "execution_count": 55,
     "metadata": {},
     "output_type": "execute_result"
    }
   ],
   "source": [
    "rap"
   ]
  },
  {
   "cell_type": "code",
   "execution_count": 56,
   "metadata": {},
   "outputs": [
    {
     "data": {
      "text/plain": [
       "574"
      ]
     },
     "execution_count": 56,
     "metadata": {},
     "output_type": "execute_result"
    }
   ],
   "source": [
    "not_rap"
   ]
  },
  {
   "cell_type": "code",
   "execution_count": 63,
   "metadata": {},
   "outputs": [],
   "source": [
    "rap = 0\n",
    "not_rap = 0\n",
    "for word in info.split():\n",
    "    if word == 'styles':\n",
    "        rap += 1\n",
    "    elif word == 'style':\n",
    "        rap += 1\n",
    "    else:\n",
    "        not_rap += 1"
   ]
  },
  {
   "cell_type": "code",
   "execution_count": 64,
   "metadata": {},
   "outputs": [
    {
     "data": {
      "text/plain": [
       "2"
      ]
     },
     "execution_count": 64,
     "metadata": {},
     "output_type": "execute_result"
    }
   ],
   "source": [
    "rap"
   ]
  },
  {
   "cell_type": "code",
   "execution_count": 67,
   "metadata": {},
   "outputs": [],
   "source": [
    "import nltk\n",
    "from nltk import word_tokenize"
   ]
  },
  {
   "cell_type": "code",
   "execution_count": 68,
   "metadata": {},
   "outputs": [],
   "source": [
    "text = word_tokenize(info)"
   ]
  },
  {
   "cell_type": "code",
   "execution_count": 69,
   "metadata": {},
   "outputs": [
    {
     "data": {
      "text/plain": [
       "['KRS-One',\n",
       " 'began',\n",
       " 'his',\n",
       " 'recording',\n",
       " 'career',\n",
       " 'as',\n",
       " 'one',\n",
       " 'third',\n",
       " 'of',\n",
       " 'the',\n",
       " 'hip',\n",
       " 'hop',\n",
       " 'group',\n",
       " 'Boogie',\n",
       " 'Down',\n",
       " 'Productions',\n",
       " ',',\n",
       " 'or',\n",
       " 'BDP',\n",
       " ',']"
      ]
     },
     "execution_count": 69,
     "metadata": {},
     "output_type": "execute_result"
    }
   ],
   "source": [
    "text[:20]"
   ]
  },
  {
   "cell_type": "code",
   "execution_count": 74,
   "metadata": {},
   "outputs": [],
   "source": [
    "text = nltk.Text(word.lower() for word in word_tokenize(info))"
   ]
  },
  {
   "cell_type": "code",
   "execution_count": 75,
   "metadata": {},
   "outputs": [
    {
     "data": {
      "text/plain": [
       "['krs-one',\n",
       " 'began',\n",
       " 'his',\n",
       " 'recording',\n",
       " 'career',\n",
       " 'as',\n",
       " 'one',\n",
       " 'third',\n",
       " 'of',\n",
       " 'the']"
      ]
     },
     "execution_count": 75,
     "metadata": {},
     "output_type": "execute_result"
    }
   ],
   "source": [
    "text[:10]"
   ]
  },
  {
   "cell_type": "code",
   "execution_count": 78,
   "metadata": {},
   "outputs": [],
   "source": [
    "import requests"
   ]
  },
  {
   "cell_type": "code",
   "execution_count": 79,
   "metadata": {},
   "outputs": [],
   "source": [
    "from bs4 import BeautifulSoup"
   ]
  },
  {
   "cell_type": "code",
   "execution_count": 80,
   "metadata": {},
   "outputs": [],
   "source": [
    "url = 'https://en.wikipedia.org/wiki/KRS-One'"
   ]
  },
  {
   "cell_type": "code",
   "execution_count": 76,
   "metadata": {},
   "outputs": [
    {
     "name": "stdout",
     "output_type": "stream",
     "text": [
      "\n"
     ]
    }
   ],
   "source": [
    "text.similar('style')"
   ]
  },
  {
   "cell_type": "code",
   "execution_count": 77,
   "metadata": {},
   "outputs": [
    {
     "name": "stdout",
     "output_type": "stream",
     "text": [
      "\n"
     ]
    }
   ],
   "source": [
    "text.similar('rap')"
   ]
  },
  {
   "cell_type": "code",
   "execution_count": 81,
   "metadata": {},
   "outputs": [],
   "source": [
    "r = requests.get(url)"
   ]
  },
  {
   "cell_type": "code",
   "execution_count": 82,
   "metadata": {},
   "outputs": [
    {
     "data": {
      "text/plain": [
       "<Response [200]>"
      ]
     },
     "execution_count": 82,
     "metadata": {},
     "output_type": "execute_result"
    }
   ],
   "source": [
    "r"
   ]
  },
  {
   "cell_type": "code",
   "execution_count": 83,
   "metadata": {},
   "outputs": [],
   "source": [
    "soup = BeautifulSoup(r.text, 'html.parser')"
   ]
  },
  {
   "cell_type": "code",
   "execution_count": 86,
   "metadata": {},
   "outputs": [
    {
     "data": {
      "text/plain": [
       "'\\n\\n\\n\\nKRS-One - Wikipedia\\ndocument.documentElement.c'"
      ]
     },
     "execution_count": 86,
     "metadata": {},
     "output_type": "execute_result"
    }
   ],
   "source": [
    "soup.text[:50]"
   ]
  },
  {
   "cell_type": "code",
   "execution_count": 87,
   "metadata": {},
   "outputs": [
    {
     "data": {
      "text/plain": [
       "<p><b>Lawrence</b> \"<b>Kris</b>\" <b>Parker</b> (born August 20, 1965), better known by his <a class=\"mw-redirect\" href=\"/wiki/Stage_names\" title=\"Stage names\">stage names</a> <b>KRS-One</b>, and <b>Teacha</b>, is an American <a class=\"mw-redirect\" href=\"/wiki/Rapper\" title=\"Rapper\">rapper</a> and occasional <a class=\"mw-redirect\" href=\"/wiki/Hip_hop_producer\" title=\"Hip hop producer\">producer</a> from <a href=\"/wiki/The_Bronx\" title=\"The Bronx\">The Bronx</a>, New York City, New York. KRS-One rose to prominence as part of the <a href=\"/wiki/Hip_hop_music\" title=\"Hip hop music\">hip hop music</a> group <a href=\"/wiki/Boogie_Down_Productions\" title=\"Boogie Down Productions\">Boogie Down Productions</a>, which he formed with DJ <a href=\"/wiki/Scott_La_Rock\" title=\"Scott La Rock\">Scott La Rock</a> in the mid-1980s. Boogie Down Productions received heavy impact upon their upstart, often being considered one of the first rap groups to inspire both <a href=\"/wiki/Gangsta_rap\" title=\"Gangsta rap\">gangsta rap</a> and <a class=\"mw-redirect\" href=\"/wiki/Conscious_rap\" title=\"Conscious rap\">conscious rap</a>. As well, they received numerous awards and critical acclaim in their early years. Following the release of the group's debut album, <i><a href=\"/wiki/Criminal_Minded\" title=\"Criminal Minded\">Criminal Minded</a></i>, La Rock was shot and killed, but KRS-One continued the group, effectively as a solo project. He began releasing records under his own name in 1993. KRS-One is politically active, having started the <a href=\"/wiki/Stop_the_Violence_Movement\" title=\"Stop the Violence Movement\">Stop the Violence Movement</a>, after the death of Scott La Rock.</p>"
      ]
     },
     "execution_count": 87,
     "metadata": {},
     "output_type": "execute_result"
    }
   ],
   "source": [
    "soup.find('p')"
   ]
  },
  {
   "cell_type": "code",
   "execution_count": 93,
   "metadata": {},
   "outputs": [],
   "source": [
    "pgraph = soup.find('p').text"
   ]
  },
  {
   "cell_type": "code",
   "execution_count": 94,
   "metadata": {},
   "outputs": [
    {
     "data": {
      "text/plain": [
       "'Lawrence \"Kris\" Parker (born August 20, 1965), better known by his stage names KRS-One, and Teacha, is an American rapper and occasional producer from The Bronx, New York City, New York. KRS-One rose to prominence as part of the hip hop music group Boogie Down Productions, which he formed with DJ Scott La Rock in the mid-1980s. Boogie Down Productions received heavy impact upon their upstart, often being considered one of the first rap groups to inspire both gangsta rap and conscious rap. As well, they received numerous awards and critical acclaim in their early years. Following the release of the group\\'s debut album, Criminal Minded, La Rock was shot and killed, but KRS-One continued the group, effectively as a solo project. He began releasing records under his own name in 1993. KRS-One is politically active, having started the Stop the Violence Movement, after the death of Scott La Rock.'"
      ]
     },
     "execution_count": 94,
     "metadata": {},
     "output_type": "execute_result"
    }
   ],
   "source": [
    "pgraph"
   ]
  },
  {
   "cell_type": "code",
   "execution_count": 102,
   "metadata": {},
   "outputs": [],
   "source": [
    "def processor(doc):\n",
    "    sentences = nltk.sent_tokenize(doc)\n",
    "    sentences = [nltk.word_tokenize(sent) for sent in sentences]\n",
    "    sentences = [nltk.pos_tag(sent) for sent in sentences]\n",
    "    return sentences"
   ]
  },
  {
   "cell_type": "code",
   "execution_count": 104,
   "metadata": {},
   "outputs": [],
   "source": [
    "from nltk import FreqDist"
   ]
  },
  {
   "cell_type": "code",
   "execution_count": 106,
   "metadata": {},
   "outputs": [],
   "source": [
    "fdist = FreqDist(word.lower() for word in word_tokenize(pgraph))"
   ]
  },
  {
   "cell_type": "code",
   "execution_count": 111,
   "metadata": {},
   "outputs": [
    {
     "data": {
      "image/png": "[encoded data removed]",
      "text/plain": [
       "<matplotlib.figure.Figure at 0x11159ee10>"
      ]
     },
     "metadata": {},
     "output_type": "display_data"
    }
   ],
   "source": [
    "%matplotlib inline\n",
    "fdist.plot(20)"
   ]
  },
  {
   "cell_type": "code",
   "execution_count": 112,
   "metadata": {},
   "outputs": [],
   "source": [
    "import markovify\n"
   ]
  },
  {
   "cell_type": "code",
   "execution_count": 113,
   "metadata": {},
   "outputs": [],
   "source": [
    "papers = requests.get('https://cdn.loc.gov/service/mss/mgw/mgw2/014/014.xml')"
   ]
  },
  {
   "cell_type": "code",
   "execution_count": 116,
   "metadata": {},
   "outputs": [],
   "source": [
    "soup = BeautifulSoup(papers.text, 'html.parser')"
   ]
  },
  {
   "cell_type": "code",
   "execution_count": 117,
   "metadata": {},
   "outputs": [
    {
     "data": {
      "text/plain": [
       "'\\n\\n\\n\\n\\n\\n\\nmgw2-014\\nGeorge Washington Papers'"
      ]
     },
     "execution_count": 117,
     "metadata": {},
     "output_type": "execute_result"
    }
   ],
   "source": [
    "soup.text[:40]"
   ]
  },
  {
   "cell_type": "code",
   "execution_count": 118,
   "metadata": {},
   "outputs": [],
   "source": [
    "text = soup.text.strip()"
   ]
  },
  {
   "cell_type": "code",
   "execution_count": 119,
   "metadata": {},
   "outputs": [
    {
     "data": {
      "text/plain": [
       "'mgw2-014\\nGeorge Washington Papers, Serie'"
      ]
     },
     "execution_count": 119,
     "metadata": {},
     "output_type": "execute_result"
    }
   ],
   "source": [
    "text[:40]"
   ]
  },
  {
   "cell_type": "code",
   "execution_count": 120,
   "metadata": {},
   "outputs": [],
   "source": [
    "tokes = word_tokenize(text)"
   ]
  },
  {
   "cell_type": "code",
   "execution_count": 121,
   "metadata": {},
   "outputs": [],
   "source": [
    "fdist = FreqDist(tokes)"
   ]
  },
  {
   "cell_type": "code",
   "execution_count": 122,
   "metadata": {},
   "outputs": [
    {
     "data": {
      "image/png": "[encoded data removed]",
      "text/plain": [
       "<matplotlib.figure.Figure at 0x10b204668>"
      ]
     },
     "metadata": {},
     "output_type": "display_data"
    }
   ],
   "source": [
    "fdist.plot(40)"
   ]
  },
  {
   "cell_type": "code",
   "execution_count": null,
   "metadata": {},
   "outputs": [],
   "source": []
  },
  {
   "cell_type": "code",
   "execution_count": null,
   "metadata": {},
   "outputs": [],
   "source": []
  },
  {
   "cell_type": "code",
   "execution_count": null,
   "metadata": {},
   "outputs": [],
   "source": []
  },
  {
   "cell_type": "code",
   "execution_count": null,
   "metadata": {},
   "outputs": [],
   "source": []
  },
  {
   "cell_type": "code",
   "execution_count": 123,
   "metadata": {},
   "outputs": [],
   "source": [
    "text_model = markovify.Text(text)"
   ]
  },
  {
   "cell_type": "code",
   "execution_count": 125,
   "metadata": {},
   "outputs": [
    {
     "data": {
      "text/plain": [
       "'In a word, I have to request that you would inform me.'"
      ]
     },
     "execution_count": 125,
     "metadata": {},
     "output_type": "execute_result"
    }
   ],
   "source": [
    "text_model.make_sentence()"
   ]
  },
  {
   "cell_type": "code",
   "execution_count": 126,
   "metadata": {},
   "outputs": [
    {
     "data": {
      "text/plain": [
       "'At the Seneca falls six miles above the opportunities which your character has inspired me; and to defer an ultimate decision until I shall for my conduct with inconsistency, in again appearing on a public nature I expected that he had â\\x80\\x9cwholly discontinued the cultivation of them should reject it, it is highly probable that the specie, which remains unexported, will be disposed of the federal System.'"
      ]
     },
     "execution_count": 126,
     "metadata": {},
     "output_type": "execute_result"
    }
   ],
   "source": [
    "text_model.make_sentence()"
   ]
  },
  {
   "cell_type": "markdown",
   "metadata": {},
   "source": [
    "### Example\n",
    "\n",
    "![](images/friedman.png)"
   ]
  },
  {
   "cell_type": "code",
   "execution_count": 130,
   "metadata": {},
   "outputs": [],
   "source": [
    "from gtts import gTTS\n",
    "import os"
   ]
  },
  {
   "cell_type": "code",
   "execution_count": 132,
   "metadata": {},
   "outputs": [
    {
     "data": {
      "text/plain": [
       "32512"
      ]
     },
     "execution_count": 132,
     "metadata": {},
     "output_type": "execute_result"
    }
   ],
   "source": [
    "tts = gTTS(text=text_model.make_sentence(), lang='en')\n",
    "tts.save(\"rand.mp3\")\n",
    "os.system(\"mpg321 rand.mp3\")"
   ]
  },
  {
   "cell_type": "code",
   "execution_count": 143,
   "metadata": {},
   "outputs": [],
   "source": [
    "gTTS(sublime_krsone, lang = 'en').save('nowell.mp3')"
   ]
  },
  {
   "cell_type": "code",
   "execution_count": 149,
   "metadata": {},
   "outputs": [],
   "source": [
    "from sklearn.feature_extraction.text import CountVectorizer\n",
    "\n",
    "vectorizer = CountVectorizer(max_features = 1000,\n",
    "                             ngram_range=(1, 2),\n",
    "                             stop_words='english',\n",
    "                             binary=True)"
   ]
  },
  {
   "cell_type": "code",
   "execution_count": 151,
   "metadata": {},
   "outputs": [
    {
     "data": {
      "text/plain": [
       "CountVectorizer(analyzer='word', binary=True, decode_error='strict',\n",
       "        dtype=<class 'numpy.int64'>, encoding='utf-8', input='content',\n",
       "        lowercase=True, max_df=1.0, max_features=1000, min_df=1,\n",
       "        ngram_range=(1, 2), preprocessor=None, stop_words='english',\n",
       "        strip_accents=None, token_pattern='(?u)\\\\b\\\\w\\\\w+\\\\b',\n",
       "        tokenizer=None, vocabulary=None)"
      ]
     },
     "execution_count": 151,
     "metadata": {},
     "output_type": "execute_result"
    }
   ],
   "source": [
    "vectorizer.fit(tokes)"
   ]
  },
  {
   "cell_type": "code",
   "execution_count": 152,
   "metadata": {},
   "outputs": [],
   "source": [
    "import pandas as pd"
   ]
  },
  {
   "cell_type": "code",
   "execution_count": 153,
   "metadata": {},
   "outputs": [],
   "source": [
    "df = pd.read_json('gucci_test.json')"
   ]
  },
  {
   "cell_type": "code",
   "execution_count": 154,
   "metadata": {},
   "outputs": [
    {
     "data": {
      "text/html": [
       "<div>\n",
       "<style scoped>\n",
       "    .dataframe tbody tr th:only-of-type {\n",
       "        vertical-align: middle;\n",
       "    }\n",
       "\n",
       "    .dataframe tbody tr th {\n",
       "        vertical-align: top;\n",
       "    }\n",
       "\n",
       "    .dataframe thead th {\n",
       "        text-align: right;\n",
       "    }\n",
       "</style>\n",
       "<table border=\"1\" class=\"dataframe\">\n",
       "  <thead>\n",
       "    <tr style=\"text-align: right;\">\n",
       "      <th></th>\n",
       "      <th>lyrics</th>\n",
       "      <th>title</th>\n",
       "    </tr>\n",
       "  </thead>\n",
       "  <tbody>\n",
       "    <tr>\n",
       "      <th>0</th>\n",
       "      <td>[, , Yea mutherfucker we got big cat in this m...</td>\n",
       "      <td>[\"Intro\"]</td>\n",
       "    </tr>\n",
       "    <tr>\n",
       "      <th>1</th>\n",
       "      <td>[, In the Trap house, In The Trap House, In Th...</td>\n",
       "      <td>[\"Trap House\"]</td>\n",
       "    </tr>\n",
       "  </tbody>\n",
       "</table>\n",
       "</div>"
      ],
      "text/plain": [
       "                                              lyrics           title\n",
       "0  [, , Yea mutherfucker we got big cat in this m...       [\"Intro\"]\n",
       "1  [, In the Trap house, In The Trap House, In Th...  [\"Trap House\"]"
      ]
     },
     "execution_count": 154,
     "metadata": {},
     "output_type": "execute_result"
    }
   ],
   "source": [
    "df.head()"
   ]
  },
  {
   "cell_type": "code",
   "execution_count": 170,
   "metadata": {},
   "outputs": [],
   "source": [
    "nas = '''\n",
    "No idea's original, there's nothin new under the sun\n",
    "It's never what you do, but how it's done\n",
    "What you base your happiness around material, women, and large paper\n",
    "That means you inferior, not major\n",
    "\n",
    "If niggaz could look inside my mind, you'll find\n",
    "where bodies are buried, first look past the hotties who dimes\n",
    "Go to the center, enter with caution, past the braincell graveyard\n",
    "where weed's responsible for memory loss\n",
    "Let's witness, the horrific, the stench'll make you nauseous\n",
    "See what I seen every day I live with this torture\n",
    "Lightin spliffs up to stay high like 24 hours\n",
    "Sleep with my heat, wash with my gun in the shower\n",
    "My tongue is power, it thrills women, kills demons\n",
    "Long as I'm still breathin I'm still winnin, I'll teach 'em\n",
    "The hood converted from trey bags to 20's a girl\n",
    "Everybody had money, every summer was real ill\n",
    "Four-finger rings, dope dealers, 'caine/Kane\n",
    "\"No Half Steppin'\" with flat tops when Rakim reigned\n",
    "Radios on card tables, Benetton, the Gods buildin\n",
    "Ask for today's mathematics, we Allah's children\n",
    "And this was goin on in every New York ghetto\n",
    "Kids listened, Five Percenters said it's pork and Jell-o\n",
    "We coincide, we in the same life, maybe a time difference\n",
    "on a different coast, but we share the same sunlight\n",
    "Your part of the world, might be like colors and gangs\n",
    "While on my side, brothers'll murder for different things\n",
    "But it all revolve around drugs, fame and shorties\n",
    "Stuck for your bling, stripped for your chain, the same story\n",
    "From, Czechoslovakia to Texas metropolis\n",
    "Them, treacherous rocksters in the Mexican mafias\n",
    "Be scrappin with tats on they back, violent wars\n",
    "Nothin less than a lethal injection if ever caught\n",
    "Courtrooms, eagles and flags, American style\n",
    "While in our world, the ghetto stays incredibly foul\n",
    "Watchin for paint chips, don't want no led in yo' child\n",
    "But them gangstas put lead in yo' child, the bezzy be out\n",
    "The chain be like a hundred K\n",
    "Shinin since Roxanne Shante' made \"Runaway\"; that's been a minute\n",
    "Genesis is deep, my features are that of a God\n",
    "It's not a facade it's a fact, these rappers wanna be Nas\n",
    "My Exodus doesn't exist\n",
    "I'll never leave the streets, it's all in my mind\n",
    "Even with sleep I'm duckin nines in my dreams\n",
    "Si-rens, wide awake, why'd I think it would change\n",
    "Can't hide when you famous or even try to do the same things like\n",
    "Somebody's always watchin, my life\n",
    "Before I, walk out the door I size up every option\n",
    "Eyes cut every direction, it's like God or guns\n",
    "Which is better protection? Can't decide, that's a hard one\n",
    "I mean they wanna see me in prison, the chains bamboozled\n",
    "Headline readin \"Rapper Slain From a Man Shootin\"\n",
    "'''\n",
    "  \n",
    "        "
   ]
  },
  {
   "cell_type": "code",
   "execution_count": 171,
   "metadata": {},
   "outputs": [
    {
     "data": {
      "text/plain": [
       "str"
      ]
     },
     "execution_count": 171,
     "metadata": {},
     "output_type": "execute_result"
    }
   ],
   "source": [
    "type(nas)"
   ]
  },
  {
   "cell_type": "code",
   "execution_count": 172,
   "metadata": {},
   "outputs": [],
   "source": [
    "tokes = word_tokenize(nas)"
   ]
  },
  {
   "cell_type": "code",
   "execution_count": 173,
   "metadata": {},
   "outputs": [
    {
     "data": {
      "image/png": "[encoded data removed]",
      "text/plain": [
       "<matplotlib.figure.Figure at 0x116b51208>"
      ]
     },
     "metadata": {},
     "output_type": "display_data"
    }
   ],
   "source": [
    "FreqDist(word_tokenize(nas)).plot(10)"
   ]
  },
  {
   "cell_type": "code",
   "execution_count": 175,
   "metadata": {},
   "outputs": [],
   "source": [
    "CountVectorizer?"
   ]
  },
  {
   "cell_type": "code",
   "execution_count": 178,
   "metadata": {},
   "outputs": [],
   "source": [
    "tokes = word_tokenize(nas)\n",
    "vects = CountVectorizer().fit(tokes)"
   ]
  },
  {
   "cell_type": "code",
   "execution_count": null,
   "metadata": {},
   "outputs": [],
   "source": []
  },
  {
   "cell_type": "code",
   "execution_count": 181,
   "metadata": {},
   "outputs": [],
   "source": [
    "vects2 = CountVectorizer(ngram_range=(1, 3), stop_words='english').fit(tokes)"
   ]
  },
  {
   "cell_type": "code",
   "execution_count": 183,
   "metadata": {},
   "outputs": [
    {
     "data": {
      "text/plain": [
       "['20',\n",
       " '24',\n",
       " 'allah',\n",
       " 'american',\n",
       " 'ask',\n",
       " 'awake',\n",
       " 'bags',\n",
       " 'bamboozled',\n",
       " 'base',\n",
       " 'benetton',\n",
       " 'better',\n",
       " 'bezzy',\n",
       " 'bling',\n",
       " 'bodies',\n",
       " 'braincell',\n",
       " 'breathin',\n",
       " 'brothers',\n",
       " 'buildin',\n",
       " 'buried',\n",
       " 'ca',\n",
       " 'caine',\n",
       " 'caine kane',\n",
       " 'card',\n",
       " 'caught',\n",
       " 'caution',\n",
       " 'center',\n",
       " 'chain',\n",
       " 'chains',\n",
       " 'change',\n",
       " 'child',\n",
       " 'children',\n",
       " 'chips',\n",
       " 'coast',\n",
       " 'coincide',\n",
       " 'colors',\n",
       " 'converted',\n",
       " 'courtrooms',\n",
       " 'cut',\n",
       " 'czechoslovakia',\n",
       " 'day',\n",
       " 'dealers',\n",
       " 'decide',\n",
       " 'deep',\n",
       " 'demons',\n",
       " 'difference',\n",
       " 'different',\n",
       " 'dimes',\n",
       " 'direction',\n",
       " 'does',\n",
       " 'door',\n",
       " 'dope',\n",
       " 'dreams',\n",
       " 'drugs',\n",
       " 'duckin',\n",
       " 'eagles',\n",
       " 'em',\n",
       " 'enter',\n",
       " 'everybody',\n",
       " 'exist',\n",
       " 'exodus',\n",
       " 'eyes',\n",
       " 'facade',\n",
       " 'fact',\n",
       " 'fame',\n",
       " 'famous',\n",
       " 'features',\n",
       " 'finger',\n",
       " 'flags',\n",
       " 'flat',\n",
       " 'foul',\n",
       " 'gangs',\n",
       " 'gangstas',\n",
       " 'genesis',\n",
       " 'ghetto',\n",
       " 'girl',\n",
       " 'god',\n",
       " 'gods',\n",
       " 'goin',\n",
       " 'graveyard',\n",
       " 'gun',\n",
       " 'guns',\n",
       " 'half',\n",
       " 'happiness',\n",
       " 'hard',\n",
       " 'headline',\n",
       " 'heat',\n",
       " 'hide',\n",
       " 'high',\n",
       " 'hood',\n",
       " 'horrific',\n",
       " 'hotties',\n",
       " 'hours',\n",
       " 'idea',\n",
       " 'ill',\n",
       " 'incredibly',\n",
       " 'inferior',\n",
       " 'injection',\n",
       " 'inside',\n",
       " 'jell',\n",
       " 'kane',\n",
       " 'kids',\n",
       " 'kills',\n",
       " 'large',\n",
       " 'lead',\n",
       " 'leave',\n",
       " 'led',\n",
       " 'let',\n",
       " 'lethal',\n",
       " 'life',\n",
       " 'lightin',\n",
       " 'like',\n",
       " 'listened',\n",
       " 'live',\n",
       " 'll',\n",
       " 'long',\n",
       " 'look',\n",
       " 'loss',\n",
       " 'mafias',\n",
       " 'major',\n",
       " 'make',\n",
       " 'man',\n",
       " 'material',\n",
       " 'mathematics',\n",
       " 'maybe',\n",
       " 'mean',\n",
       " 'means',\n",
       " 'memory',\n",
       " 'metropolis',\n",
       " 'mexican',\n",
       " 'mind',\n",
       " 'minute',\n",
       " 'money',\n",
       " 'murder',\n",
       " 'na',\n",
       " 'nas',\n",
       " 'nauseous',\n",
       " 'new',\n",
       " 'niggaz',\n",
       " 'nines',\n",
       " 'nothin',\n",
       " 'option',\n",
       " 'original',\n",
       " 'paint',\n",
       " 'paper',\n",
       " 'past',\n",
       " 'percenters',\n",
       " 'pork',\n",
       " 'power',\n",
       " 'prison',\n",
       " 'protection',\n",
       " 'radios',\n",
       " 'rakim',\n",
       " 'rapper',\n",
       " 'rappers',\n",
       " 'readin',\n",
       " 'real',\n",
       " 'reigned',\n",
       " 'rens',\n",
       " 'responsible',\n",
       " 'revolve',\n",
       " 'rings',\n",
       " 'rocksters',\n",
       " 'roxanne',\n",
       " 'runaway',\n",
       " 'said',\n",
       " 'scrappin',\n",
       " 'seen',\n",
       " 'shante',\n",
       " 'share',\n",
       " 'shinin',\n",
       " 'shootin',\n",
       " 'shorties',\n",
       " 'shower',\n",
       " 'si',\n",
       " 'si rens',\n",
       " 'size',\n",
       " 'slain',\n",
       " 'sleep',\n",
       " 'somebody',\n",
       " 'spliffs',\n",
       " 'stay',\n",
       " 'stays',\n",
       " 'stench',\n",
       " 'steppin',\n",
       " 'story',\n",
       " 'streets',\n",
       " 'stripped',\n",
       " 'stuck',\n",
       " 'style',\n",
       " 'summer',\n",
       " 'sun',\n",
       " 'sunlight',\n",
       " 'tables',\n",
       " 'tats',\n",
       " 'teach',\n",
       " 'texas',\n",
       " 'things',\n",
       " 'think',\n",
       " 'thrills',\n",
       " 'time',\n",
       " 'today',\n",
       " 'tongue',\n",
       " 'tops',\n",
       " 'torture',\n",
       " 'treacherous',\n",
       " 'trey',\n",
       " 'try',\n",
       " 'violent',\n",
       " 'walk',\n",
       " 'wan',\n",
       " 'want',\n",
       " 'wars',\n",
       " 'wash',\n",
       " 'watchin',\n",
       " 'weed',\n",
       " 'wide',\n",
       " 'winnin',\n",
       " 'witness',\n",
       " 'women',\n",
       " 'world',\n",
       " 'yo',\n",
       " 'york']"
      ]
     },
     "execution_count": 183,
     "metadata": {},
     "output_type": "execute_result"
    }
   ],
   "source": [
    "vects2.get_feature_names()"
   ]
  },
  {
   "cell_type": "code",
   "execution_count": null,
   "metadata": {},
   "outputs": [],
   "source": []
  }
 ],
 "metadata": {
  "kernelspec": {
   "display_name": "Python 3",
   "language": "python",
   "name": "python3"
  },
  "language_info": {
   "codemirror_mode": {
    "name": "ipython",
    "version": 3
   },
   "file_extension": ".py",
   "mimetype": "text/x-python",
   "name": "python",
   "nbconvert_exporter": "python",
   "pygments_lexer": "ipython3",
   "version": "3.6.4"
  }
 },
 "nbformat": 4,
 "nbformat_minor": 2
}
