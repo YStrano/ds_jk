{
 "cells": [
  {
   "cell_type": "code",
   "execution_count": 1,
   "metadata": {},
   "outputs": [],
   "source": [
    "import requests\n",
    "from bs4 import BeautifulSoup"
   ]
  },
  {
   "cell_type": "code",
   "execution_count": 7,
   "metadata": {},
   "outputs": [],
   "source": [
    "r = requests.get('http://www.metrolyrics.com/nas-lyrics.html')"
   ]
  },
  {
   "cell_type": "code",
   "execution_count": 8,
   "metadata": {},
   "outputs": [
    {
     "data": {
      "text/plain": [
       "<Response [200]>"
      ]
     },
     "execution_count": 8,
     "metadata": {},
     "output_type": "execute_result"
    }
   ],
   "source": [
    "r"
   ]
  },
  {
   "cell_type": "code",
   "execution_count": 9,
   "metadata": {},
   "outputs": [
    {
     "data": {
      "text/plain": [
       "'<!DOCTYPE html>\\n<!--[if lt IE 7]><html lang=\"en\" xmlns=\"http://www.w3.org/1999/xhtml\" xmlns:fb=\"http://www.facebook.com/2008/fbml\" class=\"no-js lt-ie9 lt-ie8 lt-ie7\"><![endif]-->\\n<!--[if IE 7]><html lang=\"en\" xmlns=\"http://www.w3.org/1999/xhtml\" xmlns:fb=\"http://www.facebook.com/2008/fbml\" class=\"no-js lt-ie9 lt-ie8\"><![endif]-->\\n<!--[if IE 8]><html lang=\"en\" xmlns=\"http://www.w3.org/1999/xhtml\" xmlns:fb=\"http://www.facebook.com/2008/fbml\" class=\"no-js lt-ie9\"><![endif]-->\\n<!--[if gt IE 8]><!-->\\n<html lang=\"en\" xmlns=\"http://www.w3.org/1999/xhtml\" xmlns:fb=\"http://www.facebook.com/2008/fbml\" class=\"no-js\"><!--<![endif]-->\\n<head>\\n<meta charset=\"utf-8\">\\n<meta http-equiv=\"X-UA-Compatible\" content=\"IE=edge,chrome=1\">\\n<meta name=\"description\" content=\"View Nas song lyrics by popularity along with songs featured in, albums, videos and song meanings. We have 18 albums and 300 song lyrics in our database.\"/>\\n<link rel=\"next\" content=\"http://www.metrolyrics.com/nas-alpage-1.html\"/>\\n<meta name=\"viewport\" content=\"width=device-width, maximum-scale=1.0\"/>\\n<title>Nas Song Lyrics | MetroLyrics</title>\\n<link rel=\"icon\" href=\"/favicon.ico\" type=\"image/x-icon\">\\n<link rel=\"search\" type=\"application/opensearchdescription+xml\" title=\"metrolyrics\" href=\"/tools/ff_search_bar.xml\">\\n<link rel=\"canonical\" href=\"http://www.metrolyrics.com/nas-lyrics.html\"/>\\n<link pagespeed_no_defer=\"\" rel=\"stylesheet\" href=\"http://www.metrolyrics.com/css/desktop/artist-lyrics-v5.5.24.0.css\">\\n<script pagespeed_no_defer=\"\" src=\"http://www.metrolyrics.com/js/vendor/uuid.min-v5.5.24.0.js\"></script>\\n<script src=\"http://www.metrolyrics.com/js/vendor/modernizr-2.6.2.min.js.pagespeed.jm.HFGCZXAk6a.js\"></script>\\n<script pagespeed_no_defer=\"\">var ml=ml||{\"v\":\"5.5.24.0\",\"eC\":\"Artist Lyrics\",\"theme\":\"desktop\",\"isDev\":false,\"USOnly\":\"Yes\",\"ursLive\":true,\"HTTPS_ON\":false,\"offlineSchedules\":false,\"secure_url\":\"https:\\\\/\\\\/secure.metrolyrics.com\\\\/\",\"full_url\":\"http:\\\\/\\\\/www.metrolyrics.com\\\\/\",\"sdkUrl\":\"https:\\\\/\\\\/urs.metrolyrics.com\\\\/sdk\\\\/urs\",\"ftags\":{\"social\":{\"facebook\":\"MLY93028fc\",\"twitter\":\"MLY2b7d662\",\"google\":\"MLY74539b5\"}},\"api\":\"http:\\\\/\\\\/api.metrolyrics.com\\\\/v1\\\\/\\\\/lyrics\\\\/artist\\\\/X-API-KEY\\\\/196f657a46afb63ce3fd2015b9ed781280337ea7\\\\/format\\\\/json\\\\/artistid\\\\/8552\",\"lyricCount\":300,\"pageLimit\":75,\"offsetStart\":75,\"pushStateUrl\":\"nas-alpage-\",\"pushStatePage\":1,\"offset\":0,\"constants\":{\"USER_CLOSE\":\"user.close\",\"USER_LOGGED_IN\":\"user.loggedin\",\"USER_LOGGED_OUT\":\"user.loggedout\",\"NOTIFICATIONS_DONE\":\"notifications.done\",\"ANGULAR_LOADED\":\"angular.init\"}},vguid=uuid.v1(),googletag=googletag||{};googletag.cmd=googletag.cmd||[];ml.adData={isSkin:false,isBlank:true,skinType:\"null\"};ml.ev=function(eA,eL,eV){var keys=[\\'eA\\',\\'eL\\',\\'eV\\'],data={\\'event\\':\\'ge\\',\\'eC\\':ml.eC};for(var i=0;i<arguments.length;i++){data[keys[i]]=arguments[i];};if(typeof om!=\\'undefined\\'&&typeof om.trackClick===\\'function\\'){om.trackClick({\\'item\\':eA+\\'|\\'+eL});}\\nif(\\'undefined\\'!==typeof dataLayer){return dataLayer.push(data);}else{return;}};ml.cookieDomain=\\'metrolyrics.com\\';window.ev=ml.ev;document.cookie=\"s_tagEnv=live; path=/\";</script>\\n<script pagespeed_no_defer=\"\">var dataLayer=dataLayer||[];(function(w,d,s,l,i){w[l]=w[l]||[];w[l].push({\\'gtm.start\\':new Date().getTime(),event:\\'gtm.js\\'});var f=d.getElementsByTagName(s)[0],j=d.createElement(s),dl=l!=\\'dataLayer\\'?\\'&l=\\'+l:\\'\\';j.async=true;j.src=\\'//www.googletagmanager.com/gtm.js?id=\\'+i+dl;f.parentNode.insertBefore(j,f);})(window,document,\\'script\\',\\'dataLayer\\',\\'GTM-6QP2\\');</script>\\n<script pagespeed_no_defer=\"\" src=\"//native.sharethrough.com/assets/tag.js\"></script>\\n<script pagespeed_no_defer=\"\" async src=\"//js-sec.indexww.com/ht/ls-metrolyrics.js\"></script>\\n<script pagespeed_no_defer=\"\" src=\\'http://c.amazon-adsystem.com/aax2/amzn_ads.js\\'></script>\\n<script async src=\"https://z.moatads.com/cbsprebidheader506831276743/yield.js\"></script>\\n<script pagespeed_no_defer=\"\">try{amznads.getAds(\\'3037\\');}catch(e){}</script>\\n<script async src=\"//mtrx.go.sonobi.com/morpheus.cbsi.media.1655.js\"></script>\\n<script>(function(){var gads=document.createElement(\\'script\\');gads.async=true;gads.type=\\'text/javascript\\';var useSSL=\\'https:\\'==document.location.protocol;gads.src=(useSSL?\\'https:\\':\\'http:\\')+\\'//www.googletagservices.com/tag/js/gpt.js\\';var node=document.getElementsByTagName(\\'script\\')[0];node.parentNode.insertBefore(gads,node);})();setMoatPrebidData=function(){if(window.moatPrebidApi&&typeof window.moatPrebidApi.slotDataAvailable===\\'function\\'&&window.moatPrebidApi.slotDataAvailable()){window.moatPrebidApi.enableLogging();return window.moatPrebidApi.setMoatTargetingForAllSlots();}else{return false;}}\\ngoogletag.CBSigetCookieValue=function(ckNm){var name=ckNm+\"=\";var decodedCookie=decodeURIComponent(document.cookie);var ca=decodedCookie.split(\\';\\');for(var i=0;i<ca.length;i++){var c=ca[i];while(c.charAt(0)==\\' \\'){c=c.substring(1);}\\nif(c.indexOf(name)==0){return c.substring(name.length,c.length);}}\\nreturn\"\";};googletag.CBSiisEDT=function(dt){var edtStart=new Date(dt.getFullYear(),2,1);edtStart=Date.UTC(edtStart.getUTCFullYear(),2,14-(edtStart.getUTCDay()+13)%7,5);var edtEnd=new Date(dt.getFullYear(),10,1);edtEnd=Date.UTC(edtEnd.getUTCFullYear(),10,7-(edtEnd.getUTCDay()+6)%7,4);return dt.getTime()>=edtStart&&dt.getTime()<edtEnd;};googletag.CBSiaddPageView=function(){var pv=1;var cookiename=\"pv\";if(document.cookie.indexOf(cookiename)!=-1){pv=parseInt(googletag.CBSigetCookieValue(cookiename));if(isNaN(pv))\\n{pv=1;}else{pv+=1;}}\\nvar dt=new Date();var exp=Date.UTC(dt.getUTCFullYear(),dt.getUTCMonth(),dt.getUTCDate(),googletag.CBSiisEDT(dt)?4:5);exp+=exp>dt.getTime()?0:24*60*60*1000;exp=new Date(exp).toUTCString();var domainArr=document.domain.split(\\'.\\').reverse();var l2domain=document.domain;if(domainArr[1]!=null)\\n{l2domain=domainArr[1]+\".\"+domainArr[0];}\\ndocument.cookie=cookiename+\"=\"+pv+\";path=/;domain=\"+l2domain+\";expires=\"+exp;googletag.pubads().setTargeting(\"pv\",\"\"+pv);};googletag.cmd.push(function(){window.dfpSlots=[];window.dfpSlots.push(googletag.defineOutOfPageSlot(\"/8264/aw-metrolyrics/artist/lyrics\",\"interstitial\").addService(googletag.pubads()));window.dfpSlots.push(googletag.defineSlot(\\'/8264/aw-metrolyrics/artist/lyrics\\',[[1600,1000]],\\'div-gpt-ad-skin\\').addService(googletag.pubads()).setTargeting(\"pos\",\"top\"));if(ml.eC!==\"Homepage\"){window.lb_slot=googletag.defineSlot(\\'/8264/aw-metrolyrics/artist/lyrics\\',[[728,90],[970,66],[970,250],[728,91]],\\'div-gpt-ad-leaderboard\\').addService(googletag.pubads()).setTargeting(\"pos\",\"top\");window.dfpSlots.push(window.lb_slot);}window.dfpSlots.push(googletag.defineSlot(\\'/8264/aw-metrolyrics/artist/lyrics\\',[[300,250],[300,500],[300,600]],\\'div-gpt-ad-mpu\\').addService(googletag.pubads()).setTargeting(\"pos\",\"top\"));window.dfpSlots.push(googletag.defineSlot(\\'/8264/aw-metrolyrics/artist/lyrics\\',[[300,250]],\\'div-gpt-ad-mpu_middle\\').addService(googletag.pubads()).setTargeting(\"pos\",\"middle\"));window.dfpSlots.push(googletag.defineSlot(\\'/8264/aw-metrolyrics/artist/lyrics\\',[[11,11],\"fluid\"],\\'div-gpt-ad-strnative\\').addService(googletag.pubads()).setTargeting(\"strnativekey\",\"d3494f3e\").setTargeting(\"pos\",\"top\"));window.dfpSlots.push(googletag.defineSlot(\\'/8264/aw-metrolyrics/artist/lyrics\\',[[728,90],[970,66],[728,92],[970,250]],\\'div-gpt-ad-leaderboard_bottom\\').addService(googletag.pubads()).setTargeting(\"pos\",\"bottom\"));googletag.pubads().setTargeting(\\'vguid\\',vguid).setTargeting(\"ptype\",\"lyrics_list\").setTargeting(\"inskin\",\"yes\").setTargeting(\"ar\",[\"nas\",\"notoriousbig\",\"jayz\",\"mobbdeep\",\"2pac\",\"wutangclan\",\"game\",\"talibkweli\",\"common\",\"gangstarr\",\"drdre\"]).setTargeting(\"tag\",\"HipHop\").setTargeting(\"cid\",\"8552\").setTargeting(\"artist\",\"nas\");var ftag=false,ftagHash=false,ftagSession=localStorage.getItem(\\'ftagSession\\')||false;if(window.location.hash.indexOf(\\'ftag=\\')!=-1){ftagHash=window.location.hash.substring(window.location.hash.indexOf(\\'ftag=\\')+5);}\\nif(ftag!=false){localStorage.setItem(\\'ftagSession\\',ftag)\\ngoogletag.pubads().setTargeting(\\'ftag\\',ftag);}else if(ftagHash!=false){localStorage.setItem(\\'ftagSession\\',ftagHash)\\ngoogletag.pubads().setTargeting(\\'ftag\\',ftagHash);}else if(ftagSession!=false){googletag.pubads().setTargeting(\\'ftag\\',ftagSession);}\\nvar key=\\'amznslots\\';var values=amznads.getTokens();try{amznads.setTargetingForGPTAsync(\\'amznslots\\');}catch(e){}\\ngoogletag.CBSiaddPageView();googletag.pubads().enableAsyncRendering();googletag.pubads().enableSingleRequest();googletag.pubads().collapseEmptyDivs();googletag.pubads().disableInitialLoad();googletag.enableServices();});window.mlAds={queueAction:function(command){googletag.cmd.push(function(){if(typeof index_headertag_lightspeed!==\\'undefined\\'){var cb=(function(slots){return function(){index_headertag_lightspeed.set_slot_targeting(slots);command(slots);};})(window.dfpSlots);index_headertag_lightspeed.add_session_end_hook(cb,true);index_headertag_lightspeed.refresh();}else{command(window.dfpSlots);}});},displayAds:function(slots){googletag.pubads().refresh(slots);let result=setMoatPrebidData();googletag.display(\\'div-gpt-ad-skin\\');googletag.display(\\'div-gpt-ad-leaderboard\\');googletag.display(\\'div-gpt-ad-mpu\\');googletag.display(\\'div-gpt-ad-mpu_middle\\');googletag.display(\\'div-gpt-ad-strnative\\');googletag.display(\\'div-gpt-ad-leaderboard_bottom\\');googletag.display(\\'interstitial\\');},refreshAds:function(slots){googletag.pubads().refresh(slots,{changeCorrelator:!0});},finishLoading:function(){return true;}};window.mlAds.queueAction(window.mlAds.displayAds);function renderAdCallback(adData){ml.adData=adData;var sticker=document.getElementsByClassName(\\'sticker\\')[0];if(sticker){sticker.style.display=\\'none\\';}\\nif(ml.eC===\"Homepage\"&&adData.isSkin&&!adData.isBlank){var lbh=document.getElementById(\\'div-gpt-ad-leaderboard_homepage\\');document.getElementById(\\'div-gpt-ad-leaderboard\\').innerHTML=lbh.innerHTML;lbh.parentNode.removeChild(lbh);document.getElementsByClassName(\\'top-sponsor\\')[0].style.display=\\'block\\';}}</script>\\n<!-- Taboola ads header -->\\n<script>window._taboola=window._taboola||[];_taboola.push({other:\\'auto\\'});!function(e,f,u,i){if(!document.getElementById(i)){e.async=1;e.src=u;e.id=i;f.parentNode.insertBefore(e,f);}}(document.createElement(\\'script\\'),document.getElementsByTagName(\\'script\\')[0],\\'//cdn.taboola.com/libtrc/cbsinteractive-metrolyrics/loader.js\\',\\'tb_loader_script\\');</script>\\n<!-- End taboola ads header -->\\n<!-- Amino pay header -->\\n<script async>(function(){var script=document.createElement(\\'script\\');script.type=\"text/javascript\";script.async=true;script.src=\"https://pay.aminopay.net/pub.js?t1w=TLGF&ver=1.0&cb=\"+Math.random();document.getElementsByTagName(\"HEAD\")[0].appendChild(script);})();</script>\\n<link rel=\"stylesheet\" type=\"text/css\" href=\"https://pay.aminopay.net/pub.css?t1w=TLGF&ver=1.0&cb=\">\\n<!-- End Amino pay header -->\\n<script pagespeed_no_defer=\"\">//<![CDATA[\\nvar AKSB=AKSB||{};AKSB.q=[];AKSB.mark=function(c,b){AKSB.q.push([\"mark\",c,b||(new Date).getTime()])};AKSB.measure=function(c,b,a){AKSB.q.push([\"measure\",c,b,a||(new Date).getTime()])};AKSB.done=function(c){AKSB.q.push([\"done\",c])};AKSB.mark(\"firstbyte\",(new Date).getTime());AKSB.prof={origin:true,custid:\"363014\",beaconrate:10};(function(b){var a=document.createElement(\"iframe\");a.src=\"javascript:false\";(a.frameElement||a).style.cssText=\"width: 0; height: 0; border: 0; display: none\";var c=document.getElementsByTagName(\"script\"),c=c[c.length-1];c.parentNode.insertBefore(a,c);a=a.contentWindow.document;a.open().write(\"<body onload=\\\\\"var js = document.createElement(\\'script\\');js.id = \\'aksb-ifr\\';js.src = \\'\"+b+\"\\';document.body.appendChild(js);\\\\\">\");a.close()})((\"https:\"===document.location.protocol?\"https:\":\"http:\")+\"//ds-aksb-a.akamaihd.net/363014/aksb-a/aksb.min.js\");\\n//]]></script>\\n<link rel=dns-prefetch href=\"//cn.cbsimg.net\">\\n<link rel=dns-prefetch href=\"//c.compete.com\">\\n<link rel=dns-prefetch href=\"//edge.quantserve.com\">\\n<link rel=dns-prefetch href=\"//tcr.tynt.com\">\\n<link rel=dns-prefetch href=\"//c9.static.nrcdn.com\">\\n</head>\\n<body itemscope itemtype=\"http://schema.org/WebPage\">\\n<script pagespeed_no_defer=\"\">var utag_data={\"siteSection\":\"artist\",\"pageType\":\"lyrics_list\",\"musicArtistName\":\"Nas\",\"musicArtistId\":\"ml-artist-8552\",\"siteHier\":[\"Artist Page\"],\"siteType\":\"desktop web\",\"deviceType\":\"desktop\",\"bkPath\":\"\\\\/8264\\\\/aw-metrolyrics\\\\/artist\\\\/lyrics\",\"bkAr\":\"nas,notoriousbig,jayz,mobbdeep,2pac,wutangclan,game,talibkweli,common,gangstarr,drdre\",\"bkTag\":\"Hip-Hop\"}||{},findingMethod=\\'External\\';if(document.referrer&&document.referrer.indexOf(window.location.host)!=-1){if(document.cookie.match(\\'mlFindingMethod=(.+?);\\')){findingMethod=document.cookie.match(\\'mlFindingMethod=(.+?);\\')[1];findingMethod=decodeURIComponent(findingMethod.replace(/\\\\+/g,\\' \\'));}}\\nutag_data.pageFindingMethod=findingMethod;if(typeof(vguid)!==\"undefined\"){utag_data.pageViewGuid=vguid;}\\n(function(a,b,c,d){a=\\'//tags.tiqcdn.com/utag/cbsi/metrolyricssite/prod/utag.js\\';b=document;c=\\'script\\';d=b.createElement(c);d.src=a;d.type=\\'text/java\\'+c;d.async=true;a=b.getElementsByTagName(c)[0];a.parentNode.insertBefore(d,a);})();</script>\\t<div id=\"fpo\" class=\"ng-hide\" ng-controller=\"fpOverlayCtrl\" ng-show=\"$root.fpo.visible\" ng-click=\"$root.fpo.close($event);\">\\n<ng-include id=\"fpo-template\" ng-show=\"$root.fpo.templateVisible\" src=\"$root.fpo.templateUrl\"></ng-include>\\n<iframe id=\"fpo-iframe\" frameborder=\"0\"></iframe>\\n</div>\\n<div class=\"page\" id=\"page\">\\n<div class=\"overlay\" id=\"overlay\"></div>\\n<div class=\"mobile-view\">\\n<div class=\"label subtle\">You are now on the desktop site.</div>\\n<div class=\"label highlight\">\\nReturn to mobile?\\n<span class=\"yes\">Yes</span>\\n<span class=\"no\">No</span>\\n</div>\\n</div>\\n<header class=\"page-header\" header-bar>\\n<div class=\"header-top\" id=\"header-top\">\\n<div class=\"row\">\\n<div class=\"logo grid_3\">\\n<a href=\"http://www.metrolyrics.com/\" onmousedown=\"ev(\\'Header\\',\\'Logo\\');\" title=\"Metrolyrics Homepage\">Lyrics</a>\\n</div>\\n<nav class=\"nav-main grid_5\">\\n<ul class=\"clearfix\">\\n<li><a href=\"http://www.metrolyrics.com/top100.html\" onmousedown=\"ev(\\'Header\\',\\'Lyrics\\');\">Top 100</a></li>\\n<li><a href=\"http://www.metrolyrics.com/videos.html\" onmousedown=\"ev(\\'Header\\',\\'Videos\\');\">Videos</a></li>\\n<li><a href=\"http://www.metrolyrics.com/news.html\" onmousedown=\"ev(\\'Header\\',\\'News\\');\">Features</a></li>\\n<li class=\"active\"><a href=\"http://www.metrolyrics.com/top-artists.html\" onmousedown=\"ev(\\'Header\\',\\'Artists\\');\">Artists</a></li>\\n</ul>\\n</nav>\\n<div class=\"hdr-search grid_3\" id=\"search-container\">\\n<form class=\"search-form\" action=\"/search\">\\n<input type=\"text\" class=\"search-ip\" id=\"search-ip\" name=\"search\" ng-click=\"search.open()\" placeholder=\"Search for lyrics\" onmousedown=\"ev(\\'Search\\',\\'Header\\');\"/>\\n<input type=\"submit\" value=\"Search\" class=\"search-btn\" onmousedown=\"ev(\\'Search\\',\\'Header Button\\');\"/>\\n</form>\\n</div>\\n<div class=\"login\" ng-class=\"{\\n\\t\\t\\t\\t\\t\\'logged-in\\'  : user.isLoggedIn(), \\n\\t\\t\\t\\t\\t\\'logged-out\\' : !user.isLoggedIn(),\\n\\t\\t\\t\\t\\t\\'active\\'     : user.dropdown\\n\\t\\t\\t\\t}\" stop-event=\"click\">\\n<div class=\"js-btn btn\" onmousedown=\"ev(\\'Header\\',\\'Login\\');\" ng-click=\"!user.isLoggedIn() ? user.open() : \\'\\'\">\\n</div>\\n<div class=\"dropdown unknown-user ng-hide\" ng-show=\"!user.isLoggedIn()\">\\n<div class=\"link\">\\n<label><a ng-click=\"user.open()\" ng-mousedown=\"ev(\\'Header\\',\\'Login Quickly\\');\">Log In</a></label>\\n</div>\\n<div class=\"link\" ng-mousedown=\"ev(\\'Header\\',\\'Create Account\\');\" ng-click=\"user.open()\">\\n<label><a>Create Free Account</a></label>\\n</div>\\n</div>\\n<div class=\"dropdown known-user ng-hide\" ng-show=\"user.isLoggedIn()\">\\n<div ng-if=\"user.username\" class=\"name\">\\n<label ng-bind=\"user.username\"></label>\\n</div>\\n<div class=\"link\">\\n<label>\\n<a ng-mousedown=\"ev(\\'Header\\',\\'Notifications\\');\" ng-click=\"user.notificationCount = 0; $root.fpo.iframe($root.fpo.secureUrl + \\'secure/notifications.html\\')\" class=\"notifications\">\\n<span class=\"js-notifications-count notifications-count ng-hide\" ng-show=\\'user.notificationCount > 0\\' ng-bind=\\'user.notificationCount\\'></span> Notifications\\n</a>\\n</label>\\n</div>\\n<div class=\"link\">\\n<label>\\n<a onmousedown=\"ev(\\'Header\\',\\'Account Settings\\');\" href=\"https://secure.metrolyrics.com/secure/account-setting.html\">\\nAccount Settings\\n</a>\\n</label>\\n</div>\\n<div class=\"link\" id=\"logout\" ng-click=\"user.logout()\">\\n<label><a onmousedown=\"ev(\\'Header\\',\\'Log Out\\');\">Log out</a></label>\\n</div>\\n</div>\\n</div>\\n<span class=\"js-notifications-count notifications-count menu ng-hide\" ng-show=\\'user.notificationHide != true && user.notificationCount > 0\\' ng-bind=\\'user.notificationCount\\'></span>\\n</div>\\n</div>\\n</header>\\n<div id=\"mantle_skin\">\\n<div style=\"display:none\" id=\\'div-gpt-ad-skin\\'></div>\\n<div class=\\'js-sponsor-wrapper\\'>\\n<div class=\"js-top-sponsor top-sponsor\">\\n<div id=\\'div-gpt-ad-leaderboard\\'></div>\\t</div>\\n</div>\\n<div id=\"skin-wrap\">\\n<div id=\"bg-top\" class=\"bg-top\">\\n<div><script pagespeed_no_defer=\"\">//<![CDATA[\\n(function(){var d=window,e=document,f=\"documentElement\",g=\"scrollTop\",k=\"prototype\",l=\"body\",m=\"getAttribute\",n=\"\",p=\"1\",q=\"data\",r=\"img\",s=\"load\",t=\"number\",u=\"on\",v=\"onload\",w=\"pagespeed_lazy_position\",x=\"pagespeed_lazy_replaced_functions\",y=\"pagespeed_lazy_src\",z=\"position\",A=\"relative\",B=\"resize\",C=\"scroll\",D=\"src\",E=function(a,b,c){if(a.addEventListener)a.addEventListener(b,c,!1);else if(a.attachEvent)a.attachEvent(u+b,c);else{var h=a[u+b];a[u+b]=function(){c.call(this);h&&h.call(this)}}};d.pagespeed=d.pagespeed||{};var F=d.pagespeed,G=function(a){this.d=[];this.a=0;this.b=!1;this.n=a;this.e=null;this.i=0;this.j=200;this.c=!1};G[k].r=function(){var a=0;typeof d.pageYOffset==t?a=d.pageYOffset:e[l]&&e[l][g]?a=e[l][g]:e[f]&&e[f][g]&&(a=e[f][g]);var b=d.innerHeight||e[f].clientHeight||e[l].clientHeight;return{top:a,bottom:a+b,height:b}};G[k].m=function(a){var b=a[m](w);if(b)return parseInt(b,0);var b=a.offsetTop,c=a.offsetParent;c&&(b+=this.m(c));b=Math.max(b,0);a.setAttribute(w,b);return b};\\nG[k].q=function(a){var b=this.m(a);return{top:b,bottom:b+a.offsetHeight}};G[k].p=function(a,b){if(a.currentStyle)return a.currentStyle[b];if(e.defaultView&&e.defaultView.getComputedStyle){var c=e.defaultView.getComputedStyle(a,null);if(c)return c.getPropertyValue(b)}return a.style&&a.style[b]?a.style[b]:n};\\nG[k].o=function(a){if(!this.c&&(0==a.offsetHeight||0==a.offsetWidth))return!1;if(this.p(a,z)==A)return!0;var b=this.r(),c=a.getBoundingClientRect();c?(a=c.top-b.height,b=c.bottom):(c=this.q(a),a=c.top-b.bottom,b=c.bottom-b.top);return a<=this.a&&0<=b+this.a};\\nG[k].l=function(a){this.k(a);var b=this;d.setTimeout(function(){var c=a[m](y);if(null!=c)if((b.b||b.o(a))&&-1!=a.src.indexOf(b.n)){var h=a.parentNode,H=a.nextSibling;h&&h.removeChild(a);a.g&&(a.getAttribute=a.g);a.removeAttribute(v);a.removeAttribute(y);a.removeAttribute(x);h&&h.insertBefore(a,H);a.src=c}else b.d.push(a)},0)};G[k].loadIfVisible=G[k].l;G[k].t=function(){this.b=!0;this.f()};G[k].loadAllImages=G[k].t;G[k].f=function(){var a=this.d,b=a.length;this.d=[];for(var c=0;c<b;++c)this.l(a[c])};\\nG[k].h=function(a,b){return a.a?null!=a.a(b):null!=a[m](b)};G[k].u=function(){for(var a=e.getElementsByTagName(r),b=0;b<a.length;++b){var c=a[b];this.h(c,y)&&this.k(c)}};G[k].overrideAttributeFunctions=G[k].u;G[k].k=function(a){var b=this;this.h(a,x)||(a.g=a[m],a.getAttribute=function(a){a.toLowerCase()==D&&b.h(this,y)&&(a=y);return this.g(a)},a.setAttribute(x,p))};\\nF.s=function(a,b){var c=new G(b);F.lazyLoadImages=c;E(d,s,function(){c.c=!0;c.b=a;c.a=200;c.f()});0!=b.indexOf(q)&&((new Image).src=b);var h=function(){if(!(c.c&&a||c.e)){var b=c.j;(new Date).getTime()-c.i>c.j&&(b=0);c.e=d.setTimeout(function(){c.i=(new Date).getTime();c.f();c.e=null},b)}};E(d,C,h);E(d,B,h)};F.lazyLoadInit=F.s;})();\\n\\npagespeed.lazyLoadInit(false, \"/img/1.gif\");\\n\\n//]]></script><img pagespeed_lazy_src=\"http://netstorage.metrolyrics.com/artists/hero/default/6.jpg\" alt=\"Nas lyrics\" src=\"/img/1.gif\" onload=\"pagespeed.lazyLoadImages.loadIfVisible(this);\"/></div>\\n</div>\\n<div class=\"main clearfix\" role=\"main\">\\n<div id=\"artist-lyrics\">\\n<div class=\"artist-header content-header row\">\\n<div class=\"grid_6 suffix_6\">\\n<h1>Nas</h1>\\n<p>\\n<a href=\"http://www.metrolyrics.com/nas-overview.html\" onmousedown=\"ev(\\'Artist Menu\\',\\'Overview\\');\">Overview</a> /\\n<a href=\"http://www.metrolyrics.com/nas-lyrics.html\" class=\"active\" onmousedown=\"ev(\\'Artist Menu\\',\\'Lyrics\\');\">Lyrics\\n</a> /\\n<a href=\"http://www.metrolyrics.com/nas-pictures.html\" onmousedown=\"ev(\\'Artist Menu\\',\\'Photos\\');\">Photos</a> /\\n<a href=\"http://www.metrolyrics.com/nas-videos.html\" onmousedown=\"ev(\\'Artist Menu\\',\\'Videos\\');\">Videos\\n</a> /\\n<a href=\"http://www.metrolyrics.com/nas-news.html\" onmousedown=\"ev(\\'Artist Menu\\',\\'News\\');\">News</a>\\n</p>\\n</div>\\n</div>\\n<div class=\"row\">\\n<div class=\"page-content alt clearfix\">\\n<div class=\"grid_12\">\\n<div class=\"top-songs module dark-bg\">\\n<header>\\n<h3><span>Top</span> Songs</h3>\\n</header>\\n<ul class=\"tmb-small content clearfix\">\\n<li class=\"grid_3 alpha\">\\n<div>\\n<a href=\"http://www.metrolyrics.com/oochie-wally-lyrics-nas.html\" onmousedown=\"ev(\\'Featured Songs\\',\\'searcht:oochie-wally-lyrics-nas\\');\" alt=\"Nas - Oochie Wally Lyrics\" title=\"Nas - Oochie Wally Lyrics\">\\n<span class=\"tmb tmb-xs\"><img alt=\"Nas - Oochie Wally Lyrics\" title=\"Nas - Oochie Wally Lyrics\" pagespeed_lazy_src=\"http://img2-ak.lst.fm/i/u/64s/2854f7920fdc4419b6986f600c9b2dc6\" src=\"/img/1.gif\" onload=\"pagespeed.lazyLoadImages.loadIfVisible(this);\"/></span>\\nOochie Wally Lyrics\\n</a>\\n</div>\\n</li>\\n<li class=\"grid_3 alpha\">\\n<div>\\n<a href=\"http://www.metrolyrics.com/i-know-i-can-lyrics-nas.html\" onmousedown=\"ev(\\'Featured Songs\\',\\'searcht:i-know-i-can-lyrics-nas\\');\" alt=\"Nas - I Know I Can Lyrics\" title=\"Nas - I Know I Can Lyrics\">\\n<span class=\"tmb tmb-xs\"><img alt=\"Nas - I Know I Can Lyrics\" title=\"Nas - I Know I Can Lyrics\" pagespeed_lazy_src=\"http://img2-ak.lst.fm/i/u/64s/25f69d16db224759bac717861953282e\" src=\"/img/1.gif\" onload=\"pagespeed.lazyLoadImages.loadIfVisible(this);\"/></span>\\nI Know I Can Lyrics\\n</a>\\n</div>\\n</li>\\n<li class=\"grid_3 alpha\">\\n<div>\\n<a href=\"http://www.metrolyrics.com/i-can-lyrics-nas.html\" onmousedown=\"ev(\\'Featured Songs\\',\\'searcht:i-can-lyrics-nas\\');\" alt=\"Nas - I Can Lyrics\" title=\"Nas - I Can Lyrics\">\\n<span class=\"tmb tmb-xs\"><img alt=\"Nas - I Can Lyrics\" title=\"Nas - I Can Lyrics\" pagespeed_lazy_src=\"http://img2-ak.lst.fm/i/u/64s/1c7bb1c81ee64382a5f84f97b81a0073\" src=\"/img/1.gif\" onload=\"pagespeed.lazyLoadImages.loadIfVisible(this);\"/></span>\\nI Can Lyrics\\n</a>\\n</div>\\n</li>\\n<li class=\"grid_3 alpha\">\\n<div>\\n<a href=\"http://www.metrolyrics.com/ny-state-of-mind-lyrics-nas.html\" onmousedown=\"ev(\\'Featured Songs\\',\\'searcht:ny-state-of-mind-lyrics-nas\\');\" alt=\"Nas - N.y. State Of Mind Lyrics\" title=\"Nas - N.y. State Of Mind Lyrics\">\\n<span class=\"tmb tmb-xs\"><img alt=\"Nas - N.y. State Of Mind Lyrics\" title=\"Nas - N.y. State Of Mind Lyrics\" pagespeed_lazy_src=\"http://img2-ak.lst.fm/i/u/64s/40aa2360b2a544a0b4f7d069303dd56c\" src=\"/img/1.gif\" onload=\"pagespeed.lazyLoadImages.loadIfVisible(this);\"/></span>\\nN.y. State Of Mind Lyrics\\n</a>\\n</div>\\n</li>\\n</ul>\\n</div><!-- END: Top Songs -->\\n</div>\\n</div>\\n</div>\\n<div class=\"row\">\\n<div class=\"page-content tabs-wrapper clearfix\" id=\"main-content\">\\n<div class=\"grid_8\">\\n<div class=\"module no-margin clearfix\">\\n<div class=\"grid_5 alpha\">\\n<ul class=\"tabs clearfix\">\\n<li><a href=\"http://www.metrolyrics.com/nas-albums-list.html\" onmousedown=\"ev(\\'Section Nav\\',\\'By Albums\\');\" data-ref=\"albums\">By Albums</a></li>\\n<li class=\\'active\\'><a href=\"http://www.metrolyrics.com/nas-lyrics.html\" onmousedown=\"ev(\\'Section Nav\\',\\'By Lyrics\\');\" data-ref=\"lyrics\">By Lyrics</a></li>\\n<li><a href=\"http://www.metrolyrics.com/nas-featured.html\" onmousedown=\"ev(\\'Section Nav\\',\\'Featured\\');\">Featured</a></li>\\n</ul>\\n</div>\\n<div class=\"grid_3 omega\">\\n<form class=\"search-form\" action=\"/search.html\">\\n<input type=\"text\" name=\\'search\\' placeholder=\"Search for lyrics\" class=\"search-ip\" id=\"search-ip\"/>\\n<input type=\"submit\" value=\"Search\" class=\"search-btn\"/>\\n<input type=\"hidden\" name=\"category\" value=\"lyrics\"/>\\n</form>\\n</div>\\n</div>\\n<div class=\"switchable lyrics clearfix\">\\n<div class=\"module\" id=\"popular\">\\n<header>\\n<p class=\"more-link\">\\n<a href=\"http://www.metrolyrics.com/add.html?artistid=8552\" title=\"Submit New Song\" rel=\"nofollow\" onmousedown=\"ev(\\'Submit New Song\\');\">+ Submit New Song</a>\\n</p>\\n<h3><span>Popular</span> Songs</h3>\\n</header>\\n<div class=\"content\">\\n<table class=\"songs-table compact\">\\n<thead>\\n<tr>\\n<th class=\"video\">&nbsp;</th>\\n<th class=\"name\" onmousedown=\"ev(\\'Name Sort\\');\" onClick=\\'window.location=\"http://www.metrolyrics.com/nas-alpage-1.html\"\\'>Name</th>\\n<th class=\"year\">Year </th>\\n<th class=\"popularity active\" onmousedown=\"ev(\\'Popularity Sort\\');\" onClick=\\'window.location=\"http://www.metrolyrics.com/nas-lyrics.html\"\\'>Popularity</th>\\n</tr>\\n</thead>\\n<tbody>\\n<tr>\\n<td class=\"video\">\\n</td>\\n<td>\\n<a href=\"http://www.metrolyrics.com/oochie-wally-lyrics-nas.html\" onmousedown=\"ev(\\'Popular Songs\\',\\'searcht:oochie-wally-lyrics-nas\\');\" class=\"title hasvidtable\" title=\"Nas Oochie Wally lyrics\" alt=\"Nas Oochie Wally lyrics\">\\nOochie Wally Lyrics\\n</a>\\n</td>\\n<td content=\"2006\">2006</td>\\n<td>\\n<span class=\"bar popular10\">\\n<span style=\"width:100%;\"></span>\\n</span>\\n</td>\\n</tr>\\n<tr>\\n<td class=\"video\">\\n</td>\\n<td>\\n<a href=\"http://www.metrolyrics.com/i-know-i-can-lyrics-nas.html\" onmousedown=\"ev(\\'Popular Songs\\',\\'searcht:i-know-i-can-lyrics-nas\\');\" class=\"title \" title=\"Nas I Know I Can lyrics\" alt=\"Nas I Know I Can lyrics\">\\nI Know I Can Lyrics\\n</a>\\n</td>\\n<td content=\"2002\">2002</td>\\n<td>\\n<span class=\"bar popular9\">\\n<span style=\"width:99.839867472352%;\"></span>\\n</span>\\n</td>\\n</tr>\\n<tr>\\n<td class=\"video\">\\n</td>\\n<td>\\n<a href=\"http://www.metrolyrics.com/i-can-lyrics-nas.html\" onmousedown=\"ev(\\'Popular Songs\\',\\'searcht:i-can-lyrics-nas\\');\" class=\"title hasvidtable\" title=\"Nas I Can lyrics\" alt=\"Nas I Can lyrics\">\\nI Can Lyrics\\n</a>\\n</td>\\n<td content=\"2002\">2002</td>\\n<td>\\n<span class=\"bar popular8\">\\n<span style=\"width:84.589147113658%;\"></span>\\n</span>\\n</td>\\n</tr>\\n<tr>\\n<td class=\"video\">\\n</td>\\n<td>\\n<a href=\"http://www.metrolyrics.com/ny-state-of-mind-lyrics-nas.html\" onmousedown=\"ev(\\'Popular Songs\\',\\'searcht:ny-state-of-mind-lyrics-nas\\');\" class=\"title hasvidtable\" title=\"Nas N.y. State Of Mind lyrics\" alt=\"Nas N.y. State Of Mind lyrics\">\\nN.y. State Of Mind Lyrics\\n</a>\\n</td>\\n<td content=\"1994\">1994</td>\\n<td>\\n<span class=\"bar popular8\">\\n<span style=\"width:84.24902489132%;\"></span>\\n</span>\\n</td>\\n</tr>\\n<tr>\\n<td class=\"video\">\\n</td>\\n<td>\\n<a href=\"http://www.metrolyrics.com/if-i-ruled-the-world-lyrics-nas.html\" onmousedown=\"ev(\\'Popular Songs\\',\\'searcht:if-i-ruled-the-world-lyrics-nas\\');\" class=\"title hasvidtable\" title=\"Nas If I Ruled The World lyrics\" alt=\"Nas If I Ruled The World lyrics\">\\nIf I Ruled The World Lyrics\\n</a>\\n</td>\\n<td content=\"1996\">1996</td>\\n<td>\\n<span class=\"bar popular7\">\\n<span style=\"width:78.329412187883%;\"></span>\\n</span>\\n</td>\\n</tr>\\n<tr>\\n<td class=\"video\">\\n</td>\\n<td>\\n<a href=\"http://www.metrolyrics.com/cherry-wine-lyrics-nas.html\" onmousedown=\"ev(\\'Popular Songs\\',\\'searcht:cherry-wine-lyrics-nas\\');\" class=\"title hasvidtable\" title=\"Nas Cherry Wine lyrics\" alt=\"Nas Cherry Wine lyrics\">\\nCherry Wine Lyrics\\n</a>\\n</td>\\n<td content=\"2012\">2012</td>\\n<td>\\n<span class=\"bar popular7\">\\n<span style=\"width:75.384836724183%;\"></span>\\n</span>\\n</td>\\n</tr>\\n<tr>\\n<td class=\"video\">\\n</td>\\n<td>\\n<a href=\"http://www.metrolyrics.com/ether-lyrics-nas.html\" onmousedown=\"ev(\\'Popular Songs\\',\\'searcht:ether-lyrics-nas\\');\" class=\"title hasvidtable\" title=\"Nas Ether lyrics\" alt=\"Nas Ether lyrics\">\\nEther Lyrics\\n</a>\\n</td>\\n<td content=\"2001\">2001</td>\\n<td>\\n<span class=\"bar popular7\">\\n<span style=\"width:74.850341063817%;\"></span>\\n</span>\\n</td>\\n</tr>\\n<tr>\\n<td class=\"video\">\\n</td>\\n<td>\\n<a href=\"http://www.metrolyrics.com/the-world-is-yours-lyrics-nas.html\" onmousedown=\"ev(\\'Popular Songs\\',\\'searcht:the-world-is-yours-lyrics-nas\\');\" class=\"title hasvidtable\" title=\"Nas The World Is Yours lyrics\" alt=\"Nas The World Is Yours lyrics\">\\nThe World Is Yours Lyrics\\n</a>\\n</td>\\n<td content=\"1994\">1994</td>\\n<td>\\n<span class=\"bar popular7\">\\n<span style=\"width:74.850341063817%;\"></span>\\n</span>\\n</td>\\n</tr>\\n<tr>\\n<td class=\"video\">\\n</td>\\n<td>\\n<a href=\"http://www.metrolyrics.com/one-mic-lyrics-nas.html\" onmousedown=\"ev(\\'Popular Songs\\',\\'searcht:one-mic-lyrics-nas\\');\" class=\"title hasvidtable\" title=\"Nas One Mic lyrics\" alt=\"Nas One Mic lyrics\">\\nOne Mic Lyrics\\n</a>\\n</td>\\n<td content=\"2001\">2001</td>\\n<td>\\n<span class=\"bar popular7\">\\n<span style=\"width:70.660900437292%;\"></span>\\n</span>\\n</td>\\n</tr>\\n<tr>\\n<td class=\"video\">\\n</td>\\n<td>\\n<a href=\"http://www.metrolyrics.com/family-lyrics-nas.html\" onmousedown=\"ev(\\'Popular Songs\\',\\'searcht:family-lyrics-nas\\');\" class=\"title hasvidtable\" title=\"Nas Family lyrics\" alt=\"Nas Family lyrics\">\\nFamily Lyrics\\n</a>\\n</td>\\n<td content=\"1999\">1999</td>\\n<td>\\n<span class=\"bar popular6\">\\n<span style=\"width:69.288596962392%;\"></span>\\n</span>\\n</td>\\n</tr>\\n<tr>\\n<td class=\"video\">\\n</td>\\n<td>\\n<a href=\"http://www.metrolyrics.com/the-message-lyrics-nas.html\" onmousedown=\"ev(\\'Popular Songs\\',\\'searcht:the-message-lyrics-nas\\');\" class=\"title hasvidtable\" title=\"Nas The Message lyrics\" alt=\"Nas The Message lyrics\">\\nThe Message Lyrics\\n</a>\\n</td>\\n<td content=\"1996\">1996</td>\\n<td>\\n<span class=\"bar popular6\">\\n<span style=\"width:69.288596962392%;\"></span>\\n</span>\\n</td>\\n</tr>\\n<tr>\\n<td class=\"video\">\\n</td>\\n<td>\\n<a href=\"http://www.metrolyrics.com/lifes-a-bitch-lyrics-nas.html\" onmousedown=\"ev(\\'Popular Songs\\',\\'searcht:lifes-a-bitch-lyrics-nas\\');\" class=\"title hasvidtable\" title=\"Nas Life&#039;s A Bitch lyrics\" alt=\"Nas Life&#039;s A Bitch lyrics\">\\nLife&#039;s A Bitch Lyrics\\n</a>\\n</td>\\n<td content=\"1994\">1994</td>\\n<td>\\n<span class=\"bar popular6\">\\n<span style=\"width:62.646912769533%;\"></span>\\n</span>\\n</td>\\n</tr>\\n<tr>\\n<td class=\"video\">\\n</td>\\n<td>\\n<a href=\"http://www.metrolyrics.com/nas-is-like-lyrics-nas.html\" onmousedown=\"ev(\\'Popular Songs\\',\\'searcht:nas-is-like-lyrics-nas\\');\" class=\"title hasvidtable\" title=\"Nas Nas Is Like lyrics\" alt=\"Nas Nas Is Like lyrics\">\\nNas Is Like Lyrics\\n</a>\\n</td>\\n<td content=\"1999\">1999</td>\\n<td>\\n<span class=\"bar popular6\">\\n<span style=\"width:61.642961174084%;\"></span>\\n</span>\\n</td>\\n</tr>\\n<tr>\\n<td class=\"video\">\\n</td>\\n<td>\\n<a href=\"http://www.metrolyrics.com/cant-forget-about-you-lyrics-nas.html\" onmousedown=\"ev(\\'Popular Songs\\',\\'searcht:cant-forget-about-you-lyrics-nas\\');\" class=\"title \" title=\"Nas Can&#039;t Forget About You lyrics\" alt=\"Nas Can&#039;t Forget About You lyrics\">\\nCan&#039;t Forget About You Lyrics\\n</a>\\n</td>\\n<td content=\"2006\">2006</td>\\n<td>\\n<span class=\"bar popular5\">\\n<span style=\"width:59.474965644807%;\"></span>\\n</span>\\n</td>\\n</tr>\\n<tr>\\n<td class=\"video\">\\n</td>\\n<td>\\n<a href=\"http://www.metrolyrics.com/daughters-lyrics-nas.html\" onmousedown=\"ev(\\'Popular Songs\\',\\'searcht:daughters-lyrics-nas\\');\" class=\"title hasvidtable\" title=\"Nas Daughters lyrics\" alt=\"Nas Daughters lyrics\">\\nDaughters Lyrics\\n</a>\\n</td>\\n<td content=\"2012\">2012</td>\\n<td>\\n<span class=\"bar popular5\">\\n<span style=\"width:58.298821195514%;\"></span>\\n</span>\\n</td>\\n</tr>\\n<tr>\\n<td class=\"video\">\\n</td>\\n<td>\\n<a href=\"http://www.metrolyrics.com/it-aint-hard-to-tell-lyrics-nas.html\" onmousedown=\"ev(\\'Popular Songs\\',\\'searcht:it-aint-hard-to-tell-lyrics-nas\\');\" class=\"title hasvidtable\" title=\"Nas It Ain&#039;t Hard To Tell lyrics\" alt=\"Nas It Ain&#039;t Hard To Tell lyrics\">\\nIt Ain&#039;t Hard To Tell Lyrics\\n</a>\\n</td>\\n<td content=\"1994\">1994</td>\\n<td>\\n<span class=\"bar popular5\">\\n<span style=\"width:57.051352841344%;\"></span>\\n</span>\\n</td>\\n</tr>\\n<tr>\\n<td class=\"video\">\\n</td>\\n<td>\\n<a href=\"http://www.metrolyrics.com/ghetto-remix-lyrics-nas.html\" onmousedown=\"ev(\\'Popular Songs\\',\\'searcht:ghetto-remix-lyrics-nas\\');\" class=\"title \" title=\"Nas Ghetto (Remix) lyrics\" alt=\"Nas Ghetto (Remix) lyrics\">\\nGhetto (Remix) Lyrics\\n</a>\\n</td>\\n<td content=\"2008\">2008</td>\\n<td>\\n<span class=\"bar popular5\">\\n<span style=\"width:57.051352841344%;\"></span>\\n</span>\\n</td>\\n</tr>\\n<tr>\\n<td class=\"video\">\\n</td>\\n<td>\\n<a href=\"http://www.metrolyrics.com/hate-me-now-lyrics-nas.html\" onmousedown=\"ev(\\'Popular Songs\\',\\'searcht:hate-me-now-lyrics-nas\\');\" class=\"title hasvidtable\" title=\"Nas Hate Me Now lyrics\" alt=\"Nas Hate Me Now lyrics\">\\nHate Me Now Lyrics\\n</a>\\n</td>\\n<td content=\"1999\">1999</td>\\n<td>\\n<span class=\"bar popular5\">\\n<span style=\"width:52.778773006948%;\"></span>\\n</span>\\n</td>\\n</tr>\\n<tr>\\n<td class=\"video\">\\n</td>\\n<td>\\n<a href=\"http://www.metrolyrics.com/got-yourself-a-gun-lyrics-nas.html\" onmousedown=\"ev(\\'Popular Songs\\',\\'searcht:got-yourself-a-gun-lyrics-nas\\');\" class=\"title hasvidtable\" title=\"Nas Got Yourself a Gun lyrics\" alt=\"Nas Got Yourself a Gun lyrics\">\\nGot Yourself a Gun Lyrics\\n</a>\\n</td>\\n<td content=\"2001\">2001</td>\\n<td>\\n<span class=\"bar popular5\">\\n<span style=\"width:51.131740137907%;\"></span>\\n</span>\\n</td>\\n</tr>\\n<tr>\\n<td class=\"video\">\\n</td>\\n<td>\\n<a href=\"http://www.metrolyrics.com/hero-lyrics-nas.html\" onmousedown=\"ev(\\'Popular Songs\\',\\'searcht:hero-lyrics-nas\\');\" class=\"title hasvidtable\" title=\"Nas Hero lyrics\" alt=\"Nas Hero lyrics\">\\nHero Lyrics\\n</a>\\n</td>\\n<td content=\"2008\">2008</td>\\n<td>\\n<span class=\"bar popular5\">\\n<span style=\"width:51.131740137907%;\"></span>\\n</span>\\n</td>\\n</tr>\\n<tr>\\n<td class=\"video\">\\n</td>\\n<td>\\n<a href=\"http://www.metrolyrics.com/fried-chicken-lyrics-nas.html\" onmousedown=\"ev(\\'Popular Songs\\',\\'searcht:fried-chicken-lyrics-nas\\');\" class=\"title \" title=\"Nas Fried Chicken lyrics\" alt=\"Nas Fried Chicken lyrics\">\\nFried Chicken Lyrics\\n</a>\\n</td>\\n<td content=\"2008\">2008</td>\\n<td>\\n<span class=\"bar popular5\">\\n<span style=\"width:51.131740137907%;\"></span>\\n</span>\\n</td>\\n</tr>\\n<tr>\\n<td class=\"video\">\\n</td>\\n<td>\\n<a href=\"http://www.metrolyrics.com/halftime-lyrics-nas.html\" onmousedown=\"ev(\\'Popular Songs\\',\\'searcht:halftime-lyrics-nas\\');\" class=\"title hasvidtable\" title=\"Nas Halftime lyrics\" alt=\"Nas Halftime lyrics\">\\nHalftime Lyrics\\n</a>\\n</td>\\n<td content=\"1994\">1994</td>\\n<td>\\n<span class=\"bar popular5\">\\n<span style=\"width:51.131740137907%;\"></span>\\n</span>\\n</td>\\n</tr>\\n<tr>\\n<td class=\"video\">\\n</td>\\n<td>\\n<a href=\"http://www.metrolyrics.com/made-you-look-lyrics-nas.html\" onmousedown=\"ev(\\'Popular Songs\\',\\'searcht:made-you-look-lyrics-nas\\');\" class=\"title hasvidtable\" title=\"Nas Made You Look lyrics\" alt=\"Nas Made You Look lyrics\">\\nMade You Look Lyrics\\n</a>\\n</td>\\n<td content=\"2002\">2002</td>\\n<td>\\n<span class=\"bar popular5\">\\n<span style=\"width:51.131740137907%;\"></span>\\n</span>\\n</td>\\n</tr>\\n<tr>\\n<td class=\"video\">\\n</td>\\n<td>\\n<a href=\"http://www.metrolyrics.com/suspect-lyrics-nas.html\" onmousedown=\"ev(\\'Popular Songs\\',\\'searcht:suspect-lyrics-nas\\');\" class=\"title hasvidtable\" title=\"Nas Suspect lyrics\" alt=\"Nas Suspect lyrics\">\\nSuspect Lyrics\\n</a>\\n</td>\\n<td content=\"1996\">1996</td>\\n<td>\\n<span class=\"bar popular4\">\\n<span style=\"width:49.341313476345%;\"></span>\\n</span>\\n</td>\\n</tr>\\n<tr>\\n<td class=\"video\">\\n</td>\\n<td>\\n<a href=\"http://www.metrolyrics.com/just-a-moment-lyrics-nas.html\" onmousedown=\"ev(\\'Popular Songs\\',\\'searcht:just-a-moment-lyrics-nas\\');\" class=\"title hasvidtable\" title=\"Nas Just A Moment lyrics\" alt=\"Nas Just A Moment lyrics\">\\nJust A Moment Lyrics\\n</a>\\n</td>\\n<td content=\"2004\">2004</td>\\n<td>\\n<span class=\"bar popular4\">\\n<span style=\"width:47.380122963748%;\"></span>\\n</span>\\n</td>\\n</tr>\\n<tr>\\n<td class=\"video\">\\n</td>\\n<td>\\n<a href=\"http://www.metrolyrics.com/represent-lyrics-nas.html\" onmousedown=\"ev(\\'Popular Songs\\',\\'searcht:represent-lyrics-nas\\');\" class=\"title hasvidtable\" title=\"Nas Represent lyrics\" alt=\"Nas Represent lyrics\">\\nRepresent Lyrics\\n</a>\\n</td>\\n<td content=\"1994\">1994</td>\\n<td>\\n<span class=\"bar popular4\">\\n<span style=\"width:45.212127434471%;\"></span>\\n</span>\\n</td>\\n</tr>\\n<tr>\\n<td class=\"video\">\\n</td>\\n<td>\\n<a href=\"http://www.metrolyrics.com/patience-lyrics-nas.html\" onmousedown=\"ev(\\'Popular Songs\\',\\'searcht:patience-lyrics-nas\\');\" class=\"title hasvidtable\" title=\"Nas Patience lyrics\" alt=\"Nas Patience lyrics\">\\nPatience Lyrics\\n</a>\\n</td>\\n<td content=\"2014\">2014</td>\\n<td>\\n<span class=\"bar popular4\">\\n<span style=\"width:45.212127434471%;\"></span>\\n</span>\\n</td>\\n</tr>\\n<tr>\\n<td class=\"video\">\\n</td>\\n<td>\\n<a href=\"http://www.metrolyrics.com/you-owe-me-lyrics-nas.html\" onmousedown=\"ev(\\'Popular Songs\\',\\'searcht:you-owe-me-lyrics-nas\\');\" class=\"title hasvidtable\" title=\"Nas You Owe Me lyrics\" alt=\"Nas You Owe Me lyrics\">\\nYou Owe Me Lyrics\\n</a>\\n</td>\\n<td content=\"1999\">1999</td>\\n<td>\\n<span class=\"bar popular4\">\\n<span style=\"width:45.212127434471%;\"></span>\\n</span>\\n</td>\\n</tr>\\n<tr>\\n<td class=\"video\">\\n</td>\\n<td>\\n<a href=\"http://www.metrolyrics.com/kissing-lyrics-nas.html\" onmousedown=\"ev(\\'Popular Songs\\',\\'searcht:kissing-lyrics-nas\\');\" class=\"title hasvidtable\" title=\"Nas K-i-ss-i-n-g lyrics\" alt=\"Nas K-i-ss-i-n-g lyrics\">\\nK-i-ss-i-n-g Lyrics\\n</a>\\n</td>\\n<td content=\"1999\">1999</td>\\n<td>\\n<span class=\"bar popular4\">\\n<span style=\"width:42.788514631008%;\"></span>\\n</span>\\n</td>\\n</tr>\\n<tr>\\n<td class=\"video\">\\n</td>\\n<td>\\n<a href=\"http://www.metrolyrics.com/shine-on-em-lyrics-nas.html\" onmousedown=\"ev(\\'Popular Songs\\',\\'searcht:shine-on-em-lyrics-nas\\');\" class=\"title \" title=\"Nas Shine On Em&#039; lyrics\" alt=\"Nas Shine On Em&#039; lyrics\">\\nShine On Em&#039; Lyrics\\n</a>\\n</td>\\n<td content=\"2007\">2007</td>\\n<td>\\n<span class=\"bar popular4\">\\n<span style=\"width:42.788514631008%;\"></span>\\n</span>\\n</td>\\n</tr>\\n<tr>\\n<td class=\"video\">\\n</td>\\n<td>\\n<a href=\"http://www.metrolyrics.com/dance-lyrics-nas.html\" onmousedown=\"ev(\\'Popular Songs\\',\\'searcht:dance-lyrics-nas\\');\" class=\"title hasvidtable\" title=\"Nas Dance lyrics\" alt=\"Nas Dance lyrics\">\\nDance Lyrics\\n</a>\\n</td>\\n<td content=\"2002\">2002</td>\\n<td>\\n<span class=\"bar popular4\">\\n<span style=\"width:42.788514631008%;\"></span>\\n</span>\\n</td>\\n</tr>\\n<tr>\\n<td class=\"video\">\\n</td>\\n<td>\\n<a href=\"http://www.metrolyrics.com/im-gunna-be-alright-lyrics-nas.html\" onmousedown=\"ev(\\'Popular Songs\\',\\'searcht:im-gunna-be-alright-lyrics-nas\\');\" class=\"title \" title=\"Nas Im Gunna Be Alright lyrics\" alt=\"Nas Im Gunna Be Alright lyrics\">\\nIm Gunna Be Alright Lyrics\\n</a>\\n</td>\\n<td content=\"2006\">2006</td>\\n<td>\\n<span class=\"bar popular4\">\\n<span style=\"width:42.788514631008%;\"></span>\\n</span>\\n</td>\\n</tr>\\n<tr>\\n<td class=\"video\">\\n</td>\\n<td>\\n<a href=\"http://www.metrolyrics.com/wrote-my-way-out-lyrics-nas.html\" onmousedown=\"ev(\\'Popular Songs\\',\\'searcht:wrote-my-way-out-lyrics-nas\\');\" class=\"title \" title=\"Nas Wrote My Way Out lyrics\" alt=\"Nas Wrote My Way Out lyrics\">\\nWrote My Way Out Lyrics\\n</a>\\n</td>\\n<td content=\"2016\">2016</td>\\n<td>\\n<span class=\"bar popular4\">\\n<span style=\"width:42.788514631008%;\"></span>\\n</span>\\n</td>\\n</tr>\\n<tr>\\n<td class=\"video\">\\n</td>\\n<td>\\n<a href=\"http://www.metrolyrics.com/louis-farrakhan-lyrics-nas.html\" onmousedown=\"ev(\\'Popular Songs\\',\\'searcht:louis-farrakhan-lyrics-nas\\');\" class=\"title \" title=\"Nas Louis Farrakhan lyrics\" alt=\"Nas Louis Farrakhan lyrics\">\\nLouis Farrakhan Lyrics\\n</a>\\n</td>\\n<td content=\"2009\">2009</td>\\n<td>\\n<span class=\"bar popular4\">\\n<span style=\"width:40.040849052298%;\"></span>\\n</span>\\n</td>\\n</tr>\\n<tr>\\n<td class=\"video\">\\n</td>\\n<td>\\n<a href=\"http://www.metrolyrics.com/youre-da-man-lyrics-nas.html\" onmousedown=\"ev(\\'Popular Songs\\',\\'searcht:youre-da-man-lyrics-nas\\');\" class=\"title hasvidtable\" title=\"Nas You&#039;re da Man lyrics\" alt=\"Nas You&#039;re da Man lyrics\">\\nYou&#039;re da Man Lyrics\\n</a>\\n</td>\\n<td content=\"2014\">2014</td>\\n<td>\\n<span class=\"bar popular4\">\\n<span style=\"width:40.040849052298%;\"></span>\\n</span>\\n</td>\\n</tr>\\n<tr>\\n<td class=\"video\">\\n</td>\\n<td>\\n<a href=\"http://www.metrolyrics.com/take-it-in-blood-lyrics-nas.html\" onmousedown=\"ev(\\'Popular Songs\\',\\'searcht:take-it-in-blood-lyrics-nas\\');\" class=\"title hasvidtable\" title=\"Nas Take It In Blood lyrics\" alt=\"Nas Take It In Blood lyrics\">\\nTake It In Blood Lyrics\\n</a>\\n</td>\\n<td content=\"1996\">1996</td>\\n<td>\\n<span class=\"bar popular4\">\\n<span style=\"width:40.040849052298%;\"></span>\\n</span>\\n</td>\\n</tr>\\n<tr>\\n<td class=\"video\">\\n</td>\\n<td>\\n<a href=\"http://www.metrolyrics.com/thugz-mansion-lyrics-nas.html\" onmousedown=\"ev(\\'Popular Songs\\',\\'searcht:thugz-mansion-lyrics-nas\\');\" class=\"title hasvidtable\" title=\"Nas Thugz Mansion lyrics\" alt=\"Nas Thugz Mansion lyrics\">\\nThugz Mansion Lyrics\\n</a>\\n</td>\\n<td content=\"2002\">2002</td>\\n<td>\\n<span class=\"bar popular4\">\\n<span style=\"width:40.040849052298%;\"></span>\\n</span>\\n</td>\\n</tr>\\n<tr>\\n<td class=\"video\">\\n</td>\\n<td>\\n<a href=\"http://www.metrolyrics.com/bridging-the-gap-lyrics-nas.html\" onmousedown=\"ev(\\'Popular Songs\\',\\'searcht:bridging-the-gap-lyrics-nas\\');\" class=\"title hasvidtable\" title=\"Nas Bridging The Gap lyrics\" alt=\"Nas Bridging The Gap lyrics\">\\nBridging The Gap Lyrics\\n</a>\\n</td>\\n<td content=\"2004\">2004</td>\\n<td>\\n<span class=\"bar popular4\">\\n<span style=\"width:40.040849052298%;\"></span>\\n</span>\\n</td>\\n</tr>\\n<tr>\\n<td class=\"video\">\\n</td>\\n<td>\\n<a href=\"http://www.metrolyrics.com/stillmatic-the-intro-lyrics-nas.html\" onmousedown=\"ev(\\'Popular Songs\\',\\'searcht:stillmatic-the-intro-lyrics-nas\\');\" class=\"title hasvidtable\" title=\"Nas Stillmatic (The Intro) lyrics\" alt=\"Nas Stillmatic (The Intro) lyrics\">\\nStillmatic (The Intro) Lyrics\\n</a>\\n</td>\\n<td content=\"2001\">2001</td>\\n<td>\\n<span class=\"bar popular4\">\\n<span style=\"width:40.040849052298%;\"></span>\\n</span>\\n</td>\\n</tr>\\n<tr>\\n<td class=\"video\">\\n</td>\\n<td>\\n<a href=\"http://www.metrolyrics.com/heaven-lyrics-nas.html\" onmousedown=\"ev(\\'Popular Songs\\',\\'searcht:heaven-lyrics-nas\\');\" class=\"title \" title=\"Nas Heaven lyrics\" alt=\"Nas Heaven lyrics\">\\nHeaven Lyrics\\n</a>\\n</td>\\n<td content=\"2002\">2002</td>\\n<td>\\n<span class=\"bar popular4\">\\n<span style=\"width:40.040849052298%;\"></span>\\n</span>\\n</td>\\n</tr>\\n<tr>\\n<td class=\"video\">\\n</td>\\n<td>\\n<a href=\"http://www.metrolyrics.com/youre-the-man-lyrics-nas.html\" onmousedown=\"ev(\\'Popular Songs\\',\\'searcht:youre-the-man-lyrics-nas\\');\" class=\"title \" title=\"Nas You&#039;re The Man lyrics\" alt=\"Nas You&#039;re The Man lyrics\">\\nYou&#039;re The Man Lyrics\\n</a>\\n</td>\\n<td content=\"2001\">2001</td>\\n<td>\\n<span class=\"bar popular3\">\\n<span style=\"width:36.868901927571%;\"></span>\\n</span>\\n</td>\\n</tr>\\n<tr>\\n<td class=\"video\">\\n</td>\\n<td>\\n<a href=\"http://www.metrolyrics.com/friends-lyrics-nas.html\" onmousedown=\"ev(\\'Popular Songs\\',\\'searcht:friends-lyrics-nas\\');\" class=\"title \" title=\"Nas Friends lyrics\" alt=\"Nas Friends lyrics\">\\nFriends Lyrics\\n</a>\\n</td>\\n<td content=\"2010\">2010</td>\\n<td>\\n<span class=\"bar popular3\">\\n<span style=\"width:36.868901927571%;\"></span>\\n</span>\\n</td>\\n</tr>\\n<tr>\\n<td class=\"video\">\\n</td>\\n<td>\\n<a href=\"http://www.metrolyrics.com/africa-must-wake-up-lyrics-nas.html\" onmousedown=\"ev(\\'Popular Songs\\',\\'searcht:africa-must-wake-up-lyrics-nas\\');\" class=\"title \" title=\"Nas Africa Must Wake Up lyrics\" alt=\"Nas Africa Must Wake Up lyrics\">\\nAfrica Must Wake Up Lyrics\\n</a>\\n</td>\\n<td content=\"2010\">2010</td>\\n<td>\\n<span class=\"bar popular3\">\\n<span style=\"width:36.868901927571%;\"></span>\\n</span>\\n</td>\\n</tr>\\n<tr>\\n<td class=\"video\">\\n</td>\\n<td>\\n<a href=\"http://www.metrolyrics.com/i-gave-you-power-lyrics-nas.html\" onmousedown=\"ev(\\'Popular Songs\\',\\'searcht:i-gave-you-power-lyrics-nas\\');\" class=\"title \" title=\"Nas I Gave You Power lyrics\" alt=\"Nas I Gave You Power lyrics\">\\nI Gave You Power Lyrics\\n</a>\\n</td>\\n<td content=\"1996\">1996</td>\\n<td>\\n<span class=\"bar popular3\">\\n<span style=\"width:36.868901927571%;\"></span>\\n</span>\\n</td>\\n</tr>\\n<tr>\\n<td class=\"video\">\\n</td>\\n<td>\\n<a href=\"http://www.metrolyrics.com/memory-lane-sittin-in-da-park-lyrics-nas.html\" onmousedown=\"ev(\\'Popular Songs\\',\\'searcht:memory-lane-sittin-in-da-park-lyrics-nas\\');\" class=\"title hasvidtable\" title=\"Nas Memory Lane (sittin&#039; In Da Park) lyrics\" alt=\"Nas Memory Lane (sittin&#039; In Da Park) lyrics\">\\nMemory Lane (sittin&#039; In Da Park) Lyrics\\n</a>\\n</td>\\n<td content=\"1994\">1994</td>\\n<td>\\n<span class=\"bar popular3\">\\n<span style=\"width:36.868901927571%;\"></span>\\n</span>\\n</td>\\n</tr>\\n<tr>\\n<td class=\"video\">\\n</td>\\n<td>\\n<a href=\"http://www.metrolyrics.com/undying-love-lyrics-nas.html\" onmousedown=\"ev(\\'Popular Songs\\',\\'searcht:undying-love-lyrics-nas\\');\" class=\"title hasvidtable\" title=\"Nas Undying Love lyrics\" alt=\"Nas Undying Love lyrics\">\\nUndying Love Lyrics\\n</a>\\n</td>\\n<td content=\"1999\">1999</td>\\n<td>\\n<span class=\"bar popular3\">\\n<span style=\"width:36.868901927571%;\"></span>\\n</span>\\n</td>\\n</tr>\\n<tr>\\n<td class=\"video\">\\n</td>\\n<td>\\n<a href=\"http://www.metrolyrics.com/still-dreaming-lyrics-nas.html\" onmousedown=\"ev(\\'Popular Songs\\',\\'searcht:still-dreaming-lyrics-nas\\');\" class=\"title hasvidtable\" title=\"Nas Still Dreaming lyrics\" alt=\"Nas Still Dreaming lyrics\">\\nStill Dreaming Lyrics\\n</a>\\n</td>\\n<td content=\"2006\">2006</td>\\n<td>\\n<span class=\"bar popular3\">\\n<span style=\"width:36.868901927571%;\"></span>\\n</span>\\n</td>\\n</tr>\\n<tr>\\n<td class=\"video\">\\n</td>\\n<td>\\n<a href=\"http://www.metrolyrics.com/america-lyrics-nas.html\" onmousedown=\"ev(\\'Popular Songs\\',\\'searcht:america-lyrics-nas\\');\" class=\"title hasvidtable\" title=\"Nas America lyrics\" alt=\"Nas America lyrics\">\\nAmerica Lyrics\\n</a>\\n</td>\\n<td content=\"2008\">2008</td>\\n<td>\\n<span class=\"bar popular3\">\\n<span style=\"width:36.868901927571%;\"></span>\\n</span>\\n</td>\\n</tr>\\n<tr>\\n<td class=\"video\">\\n</td>\\n<td>\\n<a href=\"http://www.metrolyrics.com/ouchie-wally-remix-lyrics-nas.html\" onmousedown=\"ev(\\'Popular Songs\\',\\'searcht:ouchie-wally-remix-lyrics-nas\\');\" class=\"title \" title=\"Nas Ouchie Wally (remix) lyrics\" alt=\"Nas Ouchie Wally (remix) lyrics\">\\nOuchie Wally (remix) Lyrics\\n</a>\\n</td>\\n<td content=\"2007\">2007</td>\\n<td>\\n<span class=\"bar popular3\">\\n<span style=\"width:33.117284753412%;\"></span>\\n</span>\\n</td>\\n</tr>\\n<tr>\\n<td class=\"video\">\\n</td>\\n<td>\\n<a href=\"http://www.metrolyrics.com/oochie-wally-remix-lyrics-nas.html\" onmousedown=\"ev(\\'Popular Songs\\',\\'searcht:oochie-wally-remix-lyrics-nas\\');\" class=\"title \" title=\"Nas Oochie Wally (remix) lyrics\" alt=\"Nas Oochie Wally (remix) lyrics\">\\nOochie Wally (remix) Lyrics\\n</a>\\n</td>\\n<td content=\"2006\">2006</td>\\n<td>\\n<span class=\"bar popular3\">\\n<span style=\"width:33.117284753412%;\"></span>\\n</span>\\n</td>\\n</tr>\\n<tr>\\n<td class=\"video\">\\n</td>\\n<td>\\n<a href=\"http://www.metrolyrics.com/count-your-blessings-lyrics-nas.html\" onmousedown=\"ev(\\'Popular Songs\\',\\'searcht:count-your-blessings-lyrics-nas\\');\" class=\"title hasvidtable\" title=\"Nas Count Your Blessings lyrics\" alt=\"Nas Count Your Blessings lyrics\">\\nCount Your Blessings Lyrics\\n</a>\\n</td>\\n<td content=\"2010\">2010</td>\\n<td>\\n<span class=\"bar popular3\">\\n<span style=\"width:33.117284753412%;\"></span>\\n</span>\\n</td>\\n</tr>\\n<tr>\\n<td class=\"video\">\\n</td>\\n<td>\\n<a href=\"http://www.metrolyrics.com/hiphop-is-dead-lyrics-nas.html\" onmousedown=\"ev(\\'Popular Songs\\',\\'searcht:hiphop-is-dead-lyrics-nas\\');\" class=\"title hasvidtable\" title=\"Nas Hip-Hop Is Dead lyrics\" alt=\"Nas Hip-Hop Is Dead lyrics\">\\nHip-Hop Is Dead Lyrics\\n</a>\\n</td>\\n<td content=\"2006\">2006</td>\\n<td>\\n<span class=\"bar popular3\">\\n<span style=\"width:33.117284753412%;\"></span>\\n</span>\\n</td>\\n</tr>\\n<tr>\\n<td class=\"video\">\\n</td>\\n<td>\\n<a href=\"http://www.metrolyrics.com/as-we-enter-lyrics-nas.html\" onmousedown=\"ev(\\'Popular Songs\\',\\'searcht:as-we-enter-lyrics-nas\\');\" class=\"title hasvidtable\" title=\"Nas As We Enter lyrics\" alt=\"Nas As We Enter lyrics\">\\nAs We Enter Lyrics\\n</a>\\n</td>\\n<td content=\"2010\">2010</td>\\n<td>\\n<span class=\"bar popular3\">\\n<span style=\"width:33.117284753412%;\"></span>\\n</span>\\n</td>\\n</tr>\\n<tr>\\n<td class=\"video\">\\n</td>\\n<td>\\n<a href=\"http://www.metrolyrics.com/what-goes-around-lyrics-nas.html\" onmousedown=\"ev(\\'Popular Songs\\',\\'searcht:what-goes-around-lyrics-nas\\');\" class=\"title hasvidtable\" title=\"Nas What Goes Around lyrics\" alt=\"Nas What Goes Around lyrics\">\\nWhat Goes Around Lyrics\\n</a>\\n</td>\\n<td content=\"2001\">2001</td>\\n<td>\\n<span class=\"bar popular3\">\\n<span style=\"width:33.117284753412%;\"></span>\\n</span>\\n</td>\\n</tr>\\n<tr>\\n<td class=\"video\">\\n</td>\\n<td>\\n<a href=\"http://www.metrolyrics.com/affirmative-action-lyrics-nas.html\" onmousedown=\"ev(\\'Popular Songs\\',\\'searcht:affirmative-action-lyrics-nas\\');\" class=\"title hasvidtable\" title=\"Nas Affirmative Action lyrics\" alt=\"Nas Affirmative Action lyrics\">\\nAffirmative Action Lyrics\\n</a>\\n</td>\\n<td content=\"1996\">1996</td>\\n<td>\\n<span class=\"bar popular2\">\\n<span style=\"width:28.525676420672%;\"></span>\\n</span>\\n</td>\\n</tr>\\n<tr>\\n<td class=\"video\">\\n</td>\\n<td>\\n<a href=\"http://www.metrolyrics.com/life-we-chose-lyrics-nas.html\" onmousedown=\"ev(\\'Popular Songs\\',\\'searcht:life-we-chose-lyrics-nas\\');\" class=\"title hasvidtable\" title=\"Nas Life We Chose lyrics\" alt=\"Nas Life We Chose lyrics\">\\nLife We Chose Lyrics\\n</a>\\n</td>\\n<td content=\"1999\">1999</td>\\n<td>\\n<span class=\"bar popular2\">\\n<span style=\"width:28.525676420672%;\"></span>\\n</span>\\n</td>\\n</tr>\\n<tr>\\n<td class=\"video\">\\n</td>\\n<td>\\n<a href=\"http://www.metrolyrics.com/watch-dem-niggas-lyrics-nas.html\" onmousedown=\"ev(\\'Popular Songs\\',\\'searcht:watch-dem-niggas-lyrics-nas\\');\" class=\"title hasvidtable\" title=\"Nas Watch Dem Niggas lyrics\" alt=\"Nas Watch Dem Niggas lyrics\">\\nWatch Dem Niggas Lyrics\\n</a>\\n</td>\\n<td content=\"1996\">1996</td>\\n<td>\\n<span class=\"bar popular2\">\\n<span style=\"width:28.525676420672%;\"></span>\\n</span>\\n</td>\\n</tr>\\n<tr>\\n<td class=\"video\">\\n</td>\\n<td>\\n<a href=\"http://www.metrolyrics.com/let-there-be-light-lyrics-nas.html\" onmousedown=\"ev(\\'Popular Songs\\',\\'searcht:let-there-be-light-lyrics-nas\\');\" class=\"title hasvidtable\" title=\"Nas Let There Be Light lyrics\" alt=\"Nas Let There Be Light lyrics\">\\nLet There Be Light Lyrics\\n</a>\\n</td>\\n<td content=\"2006\">2006</td>\\n<td>\\n<span class=\"bar popular2\">\\n<span style=\"width:28.525676420672%;\"></span>\\n</span>\\n</td>\\n</tr>\\n<tr>\\n<td class=\"video\">\\n</td>\\n<td>\\n<a href=\"http://www.metrolyrics.com/surviving-the-times-lyrics-nas.html\" onmousedown=\"ev(\\'Popular Songs\\',\\'searcht:surviving-the-times-lyrics-nas\\');\" class=\"title hasvidtable\" title=\"Nas Surviving The Times lyrics\" alt=\"Nas Surviving The Times lyrics\">\\nSurviving The Times Lyrics\\n</a>\\n</td>\\n<td content=\"2007\">2007</td>\\n<td>\\n<span class=\"bar popular2\">\\n<span style=\"width:28.525676420672%;\"></span>\\n</span>\\n</td>\\n</tr>\\n<tr>\\n<td class=\"video\">\\n</td>\\n<td>\\n<a href=\"http://www.metrolyrics.com/memory-lane-lyrics-nas.html\" onmousedown=\"ev(\\'Popular Songs\\',\\'searcht:memory-lane-lyrics-nas\\');\" class=\"title hasvidtable\" title=\"Nas Memory Lane lyrics\" alt=\"Nas Memory Lane lyrics\">\\nMemory Lane Lyrics\\n</a>\\n</td>\\n<td content=\"2006\">2006</td>\\n<td>\\n<span class=\"bar popular2\">\\n<span style=\"width:28.525676420672%;\"></span>\\n</span>\\n</td>\\n</tr>\\n<tr>\\n<td class=\"video\">\\n</td>\\n<td>\\n<a href=\"http://www.metrolyrics.com/silent-murder-lyrics-nas.html\" onmousedown=\"ev(\\'Popular Songs\\',\\'searcht:silent-murder-lyrics-nas\\');\" class=\"title \" title=\"Nas Silent Murder lyrics\" alt=\"Nas Silent Murder lyrics\">\\nSilent Murder Lyrics\\n</a>\\n</td>\\n<td content=\"1996\">1996</td>\\n<td>\\n<span class=\"bar popular2\">\\n<span style=\"width:28.525676420672%;\"></span>\\n</span>\\n</td>\\n</tr>\\n<tr>\\n<td class=\"video\">\\n</td>\\n<td>\\n<a href=\"http://www.metrolyrics.com/warrior-song-lyrics-nas.html\" onmousedown=\"ev(\\'Popular Songs\\',\\'searcht:warrior-song-lyrics-nas\\');\" class=\"title hasvidtable\" title=\"Nas Warrior Song lyrics\" alt=\"Nas Warrior Song lyrics\">\\nWarrior Song Lyrics\\n</a>\\n</td>\\n<td content=\"2002\">2002</td>\\n<td>\\n<span class=\"bar popular2\">\\n<span style=\"width:28.525676420672%;\"></span>\\n</span>\\n</td>\\n</tr>\\n<tr>\\n<td class=\"video\">\\n</td>\\n<td>\\n<a href=\"http://www.metrolyrics.com/strong-will-continue-lyrics-nas.html\" onmousedown=\"ev(\\'Popular Songs\\',\\'searcht:strong-will-continue-lyrics-nas\\');\" class=\"title hasvidtable\" title=\"Nas Strong Will Continue lyrics\" alt=\"Nas Strong Will Continue lyrics\">\\nStrong Will Continue Lyrics\\n</a>\\n</td>\\n<td content=\"2010\">2010</td>\\n<td>\\n<span class=\"bar popular2\">\\n<span style=\"width:28.525676420672%;\"></span>\\n</span>\\n</td>\\n</tr>\\n<tr>\\n<td class=\"video\">\\n</td>\\n<td>\\n<a href=\"http://www.metrolyrics.com/we-will-survive-lyrics-nas.html\" onmousedown=\"ev(\\'Popular Songs\\',\\'searcht:we-will-survive-lyrics-nas\\');\" class=\"title \" title=\"Nas We Will Survive lyrics\" alt=\"Nas We Will Survive lyrics\">\\nWe Will Survive Lyrics\\n</a>\\n</td>\\n<td content=\"1999\">1999</td>\\n<td>\\n<span class=\"bar popular2\">\\n<span style=\"width:28.525676420672%;\"></span>\\n</span>\\n</td>\\n</tr>\\n<tr>\\n<td class=\"video\">\\n</td>\\n<td>\\n<a href=\"http://www.metrolyrics.com/money-is-my-bitch-lyrics-nas.html\" onmousedown=\"ev(\\'Popular Songs\\',\\'searcht:money-is-my-bitch-lyrics-nas\\');\" class=\"title hasvidtable\" title=\"Nas Money Is My Bitch lyrics\" alt=\"Nas Money Is My Bitch lyrics\">\\nMoney Is My Bitch Lyrics\\n</a>\\n</td>\\n<td content=\"1999\">1999</td>\\n<td>\\n<span class=\"bar popular2\">\\n<span style=\"width:28.525676420672%;\"></span>\\n</span>\\n</td>\\n</tr>\\n<tr>\\n<td class=\"video\">\\n</td>\\n<td>\\n<a href=\"http://www.metrolyrics.com/you-cant-stop-us-now-lyrics-nas.html\" onmousedown=\"ev(\\'Popular Songs\\',\\'searcht:you-cant-stop-us-now-lyrics-nas\\');\" class=\"title hasvidtable\" title=\"Nas You Can&#039;t Stop Us Now lyrics\" alt=\"Nas You Can&#039;t Stop Us Now lyrics\">\\nYou Can&#039;t Stop Us Now Lyrics\\n</a>\\n</td>\\n<td content=\"2008\">2008</td>\\n<td>\\n<span class=\"bar popular2\">\\n<span style=\"width:28.525676420672%;\"></span>\\n</span>\\n</td>\\n</tr>\\n<tr>\\n<td class=\"video\">\\n</td>\\n<td>\\n<a href=\"http://www.metrolyrics.com/sometimes-i-wonder-lyrics-nas.html\" onmousedown=\"ev(\\'Popular Songs\\',\\'searcht:sometimes-i-wonder-lyrics-nas\\');\" class=\"title \" title=\"Nas Sometimes I Wonder lyrics\" alt=\"Nas Sometimes I Wonder lyrics\">\\nSometimes I Wonder Lyrics\\n</a>\\n</td>\\n<td content=\"2006\">2006</td>\\n<td>\\n<span class=\"bar popular2\">\\n<span style=\"width:28.525676420672%;\"></span>\\n</span>\\n</td>\\n</tr>\\n<tr>\\n<td class=\"video\">\\n</td>\\n<td>\\n<a href=\"http://www.metrolyrics.com/if-i-ruled-the-world-imagine-that-lyrics-nas.html\" onmousedown=\"ev(\\'Popular Songs\\',\\'searcht:if-i-ruled-the-world-imagine-that-lyrics-nas\\');\" class=\"title hasvidtable\" title=\"Nas If I Ruled the World (Imagine That) lyrics\" alt=\"Nas If I Ruled the World (Imagine That) lyrics\">\\nIf I Ruled the World (Imagine That) Lyrics\\n</a>\\n</td>\\n<td content=\"2014\">2014</td>\\n<td>\\n<span class=\"bar popular2\">\\n<span style=\"width:28.525676420672%;\"></span>\\n</span>\\n</td>\\n</tr>\\n<tr>\\n<td class=\"video\">\\n</td>\\n<td>\\n<a href=\"http://www.metrolyrics.com/street-dreams-remix-lyrics-nas.html\" onmousedown=\"ev(\\'Popular Songs\\',\\'searcht:street-dreams-remix-lyrics-nas\\');\" class=\"title hasvidtable\" title=\"Nas Street Dreams (Remix) lyrics\" alt=\"Nas Street Dreams (Remix) lyrics\">\\nStreet Dreams (Remix) Lyrics\\n</a>\\n</td>\\n<td content=\"2007\">2007</td>\\n<td>\\n<span class=\"bar popular2\">\\n<span style=\"width:28.525676420672%;\"></span>\\n</span>\\n</td>\\n</tr>\\n<tr>\\n<td class=\"video\">\\n</td>\\n<td>\\n<a href=\"http://www.metrolyrics.com/live-nigga-rap-lyrics-nas.html\" onmousedown=\"ev(\\'Popular Songs\\',\\'searcht:live-nigga-rap-lyrics-nas\\');\" class=\"title hasvidtable\" title=\"Nas Live Nigga Rap lyrics\" alt=\"Nas Live Nigga Rap lyrics\">\\nLive Nigga Rap Lyrics\\n</a>\\n</td>\\n<td content=\"1996\">1996</td>\\n<td>\\n<span class=\"bar popular2\">\\n<span style=\"width:22.606063717235%;\"></span>\\n</span>\\n</td>\\n</tr>\\n<tr>\\n<td class=\"video\">\\n</td>\\n<td>\\n<a href=\"http://www.metrolyrics.com/me-you-dedicated-to-destiny-lyrics-nas.html\" onmousedown=\"ev(\\'Popular Songs\\',\\'searcht:me-you-dedicated-to-destiny-lyrics-nas\\');\" class=\"title \" title=\"Nas Me &amp; You (Dedicated To Destiny) lyrics\" alt=\"Nas Me &amp; You (Dedicated To Destiny) lyrics\">\\nMe &amp; You (Dedicated To Destiny) Lyrics\\n</a>\\n</td>\\n<td content=\"2004\">2004</td>\\n<td>\\n<span class=\"bar popular2\">\\n<span style=\"width:22.606063717235%;\"></span>\\n</span>\\n</td>\\n</tr>\\n<tr>\\n<td class=\"video\">\\n</td>\\n<td>\\n<a href=\"http://www.metrolyrics.com/spastic-50-cent-diss-lyrics-nas.html\" onmousedown=\"ev(\\'Popular Songs\\',\\'searcht:spastic-50-cent-diss-lyrics-nas\\');\" class=\"title \" title=\"Nas Spastic (50 Cent Diss) lyrics\" alt=\"Nas Spastic (50 Cent Diss) lyrics\">\\nSpastic (50 Cent Diss) Lyrics\\n</a>\\n</td>\\n<td content=\"2013\">2013</td>\\n<td>\\n<span class=\"bar popular2\">\\n<span style=\"width:22.606063717235%;\"></span>\\n</span>\\n</td>\\n</tr>\\n<tr>\\n<td class=\"video\">\\n</td>\\n<td>\\n<a href=\"http://www.metrolyrics.com/be-a-nigger-too-lyrics-nas.html\" onmousedown=\"ev(\\'Popular Songs\\',\\'searcht:be-a-nigger-too-lyrics-nas\\');\" class=\"title \" title=\"Nas Be A Nigger Too lyrics\" alt=\"Nas Be A Nigger Too lyrics\">\\nBe A Nigger Too Lyrics\\n</a>\\n</td>\\n<td content=\"2008\">2008</td>\\n<td>\\n<span class=\"bar popular2\">\\n<span style=\"width:22.606063717235%;\"></span>\\n</span>\\n</td>\\n</tr>\\n<tr>\\n<td class=\"video\">\\n</td>\\n<td>\\n<a href=\"http://www.metrolyrics.com/not-going-back-lyrics-nas.html\" onmousedown=\"ev(\\'Popular Songs\\',\\'searcht:not-going-back-lyrics-nas\\');\" class=\"title hasvidtable\" title=\"Nas Not Going Back lyrics\" alt=\"Nas Not Going Back lyrics\">\\nNot Going Back Lyrics\\n</a>\\n</td>\\n<td content=\"2006\">2006</td>\\n<td>\\n<span class=\"bar popular2\">\\n<span style=\"width:22.606063717235%;\"></span>\\n</span>\\n</td>\\n</tr>\\n<tr>\\n<td class=\"video\">\\n</td>\\n<td>\\n<a href=\"http://www.metrolyrics.com/queens-get-the-money-lyrics-nas.html\" onmousedown=\"ev(\\'Popular Songs\\',\\'searcht:queens-get-the-money-lyrics-nas\\');\" class=\"title hasvidtable\" title=\"Nas Queens Get The Money lyrics\" alt=\"Nas Queens Get The Money lyrics\">\\nQueens Get The Money Lyrics\\n</a>\\n</td>\\n<td content=\"2008\">2008</td>\\n<td>\\n<span class=\"bar popular2\">\\n<span style=\"width:22.606063717235%;\"></span>\\n</span>\\n</td>\\n</tr>\\n</tbody>\\n</table>\\n</div>\\n</div>\\n<p class=\"pagination\">\\n<a href=\"javascript:void(0)\" class=\"button prev disabled\" onmousedown=\"ev(\\'Previous Page\\');\">\\n<span aria-hidden=\"true\" class=\"arrow\">&lt;</span> Prev</a>\\n<span class=\"pages\">\\n<a href=\"http://www.metrolyrics.com/nas-alpage-1.html\" onmousedown=\"ev(\\'Page\\',\\'1\\');\">\\n1\\t</a>\\n<a href=\"http://www.metrolyrics.com/nas-alpage-2.html\" onmousedown=\"ev(\\'Page\\',\\'2\\');\">\\n2\\t</a>\\n<a href=\"http://www.metrolyrics.com/nas-alpage-3.html\" onmousedown=\"ev(\\'Page\\',\\'3\\');\">\\n3\\t</a>\\n<a href=\"http://www.metrolyrics.com/nas-alpage-4.html\" onmousedown=\"ev(\\'Page\\',\\'4\\');\">\\n4\\t</a>\\n</span>\\n<a href=\"http://www.metrolyrics.com/nas-alpage-1.html\" class=\"button next\" onmousedown=\"ev(\\'Next Page\\');\">\\nNext <span aria-hidden=\"true\" class=\"arrow\">&gt;</span>\\n</a>\\n</p>\\n</div><!-- END: lyrics -->\\n<div class=\"module\" id=\"featured\">\\n<header>\\n<p class=\"more-link\">\\n<a href=\"http://www.metrolyrics.com/nas-featured.html\" onmousedown=\"ev(\\'Featured View All\\',\\'View All\\');\" title=\"View All\">View All</a>\\n</p>\\n<h3>\\n<span>\\nSongs\\n</span>\\nFeatured In\\n</h3>\\n</header>\\n<div class=\"content\">\\n<table class=\"songs-table compact\">\\n<thead>\\n<tr>\\n<th class=\"video\">&nbsp;</th>\\n<th class=\"name\">Name </th>\\n<th class=\"artist\">Artist </span></th>\\n<th class=\"popularity active\">Popularity </span></th>\\n</tr>\\n</thead>\\n<tbody>\\n<tr>\\n<td class=\"video\"></td>\\n<td>\\n<a href=\"http://www.metrolyrics.com/like-smoke-lyrics-amy-winehouse.html\" class=\"title \" onmousedown=\"ev(\\'Featured\\',\\'searcht:like-smoke-lyrics-amy-winehouse\\');\" title=\"Amy Winehouse Like Smoke lyrics\" alt=\"Amy Winehouse Like Smoke lyrics\">\\nLike Smoke Lyrics\\n</a>\\n</td>\\n<td>Amy Winehouse</td>\\n<td>\\n<span class=\"bar popular10\">\\n<span style=\"width:100%;\"></span>\\n</span>\\n</td>\\n</tr>\\n<tr>\\n<td class=\"video\"></td>\\n<td>\\n<a href=\"http://www.metrolyrics.com/we-are-lyrics-justin-bieber.html\" class=\"title hasvidtable\" onmousedown=\"ev(\\'Featured\\',\\'searcht:we-are-lyrics-justin-bieber\\');\" title=\"Justin Bieber We Are lyrics\" alt=\"Justin Bieber We Are lyrics\">\\nWe Are Lyrics\\n</a>\\n</td>\\n<td>Justin Bieber</td>\\n<td>\\n<span class=\"bar popular9\">\\n<span style=\"width:97.672264890213%;\"></span>\\n</span>\\n</td>\\n</tr>\\n<tr>\\n<td class=\"video\"></td>\\n<td>\\n<a href=\"http://www.metrolyrics.com/oh-oh-yeah-yeah-lyrics-keyshia-cole.html\" class=\"title hasvidtable\" onmousedown=\"ev(\\'Featured\\',\\'searcht:oh-oh-yeah-yeah-lyrics-keyshia-cole\\');\" title=\"Keyshia Cole Oh Oh Yeah Yeah lyrics\" alt=\"Keyshia Cole Oh Oh Yeah Yeah lyrics\">\\nOh Oh Yeah Yeah Lyrics\\n</a>\\n</td>\\n<td>Keyshia Cole</td>\\n<td>\\n<span class=\"bar popular9\">\\n<span style=\"width:97.672264890213%;\"></span>\\n</span>\\n</td>\\n</tr>\\n<tr>\\n<td class=\"video\"></td>\\n<td>\\n<a href=\"http://www.metrolyrics.com/chains-lyrics-usher.html\" class=\"title hasvidtable\" onmousedown=\"ev(\\'Featured\\',\\'searcht:chains-lyrics-usher\\');\" title=\"Usher Chains lyrics\" alt=\"Usher Chains lyrics\">\\nChains Lyrics\\n</a>\\n</td>\\n<td>Usher</td>\\n<td>\\n<span class=\"bar popular8\">\\n<span style=\"width:89.624062518029%;\"></span>\\n</span>\\n</td>\\n</tr>\\n<tr>\\n<td class=\"video\"></td>\\n<td>\\n<a href=\"http://www.metrolyrics.com/east-coastwest-coast-killas-lyrics-dr-dre.html\" class=\"title hasvidtable\" onmousedown=\"ev(\\'Featured\\',\\'searcht:east-coastwest-coast-killas-lyrics-dr-dre\\');\" title=\"Dr. Dre East Coast/west Coast Killas lyrics\" alt=\"Dr. Dre East Coast/west Coast Killas lyrics\">\\nEast Coast/west Coast Killas Lyrics\\n</a>\\n</td>\\n<td>Dr. Dre</td>\\n<td>\\n<span class=\"bar popular8\">\\n<span style=\"width:89.624062518029%;\"></span>\\n</span>\\n</td>\\n</tr>\\n<tr>\\n<td class=\"video\"></td>\\n<td>\\n<a href=\"http://www.metrolyrics.com/patience-lyrics-damian-junior-gong-marley.html\" class=\"title \" onmousedown=\"ev(\\'Featured\\',\\'searcht:patience-lyrics-damian-junior-gong-marley\\');\" title=\"Damian &quot;Junior Gong&quot; Marley Patience lyrics\" alt=\"Damian &quot;Junior Gong&quot; Marley Patience lyrics\">\\nPatience Lyrics\\n</a>\\n</td>\\n<td>Damian &quot;Junior Gong&quot; Marley</td>\\n<td>\\n<span class=\"bar popular8\">\\n<span style=\"width:86.485790465932%;\"></span>\\n</span>\\n</td>\\n</tr>\\n<tr>\\n<td class=\"video\"></td>\\n<td>\\n<a href=\"http://www.metrolyrics.com/no-more-baby-ima-do-right-lyrics-3lw.html\" class=\"title hasvidtable\" onmousedown=\"ev(\\'Featured\\',\\'searcht:no-more-baby-ima-do-right-lyrics-3lw\\');\" title=\"3LW No More (baby I&#039;ma Do Right) lyrics\" alt=\"3LW No More (baby I&#039;ma Do Right) lyrics\">\\nNo More (baby I&#039;ma Do Right) Lyrics\\n</a>\\n</td>\\n<td>3LW</td>\\n<td>\\n<span class=\"bar popular8\">\\n<span style=\"width:86.485790465932%;\"></span>\\n</span>\\n</td>\\n</tr>\\n<tr>\\n<td class=\"video\"></td>\\n<td>\\n<a href=\"http://www.metrolyrics.com/thank-god-i-found-you-make-it-last-forever-remix-lyrics-joe.html\" class=\"title \" onmousedown=\"ev(\\'Featured\\',\\'searcht:thank-god-i-found-you-make-it-last-forever-remix-lyrics-joe\\');\" title=\"Joe Thank God I Found You (make It Last Forever Remix) lyrics\" alt=\"Joe Thank God I Found You (make It Last Forever Remix) lyrics\">\\nThank God I Found You (make It Last Forever Remix) Lyrics\\n</a>\\n</td>\\n<td>Joe</td>\\n<td>\\n<span class=\"bar popular7\">\\n<span style=\"width:75%;\"></span>\\n</span>\\n</td>\\n</tr>\\n<tr>\\n<td class=\"video\"></td>\\n<td>\\n<a href=\"http://www.metrolyrics.com/let-nas-down-remix-lyrics-j-cole.html\" class=\"title \" onmousedown=\"ev(\\'Featured\\',\\'searcht:let-nas-down-remix-lyrics-j-cole\\');\" title=\"J. Cole Let Nas Down (Remix) lyrics\" alt=\"J. Cole Let Nas Down (Remix) lyrics\">\\nLet Nas Down (Remix) Lyrics\\n</a>\\n</td>\\n<td>J. Cole</td>\\n<td>\\n<span class=\"bar popular7\">\\n<span style=\"width:70.18387305144%;\"></span>\\n</span>\\n</td>\\n</tr>\\n<tr>\\n<td class=\"video\"></td>\\n<td>\\n<a href=\"http://www.metrolyrics.com/hip-hop-lyrics-dj-khaled.html\" class=\"title hasvidtable\" onmousedown=\"ev(\\'Featured\\',\\'searcht:hip-hop-lyrics-dj-khaled\\');\" title=\"DJ Khaled Hip Hop lyrics\" alt=\"DJ Khaled Hip Hop lyrics\">\\nHip Hop Lyrics\\n</a>\\n</td>\\n<td>DJ Khaled</td>\\n<td>\\n<span class=\"bar popular5\">\\n<span style=\"width:58.048202372184%;\"></span>\\n</span>\\n</td>\\n</tr>\\n<tr>\\n<td class=\"video\"></td>\\n<td>\\n<a href=\"http://www.metrolyrics.com/blue-sky-lyrics-common.html\" class=\"title hasvidtable\" onmousedown=\"ev(\\'Featured\\',\\'searcht:blue-sky-lyrics-common\\');\" title=\"Common Blue Sky lyrics\" alt=\"Common Blue Sky lyrics\">\\nBlue Sky Lyrics\\n</a>\\n</td>\\n<td>Common</td>\\n<td>\\n<span class=\"bar popular5\">\\n<span style=\"width:58.048202372184%;\"></span>\\n</span>\\n</td>\\n</tr>\\n<tr>\\n<td class=\"video\"></td>\\n<td>\\n<a href=\"http://www.metrolyrics.com/my-president-lyrics-young-jeezy.html\" class=\"title hasvidtable\" onmousedown=\"ev(\\'Featured\\',\\'searcht:my-president-lyrics-young-jeezy\\');\" title=\"Young Jeezy My President lyrics\" alt=\"Young Jeezy My President lyrics\">\\nMy President Lyrics\\n</a>\\n</td>\\n<td>Young Jeezy</td>\\n<td>\\n<span class=\"bar popular5\">\\n<span style=\"width:58.048202372184%;\"></span>\\n</span>\\n</td>\\n</tr>\\n<tr>\\n<td class=\"video\"></td>\\n<td>\\n<a href=\"http://www.metrolyrics.com/virgo-lyrics-ludacris.html\" class=\"title \" onmousedown=\"ev(\\'Featured\\',\\'searcht:virgo-lyrics-ludacris\\');\" title=\"Ludacris Virgo lyrics\" alt=\"Ludacris Virgo lyrics\">\\nVirgo Lyrics\\n</a>\\n</td>\\n<td>Ludacris</td>\\n<td>\\n<span class=\"bar popular5\">\\n<span style=\"width:58.048202372184%;\"></span>\\n</span>\\n</td>\\n</tr>\\n<tr>\\n<td class=\"video\"></td>\\n<td>\\n<a href=\"http://www.metrolyrics.com/thank-god-i-found-you-remix-lyrics-mariah-carey.html\" class=\"title hasvidtable\" onmousedown=\"ev(\\'Featured\\',\\'searcht:thank-god-i-found-you-remix-lyrics-mariah-carey\\');\" title=\"Mariah Carey Thank God I Found You (remix) lyrics\" alt=\"Mariah Carey Thank God I Found You (remix) lyrics\">\\nThank God I Found You (remix) Lyrics\\n</a>\\n</td>\\n<td>Mariah Carey</td>\\n<td>\\n<span class=\"bar popular5\">\\n<span style=\"width:58.048202372184%;\"></span>\\n</span>\\n</td>\\n</tr>\\n<tr>\\n<td class=\"video\"></td>\\n<td>\\n<a href=\"http://www.metrolyrics.com/why-remix-lyrics-jadakiss.html\" class=\"title \" onmousedown=\"ev(\\'Featured\\',\\'searcht:why-remix-lyrics-jadakiss\\');\" title=\"Jadakiss Why (Remix) lyrics\" alt=\"Jadakiss Why (Remix) lyrics\">\\nWhy (Remix) Lyrics\\n</a>\\n</td>\\n<td>Jadakiss</td>\\n<td>\\n<span class=\"bar popular5\">\\n<span style=\"width:58.048202372184%;\"></span>\\n</span>\\n</td>\\n</tr>\\n</tbody>\\n</table>\\n</div>\\n</div>\\n</div>\\n<div class=\"grid_4\">\\n<div class=\"expanding-ad ad-box\"><div id=\\'div-gpt-ad-mpu\\'></div></div>\\n<div class=\"module\">\\n<a id=\"driver\" class=\"content-driver small\" href=\"http://www.metrolyrics.com/news-gallery-the-best-karaoke-songs-ever.html\" onmousedown=\"ev(\\'Driver Module\\',\\'http://www.metrolyrics.com/news-gallery-the-best-karaoke-songs-ever.html\\');\" title=\"The Best Karaoke Songs Ever, Ranked\">\\n<div class=\"image-container\">\\n<img pagespeed_lazy_src=\"http://netstorage.metrolyrics.com/drivers/10904/karaokesongs-list-56f16bb6-image.jpg\" src=\"/img/1.gif\" onload=\"pagespeed.lazyLoadImages.loadIfVisible(this);\"/>\\n<div class=\"caption\">The Best Karaoke Songs Ever, Ranked</div>\\n</div>\\n</a>\\n<div class=\"module with-overlay videos no-grid\" id=\"videoGallery\">\\n<header>\\n<p class=\\'more-link\\'>\\n<a class=\"link\" title=\"View All\" href=\"http://www.metrolyrics.com/videos.html\" onmousedown=\"ev(\\'Artist Video Module View All\\',\\'View All\\');\">View All</a>\\t</p>\\n<h3>\\n<span>Hot</span> Videos\\t</h3>\\n</header>\\n<ul class=\"content clearfix\">\\n<li class=\"full\">\\n<a href=\"http://www.metrolyrics.com/rock-this-town-stray-cats-ml-video-n43.html\" title=\"Rock This Town (Live)\" onmousedown=\"ev(\\'Artist Video Module\\',\\'searchv:rock-this-town-stray-cats-ml-video-n43\\');\">\\n<span class=\"tmb tmb-altmod-full\">\\n<img pagespeed_no_defer=\"\" src=\\'http://img.cache.vevo.com/thumb/cms/b016946291d27317adc7c6c9fbaabe832014301154817874.jpg?width=220\\' alt=\"Stray Cats Videos\" title=\"Stray Cats Videos\"/>\\n</span>\\n<span aria-hidden=\"true\" class=\"icon icon-play small\"></span>\\n<span class=\"over\">Rock This Town (Live)<br/>Video</span>\\n</a>\\n</li>\\n<li class=\"\">\\n<a href=\"http://www.metrolyrics.com/xxxo-mia-ml-video-bp1.html\" title=\"XXXO\" onmousedown=\"ev(\\'Artist Video Module\\',\\'searchv:xxxo-mia-ml-video-bp1\\');\">\\n<span class=\"tmb tmb-altmod\">\\n<img pagespeed_no_defer=\"\" src=\\'http://img.cache.vevo.com/thumb/cms/aaf6271e4f961202c7fb40dd7c0245d6.jpg?width=150\\' alt=\"M.I.A. Videos\" title=\"M.I.A. Videos\"/>\\n</span>\\n<span aria-hidden=\"true\" class=\"icon icon-play small\"></span>\\n<span class=\"over\">XXXO<br/>Video</span>\\n</a>\\n</li>\\n<li class=\"\">\\n<a href=\"http://www.metrolyrics.com/liner-notes-30-seconds-to-mars-ml-video-7bh.html\" title=\"Thirty Seconds To Mars Interview - LINER NOTES\" onmousedown=\"ev(\\'Artist Video Module\\',\\'searchv:liner-notes-30-seconds-to-mars-ml-video-7bh\\');\">\\n<span class=\"tmb tmb-altmod\">\\n<img pagespeed_no_defer=\"\" src=\\'http://thumbnails.cbsig.net/CBS_Production_CBS_Music_VMS/816/206/2013/10/16/54541891509/30stm-videothumb_thumb_640x360.jpg\\' alt=\"30 Seconds to Mars Videos\" title=\"30 Seconds to Mars Videos\"/>\\n</span>\\n<span aria-hidden=\"true\" class=\"icon icon-play small\"></span>\\n<span class=\"over\">Thirty Seconds To Mars Interview - LINER NOTES<br/>Video</span>\\n</a>\\n</li>\\n<li class=\"\">\\n<a href=\"http://www.metrolyrics.com/shes-sexy-17-stray-cats-ml-video-nua.html\" title=\"(She&#039;s) Sexy &amp; 17\" onmousedown=\"ev(\\'Artist Video Module\\',\\'searchv:shes-sexy-17-stray-cats-ml-video-nua\\');\">\\n<span class=\"tmb tmb-altmod\">\\n<img pagespeed_no_defer=\"\" src=\\'http://img.cache.vevo.com/thumb/cms/8317c524a218fc4e5328afbaaf7c7649.jpg?width=150\\' alt=\"Stray Cats Videos\" title=\"Stray Cats Videos\"/>\\n</span>\\n<span aria-hidden=\"true\" class=\"icon icon-play small\"></span>\\n<span class=\"over\">(She\\'s) Sexy & 17<br/>Video</span>\\n</a>\\n</li>\\n<li class=\"\">\\n<a href=\"http://www.metrolyrics.com/song-ml-video-j3g.html\" title=\"10 Songs You Didn&#039;t Know Were Covers\" onmousedown=\"ev(\\'Artist Video Module\\',\\'searchv:song-ml-video-j3g\\');\">\\n<span class=\"tmb tmb-altmod\">\\n<img pagespeed_no_defer=\"\" src=\\'http://thumbnails.cbsig.net/CBS_Production_MetroLyrics_VMS/2017/06/02/958887491531/Covers_final_1327858_200x150.jpg\\' alt=\"Stray Cats Videos\" title=\"Stray Cats Videos\"/>\\n</span>\\n<span aria-hidden=\"true\" class=\"icon icon-play small\"></span>\\n<span class=\"over\">10 Songs You Didn\\'t Know Were Covers<br/>Video</span>\\n</a>\\n</li>\\n<li class=\"\">\\n<a href=\"http://www.metrolyrics.com/sexodus-audio-mia-ml-video-h1z.html\" title=\"Sexodus (Audio)\" onmousedown=\"ev(\\'Artist Video Module\\',\\'searchv:sexodus-audio-mia-ml-video-h1z\\');\">\\n<span class=\"tmb tmb-altmod\">\\n<img pagespeed_no_defer=\"\" src=\\'http://img.cache.vevo.com/thumb/cms/5a8801219d9e18dc33305bed3b8f1a4220133110141939727.jpg?width=150\\' alt=\"M.I.A. Videos\" title=\"M.I.A. Videos\"/>\\n</span>\\n<span aria-hidden=\"true\" class=\"icon icon-play small\"></span>\\n<span class=\"over\">Sexodus (Audio)<br/>Video</span>\\n</a>\\n</li>\\n<li class=\"\">\\n<a href=\"http://www.metrolyrics.com/song-ml-video-dse.html\" title=\"8 More Delicious Misheard Lyrics About Food\" onmousedown=\"ev(\\'Artist Video Module\\',\\'searchv:song-ml-video-dse\\');\">\\n<span class=\"tmb tmb-altmod\">\\n<img pagespeed_no_defer=\"\" src=\\'http://thumbnails.cbsig.net/CBS_Production_MetroLyrics_VMS/2016/03/15/644900931836/thumb_499217_200x150.jpg\\' alt=\"Stray Cats Videos\" title=\"Stray Cats Videos\"/>\\n</span>\\n<span aria-hidden=\"true\" class=\"icon icon-play small\"></span>\\n<span class=\"over\">8 More Delicious Misheard Lyrics About Food<br/>Video</span>\\n</a>\\n</li>\\n</ul>\\n</div>\\n<div class=\"module\" id=\"music-news\">\\n<header>\\n<p class=\\'more-link\\'>\\n<a href=\\'http://www.metrolyrics.com/news.html\\' title=\\'View All\\' onmousedown=\"ev(\\'News Module View All\\',\\'View All\\');\">View All</a>\\n</p>\\n<h3>\\n<span>Latest</span> News\\t</h3>\\n</header>\\n<ul class=\"content tmb-small img-stacked\">\\n<li>\\n<a href=\"http://www.metrolyrics.com/news-story-every-lyric-from-keith-urbans-new-album-graffiti-u.html\" title=\"Every Lyric From Keith Urban\\'s New Album \\'Graffiti U\\'\" onmousedown=\"ev(\\'X-Small News Module\\',\\'searche:every-lyric-from-keith-urbans-new-album-graffiti-u:url:news-story-every-lyric-from-keith-urbans-new-album-graffiti-u\\');\">\\n<span class=\"tmb tmb-xs non-playable\">\\n<img pagespeed_no_defer=\"\" src=\"http://netstorage.metrolyrics.com/editorials/every-lyric-from-keith-urbans-new-album-graffiti-u/xxsmall-image.jpg\" alt=\"Every Lyric From Keith Urban\\'s New Album \\'Graffiti U\\'\" title=\"Every Lyric From Keith Urban\\'s New Album \\'Graffiti U\\'\"/>\\n</span>\\nEvery Lyric From Keith Urban&#039;s New Album &#039;Graffiti U&#039;\\t</a>\\n</li>\\n<li>\\n<a href=\"http://www.metrolyrics.com/news-story-watch-janelle-monaes-scifi-film-dirty-computer.html\" title=\"Watch Janelle MonÃ¡e\\'s Sci-Fi film \\'Dirty Computer\\'\" onmousedown=\"ev(\\'X-Small News Module\\',\\'searche:watch-janelle-monaes-scifi-film-dirty-computer:url:news-story-watch-janelle-monaes-scifi-film-dirty-computer\\');\">\\n<span class=\"tmb tmb-xs non-playable\">\\n<img pagespeed_no_defer=\"\" src=\"http://netstorage.metrolyrics.com/editorials/watch-janelle-monaes-scifi-film-dirty-computer/xxsmall-image.jpg\" alt=\"Watch Janelle MonÃ¡e\\'s Sci-Fi film \\'Dirty Computer\\'\" title=\"Watch Janelle MonÃ¡e\\'s Sci-Fi film \\'Dirty Computer\\'\"/>\\n</span>\\nWatch Janelle Mon&aacute;e&#039;s Sci-Fi film &#039;Dirty Computer&#039;\\t</a>\\n</li>\\n<li>\\n<a href=\"http://www.metrolyrics.com/news-story-nicki-minaj-drops-new-songs-barbie-tings-and-chunli.html\" title=\"Nicki Minaj Drops New Songs \\'Barbie Tingz And \\'Chun-Li\\'\" onmousedown=\"ev(\\'X-Small News Module\\',\\'searche:nicki-minaj-drops-new-songs-barbie-tings-and-chunli:url:news-story-nicki-minaj-drops-new-songs-barbie-tings-and-chunli\\');\">\\n<span class=\"tmb tmb-xs non-playable\">\\n<img pagespeed_no_defer=\"\" src=\"http://netstorage.metrolyrics.com/editorials/nicki-minaj-drops-new-songs-barbie-tings-and-chunli/xxsmall-image.jpg\" alt=\"Nicki Minaj Drops New Songs \\'Barbie Tingz And \\'Chun-Li\\'\" title=\"Nicki Minaj Drops New Songs \\'Barbie Tingz And \\'Chun-Li\\'\"/>\\n</span>\\nNicki Minaj Drops New Songs &#039;Barbie Tingz And &#039;Chun-Li&#039;\\t</a>\\n</li>\\n<li>\\n<a href=\"http://www.metrolyrics.com/news-story-watch-zayns-new-music-video-for-let-me.html\" title=\"Watch Zayn\\'s New Music Video For \\'Let Me\\'\" onmousedown=\"ev(\\'X-Small News Module\\',\\'searche:watch-zayns-new-music-video-for-let-me:url:news-story-watch-zayns-new-music-video-for-let-me\\');\">\\n<span class=\"tmb tmb-xs non-playable\">\\n<img pagespeed_no_defer=\"\" src=\"http://netstorage.metrolyrics.com/editorials/watch-zayns-new-music-video-for-let-me/xxsmall-image.jpg\" alt=\"Watch Zayn\\'s New Music Video For \\'Let Me\\'\" title=\"Watch Zayn\\'s New Music Video For \\'Let Me\\'\"/>\\n</span>\\nWatch Zayn&#039;s New Music Video For &#039;Let Me&#039;\\t</a>\\n</li>\\n</ul>\\n<div id=\\'div-gpt-ad-strnative\\'></div>\\t</div>\\n</div>\\n<div class=\"expanding-ad ad-box\"><div id=\\'div-gpt-ad-mpu_middle\\'></div></div>\\n<div class=\"module\">\\n<div class=\"add-lyric\">\\n<div class=\"header\">\\n<em>Add</em> Lyrics\\n</div>\\n<div class=\"driver-content\">\\nKnow the lyrics to any of these songs?<br/>\\n<div class=\"lyric\">\\n<a class=\"title\" href=\"http://www.metrolyrics.com/hate-me-now-lyrics-nas.html#/correction\" target=\"_blank\" onmousedown=\"ev(\\'Add Missing Lyrics\\',\\'Suggestion: hate-me-now-lyrics-nas\\')\">Hate Me Now</a>\\nLyrics by\\n<span class=\"artist\">Nas</span>\\n</div>\\n<div class=\"lyric\">\\n<a class=\"title\" href=\"http://www.metrolyrics.com/life-is-good-lyrics-nas.html#/correction\" target=\"_blank\" onmousedown=\"ev(\\'Add Missing Lyrics\\',\\'Suggestion: life-is-good-lyrics-nas\\')\">Life Is Good</a>\\nLyrics by\\n<span class=\"artist\">Nas</span>\\n</div>\\n<div class=\"lyric\">\\n<a class=\"title\" href=\"http://www.metrolyrics.com/hey-young-world-lyrics-nas.html#/correction\" target=\"_blank\" onmousedown=\"ev(\\'Add Missing Lyrics\\',\\'Suggestion: hey-young-world-lyrics-nas\\')\">Hey Young World</a>\\nLyrics by\\n<span class=\"artist\">Nas</span>\\n</div>\\nIf so - or if you notice any other song that\\'s missing - be the first to submit them!<br/>\\n</div>\\n<div class=\"driver-footer\">\\n<a class=\"btn\" href=\"http://www.metrolyrics.com/add.html?artistid=8552\" onmousedown=\"ev(\\'Add Missing Lyrics\\',\\'Suggestion: New lyrics\\')\">Add New Lyrics</a>\\n</div>\\n</div>\\t<!--\\n<div id=\"zergnet-widget-40730\"></div>\\n\\n<script language=\"javascript\" type=\"text/javascript\">\\n    (function() {\\n        var zergnet = document.createElement(\\'script\\');\\n        zergnet.type = \\'text/javascript\\'; zergnet.async = true;\\n        zergnet.src = \\'http://www.zergnet.com/zerg.js?id=40730\\';\\n        var znscr = document.getElementsByTagName(\\'script\\')[0];\\n        znscr.parentNode.insertBefore(zergnet, znscr);\\n    })();\\n</script>\\n-->\\n<div id=\"taboola-right-rail-thumbnails\"></div>\\n<script type=\"text/javascript\" pagespeed_no_defer=\"\">pagespeed.lazyLoadImages.overrideAttributeFunctions();</script><script>window._taboola=window._taboola||[];_taboola.push({mode:\\'thumbnails-d\\',container:\\'taboola-right-rail-thumbnails\\',placement:\\'Right Rail Thumbnails\\',target_type:\\'mix\\'});</script>\\t</div>\\n</div>\\n</div><!-- END: page-content -->\\n</div>\\n</div>\\n<div class=\"bottom-ad\">\\n<div id=\\'div-gpt-ad-leaderboard_bottom\\'></div>\\t</div>\\n</div>\\n</div>\\n</div>\\n<footer class=\"page-footer\" id=\"page-footer\">\\n<div class=\"row\">\\n<div class=\"hr\"></div>\\n<div class=\"footer-iframe-wrapper\">\\n<iframe frameborder=\"0\" id=\"footer-iframe\" src=\"http://www.metrolyrics.com/en/iframes/footer.html\" allowtransparency=\"yes\" scrolling=\"no\"></iframe>\\n</div>\\n</div>\\n</footer>\\n</div>\\n</div>\\n<div id=\"interstitial\" style=\"display:none\"></div>\\n<script pagespeed_no_defer=\"\" id=\\'req-config\\'>var requirejs={paths:{baseUrl:\\'/js/desktop\\',lib:\\'/js/lib\\',vendor:\\'/js/vendor\\',jquery:\\'//ajax.googleapis.com/ajax/libs/jquery/2.1.0/jquery.min\\',facebook:\\'//connect.facebook.net/en_US/all\\',youtube:\\'https://www.youtube.com/iframe_api?noext\\',angular:\\'//ajax.googleapis.com/ajax/libs/angularjs/1.2.18/angular.min\\',ngSanitize:\\'//ajax.googleapis.com/ajax/libs/angularjs/1.2.18/angular-sanitize.min\\',urs:\"https://urs.metrolyrics.com/sdk/urs\"},shim:{\\'facebook\\':{exports:\\'FB\\'},\\'youtube\\':{exports:\\'YT\\'},\\'domReady\\':{exports:\\'domReady\\'},\\'angular\\':{deps:[\\'jquery\\'],exports:\\'angular\\'},\\'ngSanitize\\':{deps:[\\'jquery\\',\\'angular\\'],exports:\\'ngSanitize\\'},\\'vendor/jquery.slimscroll\\':{deps:[\\'jquery\\'],exports:\\'jQuery.fn.slimScroll\\'},\\'urs\\':{exports:\\'window.URS\\'}},waitSeconds:45};</script>\\n<script pagespeed_no_defer=\"\" src=\"http://www.metrolyrics.com/js/vendor/require-v5.5.24.0.min.js\"></script>\\n<script src=\"http://www.metrolyrics.com/js/desktop/artistlyrics-v5.5.24.0.min.js\"></script>\\n<script>window._taboola=window._taboola||[];_taboola.push({flush:true});</script>\\n<script type=\\'text/x-gubedml\\' id=\\'gubedml\\'>eyJTZXJ2ZXIiOiJ3d3cubWV0cm9seXJpY3MuY29tIiwiSG9zdG5hbWUiOiJ3czgxLnBoeDEuY2JzaWcubmV0IiwiR2VuZXJhdGlvbiBEYXRlIjoiU3VuLCAyMCBNYXkgMjAxOCAxOTo0Mjo1MSArMDAwMCIsIlN0YXJ0IFRpbWUiOjE1MjY4NDUzNzEsIkVuZCBUaW1lIjoxNTI2ODQ1MzcxLCJSZW5kZXIgU2Vjb25kcyI6MCwiU3RhcnQgbWljcm9zZWNvbmRzIjoxNTI2ODQ1MzcxLjU1MDgsIkVuZCBtaWNyb3NlY29uZHMiOjE1MjY4NDUzNzEuNzQzNCwiUmVuZGVyIG1pY3Jvc2Vjb25kcyI6MC4xOTI2MTUwMzIxOTYwNCwiV2lnZXQgQ29uZmlnIjp7InplcmduZXRTaWRlYmFyIDogWmVyZ25ldCI6eyJsYXlvdXQiOiJTaWRlIiwiZGl2SUQiOiJ6ZXJnbmV0LXdpZGdldC00MDczMCJ9LCJ2aWRlb0dhbGxlcnkgOiBWaWRlb0dhbGxlcnkiOnsiYXJ0aXN0aWQiOjg1NTIsImRpc2FibGVMYXp5TG9hZCI6dHJ1ZX0sIm11c2ljTmV3cyA6IE11c2ljTmV3cyI6eyJzaGFyZXRocm91Z2giOnRydWUsImxheW91dCI6Ingtc21hbGwiLCJsaW1pdCI6NCwidGFnIjo4NTUyLCJnZW5yZWlkIjo0LCJibGVuZGVkIjp0cnVlLCJ0eXBlIjoiYXJ0aXN0IiwiZGlzYWJsZUxhenlMb2FkIjp0cnVlfSwiYXJ0aXN0SGVhZGVyIDogQXJ0aXN0SGVhZGVyIjp7ImFjdGl2ZSI6Imx5cmljcyIsImFydGlzdGlkIjo4NTUyfSwiaGVyb0ltYWdlQmFja2dyb3VuZCA6IEhlcm9JbWFnZUJhY2tncm91bmQiOnsiYXJ0aXN0aWQiOjg1NTJ9LCJwYWdpbmF0aW9uIDogUGFnaW5hdGlvbiI6eyJ1cmwiOiJuYXMtbHlyaWNzIiwiaXRlbUNvdW50IjozMDAsImxpbWl0Ijo3NSwicGFnZU51bSI6bnVsbCwibm9QYWdlVXJsIjoibmFzLWFscGFnZS0iLCJtaW5QYWdlTnVtIjowLCJwYWdpbmdMaW1pdCI6MTB9LCJhcnRpc3RDb250ZW50RHJpdmVyIDogQ29udGVudERyaXZlciI6eyJhcnRpc3RpZCI6ODU1MiwiZ2VucmVpZCI6NCwibGF5b3V0IjoiU21hbGwifSwiYWRkTHlyaWNzIDogTHlyaWNEcml2ZXIiOnsiYXJ0aXN0aWQiOjg1NTIsImdlbnJlaWQiOjQsImxheW91dCI6IkFkZEx5cmljcyJ9fX0=</script>\\n</body>\\n</html>\\n'"
      ]
     },
     "execution_count": 9,
     "metadata": {},
     "output_type": "execute_result"
    }
   ],
   "source": [
    "r.text"
   ]
  },
  {
   "cell_type": "code",
   "execution_count": 11,
   "metadata": {},
   "outputs": [],
   "source": [
    "soup = BeautifulSoup(r.text, 'html.parser')"
   ]
  },
  {
   "cell_type": "code",
   "execution_count": 13,
   "metadata": {},
   "outputs": [
    {
     "data": {
      "text/plain": [
       "<td class=\"video\">\n",
       "</td>"
      ]
     },
     "execution_count": 13,
     "metadata": {},
     "output_type": "execute_result"
    }
   ],
   "source": [
    "soup.find('td')"
   ]
  },
  {
   "cell_type": "code",
   "execution_count": 16,
   "metadata": {},
   "outputs": [
    {
     "data": {
      "text/plain": [
       "['Lyrics']"
      ]
     },
     "execution_count": 16,
     "metadata": {},
     "output_type": "execute_result"
    }
   ],
   "source": [
    "soup.find('a').contents"
   ]
  },
  {
   "cell_type": "code",
   "execution_count": 17,
   "metadata": {},
   "outputs": [
    {
     "data": {
      "text/plain": [
       "[<a href=\"http://www.metrolyrics.com/\" onmousedown=\"ev('Header','Logo');\" title=\"Metrolyrics Homepage\">Lyrics</a>,\n",
       " <a href=\"http://www.metrolyrics.com/top100.html\" onmousedown=\"ev('Header','Lyrics');\">Top 100</a>,\n",
       " <a href=\"http://www.metrolyrics.com/videos.html\" onmousedown=\"ev('Header','Videos');\">Videos</a>,\n",
       " <a href=\"http://www.metrolyrics.com/news.html\" onmousedown=\"ev('Header','News');\">Features</a>,\n",
       " <a href=\"http://www.metrolyrics.com/top-artists.html\" onmousedown=\"ev('Header','Artists');\">Artists</a>,\n",
       " <a ng-click=\"user.open()\" ng-mousedown=\"ev('Header','Login Quickly');\">Log In</a>,\n",
       " <a>Create Free Account</a>,\n",
       " <a class=\"notifications\" ng-click=\"user.notificationCount = 0; $root.fpo.iframe($root.fpo.secureUrl + 'secure/notifications.html')\" ng-mousedown=\"ev('Header','Notifications');\">\n",
       " <span class=\"js-notifications-count notifications-count ng-hide\" ng-bind=\"user.notificationCount\" ng-show=\"user.notificationCount &gt; 0\"></span> Notifications\n",
       " </a>,\n",
       " <a href=\"https://secure.metrolyrics.com/secure/account-setting.html\" onmousedown=\"ev('Header','Account Settings');\">\n",
       " Account Settings\n",
       " </a>,\n",
       " <a onmousedown=\"ev('Header','Log Out');\">Log out</a>,\n",
       " <a href=\"http://www.metrolyrics.com/nas-overview.html\" onmousedown=\"ev('Artist Menu','Overview');\">Overview</a>,\n",
       " <a class=\"active\" href=\"http://www.metrolyrics.com/nas-lyrics.html\" onmousedown=\"ev('Artist Menu','Lyrics');\">Lyrics\n",
       " </a>,\n",
       " <a href=\"http://www.metrolyrics.com/nas-pictures.html\" onmousedown=\"ev('Artist Menu','Photos');\">Photos</a>,\n",
       " <a href=\"http://www.metrolyrics.com/nas-videos.html\" onmousedown=\"ev('Artist Menu','Videos');\">Videos\n",
       " </a>,\n",
       " <a href=\"http://www.metrolyrics.com/nas-news.html\" onmousedown=\"ev('Artist Menu','News');\">News</a>,\n",
       " <a alt=\"Nas - Oochie Wally Lyrics\" href=\"http://www.metrolyrics.com/oochie-wally-lyrics-nas.html\" onmousedown=\"ev('Featured Songs','searcht:oochie-wally-lyrics-nas');\" title=\"Nas - Oochie Wally Lyrics\">\n",
       " <span class=\"tmb tmb-xs\"><img alt=\"Nas - Oochie Wally Lyrics\" onload=\"pagespeed.lazyLoadImages.loadIfVisible(this);\" pagespeed_lazy_src=\"http://img2-ak.lst.fm/i/u/64s/2854f7920fdc4419b6986f600c9b2dc6\" src=\"/img/1.gif\" title=\"Nas - Oochie Wally Lyrics\"/></span>\n",
       " Oochie Wally Lyrics\n",
       " </a>,\n",
       " <a alt=\"Nas - I Know I Can Lyrics\" href=\"http://www.metrolyrics.com/i-know-i-can-lyrics-nas.html\" onmousedown=\"ev('Featured Songs','searcht:i-know-i-can-lyrics-nas');\" title=\"Nas - I Know I Can Lyrics\">\n",
       " <span class=\"tmb tmb-xs\"><img alt=\"Nas - I Know I Can Lyrics\" onload=\"pagespeed.lazyLoadImages.loadIfVisible(this);\" pagespeed_lazy_src=\"http://img2-ak.lst.fm/i/u/64s/25f69d16db224759bac717861953282e\" src=\"/img/1.gif\" title=\"Nas - I Know I Can Lyrics\"/></span>\n",
       " I Know I Can Lyrics\n",
       " </a>,\n",
       " <a alt=\"Nas - I Can Lyrics\" href=\"http://www.metrolyrics.com/i-can-lyrics-nas.html\" onmousedown=\"ev('Featured Songs','searcht:i-can-lyrics-nas');\" title=\"Nas - I Can Lyrics\">\n",
       " <span class=\"tmb tmb-xs\"><img alt=\"Nas - I Can Lyrics\" onload=\"pagespeed.lazyLoadImages.loadIfVisible(this);\" pagespeed_lazy_src=\"http://img2-ak.lst.fm/i/u/64s/1c7bb1c81ee64382a5f84f97b81a0073\" src=\"/img/1.gif\" title=\"Nas - I Can Lyrics\"/></span>\n",
       " I Can Lyrics\n",
       " </a>,\n",
       " <a alt=\"Nas - N.y. State Of Mind Lyrics\" href=\"http://www.metrolyrics.com/ny-state-of-mind-lyrics-nas.html\" onmousedown=\"ev('Featured Songs','searcht:ny-state-of-mind-lyrics-nas');\" title=\"Nas - N.y. State Of Mind Lyrics\">\n",
       " <span class=\"tmb tmb-xs\"><img alt=\"Nas - N.y. State Of Mind Lyrics\" onload=\"pagespeed.lazyLoadImages.loadIfVisible(this);\" pagespeed_lazy_src=\"http://img2-ak.lst.fm/i/u/64s/40aa2360b2a544a0b4f7d069303dd56c\" src=\"/img/1.gif\" title=\"Nas - N.y. State Of Mind Lyrics\"/></span>\n",
       " N.y. State Of Mind Lyrics\n",
       " </a>,\n",
       " <a data-ref=\"albums\" href=\"http://www.metrolyrics.com/nas-albums-list.html\" onmousedown=\"ev('Section Nav','By Albums');\">By Albums</a>,\n",
       " <a data-ref=\"lyrics\" href=\"http://www.metrolyrics.com/nas-lyrics.html\" onmousedown=\"ev('Section Nav','By Lyrics');\">By Lyrics</a>,\n",
       " <a href=\"http://www.metrolyrics.com/nas-featured.html\" onmousedown=\"ev('Section Nav','Featured');\">Featured</a>,\n",
       " <a href=\"http://www.metrolyrics.com/add.html?artistid=8552\" onmousedown=\"ev('Submit New Song');\" rel=\"nofollow\" title=\"Submit New Song\">+ Submit New Song</a>,\n",
       " <a alt=\"Nas Oochie Wally lyrics\" class=\"title hasvidtable\" href=\"http://www.metrolyrics.com/oochie-wally-lyrics-nas.html\" onmousedown=\"ev('Popular Songs','searcht:oochie-wally-lyrics-nas');\" title=\"Nas Oochie Wally lyrics\">\n",
       " Oochie Wally Lyrics\n",
       " </a>,\n",
       " <a alt=\"Nas I Know I Can lyrics\" class=\"title \" href=\"http://www.metrolyrics.com/i-know-i-can-lyrics-nas.html\" onmousedown=\"ev('Popular Songs','searcht:i-know-i-can-lyrics-nas');\" title=\"Nas I Know I Can lyrics\">\n",
       " I Know I Can Lyrics\n",
       " </a>,\n",
       " <a alt=\"Nas I Can lyrics\" class=\"title hasvidtable\" href=\"http://www.metrolyrics.com/i-can-lyrics-nas.html\" onmousedown=\"ev('Popular Songs','searcht:i-can-lyrics-nas');\" title=\"Nas I Can lyrics\">\n",
       " I Can Lyrics\n",
       " </a>,\n",
       " <a alt=\"Nas N.y. State Of Mind lyrics\" class=\"title hasvidtable\" href=\"http://www.metrolyrics.com/ny-state-of-mind-lyrics-nas.html\" onmousedown=\"ev('Popular Songs','searcht:ny-state-of-mind-lyrics-nas');\" title=\"Nas N.y. State Of Mind lyrics\">\n",
       " N.y. State Of Mind Lyrics\n",
       " </a>,\n",
       " <a alt=\"Nas If I Ruled The World lyrics\" class=\"title hasvidtable\" href=\"http://www.metrolyrics.com/if-i-ruled-the-world-lyrics-nas.html\" onmousedown=\"ev('Popular Songs','searcht:if-i-ruled-the-world-lyrics-nas');\" title=\"Nas If I Ruled The World lyrics\">\n",
       " If I Ruled The World Lyrics\n",
       " </a>,\n",
       " <a alt=\"Nas Cherry Wine lyrics\" class=\"title hasvidtable\" href=\"http://www.metrolyrics.com/cherry-wine-lyrics-nas.html\" onmousedown=\"ev('Popular Songs','searcht:cherry-wine-lyrics-nas');\" title=\"Nas Cherry Wine lyrics\">\n",
       " Cherry Wine Lyrics\n",
       " </a>,\n",
       " <a alt=\"Nas Ether lyrics\" class=\"title hasvidtable\" href=\"http://www.metrolyrics.com/ether-lyrics-nas.html\" onmousedown=\"ev('Popular Songs','searcht:ether-lyrics-nas');\" title=\"Nas Ether lyrics\">\n",
       " Ether Lyrics\n",
       " </a>,\n",
       " <a alt=\"Nas The World Is Yours lyrics\" class=\"title hasvidtable\" href=\"http://www.metrolyrics.com/the-world-is-yours-lyrics-nas.html\" onmousedown=\"ev('Popular Songs','searcht:the-world-is-yours-lyrics-nas');\" title=\"Nas The World Is Yours lyrics\">\n",
       " The World Is Yours Lyrics\n",
       " </a>,\n",
       " <a alt=\"Nas One Mic lyrics\" class=\"title hasvidtable\" href=\"http://www.metrolyrics.com/one-mic-lyrics-nas.html\" onmousedown=\"ev('Popular Songs','searcht:one-mic-lyrics-nas');\" title=\"Nas One Mic lyrics\">\n",
       " One Mic Lyrics\n",
       " </a>,\n",
       " <a alt=\"Nas Family lyrics\" class=\"title hasvidtable\" href=\"http://www.metrolyrics.com/family-lyrics-nas.html\" onmousedown=\"ev('Popular Songs','searcht:family-lyrics-nas');\" title=\"Nas Family lyrics\">\n",
       " Family Lyrics\n",
       " </a>,\n",
       " <a alt=\"Nas The Message lyrics\" class=\"title hasvidtable\" href=\"http://www.metrolyrics.com/the-message-lyrics-nas.html\" onmousedown=\"ev('Popular Songs','searcht:the-message-lyrics-nas');\" title=\"Nas The Message lyrics\">\n",
       " The Message Lyrics\n",
       " </a>,\n",
       " <a alt=\"Nas Life's A Bitch lyrics\" class=\"title hasvidtable\" href=\"http://www.metrolyrics.com/lifes-a-bitch-lyrics-nas.html\" onmousedown=\"ev('Popular Songs','searcht:lifes-a-bitch-lyrics-nas');\" title=\"Nas Life's A Bitch lyrics\">\n",
       " Life's A Bitch Lyrics\n",
       " </a>,\n",
       " <a alt=\"Nas Nas Is Like lyrics\" class=\"title hasvidtable\" href=\"http://www.metrolyrics.com/nas-is-like-lyrics-nas.html\" onmousedown=\"ev('Popular Songs','searcht:nas-is-like-lyrics-nas');\" title=\"Nas Nas Is Like lyrics\">\n",
       " Nas Is Like Lyrics\n",
       " </a>,\n",
       " <a alt=\"Nas Can't Forget About You lyrics\" class=\"title \" href=\"http://www.metrolyrics.com/cant-forget-about-you-lyrics-nas.html\" onmousedown=\"ev('Popular Songs','searcht:cant-forget-about-you-lyrics-nas');\" title=\"Nas Can't Forget About You lyrics\">\n",
       " Can't Forget About You Lyrics\n",
       " </a>,\n",
       " <a alt=\"Nas Daughters lyrics\" class=\"title hasvidtable\" href=\"http://www.metrolyrics.com/daughters-lyrics-nas.html\" onmousedown=\"ev('Popular Songs','searcht:daughters-lyrics-nas');\" title=\"Nas Daughters lyrics\">\n",
       " Daughters Lyrics\n",
       " </a>,\n",
       " <a alt=\"Nas It Ain't Hard To Tell lyrics\" class=\"title hasvidtable\" href=\"http://www.metrolyrics.com/it-aint-hard-to-tell-lyrics-nas.html\" onmousedown=\"ev('Popular Songs','searcht:it-aint-hard-to-tell-lyrics-nas');\" title=\"Nas It Ain't Hard To Tell lyrics\">\n",
       " It Ain't Hard To Tell Lyrics\n",
       " </a>,\n",
       " <a alt=\"Nas Ghetto (Remix) lyrics\" class=\"title \" href=\"http://www.metrolyrics.com/ghetto-remix-lyrics-nas.html\" onmousedown=\"ev('Popular Songs','searcht:ghetto-remix-lyrics-nas');\" title=\"Nas Ghetto (Remix) lyrics\">\n",
       " Ghetto (Remix) Lyrics\n",
       " </a>,\n",
       " <a alt=\"Nas Hate Me Now lyrics\" class=\"title hasvidtable\" href=\"http://www.metrolyrics.com/hate-me-now-lyrics-nas.html\" onmousedown=\"ev('Popular Songs','searcht:hate-me-now-lyrics-nas');\" title=\"Nas Hate Me Now lyrics\">\n",
       " Hate Me Now Lyrics\n",
       " </a>,\n",
       " <a alt=\"Nas Got Yourself a Gun lyrics\" class=\"title hasvidtable\" href=\"http://www.metrolyrics.com/got-yourself-a-gun-lyrics-nas.html\" onmousedown=\"ev('Popular Songs','searcht:got-yourself-a-gun-lyrics-nas');\" title=\"Nas Got Yourself a Gun lyrics\">\n",
       " Got Yourself a Gun Lyrics\n",
       " </a>,\n",
       " <a alt=\"Nas Hero lyrics\" class=\"title hasvidtable\" href=\"http://www.metrolyrics.com/hero-lyrics-nas.html\" onmousedown=\"ev('Popular Songs','searcht:hero-lyrics-nas');\" title=\"Nas Hero lyrics\">\n",
       " Hero Lyrics\n",
       " </a>,\n",
       " <a alt=\"Nas Fried Chicken lyrics\" class=\"title \" href=\"http://www.metrolyrics.com/fried-chicken-lyrics-nas.html\" onmousedown=\"ev('Popular Songs','searcht:fried-chicken-lyrics-nas');\" title=\"Nas Fried Chicken lyrics\">\n",
       " Fried Chicken Lyrics\n",
       " </a>,\n",
       " <a alt=\"Nas Halftime lyrics\" class=\"title hasvidtable\" href=\"http://www.metrolyrics.com/halftime-lyrics-nas.html\" onmousedown=\"ev('Popular Songs','searcht:halftime-lyrics-nas');\" title=\"Nas Halftime lyrics\">\n",
       " Halftime Lyrics\n",
       " </a>,\n",
       " <a alt=\"Nas Made You Look lyrics\" class=\"title hasvidtable\" href=\"http://www.metrolyrics.com/made-you-look-lyrics-nas.html\" onmousedown=\"ev('Popular Songs','searcht:made-you-look-lyrics-nas');\" title=\"Nas Made You Look lyrics\">\n",
       " Made You Look Lyrics\n",
       " </a>,\n",
       " <a alt=\"Nas Suspect lyrics\" class=\"title hasvidtable\" href=\"http://www.metrolyrics.com/suspect-lyrics-nas.html\" onmousedown=\"ev('Popular Songs','searcht:suspect-lyrics-nas');\" title=\"Nas Suspect lyrics\">\n",
       " Suspect Lyrics\n",
       " </a>,\n",
       " <a alt=\"Nas Just A Moment lyrics\" class=\"title hasvidtable\" href=\"http://www.metrolyrics.com/just-a-moment-lyrics-nas.html\" onmousedown=\"ev('Popular Songs','searcht:just-a-moment-lyrics-nas');\" title=\"Nas Just A Moment lyrics\">\n",
       " Just A Moment Lyrics\n",
       " </a>,\n",
       " <a alt=\"Nas Represent lyrics\" class=\"title hasvidtable\" href=\"http://www.metrolyrics.com/represent-lyrics-nas.html\" onmousedown=\"ev('Popular Songs','searcht:represent-lyrics-nas');\" title=\"Nas Represent lyrics\">\n",
       " Represent Lyrics\n",
       " </a>,\n",
       " <a alt=\"Nas Patience lyrics\" class=\"title hasvidtable\" href=\"http://www.metrolyrics.com/patience-lyrics-nas.html\" onmousedown=\"ev('Popular Songs','searcht:patience-lyrics-nas');\" title=\"Nas Patience lyrics\">\n",
       " Patience Lyrics\n",
       " </a>,\n",
       " <a alt=\"Nas You Owe Me lyrics\" class=\"title hasvidtable\" href=\"http://www.metrolyrics.com/you-owe-me-lyrics-nas.html\" onmousedown=\"ev('Popular Songs','searcht:you-owe-me-lyrics-nas');\" title=\"Nas You Owe Me lyrics\">\n",
       " You Owe Me Lyrics\n",
       " </a>,\n",
       " <a alt=\"Nas K-i-ss-i-n-g lyrics\" class=\"title hasvidtable\" href=\"http://www.metrolyrics.com/kissing-lyrics-nas.html\" onmousedown=\"ev('Popular Songs','searcht:kissing-lyrics-nas');\" title=\"Nas K-i-ss-i-n-g lyrics\">\n",
       " K-i-ss-i-n-g Lyrics\n",
       " </a>,\n",
       " <a alt=\"Nas Shine On Em' lyrics\" class=\"title \" href=\"http://www.metrolyrics.com/shine-on-em-lyrics-nas.html\" onmousedown=\"ev('Popular Songs','searcht:shine-on-em-lyrics-nas');\" title=\"Nas Shine On Em' lyrics\">\n",
       " Shine On Em' Lyrics\n",
       " </a>,\n",
       " <a alt=\"Nas Dance lyrics\" class=\"title hasvidtable\" href=\"http://www.metrolyrics.com/dance-lyrics-nas.html\" onmousedown=\"ev('Popular Songs','searcht:dance-lyrics-nas');\" title=\"Nas Dance lyrics\">\n",
       " Dance Lyrics\n",
       " </a>,\n",
       " <a alt=\"Nas Im Gunna Be Alright lyrics\" class=\"title \" href=\"http://www.metrolyrics.com/im-gunna-be-alright-lyrics-nas.html\" onmousedown=\"ev('Popular Songs','searcht:im-gunna-be-alright-lyrics-nas');\" title=\"Nas Im Gunna Be Alright lyrics\">\n",
       " Im Gunna Be Alright Lyrics\n",
       " </a>,\n",
       " <a alt=\"Nas Wrote My Way Out lyrics\" class=\"title \" href=\"http://www.metrolyrics.com/wrote-my-way-out-lyrics-nas.html\" onmousedown=\"ev('Popular Songs','searcht:wrote-my-way-out-lyrics-nas');\" title=\"Nas Wrote My Way Out lyrics\">\n",
       " Wrote My Way Out Lyrics\n",
       " </a>,\n",
       " <a alt=\"Nas Louis Farrakhan lyrics\" class=\"title \" href=\"http://www.metrolyrics.com/louis-farrakhan-lyrics-nas.html\" onmousedown=\"ev('Popular Songs','searcht:louis-farrakhan-lyrics-nas');\" title=\"Nas Louis Farrakhan lyrics\">\n",
       " Louis Farrakhan Lyrics\n",
       " </a>,\n",
       " <a alt=\"Nas You're da Man lyrics\" class=\"title hasvidtable\" href=\"http://www.metrolyrics.com/youre-da-man-lyrics-nas.html\" onmousedown=\"ev('Popular Songs','searcht:youre-da-man-lyrics-nas');\" title=\"Nas You're da Man lyrics\">\n",
       " You're da Man Lyrics\n",
       " </a>,\n",
       " <a alt=\"Nas Take It In Blood lyrics\" class=\"title hasvidtable\" href=\"http://www.metrolyrics.com/take-it-in-blood-lyrics-nas.html\" onmousedown=\"ev('Popular Songs','searcht:take-it-in-blood-lyrics-nas');\" title=\"Nas Take It In Blood lyrics\">\n",
       " Take It In Blood Lyrics\n",
       " </a>,\n",
       " <a alt=\"Nas Thugz Mansion lyrics\" class=\"title hasvidtable\" href=\"http://www.metrolyrics.com/thugz-mansion-lyrics-nas.html\" onmousedown=\"ev('Popular Songs','searcht:thugz-mansion-lyrics-nas');\" title=\"Nas Thugz Mansion lyrics\">\n",
       " Thugz Mansion Lyrics\n",
       " </a>,\n",
       " <a alt=\"Nas Bridging The Gap lyrics\" class=\"title hasvidtable\" href=\"http://www.metrolyrics.com/bridging-the-gap-lyrics-nas.html\" onmousedown=\"ev('Popular Songs','searcht:bridging-the-gap-lyrics-nas');\" title=\"Nas Bridging The Gap lyrics\">\n",
       " Bridging The Gap Lyrics\n",
       " </a>,\n",
       " <a alt=\"Nas Stillmatic (The Intro) lyrics\" class=\"title hasvidtable\" href=\"http://www.metrolyrics.com/stillmatic-the-intro-lyrics-nas.html\" onmousedown=\"ev('Popular Songs','searcht:stillmatic-the-intro-lyrics-nas');\" title=\"Nas Stillmatic (The Intro) lyrics\">\n",
       " Stillmatic (The Intro) Lyrics\n",
       " </a>,\n",
       " <a alt=\"Nas Heaven lyrics\" class=\"title \" href=\"http://www.metrolyrics.com/heaven-lyrics-nas.html\" onmousedown=\"ev('Popular Songs','searcht:heaven-lyrics-nas');\" title=\"Nas Heaven lyrics\">\n",
       " Heaven Lyrics\n",
       " </a>,\n",
       " <a alt=\"Nas You're The Man lyrics\" class=\"title \" href=\"http://www.metrolyrics.com/youre-the-man-lyrics-nas.html\" onmousedown=\"ev('Popular Songs','searcht:youre-the-man-lyrics-nas');\" title=\"Nas You're The Man lyrics\">\n",
       " You're The Man Lyrics\n",
       " </a>,\n",
       " <a alt=\"Nas Friends lyrics\" class=\"title \" href=\"http://www.metrolyrics.com/friends-lyrics-nas.html\" onmousedown=\"ev('Popular Songs','searcht:friends-lyrics-nas');\" title=\"Nas Friends lyrics\">\n",
       " Friends Lyrics\n",
       " </a>,\n",
       " <a alt=\"Nas Africa Must Wake Up lyrics\" class=\"title \" href=\"http://www.metrolyrics.com/africa-must-wake-up-lyrics-nas.html\" onmousedown=\"ev('Popular Songs','searcht:africa-must-wake-up-lyrics-nas');\" title=\"Nas Africa Must Wake Up lyrics\">\n",
       " Africa Must Wake Up Lyrics\n",
       " </a>,\n",
       " <a alt=\"Nas I Gave You Power lyrics\" class=\"title \" href=\"http://www.metrolyrics.com/i-gave-you-power-lyrics-nas.html\" onmousedown=\"ev('Popular Songs','searcht:i-gave-you-power-lyrics-nas');\" title=\"Nas I Gave You Power lyrics\">\n",
       " I Gave You Power Lyrics\n",
       " </a>,\n",
       " <a alt=\"Nas Memory Lane (sittin' In Da Park) lyrics\" class=\"title hasvidtable\" href=\"http://www.metrolyrics.com/memory-lane-sittin-in-da-park-lyrics-nas.html\" onmousedown=\"ev('Popular Songs','searcht:memory-lane-sittin-in-da-park-lyrics-nas');\" title=\"Nas Memory Lane (sittin' In Da Park) lyrics\">\n",
       " Memory Lane (sittin' In Da Park) Lyrics\n",
       " </a>,\n",
       " <a alt=\"Nas Undying Love lyrics\" class=\"title hasvidtable\" href=\"http://www.metrolyrics.com/undying-love-lyrics-nas.html\" onmousedown=\"ev('Popular Songs','searcht:undying-love-lyrics-nas');\" title=\"Nas Undying Love lyrics\">\n",
       " Undying Love Lyrics\n",
       " </a>,\n",
       " <a alt=\"Nas Still Dreaming lyrics\" class=\"title hasvidtable\" href=\"http://www.metrolyrics.com/still-dreaming-lyrics-nas.html\" onmousedown=\"ev('Popular Songs','searcht:still-dreaming-lyrics-nas');\" title=\"Nas Still Dreaming lyrics\">\n",
       " Still Dreaming Lyrics\n",
       " </a>,\n",
       " <a alt=\"Nas America lyrics\" class=\"title hasvidtable\" href=\"http://www.metrolyrics.com/america-lyrics-nas.html\" onmousedown=\"ev('Popular Songs','searcht:america-lyrics-nas');\" title=\"Nas America lyrics\">\n",
       " America Lyrics\n",
       " </a>,\n",
       " <a alt=\"Nas Ouchie Wally (remix) lyrics\" class=\"title \" href=\"http://www.metrolyrics.com/ouchie-wally-remix-lyrics-nas.html\" onmousedown=\"ev('Popular Songs','searcht:ouchie-wally-remix-lyrics-nas');\" title=\"Nas Ouchie Wally (remix) lyrics\">\n",
       " Ouchie Wally (remix) Lyrics\n",
       " </a>,\n",
       " <a alt=\"Nas Oochie Wally (remix) lyrics\" class=\"title \" href=\"http://www.metrolyrics.com/oochie-wally-remix-lyrics-nas.html\" onmousedown=\"ev('Popular Songs','searcht:oochie-wally-remix-lyrics-nas');\" title=\"Nas Oochie Wally (remix) lyrics\">\n",
       " Oochie Wally (remix) Lyrics\n",
       " </a>,\n",
       " <a alt=\"Nas Count Your Blessings lyrics\" class=\"title hasvidtable\" href=\"http://www.metrolyrics.com/count-your-blessings-lyrics-nas.html\" onmousedown=\"ev('Popular Songs','searcht:count-your-blessings-lyrics-nas');\" title=\"Nas Count Your Blessings lyrics\">\n",
       " Count Your Blessings Lyrics\n",
       " </a>,\n",
       " <a alt=\"Nas Hip-Hop Is Dead lyrics\" class=\"title hasvidtable\" href=\"http://www.metrolyrics.com/hiphop-is-dead-lyrics-nas.html\" onmousedown=\"ev('Popular Songs','searcht:hiphop-is-dead-lyrics-nas');\" title=\"Nas Hip-Hop Is Dead lyrics\">\n",
       " Hip-Hop Is Dead Lyrics\n",
       " </a>,\n",
       " <a alt=\"Nas As We Enter lyrics\" class=\"title hasvidtable\" href=\"http://www.metrolyrics.com/as-we-enter-lyrics-nas.html\" onmousedown=\"ev('Popular Songs','searcht:as-we-enter-lyrics-nas');\" title=\"Nas As We Enter lyrics\">\n",
       " As We Enter Lyrics\n",
       " </a>,\n",
       " <a alt=\"Nas What Goes Around lyrics\" class=\"title hasvidtable\" href=\"http://www.metrolyrics.com/what-goes-around-lyrics-nas.html\" onmousedown=\"ev('Popular Songs','searcht:what-goes-around-lyrics-nas');\" title=\"Nas What Goes Around lyrics\">\n",
       " What Goes Around Lyrics\n",
       " </a>,\n",
       " <a alt=\"Nas Affirmative Action lyrics\" class=\"title hasvidtable\" href=\"http://www.metrolyrics.com/affirmative-action-lyrics-nas.html\" onmousedown=\"ev('Popular Songs','searcht:affirmative-action-lyrics-nas');\" title=\"Nas Affirmative Action lyrics\">\n",
       " Affirmative Action Lyrics\n",
       " </a>,\n",
       " <a alt=\"Nas Life We Chose lyrics\" class=\"title hasvidtable\" href=\"http://www.metrolyrics.com/life-we-chose-lyrics-nas.html\" onmousedown=\"ev('Popular Songs','searcht:life-we-chose-lyrics-nas');\" title=\"Nas Life We Chose lyrics\">\n",
       " Life We Chose Lyrics\n",
       " </a>,\n",
       " <a alt=\"Nas Watch Dem Niggas lyrics\" class=\"title hasvidtable\" href=\"http://www.metrolyrics.com/watch-dem-niggas-lyrics-nas.html\" onmousedown=\"ev('Popular Songs','searcht:watch-dem-niggas-lyrics-nas');\" title=\"Nas Watch Dem Niggas lyrics\">\n",
       " Watch Dem Niggas Lyrics\n",
       " </a>,\n",
       " <a alt=\"Nas Let There Be Light lyrics\" class=\"title hasvidtable\" href=\"http://www.metrolyrics.com/let-there-be-light-lyrics-nas.html\" onmousedown=\"ev('Popular Songs','searcht:let-there-be-light-lyrics-nas');\" title=\"Nas Let There Be Light lyrics\">\n",
       " Let There Be Light Lyrics\n",
       " </a>,\n",
       " <a alt=\"Nas Surviving The Times lyrics\" class=\"title hasvidtable\" href=\"http://www.metrolyrics.com/surviving-the-times-lyrics-nas.html\" onmousedown=\"ev('Popular Songs','searcht:surviving-the-times-lyrics-nas');\" title=\"Nas Surviving The Times lyrics\">\n",
       " Surviving The Times Lyrics\n",
       " </a>,\n",
       " <a alt=\"Nas Memory Lane lyrics\" class=\"title hasvidtable\" href=\"http://www.metrolyrics.com/memory-lane-lyrics-nas.html\" onmousedown=\"ev('Popular Songs','searcht:memory-lane-lyrics-nas');\" title=\"Nas Memory Lane lyrics\">\n",
       " Memory Lane Lyrics\n",
       " </a>,\n",
       " <a alt=\"Nas Silent Murder lyrics\" class=\"title \" href=\"http://www.metrolyrics.com/silent-murder-lyrics-nas.html\" onmousedown=\"ev('Popular Songs','searcht:silent-murder-lyrics-nas');\" title=\"Nas Silent Murder lyrics\">\n",
       " Silent Murder Lyrics\n",
       " </a>,\n",
       " <a alt=\"Nas Warrior Song lyrics\" class=\"title hasvidtable\" href=\"http://www.metrolyrics.com/warrior-song-lyrics-nas.html\" onmousedown=\"ev('Popular Songs','searcht:warrior-song-lyrics-nas');\" title=\"Nas Warrior Song lyrics\">\n",
       " Warrior Song Lyrics\n",
       " </a>,\n",
       " <a alt=\"Nas Strong Will Continue lyrics\" class=\"title hasvidtable\" href=\"http://www.metrolyrics.com/strong-will-continue-lyrics-nas.html\" onmousedown=\"ev('Popular Songs','searcht:strong-will-continue-lyrics-nas');\" title=\"Nas Strong Will Continue lyrics\">\n",
       " Strong Will Continue Lyrics\n",
       " </a>,\n",
       " <a alt=\"Nas We Will Survive lyrics\" class=\"title \" href=\"http://www.metrolyrics.com/we-will-survive-lyrics-nas.html\" onmousedown=\"ev('Popular Songs','searcht:we-will-survive-lyrics-nas');\" title=\"Nas We Will Survive lyrics\">\n",
       " We Will Survive Lyrics\n",
       " </a>,\n",
       " <a alt=\"Nas Money Is My Bitch lyrics\" class=\"title hasvidtable\" href=\"http://www.metrolyrics.com/money-is-my-bitch-lyrics-nas.html\" onmousedown=\"ev('Popular Songs','searcht:money-is-my-bitch-lyrics-nas');\" title=\"Nas Money Is My Bitch lyrics\">\n",
       " Money Is My Bitch Lyrics\n",
       " </a>,\n",
       " <a alt=\"Nas You Can't Stop Us Now lyrics\" class=\"title hasvidtable\" href=\"http://www.metrolyrics.com/you-cant-stop-us-now-lyrics-nas.html\" onmousedown=\"ev('Popular Songs','searcht:you-cant-stop-us-now-lyrics-nas');\" title=\"Nas You Can't Stop Us Now lyrics\">\n",
       " You Can't Stop Us Now Lyrics\n",
       " </a>,\n",
       " <a alt=\"Nas Sometimes I Wonder lyrics\" class=\"title \" href=\"http://www.metrolyrics.com/sometimes-i-wonder-lyrics-nas.html\" onmousedown=\"ev('Popular Songs','searcht:sometimes-i-wonder-lyrics-nas');\" title=\"Nas Sometimes I Wonder lyrics\">\n",
       " Sometimes I Wonder Lyrics\n",
       " </a>,\n",
       " <a alt=\"Nas If I Ruled the World (Imagine That) lyrics\" class=\"title hasvidtable\" href=\"http://www.metrolyrics.com/if-i-ruled-the-world-imagine-that-lyrics-nas.html\" onmousedown=\"ev('Popular Songs','searcht:if-i-ruled-the-world-imagine-that-lyrics-nas');\" title=\"Nas If I Ruled the World (Imagine That) lyrics\">\n",
       " If I Ruled the World (Imagine That) Lyrics\n",
       " </a>,\n",
       " <a alt=\"Nas Street Dreams (Remix) lyrics\" class=\"title hasvidtable\" href=\"http://www.metrolyrics.com/street-dreams-remix-lyrics-nas.html\" onmousedown=\"ev('Popular Songs','searcht:street-dreams-remix-lyrics-nas');\" title=\"Nas Street Dreams (Remix) lyrics\">\n",
       " Street Dreams (Remix) Lyrics\n",
       " </a>,\n",
       " <a alt=\"Nas Live Nigga Rap lyrics\" class=\"title hasvidtable\" href=\"http://www.metrolyrics.com/live-nigga-rap-lyrics-nas.html\" onmousedown=\"ev('Popular Songs','searcht:live-nigga-rap-lyrics-nas');\" title=\"Nas Live Nigga Rap lyrics\">\n",
       " Live Nigga Rap Lyrics\n",
       " </a>,\n",
       " <a alt=\"Nas Me &amp; You (Dedicated To Destiny) lyrics\" class=\"title \" href=\"http://www.metrolyrics.com/me-you-dedicated-to-destiny-lyrics-nas.html\" onmousedown=\"ev('Popular Songs','searcht:me-you-dedicated-to-destiny-lyrics-nas');\" title=\"Nas Me &amp; You (Dedicated To Destiny) lyrics\">\n",
       " Me &amp; You (Dedicated To Destiny) Lyrics\n",
       " </a>,\n",
       " <a alt=\"Nas Spastic (50 Cent Diss) lyrics\" class=\"title \" href=\"http://www.metrolyrics.com/spastic-50-cent-diss-lyrics-nas.html\" onmousedown=\"ev('Popular Songs','searcht:spastic-50-cent-diss-lyrics-nas');\" title=\"Nas Spastic (50 Cent Diss) lyrics\">\n",
       " Spastic (50 Cent Diss) Lyrics\n",
       " </a>,\n",
       " <a alt=\"Nas Be A Nigger Too lyrics\" class=\"title \" href=\"http://www.metrolyrics.com/be-a-nigger-too-lyrics-nas.html\" onmousedown=\"ev('Popular Songs','searcht:be-a-nigger-too-lyrics-nas');\" title=\"Nas Be A Nigger Too lyrics\">\n",
       " Be A Nigger Too Lyrics\n",
       " </a>,\n",
       " <a alt=\"Nas Not Going Back lyrics\" class=\"title hasvidtable\" href=\"http://www.metrolyrics.com/not-going-back-lyrics-nas.html\" onmousedown=\"ev('Popular Songs','searcht:not-going-back-lyrics-nas');\" title=\"Nas Not Going Back lyrics\">\n",
       " Not Going Back Lyrics\n",
       " </a>,\n",
       " <a alt=\"Nas Queens Get The Money lyrics\" class=\"title hasvidtable\" href=\"http://www.metrolyrics.com/queens-get-the-money-lyrics-nas.html\" onmousedown=\"ev('Popular Songs','searcht:queens-get-the-money-lyrics-nas');\" title=\"Nas Queens Get The Money lyrics\">\n",
       " Queens Get The Money Lyrics\n",
       " </a>,\n",
       " <a class=\"button prev disabled\" href=\"javascript:void(0)\" onmousedown=\"ev('Previous Page');\">\n",
       " <span aria-hidden=\"true\" class=\"arrow\">&lt;</span> Prev</a>,\n",
       " <a href=\"http://www.metrolyrics.com/nas-alpage-1.html\" onmousedown=\"ev('Page','1');\">\n",
       " 1\t</a>,\n",
       " <a href=\"http://www.metrolyrics.com/nas-alpage-2.html\" onmousedown=\"ev('Page','2');\">\n",
       " 2\t</a>,\n",
       " <a href=\"http://www.metrolyrics.com/nas-alpage-3.html\" onmousedown=\"ev('Page','3');\">\n",
       " 3\t</a>,\n",
       " <a href=\"http://www.metrolyrics.com/nas-alpage-4.html\" onmousedown=\"ev('Page','4');\">\n",
       " 4\t</a>,\n",
       " <a class=\"button next\" href=\"http://www.metrolyrics.com/nas-alpage-1.html\" onmousedown=\"ev('Next Page');\">\n",
       " Next <span aria-hidden=\"true\" class=\"arrow\">&gt;</span>\n",
       " </a>,\n",
       " <a href=\"http://www.metrolyrics.com/nas-featured.html\" onmousedown=\"ev('Featured View All','View All');\" title=\"View All\">View All</a>,\n",
       " <a alt=\"Amy Winehouse Like Smoke lyrics\" class=\"title \" href=\"http://www.metrolyrics.com/like-smoke-lyrics-amy-winehouse.html\" onmousedown=\"ev('Featured','searcht:like-smoke-lyrics-amy-winehouse');\" title=\"Amy Winehouse Like Smoke lyrics\">\n",
       " Like Smoke Lyrics\n",
       " </a>,\n",
       " <a alt=\"Justin Bieber We Are lyrics\" class=\"title hasvidtable\" href=\"http://www.metrolyrics.com/we-are-lyrics-justin-bieber.html\" onmousedown=\"ev('Featured','searcht:we-are-lyrics-justin-bieber');\" title=\"Justin Bieber We Are lyrics\">\n",
       " We Are Lyrics\n",
       " </a>,\n",
       " <a alt=\"Keyshia Cole Oh Oh Yeah Yeah lyrics\" class=\"title hasvidtable\" href=\"http://www.metrolyrics.com/oh-oh-yeah-yeah-lyrics-keyshia-cole.html\" onmousedown=\"ev('Featured','searcht:oh-oh-yeah-yeah-lyrics-keyshia-cole');\" title=\"Keyshia Cole Oh Oh Yeah Yeah lyrics\">\n",
       " Oh Oh Yeah Yeah Lyrics\n",
       " </a>,\n",
       " <a alt=\"Usher Chains lyrics\" class=\"title hasvidtable\" href=\"http://www.metrolyrics.com/chains-lyrics-usher.html\" onmousedown=\"ev('Featured','searcht:chains-lyrics-usher');\" title=\"Usher Chains lyrics\">\n",
       " Chains Lyrics\n",
       " </a>,\n",
       " <a alt=\"Dr. Dre East Coast/west Coast Killas lyrics\" class=\"title hasvidtable\" href=\"http://www.metrolyrics.com/east-coastwest-coast-killas-lyrics-dr-dre.html\" onmousedown=\"ev('Featured','searcht:east-coastwest-coast-killas-lyrics-dr-dre');\" title=\"Dr. Dre East Coast/west Coast Killas lyrics\">\n",
       " East Coast/west Coast Killas Lyrics\n",
       " </a>,\n",
       " <a alt='Damian \"Junior Gong\" Marley Patience lyrics' class=\"title \" href=\"http://www.metrolyrics.com/patience-lyrics-damian-junior-gong-marley.html\" onmousedown=\"ev('Featured','searcht:patience-lyrics-damian-junior-gong-marley');\" title='Damian \"Junior Gong\" Marley Patience lyrics'>\n",
       " Patience Lyrics\n",
       " </a>,\n",
       " <a alt=\"3LW No More (baby I'ma Do Right) lyrics\" class=\"title hasvidtable\" href=\"http://www.metrolyrics.com/no-more-baby-ima-do-right-lyrics-3lw.html\" onmousedown=\"ev('Featured','searcht:no-more-baby-ima-do-right-lyrics-3lw');\" title=\"3LW No More (baby I'ma Do Right) lyrics\">\n",
       " No More (baby I'ma Do Right) Lyrics\n",
       " </a>,\n",
       " <a alt=\"Joe Thank God I Found You (make It Last Forever Remix) lyrics\" class=\"title \" href=\"http://www.metrolyrics.com/thank-god-i-found-you-make-it-last-forever-remix-lyrics-joe.html\" onmousedown=\"ev('Featured','searcht:thank-god-i-found-you-make-it-last-forever-remix-lyrics-joe');\" title=\"Joe Thank God I Found You (make It Last Forever Remix) lyrics\">\n",
       " Thank God I Found You (make It Last Forever Remix) Lyrics\n",
       " </a>,\n",
       " <a alt=\"J. Cole Let Nas Down (Remix) lyrics\" class=\"title \" href=\"http://www.metrolyrics.com/let-nas-down-remix-lyrics-j-cole.html\" onmousedown=\"ev('Featured','searcht:let-nas-down-remix-lyrics-j-cole');\" title=\"J. Cole Let Nas Down (Remix) lyrics\">\n",
       " Let Nas Down (Remix) Lyrics\n",
       " </a>,\n",
       " <a alt=\"DJ Khaled Hip Hop lyrics\" class=\"title hasvidtable\" href=\"http://www.metrolyrics.com/hip-hop-lyrics-dj-khaled.html\" onmousedown=\"ev('Featured','searcht:hip-hop-lyrics-dj-khaled');\" title=\"DJ Khaled Hip Hop lyrics\">\n",
       " Hip Hop Lyrics\n",
       " </a>,\n",
       " <a alt=\"Common Blue Sky lyrics\" class=\"title hasvidtable\" href=\"http://www.metrolyrics.com/blue-sky-lyrics-common.html\" onmousedown=\"ev('Featured','searcht:blue-sky-lyrics-common');\" title=\"Common Blue Sky lyrics\">\n",
       " Blue Sky Lyrics\n",
       " </a>,\n",
       " <a alt=\"Young Jeezy My President lyrics\" class=\"title hasvidtable\" href=\"http://www.metrolyrics.com/my-president-lyrics-young-jeezy.html\" onmousedown=\"ev('Featured','searcht:my-president-lyrics-young-jeezy');\" title=\"Young Jeezy My President lyrics\">\n",
       " My President Lyrics\n",
       " </a>,\n",
       " <a alt=\"Ludacris Virgo lyrics\" class=\"title \" href=\"http://www.metrolyrics.com/virgo-lyrics-ludacris.html\" onmousedown=\"ev('Featured','searcht:virgo-lyrics-ludacris');\" title=\"Ludacris Virgo lyrics\">\n",
       " Virgo Lyrics\n",
       " </a>,\n",
       " <a alt=\"Mariah Carey Thank God I Found You (remix) lyrics\" class=\"title hasvidtable\" href=\"http://www.metrolyrics.com/thank-god-i-found-you-remix-lyrics-mariah-carey.html\" onmousedown=\"ev('Featured','searcht:thank-god-i-found-you-remix-lyrics-mariah-carey');\" title=\"Mariah Carey Thank God I Found You (remix) lyrics\">\n",
       " Thank God I Found You (remix) Lyrics\n",
       " </a>,\n",
       " <a alt=\"Jadakiss Why (Remix) lyrics\" class=\"title \" href=\"http://www.metrolyrics.com/why-remix-lyrics-jadakiss.html\" onmousedown=\"ev('Featured','searcht:why-remix-lyrics-jadakiss');\" title=\"Jadakiss Why (Remix) lyrics\">\n",
       " Why (Remix) Lyrics\n",
       " </a>,\n",
       " <a class=\"content-driver small\" href=\"http://www.metrolyrics.com/news-gallery-the-best-karaoke-songs-ever.html\" id=\"driver\" onmousedown=\"ev('Driver Module','http://www.metrolyrics.com/news-gallery-the-best-karaoke-songs-ever.html');\" title=\"The Best Karaoke Songs Ever, Ranked\">\n",
       " <div class=\"image-container\">\n",
       " <img onload=\"pagespeed.lazyLoadImages.loadIfVisible(this);\" pagespeed_lazy_src=\"http://netstorage.metrolyrics.com/drivers/10904/karaokesongs-list-56f16bb6-image.jpg\" src=\"/img/1.gif\"/>\n",
       " <div class=\"caption\">The Best Karaoke Songs Ever, Ranked</div>\n",
       " </div>\n",
       " </a>,\n",
       " <a class=\"link\" href=\"http://www.metrolyrics.com/videos.html\" onmousedown=\"ev('Artist Video Module View All','View All');\" title=\"View All\">View All</a>,\n",
       " <a href=\"http://www.metrolyrics.com/rock-this-town-stray-cats-ml-video-n43.html\" onmousedown=\"ev('Artist Video Module','searchv:rock-this-town-stray-cats-ml-video-n43');\" title=\"Rock This Town (Live)\">\n",
       " <span class=\"tmb tmb-altmod-full\">\n",
       " <img alt=\"Stray Cats Videos\" pagespeed_no_defer=\"\" src=\"http://img.cache.vevo.com/thumb/cms/b016946291d27317adc7c6c9fbaabe832014301154817874.jpg?width=220\" title=\"Stray Cats Videos\"/>\n",
       " </span>\n",
       " <span aria-hidden=\"true\" class=\"icon icon-play small\"></span>\n",
       " <span class=\"over\">Rock This Town (Live)<br/>Video</span>\n",
       " </a>,\n",
       " <a href=\"http://www.metrolyrics.com/xxxo-mia-ml-video-bp1.html\" onmousedown=\"ev('Artist Video Module','searchv:xxxo-mia-ml-video-bp1');\" title=\"XXXO\">\n",
       " <span class=\"tmb tmb-altmod\">\n",
       " <img alt=\"M.I.A. Videos\" pagespeed_no_defer=\"\" src=\"http://img.cache.vevo.com/thumb/cms/aaf6271e4f961202c7fb40dd7c0245d6.jpg?width=150\" title=\"M.I.A. Videos\"/>\n",
       " </span>\n",
       " <span aria-hidden=\"true\" class=\"icon icon-play small\"></span>\n",
       " <span class=\"over\">XXXO<br/>Video</span>\n",
       " </a>,\n",
       " <a href=\"http://www.metrolyrics.com/liner-notes-30-seconds-to-mars-ml-video-7bh.html\" onmousedown=\"ev('Artist Video Module','searchv:liner-notes-30-seconds-to-mars-ml-video-7bh');\" title=\"Thirty Seconds To Mars Interview - LINER NOTES\">\n",
       " <span class=\"tmb tmb-altmod\">\n",
       " <img alt=\"30 Seconds to Mars Videos\" pagespeed_no_defer=\"\" src=\"http://thumbnails.cbsig.net/CBS_Production_CBS_Music_VMS/816/206/2013/10/16/54541891509/30stm-videothumb_thumb_640x360.jpg\" title=\"30 Seconds to Mars Videos\"/>\n",
       " </span>\n",
       " <span aria-hidden=\"true\" class=\"icon icon-play small\"></span>\n",
       " <span class=\"over\">Thirty Seconds To Mars Interview - LINER NOTES<br/>Video</span>\n",
       " </a>,\n",
       " <a href=\"http://www.metrolyrics.com/shes-sexy-17-stray-cats-ml-video-nua.html\" onmousedown=\"ev('Artist Video Module','searchv:shes-sexy-17-stray-cats-ml-video-nua');\" title=\"(She's) Sexy &amp; 17\">\n",
       " <span class=\"tmb tmb-altmod\">\n",
       " <img alt=\"Stray Cats Videos\" pagespeed_no_defer=\"\" src=\"http://img.cache.vevo.com/thumb/cms/8317c524a218fc4e5328afbaaf7c7649.jpg?width=150\" title=\"Stray Cats Videos\"/>\n",
       " </span>\n",
       " <span aria-hidden=\"true\" class=\"icon icon-play small\"></span>\n",
       " <span class=\"over\">(She's) Sexy &amp; 17<br/>Video</span>\n",
       " </a>,\n",
       " <a href=\"http://www.metrolyrics.com/song-ml-video-j3g.html\" onmousedown=\"ev('Artist Video Module','searchv:song-ml-video-j3g');\" title=\"10 Songs You Didn't Know Were Covers\">\n",
       " <span class=\"tmb tmb-altmod\">\n",
       " <img alt=\"Stray Cats Videos\" pagespeed_no_defer=\"\" src=\"http://thumbnails.cbsig.net/CBS_Production_MetroLyrics_VMS/2017/06/02/958887491531/Covers_final_1327858_200x150.jpg\" title=\"Stray Cats Videos\"/>\n",
       " </span>\n",
       " <span aria-hidden=\"true\" class=\"icon icon-play small\"></span>\n",
       " <span class=\"over\">10 Songs You Didn't Know Were Covers<br/>Video</span>\n",
       " </a>,\n",
       " <a href=\"http://www.metrolyrics.com/sexodus-audio-mia-ml-video-h1z.html\" onmousedown=\"ev('Artist Video Module','searchv:sexodus-audio-mia-ml-video-h1z');\" title=\"Sexodus (Audio)\">\n",
       " <span class=\"tmb tmb-altmod\">\n",
       " <img alt=\"M.I.A. Videos\" pagespeed_no_defer=\"\" src=\"http://img.cache.vevo.com/thumb/cms/5a8801219d9e18dc33305bed3b8f1a4220133110141939727.jpg?width=150\" title=\"M.I.A. Videos\"/>\n",
       " </span>\n",
       " <span aria-hidden=\"true\" class=\"icon icon-play small\"></span>\n",
       " <span class=\"over\">Sexodus (Audio)<br/>Video</span>\n",
       " </a>,\n",
       " <a href=\"http://www.metrolyrics.com/song-ml-video-dse.html\" onmousedown=\"ev('Artist Video Module','searchv:song-ml-video-dse');\" title=\"8 More Delicious Misheard Lyrics About Food\">\n",
       " <span class=\"tmb tmb-altmod\">\n",
       " <img alt=\"Stray Cats Videos\" pagespeed_no_defer=\"\" src=\"http://thumbnails.cbsig.net/CBS_Production_MetroLyrics_VMS/2016/03/15/644900931836/thumb_499217_200x150.jpg\" title=\"Stray Cats Videos\"/>\n",
       " </span>\n",
       " <span aria-hidden=\"true\" class=\"icon icon-play small\"></span>\n",
       " <span class=\"over\">8 More Delicious Misheard Lyrics About Food<br/>Video</span>\n",
       " </a>,\n",
       " <a href=\"http://www.metrolyrics.com/news.html\" onmousedown=\"ev('News Module View All','View All');\" title=\"View All\">View All</a>,\n",
       " <a href=\"http://www.metrolyrics.com/news-story-every-lyric-from-keith-urbans-new-album-graffiti-u.html\" onmousedown=\"ev('X-Small News Module','searche:every-lyric-from-keith-urbans-new-album-graffiti-u:url:news-story-every-lyric-from-keith-urbans-new-album-graffiti-u');\" title=\"Every Lyric From Keith Urban's New Album 'Graffiti U'\">\n",
       " <span class=\"tmb tmb-xs non-playable\">\n",
       " <img alt=\"Every Lyric From Keith Urban's New Album 'Graffiti U'\" pagespeed_no_defer=\"\" src=\"http://netstorage.metrolyrics.com/editorials/every-lyric-from-keith-urbans-new-album-graffiti-u/xxsmall-image.jpg\" title=\"Every Lyric From Keith Urban's New Album 'Graffiti U'\"/>\n",
       " </span>\n",
       " Every Lyric From Keith Urban's New Album 'Graffiti U'\t</a>,\n",
       " <a href=\"http://www.metrolyrics.com/news-story-watch-janelle-monaes-scifi-film-dirty-computer.html\" onmousedown=\"ev('X-Small News Module','searche:watch-janelle-monaes-scifi-film-dirty-computer:url:news-story-watch-janelle-monaes-scifi-film-dirty-computer');\" title=\"Watch Janelle MonÃ¡e's Sci-Fi film 'Dirty Computer'\">\n",
       " <span class=\"tmb tmb-xs non-playable\">\n",
       " <img alt=\"Watch Janelle MonÃ¡e's Sci-Fi film 'Dirty Computer'\" pagespeed_no_defer=\"\" src=\"http://netstorage.metrolyrics.com/editorials/watch-janelle-monaes-scifi-film-dirty-computer/xxsmall-image.jpg\" title=\"Watch Janelle MonÃ¡e's Sci-Fi film 'Dirty Computer'\"/>\n",
       " </span>\n",
       " Watch Janelle Monáe's Sci-Fi film 'Dirty Computer'\t</a>,\n",
       " <a href=\"http://www.metrolyrics.com/news-story-nicki-minaj-drops-new-songs-barbie-tings-and-chunli.html\" onmousedown=\"ev('X-Small News Module','searche:nicki-minaj-drops-new-songs-barbie-tings-and-chunli:url:news-story-nicki-minaj-drops-new-songs-barbie-tings-and-chunli');\" title=\"Nicki Minaj Drops New Songs 'Barbie Tingz And 'Chun-Li'\">\n",
       " <span class=\"tmb tmb-xs non-playable\">\n",
       " <img alt=\"Nicki Minaj Drops New Songs 'Barbie Tingz And 'Chun-Li'\" pagespeed_no_defer=\"\" src=\"http://netstorage.metrolyrics.com/editorials/nicki-minaj-drops-new-songs-barbie-tings-and-chunli/xxsmall-image.jpg\" title=\"Nicki Minaj Drops New Songs 'Barbie Tingz And 'Chun-Li'\"/>\n",
       " </span>\n",
       " Nicki Minaj Drops New Songs 'Barbie Tingz And 'Chun-Li'\t</a>,\n",
       " <a href=\"http://www.metrolyrics.com/news-story-watch-zayns-new-music-video-for-let-me.html\" onmousedown=\"ev('X-Small News Module','searche:watch-zayns-new-music-video-for-let-me:url:news-story-watch-zayns-new-music-video-for-let-me');\" title=\"Watch Zayn's New Music Video For 'Let Me'\">\n",
       " <span class=\"tmb tmb-xs non-playable\">\n",
       " <img alt=\"Watch Zayn's New Music Video For 'Let Me'\" pagespeed_no_defer=\"\" src=\"http://netstorage.metrolyrics.com/editorials/watch-zayns-new-music-video-for-let-me/xxsmall-image.jpg\" title=\"Watch Zayn's New Music Video For 'Let Me'\"/>\n",
       " </span>\n",
       " Watch Zayn's New Music Video For 'Let Me'\t</a>,\n",
       " <a class=\"title\" href=\"http://www.metrolyrics.com/hate-me-now-lyrics-nas.html#/correction\" onmousedown=\"ev('Add Missing Lyrics','Suggestion: hate-me-now-lyrics-nas')\" target=\"_blank\">Hate Me Now</a>,\n",
       " <a class=\"title\" href=\"http://www.metrolyrics.com/life-is-good-lyrics-nas.html#/correction\" onmousedown=\"ev('Add Missing Lyrics','Suggestion: life-is-good-lyrics-nas')\" target=\"_blank\">Life Is Good</a>,\n",
       " <a class=\"title\" href=\"http://www.metrolyrics.com/hey-young-world-lyrics-nas.html#/correction\" onmousedown=\"ev('Add Missing Lyrics','Suggestion: hey-young-world-lyrics-nas')\" target=\"_blank\">Hey Young World</a>,\n",
       " <a class=\"btn\" href=\"http://www.metrolyrics.com/add.html?artistid=8552\" onmousedown=\"ev('Add Missing Lyrics','Suggestion: New lyrics')\">Add New Lyrics</a>]"
      ]
     },
     "execution_count": 17,
     "metadata": {},
     "output_type": "execute_result"
    }
   ],
   "source": [
    "soup.find_all('a')"
   ]
  },
  {
   "cell_type": "code",
   "execution_count": 18,
   "metadata": {},
   "outputs": [
    {
     "data": {
      "text/plain": [
       "<td class=\"video\">\n",
       "</td>"
      ]
     },
     "execution_count": 18,
     "metadata": {},
     "output_type": "execute_result"
    }
   ],
   "source": [
    "soup.find('td')"
   ]
  },
  {
   "cell_type": "code",
   "execution_count": 44,
   "metadata": {},
   "outputs": [],
   "source": [
    "selct = soup.find('tbody').find_all('a', href = True)"
   ]
  },
  {
   "cell_type": "code",
   "execution_count": 46,
   "metadata": {},
   "outputs": [],
   "source": [
    "titles = []\n",
    "for title in selct:\n",
    "    titles.append(title.text.strip())"
   ]
  },
  {
   "cell_type": "code",
   "execution_count": 48,
   "metadata": {},
   "outputs": [],
   "source": [
    "links = []\n",
    "for link in selct:\n",
    "    links.append(link['href'])"
   ]
  },
  {
   "cell_type": "code",
   "execution_count": 49,
   "metadata": {},
   "outputs": [
    {
     "data": {
      "text/plain": [
       "['http://www.metrolyrics.com/i-know-i-can-lyrics-nas.html',\n",
       " 'http://www.metrolyrics.com/i-can-lyrics-nas.html',\n",
       " 'http://www.metrolyrics.com/ny-state-of-mind-lyrics-nas.html',\n",
       " 'http://www.metrolyrics.com/if-i-ruled-the-world-lyrics-nas.html',\n",
       " 'http://www.metrolyrics.com/cherry-wine-lyrics-nas.html']"
      ]
     },
     "execution_count": 49,
     "metadata": {},
     "output_type": "execute_result"
    }
   ],
   "source": [
    "links[:5]"
   ]
  },
  {
   "cell_type": "code",
   "execution_count": 114,
   "metadata": {},
   "outputs": [],
   "source": [
    "lyr = []\n",
    "cleand_lyr = []\n",
    "for i in links:\n",
    "    a = requests.get(i)\n",
    "    soup = BeautifulSoup(a.text, 'html.parser')\n",
    "    lyr.append(soup.find('div', {'id': 'lyrics-body-text'}).text.strip())\n",
    "    a = lyr[:][0]\n",
    "    cleand_lyr.append(re.sub('[^A-Za-z]', ' ', a))"
   ]
  },
  {
   "cell_type": "code",
   "execution_count": 133,
   "metadata": {},
   "outputs": [
    {
     "data": {
      "text/plain": [
       "'I know I can Be what I wanna be If I work hard at it I ll be where I wanna beI know I can  I know I can Be what I wanna be  be what I wanna be If I work hard at it I ll be where I wanna be  I ll be where I wanna beBe b boys and girls listen up You can be anything in the world  in God we trust An architect  doctor  maybe an actress But nothing comes easy it takes much practiceLike  I met a woman who s becomin a star She was very beautiful  leavi n people in awe Singin  songs  Leena Hawn But the younger version hung with the wrong person   Related                Huge Stars Who Were Backup Singers First        Nicki Minaj Drops New Songs  Barbie Tingz And  Chun Li         Every Lyric From Cardi B s Debut Album  Invasion of Privacy             Got her strung on the sniffin  up drugs all in the nose Could have died so young  now looks ugly and old No fun  cuz now when she reaches for hugs People hold their breath  cuz she smells of corrosion and deathWatch the company you keep and the crowd you bring  Cuz they came to do drugs and you came to sing So if you gonna be the best  I ma tell you how Put your hands in the air and take a bowI know I can  I know I can Be what I wanna be  be what I wanna be If I work hard at it I ll be where I wanna be  I ll be where I wanna beI know I can  I know I can Be what I wanna be  be what I wanna be If I work hard at it I ll be where I wanna be  I ll be where I wanna be    Photos                                         Baby  boys and girls listen again This is for grown lookin  girls who only    The ones who watch videos and do what they see As cute as can beUp in the club with fake ID s Careful  fore you meet a man with HIV You can host a TV like Oprah Winfrey Whatever you decideBe careful  some men be rapists  so act your age Don t pretend to be older than you are Give yourself time to grow You thinkin  he can give you wealthBut so young boys you can use a lotta help you know You thinkin  life s all about smokin  weed and ice You don t wanna be my age and can t read and write Beggin  different women for a place to sleep at nightSmart boys turn  em in and do whatever they wish If you believe you can achieve Then say it like thisI know I can  I know I can Be what I wanna be  be what I wanna be If I work hard at it I ll be where I wanna be  I ll be where I wanna beI know I can  I know I can Be what I wanna be  be what I wanna be If I work hard at it I ll be where I wanna be  I ll be where I wanna beBaby   fore we came to this country we were kings and queens Never porch monkeys  there was empires and Africa called Kush Timbuktu where every race came to get books To learn from black teachers who taught Greeks and Romans Asian  Arabs and gave them goldWhen gold was converted to money it all changed Money then became empowerment for Europeans The Persian military invaded They heard about the gold  the teachings and everything sacredAfrica was almost robbed naked  savery was money So they began makin  slave ships Egypt was the place that Alexander the Great went He was shocked at the mountains with black facesShot up their nose to impose what basically Still goes on today you see If the truth is told the youth can grow Can learn to survive until they gain controlNobody says you hafta be gangstas Read more  learn more  change the globe Ghetto children do your thing Hold your head up little manYou re a king Young princess when you get your wedding ring Your man is sayin   She s my queen I know I can  I know I can Be what I wanna be  be what I wanna be If I work hard at it I ll be where I wanna be  I ll be where I wanna beI know I can  I know I can Be what I wanna be  be what I wanna be If I work hard at it I ll be where I wanna be  I ll be where I wanna beSave the music ya ll Save the music ya ll Save the music ya ll Save the music ya ll Save the music'"
      ]
     },
     "execution_count": 133,
     "metadata": {},
     "output_type": "execute_result"
    }
   ],
   "source": [
    "cleand_lyr[0]"
   ]
  },
  {
   "cell_type": "code",
   "execution_count": 59,
   "metadata": {},
   "outputs": [
    {
     "data": {
      "text/plain": [
       "list"
      ]
     },
     "execution_count": 59,
     "metadata": {},
     "output_type": "execute_result"
    }
   ],
   "source": [
    "type(lyr)"
   ]
  },
  {
   "cell_type": "code",
   "execution_count": 107,
   "metadata": {},
   "outputs": [],
   "source": [
    "a = lyr[:][0].replace('\\n', ' ')"
   ]
  },
  {
   "cell_type": "code",
   "execution_count": 108,
   "metadata": {},
   "outputs": [],
   "source": [
    "text = re.sub('^\\w', ' ', a)"
   ]
  },
  {
   "cell_type": "code",
   "execution_count": 109,
   "metadata": {},
   "outputs": [
    {
     "data": {
      "text/plain": [
       "\"  know I can Be what I wanna be If I work hard at it I'll be where I wanna beI know I can, I know I \""
      ]
     },
     "execution_count": 109,
     "metadata": {},
     "output_type": "execute_result"
    }
   ],
   "source": [
    "text[:100]"
   ]
  },
  {
   "cell_type": "code",
   "execution_count": 67,
   "metadata": {},
   "outputs": [],
   "source": [
    "cleaned = []\n",
    "for i in lyr:\n",
    "    cleaned.append(i.strip())"
   ]
  },
  {
   "cell_type": "code",
   "execution_count": 69,
   "metadata": {},
   "outputs": [],
   "source": [
    "p = re.compile('\\w+')"
   ]
  },
  {
   "cell_type": "code",
   "execution_count": 116,
   "metadata": {},
   "outputs": [],
   "source": [
    "import pandas as pd"
   ]
  },
  {
   "cell_type": "code",
   "execution_count": 126,
   "metadata": {},
   "outputs": [],
   "source": [
    "df = pd.DataFrame(titles, columns=['Title'])"
   ]
  },
  {
   "cell_type": "code",
   "execution_count": 127,
   "metadata": {},
   "outputs": [
    {
     "data": {
      "text/html": [
       "<div>\n",
       "<style scoped>\n",
       "    .dataframe tbody tr th:only-of-type {\n",
       "        vertical-align: middle;\n",
       "    }\n",
       "\n",
       "    .dataframe tbody tr th {\n",
       "        vertical-align: top;\n",
       "    }\n",
       "\n",
       "    .dataframe thead th {\n",
       "        text-align: right;\n",
       "    }\n",
       "</style>\n",
       "<table border=\"1\" class=\"dataframe\">\n",
       "  <thead>\n",
       "    <tr style=\"text-align: right;\">\n",
       "      <th></th>\n",
       "      <th>Title</th>\n",
       "    </tr>\n",
       "  </thead>\n",
       "  <tbody>\n",
       "    <tr>\n",
       "      <th>0</th>\n",
       "      <td>I Know I Can Lyrics</td>\n",
       "    </tr>\n",
       "    <tr>\n",
       "      <th>1</th>\n",
       "      <td>I Can Lyrics</td>\n",
       "    </tr>\n",
       "    <tr>\n",
       "      <th>2</th>\n",
       "      <td>N.y. State Of Mind Lyrics</td>\n",
       "    </tr>\n",
       "    <tr>\n",
       "      <th>3</th>\n",
       "      <td>If I Ruled The World Lyrics</td>\n",
       "    </tr>\n",
       "    <tr>\n",
       "      <th>4</th>\n",
       "      <td>Cherry Wine Lyrics</td>\n",
       "    </tr>\n",
       "  </tbody>\n",
       "</table>\n",
       "</div>"
      ],
      "text/plain": [
       "                         Title\n",
       "0          I Know I Can Lyrics\n",
       "1                 I Can Lyrics\n",
       "2    N.y. State Of Mind Lyrics\n",
       "3  If I Ruled The World Lyrics\n",
       "4           Cherry Wine Lyrics"
      ]
     },
     "execution_count": 127,
     "metadata": {},
     "output_type": "execute_result"
    }
   ],
   "source": [
    "df.head()"
   ]
  },
  {
   "cell_type": "code",
   "execution_count": 128,
   "metadata": {},
   "outputs": [],
   "source": [
    "df['lyrics'] = cleaned"
   ]
  },
  {
   "cell_type": "code",
   "execution_count": 131,
   "metadata": {},
   "outputs": [],
   "source": [
    "df['lyrics'] = df['lyrics'].replace('\\n', ' ', regex = True)"
   ]
  },
  {
   "cell_type": "code",
   "execution_count": 132,
   "metadata": {},
   "outputs": [
    {
     "data": {
      "text/html": [
       "<div>\n",
       "<style scoped>\n",
       "    .dataframe tbody tr th:only-of-type {\n",
       "        vertical-align: middle;\n",
       "    }\n",
       "\n",
       "    .dataframe tbody tr th {\n",
       "        vertical-align: top;\n",
       "    }\n",
       "\n",
       "    .dataframe thead th {\n",
       "        text-align: right;\n",
       "    }\n",
       "</style>\n",
       "<table border=\"1\" class=\"dataframe\">\n",
       "  <thead>\n",
       "    <tr style=\"text-align: right;\">\n",
       "      <th></th>\n",
       "      <th>Title</th>\n",
       "      <th>lyrics</th>\n",
       "    </tr>\n",
       "  </thead>\n",
       "  <tbody>\n",
       "    <tr>\n",
       "      <th>0</th>\n",
       "      <td>I Know I Can Lyrics</td>\n",
       "      <td>I know I can Be what I wanna be If I work hard...</td>\n",
       "    </tr>\n",
       "    <tr>\n",
       "      <th>1</th>\n",
       "      <td>I Can Lyrics</td>\n",
       "      <td>I know I can Be what I wanna be If I work hard...</td>\n",
       "    </tr>\n",
       "    <tr>\n",
       "      <th>2</th>\n",
       "      <td>N.y. State Of Mind Lyrics</td>\n",
       "      <td>Yeah yeah, aiyyo black it's time (word?) (Word...</td>\n",
       "    </tr>\n",
       "    <tr>\n",
       "      <th>3</th>\n",
       "      <td>If I Ruled The World Lyrics</td>\n",
       "      <td>Life... I wonder... Will it take me under... I...</td>\n",
       "    </tr>\n",
       "    <tr>\n",
       "      <th>4</th>\n",
       "      <td>Cherry Wine Lyrics</td>\n",
       "      <td>Where is he? The man who was just like me I he...</td>\n",
       "    </tr>\n",
       "  </tbody>\n",
       "</table>\n",
       "</div>"
      ],
      "text/plain": [
       "                         Title  \\\n",
       "0          I Know I Can Lyrics   \n",
       "1                 I Can Lyrics   \n",
       "2    N.y. State Of Mind Lyrics   \n",
       "3  If I Ruled The World Lyrics   \n",
       "4           Cherry Wine Lyrics   \n",
       "\n",
       "                                              lyrics  \n",
       "0  I know I can Be what I wanna be If I work hard...  \n",
       "1  I know I can Be what I wanna be If I work hard...  \n",
       "2  Yeah yeah, aiyyo black it's time (word?) (Word...  \n",
       "3  Life... I wonder... Will it take me under... I...  \n",
       "4  Where is he? The man who was just like me I he...  "
      ]
     },
     "execution_count": 132,
     "metadata": {},
     "output_type": "execute_result"
    }
   ],
   "source": [
    "df.head()"
   ]
  },
  {
   "cell_type": "code",
   "execution_count": 134,
   "metadata": {},
   "outputs": [],
   "source": [
    "df.to_csv('nas_lyrics.csv')"
   ]
  },
  {
   "cell_type": "code",
   "execution_count": null,
   "metadata": {},
   "outputs": [],
   "source": []
  }
 ],
 "metadata": {
  "kernelspec": {
   "display_name": "Python 3",
   "language": "python",
   "name": "python3"
  },
  "language_info": {
   "codemirror_mode": {
    "name": "ipython",
    "version": 3
   },
   "file_extension": ".py",
   "mimetype": "text/x-python",
   "name": "python",
   "nbconvert_exporter": "python",
   "pygments_lexer": "ipython3",
   "version": "3.6.4"
  }
 },
 "nbformat": 4,
 "nbformat_minor": 2
}
